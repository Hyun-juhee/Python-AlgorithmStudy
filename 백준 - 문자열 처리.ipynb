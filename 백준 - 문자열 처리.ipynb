{
 "cells": [
  {
   "cell_type": "markdown",
   "metadata": {},
   "source": [
    "## 11654) 아스키 코드"
   ]
  },
  {
   "cell_type": "code",
   "execution_count": 1,
   "metadata": {},
   "outputs": [
    {
     "name": "stdout",
     "output_type": "stream",
     "text": [
      "A\n"
     ]
    },
    {
     "data": {
      "text/plain": [
       "65"
      ]
     },
     "execution_count": 1,
     "metadata": {},
     "output_type": "execute_result"
    }
   ],
   "source": [
    "a = input()\n",
    "print(ord(a))"
   ]
  },
  {
   "cell_type": "markdown",
   "metadata": {},
   "source": [
    "## 1152) 단어의 개수"
   ]
  },
  {
   "cell_type": "code",
   "execution_count": 21,
   "metadata": {},
   "outputs": [
    {
     "name": "stdout",
     "output_type": "stream",
     "text": [
      " dsf dfs dfs \n",
      "['', 'dsf', 'dfs', 'dfs', '']\n",
      "['dsf', 'dfs', 'dfs']\n",
      "3\n"
     ]
    }
   ],
   "source": [
    "a = input().split(' ')\n",
    "print(a)\n",
    "for i in range(0,a.count('')):\n",
    "    a.remove('')\n",
    "print(a)\n",
    "print(len(a))"
   ]
  },
  {
   "cell_type": "markdown",
   "metadata": {},
   "source": [
    "## 10809) 알파벳 찾기"
   ]
  },
  {
   "cell_type": "code",
   "execution_count": 3,
   "metadata": {
    "scrolled": true
   },
   "outputs": [
    {
     "name": "stdout",
     "output_type": "stream",
     "text": [
      "baekjoon\n",
      "1 0 -1 -1 2 -1 -1 -1 -1 4 3 -1 -1 7 5 -1 -1 -1 -1 -1 -1 -1 -1 -1 -1 -1 "
     ]
    }
   ],
   "source": [
    "a = input()\n",
    "for i in range(ord('a'), ord('z')+1):\n",
    "    print(a.find(chr(i)), end = ' ')"
   ]
  },
  {
   "cell_type": "markdown",
   "metadata": {},
   "source": [
    "## ❌1157) 단어 공부"
   ]
  },
  {
   "cell_type": "code",
   "execution_count": 26,
   "metadata": {},
   "outputs": [
    {
     "name": "stdout",
     "output_type": "stream",
     "text": [
      "dfaddd\n",
      "D\n"
     ]
    }
   ],
   "source": [
    "from collections import Counter\n",
    "a = input()\n",
    "b = Counter(a.upper())\n",
    "c = b.most_common()  #이거때문에 런타임 에러! Counter 객체는 써도 이거는 쓰지 말것\n",
    "if c[0][1]==c[1][1]:\n",
    "    print('?')\n",
    "else:\n",
    "    print(c[0][0])"
   ]
  },
  {
   "cell_type": "code",
   "execution_count": 30,
   "metadata": {},
   "outputs": [
    {
     "name": "stdout",
     "output_type": "stream",
     "text": [
      "zZaA\n",
      "Counter({'Z': 2, 'A': 2})\n",
      "dict_items([('Z', 2), ('A', 2)])\n",
      "?\n"
     ]
    }
   ],
   "source": [
    "from collections import Counter\n",
    "a = input()\n",
    "b = Counter(a.upper())\n",
    "many = []\n",
    "print(b)\n",
    "print(b.items())\n",
    "for k,v in b.items():\n",
    "    if v == max(b.values()):\n",
    "        many.append(k)\n",
    "if len(many)>1:\n",
    "    print(\"?\")\n",
    "else:\n",
    "    print(many[0])"
   ]
  },
  {
   "cell_type": "markdown",
   "metadata": {},
   "source": [
    "## 2908) 상수"
   ]
  },
  {
   "cell_type": "code",
   "execution_count": 45,
   "metadata": {},
   "outputs": [
    {
     "name": "stdout",
     "output_type": "stream",
     "text": [
      "134 32\n",
      "431 23\n",
      "431\n"
     ]
    }
   ],
   "source": [
    "a, b= input().split(' ')\n",
    "b = list(b)\n",
    "b.reverse()\n",
    "a = list(a)\n",
    "a.reverse()\n",
    "b = ''.join(b)\n",
    "a = ''.join(a)\n",
    "print(max(a,b))"
   ]
  },
  {
   "cell_type": "markdown",
   "metadata": {},
   "source": [
    "### ✅ string to list / list to string "
   ]
  },
  {
   "cell_type": "code",
   "execution_count": 47,
   "metadata": {},
   "outputs": [
    {
     "name": "stdout",
     "output_type": "stream",
     "text": [
      "['h', 'e', 'l', 'l', 'o']\n",
      "hello\n"
     ]
    }
   ],
   "source": [
    "x = 'hello'\n",
    "y = list(x)\n",
    "print(y)\n",
    "z = ''.join(y)\n",
    "print(z)"
   ]
  },
  {
   "cell_type": "code",
   "execution_count": null,
   "metadata": {},
   "outputs": [],
   "source": []
  }
 ],
 "metadata": {
  "kernelspec": {
   "display_name": "Python 3",
   "language": "python",
   "name": "python3"
  },
  "language_info": {
   "codemirror_mode": {
    "name": "ipython",
    "version": 3
   },
   "file_extension": ".py",
   "mimetype": "text/x-python",
   "name": "python",
   "nbconvert_exporter": "python",
   "pygments_lexer": "ipython3",
   "version": "3.7.2"
  }
 },
 "nbformat": 4,
 "nbformat_minor": 2
}
