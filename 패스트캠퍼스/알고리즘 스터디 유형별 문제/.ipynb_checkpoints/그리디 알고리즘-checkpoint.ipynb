{
 "cells": [
  {
   "cell_type": "markdown",
   "metadata": {},
   "source": [
    "# 11399. ATM"
   ]
  },
  {
   "cell_type": "code",
   "execution_count": null,
   "metadata": {},
   "outputs": [],
   "source": [
    "n = int(input())\n",
    "p = list(map(int, input().split()))\n",
    "p.sort()\n",
    "result = 0\n",
    "for i in range(n):\n",
    "    for j in range(i+1):\n",
    "        result += p[j]\n",
    "        \n",
    "print(result)"
   ]
  },
  {
   "cell_type": "markdown",
   "metadata": {},
   "source": [
    "# 🔺2839. 설탕배달"
   ]
  },
  {
   "cell_type": "code",
   "execution_count": 71,
   "metadata": {},
   "outputs": [
    {
     "name": "stdout",
     "output_type": "stream",
     "text": [
      "3\n",
      "1\n"
     ]
    }
   ],
   "source": [
    "n = int(input())\n",
    "\n",
    "result = n//5\n",
    "remain = n%5\n",
    "\n",
    "# 5에 대한 걸 확실히 한 후에,\n",
    "while remain%3 > 0:\n",
    "    result -= 1\n",
    "    if result < 0:\n",
    "        break\n",
    "    #remain = n - 5*result\n",
    "    remain += 5\n",
    "\n",
    "# 3에 대한 처리 \n",
    "result += remain//3\n",
    "remain %= 3     \n",
    "\n",
    "if remain == 0:\n",
    "    print(result)\n",
    "else:\n",
    "    print(-1)"
   ]
  },
  {
   "cell_type": "code",
   "execution_count": 73,
   "metadata": {},
   "outputs": [
    {
     "name": "stdout",
     "output_type": "stream",
     "text": [
      "22\n"
     ]
    },
    {
     "ename": "KeyboardInterrupt",
     "evalue": "",
     "output_type": "error",
     "traceback": [
      "\u001b[1;31m---------------------------------------------------------------------------\u001b[0m",
      "\u001b[1;31mKeyboardInterrupt\u001b[0m                         Traceback (most recent call last)",
      "\u001b[1;32m<ipython-input-73-0cfdc4f2c308>\u001b[0m in \u001b[0;36m<module>\u001b[1;34m\u001b[0m\n\u001b[0;32m     12\u001b[0m         \u001b[1;32mif\u001b[0m \u001b[0mresult\u001b[0m \u001b[1;33m<\u001b[0m \u001b[1;36m0\u001b[0m\u001b[1;33m:\u001b[0m\u001b[1;33m\u001b[0m\u001b[1;33m\u001b[0m\u001b[0m\n\u001b[0;32m     13\u001b[0m             \u001b[1;32mbreak\u001b[0m\u001b[1;33m\u001b[0m\u001b[1;33m\u001b[0m\u001b[0m\n\u001b[1;32m---> 14\u001b[1;33m         \u001b[0mremain\u001b[0m \u001b[1;33m=\u001b[0m \u001b[0mn\u001b[0m \u001b[1;33m-\u001b[0m \u001b[1;36m5\u001b[0m\u001b[1;33m*\u001b[0m\u001b[0mresult\u001b[0m\u001b[1;33m\u001b[0m\u001b[1;33m\u001b[0m\u001b[0m\n\u001b[0m\u001b[0;32m     15\u001b[0m         \u001b[0mresult\u001b[0m \u001b[1;33m+=\u001b[0m \u001b[0mremain\u001b[0m\u001b[1;33m//\u001b[0m\u001b[1;36m3\u001b[0m\u001b[1;33m\u001b[0m\u001b[1;33m\u001b[0m\u001b[0m\n\u001b[0;32m     16\u001b[0m         \u001b[0mremain\u001b[0m \u001b[1;33m%=\u001b[0m \u001b[1;36m3\u001b[0m\u001b[1;33m\u001b[0m\u001b[1;33m\u001b[0m\u001b[0m\n",
      "\u001b[1;31mKeyboardInterrupt\u001b[0m: "
     ]
    }
   ],
   "source": [
    "# 틀렸던 코드 \n",
    "n = int(input())\n",
    "\n",
    "result = n//5\n",
    "remain = n%5\n",
    "\n",
    "if remain%3 == 0:\n",
    "    result += remain//3\n",
    "    remain %= 3\n",
    "else:\n",
    "    while remain%3 > 0:\n",
    "        result -= 1\n",
    "        if result < 0:\n",
    "            break\n",
    "        remain += 5 # 2. remain += 5를 했을 때 remain이 확실히 5만을 이용해서 만든 remain이 아니다! \n",
    "        result += remain//3\n",
    "        remain %= 3 # 1. 여기서 remain을 한번더 변경해줌\n",
    "    \n",
    "if remain == 0:\n",
    "    print(result)\n",
    "else:\n",
    "    print(-1)"
   ]
  },
  {
   "cell_type": "markdown",
   "metadata": {},
   "source": [
    "# 11047. 동전 0"
   ]
  },
  {
   "cell_type": "code",
   "execution_count": 95,
   "metadata": {},
   "outputs": [
    {
     "name": "stdout",
     "output_type": "stream",
     "text": [
      "4790 1000\n",
      "790 500\n",
      "290 100\n",
      "90 50\n",
      "40 10\n",
      "12\n"
     ]
    }
   ],
   "source": [
    "n, k = map(int, input().split())\n",
    "money= []\n",
    "for _ in range(n):\n",
    "    money.append(int(input()))\n",
    "    \n",
    "money.reverse()\n",
    "remain = k\n",
    "cnt = 0\n",
    "\n",
    "for i in range(n):\n",
    "    if remain // money[i] > 0:\n",
    "        cnt += remain // money[i]\n",
    "        remain %= money[i]\n",
    "    \n",
    "print(cnt)"
   ]
  },
  {
   "cell_type": "markdown",
   "metadata": {},
   "source": [
    "# 🔺🔺1931. 회의실배정"
   ]
  },
  {
   "cell_type": "code",
   "execution_count": 46,
   "metadata": {},
   "outputs": [
    {
     "name": "stdout",
     "output_type": "stream",
     "text": [
      "3\n",
      "4 6\n",
      "1 5\n",
      "5 10\n",
      "1\n"
     ]
    }
   ],
   "source": [
    "n = int(input())\n",
    "meeting = []\n",
    "times = []\n",
    "for _ in range(n):\n",
    "    a, b = map(int, input().split())\n",
    "    times.append(a)\n",
    "    times.append(b)\n",
    "    meeting.append([a,b])\n",
    "    \n",
    "maxTime = max(times)\n",
    "\n",
    "for start , end \n",
    "meeting = sorted(meeting, key = lambda x: x[1]-x[0])\n",
    "timeTable = [0 for _ in range(maxTime+1)]\n",
    "\n",
    "cnt = 0\n",
    "for start, end in meeting:\n",
    "#     print(start, end, \":\",  timeTable[start:end])\n",
    "    if sum(timeTable[start:end]) == 0:\n",
    "#         print(\"이거돼! \", start, end)\n",
    "        cnt += 1\n",
    "        for i in range(start, end):\n",
    "            timeTable[i] = 1\n",
    "print(cnt)   "
   ]
  },
  {
   "cell_type": "code",
   "execution_count": 69,
   "metadata": {},
   "outputs": [
    {
     "name": "stdout",
     "output_type": "stream",
     "text": [
      "3\n",
      "4 6\n",
      "1 5\n",
      "5 10\n",
      "2\n"
     ]
    }
   ],
   "source": [
    "n = int(input())\n",
    "meeting = []\n",
    "for _ in range(n):\n",
    "    a, b = map(int, input().split())\n",
    "    meeting.append([a,b]) \n",
    "meeting = sorted(meeting, key = lambda x: (x[1], x[0]))\n",
    "cnt = 0\n",
    "last = 0\n",
    "for start, end in meeting:\n",
    "    if last <= start:\n",
    "        cnt+=1\n",
    "        last = end\n",
    "print(cnt)\n"
   ]
  },
  {
   "cell_type": "markdown",
   "metadata": {},
   "source": [
    "# 5585. 거스름돈"
   ]
  },
  {
   "cell_type": "code",
   "execution_count": 17,
   "metadata": {},
   "outputs": [
    {
     "name": "stdout",
     "output_type": "stream",
     "text": [
      "380\n",
      "4\n"
     ]
    }
   ],
   "source": [
    "money = [500,100,50,10,5,1]\n",
    "remain = 1000 - int(input())\n",
    "result = 0\n",
    "for temp in money:\n",
    "    if remain > 0:\n",
    "        result += remain//temp\n",
    "        remain %= temp\n",
    "print(result)"
   ]
  },
  {
   "cell_type": "code",
   "execution_count": 15,
   "metadata": {},
   "outputs": [
    {
     "name": "stdout",
     "output_type": "stream",
     "text": [
      "4\n"
     ]
    }
   ],
   "source": [
    "print(result)"
   ]
  },
  {
   "cell_type": "markdown",
   "metadata": {},
   "source": [
    "# 2217. 로프"
   ]
  },
  {
   "cell_type": "code",
   "execution_count": 24,
   "metadata": {},
   "outputs": [
    {
     "name": "stdout",
     "output_type": "stream",
     "text": [
      "3\n",
      "50\n",
      "20\n",
      "20\n",
      "50\n"
     ]
    }
   ],
   "source": [
    "n = int(input())\n",
    "rope = []\n",
    "for _ in range(n):\n",
    "    rope.append(int(input()))\n",
    "rope.sort(reverse = True)\n",
    "\n",
    "possible = rope[0]\n",
    "cnt = 1\n",
    "for i in range(1, n):\n",
    "    if possible < (rope[i] * (cnt+1)):\n",
    "        possible = rope[i] * (cnt+1)\n",
    "        cnt += 1\n",
    "#     else:\n",
    "#         break\n",
    "print(possible)\n",
    "    \n",
    "\n"
   ]
  },
  {
   "cell_type": "code",
   "execution_count": 32,
   "metadata": {},
   "outputs": [
    {
     "name": "stdout",
     "output_type": "stream",
     "text": [
      "5\n",
      "100\n",
      "100\n",
      "100\n",
      "40\n",
      "20\n",
      "300\n"
     ]
    }
   ],
   "source": [
    "n = int(input())\n",
    "rope = []\n",
    "for _ in range(n):\n",
    "    rope.append(int(input()))\n",
    "rope.sort(reverse = True)\n",
    "\n",
    "possible = rope[-1] * n\n",
    "\n",
    "cnt = n\n",
    "while len(rope) >= 2:\n",
    "    if possible <= rope[-2] * (cnt-1):\n",
    "        cnt -= 1\n",
    "        possible = rope[-2] * cnt\n",
    "        rope.pop()\n",
    "    else:\n",
    "        break\n",
    "\n",
    "print(possible)\n",
    "    \n",
    "\n"
   ]
  },
  {
   "cell_type": "code",
   "execution_count": 49,
   "metadata": {},
   "outputs": [
    {
     "name": "stdout",
     "output_type": "stream",
     "text": [
      "5\n",
      "1000\n",
      "1000\n",
      "100\n",
      "40\n",
      "10\n",
      "3 160\n",
      "2 300\n",
      "1 2000\n",
      "0 1000\n",
      "2000\n"
     ]
    }
   ],
   "source": [
    "### 얘가 정답코드 !! \n",
    "\n",
    "n = int(input())\n",
    "rope = []\n",
    "for _ in range(n):\n",
    "    rope.append(int(input()))\n",
    "rope.sort(reverse = True)\n",
    "\n",
    "possible = rope[-1] * n\n",
    "for i in range(n-2, -1, -1):\n",
    "    if possible < rope[i]*(i+1):\n",
    "        possible = rope[i]*(i+1)\n",
    "        \n",
    "print(possible)"
   ]
  },
  {
   "cell_type": "code",
   "execution_count": 83,
   "metadata": {},
   "outputs": [
    {
     "name": "stdout",
     "output_type": "stream",
     "text": [
      "3\n",
      "50\n",
      "20\n",
      "20\n",
      "60\n"
     ]
    }
   ],
   "source": [
    "### 얘가 정답코드 !! \n",
    "\n",
    "n = int(input())\n",
    "rope = []\n",
    "for _ in range(n):\n",
    "    rope.append(int(input()))\n",
    "rope.sort()\n",
    "\n",
    "possible = rope[0] * n\n",
    "for i in range(1, n):\n",
    "    if possible < rope[i]*(n-i):\n",
    "        possible = rope[i]*(n-i)\n",
    "        \n",
    "print(possible)"
   ]
  },
  {
   "cell_type": "markdown",
   "metadata": {},
   "source": [
    "# 1541. 잃어버린 괄호"
   ]
  },
  {
   "cell_type": "code",
   "execution_count": 78,
   "metadata": {
    "scrolled": true
   },
   "outputs": [
    {
     "name": "stdout",
     "output_type": "stream",
     "text": [
      "0134-013424\n",
      "아님?\n",
      "아님?\n",
      "(134)-(13424)\n",
      "-13290\n"
     ]
    }
   ],
   "source": [
    "text = input()\n",
    "result = '('\n",
    "for i in text:\n",
    "    if i == '-':\n",
    "        result += ')'+ i + '('\n",
    "    else:\n",
    "        if i == '0' and (result[-1] == '-' or result[-1] == '+' or result[-1] == '('):\n",
    "            continue\n",
    "        else:\n",
    "            result += i\n",
    "result += ')'\n",
    "print(eval(result))"
   ]
  },
  {
   "cell_type": "code",
   "execution_count": 80,
   "metadata": {},
   "outputs": [
    {
     "data": {
      "text/plain": [
       "-2979"
      ]
     },
     "execution_count": 80,
     "metadata": {},
     "output_type": "execute_result"
    }
   ],
   "source": [
    "eval(\"(1342)-(4321)\")"
   ]
  },
  {
   "cell_type": "markdown",
   "metadata": {},
   "source": [
    "# 10162. 전자레인지"
   ]
  },
  {
   "cell_type": "code",
   "execution_count": 105,
   "metadata": {},
   "outputs": [
    {
     "name": "stdout",
     "output_type": "stream",
     "text": [
      "100\n",
      "0 1 4\n",
      "0 1 4\n",
      "0 1 4\n"
     ]
    }
   ],
   "source": [
    "x = int(input())\n",
    "result = [0, 0, 0]\n",
    "\n",
    "# 300 처리\n",
    "result[0] = x // 300\n",
    "remain = x % 300\n",
    "\n",
    "# 60 처리\n",
    "result[1] = remain // 60\n",
    "remain %= 60\n",
    "\n",
    "# 10 처리 \n",
    "if remain % 10 != 0:\n",
    "    print(-1)\n",
    "else:\n",
    "    result[2] = remain // 10\n",
    "    remain %= 10\n",
    "    print(result[0], result[1], result[2])"
   ]
  },
  {
   "cell_type": "markdown",
   "metadata": {},
   "source": [
    "# 1946. 신입사원"
   ]
  },
  {
   "cell_type": "code",
   "execution_count": 129,
   "metadata": {},
   "outputs": [
    {
     "name": "stdout",
     "output_type": "stream",
     "text": [
      "2\n",
      "5\n",
      "3 2\n",
      "1 4\n",
      "4 1\n",
      "2 3\n",
      "5 5\n",
      "1\n",
      "2\n",
      "3\n",
      "4\n",
      "7\n",
      "3 6\n",
      "7 3\n",
      "4 2\n",
      "1 4\n",
      "5 7\n",
      "2 5\n",
      "6 1\n",
      "1\n",
      "2\n",
      "3\n"
     ]
    }
   ],
   "source": [
    "# 맞았는데 \n",
    "# [[1, 1], [2, 5], [3, 6], [4, 2], [5, 7], [6, 1], [7, 3]] 인경우 고려 X\n",
    "tC = int(input())\n",
    "for _ in range(tC):\n",
    "    n = int(input())\n",
    "    people = []\n",
    "    for _ in range(n):\n",
    "        people.append(list(map(int, input().split())))\n",
    "\n",
    "    people.sort(key = lambda x: x[0])\n",
    "\n",
    "    result = [people[0][1]]\n",
    "    for i in range(1, n):\n",
    "        if result[-1] > people[i][1]:\n",
    "            result.append(people[i][1])\n",
    "    print(len(result))"
   ]
  },
  {
   "cell_type": "code",
   "execution_count": 187,
   "metadata": {},
   "outputs": [
    {
     "name": "stdout",
     "output_type": "stream",
     "text": [
      "[(1, 1), (2, 5), (3, 6), (4, 2), (5, 7), (6, 1), (7, 3)]\n"
     ]
    }
   ],
   "source": [
    "# 내생각엔 내림차순, 오름차순을 판단하는 정확한 방법은 dp밖에 없는거 같은데 자꾸 시간초과가 난다! \n",
    "# 후하후하 빡쳐 포기 \n",
    "tC = int(input())\n",
    "for _ in range(tC):\n",
    "    n = int(input())\n",
    "    people = []\n",
    "    for _ in range(n):\n",
    "        people.append(list(map(int, input().split())))\n",
    "\n",
    "    people.sort(key = lambda x: x[0])\n",
    "\n",
    "    result = [1 for _ in range(n)]\n",
    "    for i in range(1, n):\n",
    "        for j in range(i):\n",
    "            if people[j][1] > people[i][1]:\n",
    "                result[i] = max(result[i], result[i-1]+1)\n",
    "    print(max(result))"
   ]
  },
  {
   "cell_type": "code",
   "execution_count": 190,
   "metadata": {},
   "outputs": [
    {
     "name": "stdout",
     "output_type": "stream",
     "text": [
      "3\n"
     ]
    }
   ],
   "source": [
    "people = [[1, 1], [2, 5], [3, 6], [4, 2], [5, 7], [6, 1], [7, 3]]\n",
    "n = len(people)\n",
    "\n",
    "people.sort(key = lambda x: x[0])\n",
    "\n",
    "result = [1 for _ in range(n)]\n",
    "for i in range(1, n):\n",
    "    for j in range(i):\n",
    "        if people[j][1] > people[i][1]:\n",
    "            result[i] = max(result[i], result[i-1]+1)\n",
    "print(max(result))"
   ]
  },
  {
   "cell_type": "code",
   "execution_count": null,
   "metadata": {},
   "outputs": [],
   "source": []
  }
 ],
 "metadata": {
  "kernelspec": {
   "display_name": "Python 3",
   "language": "python",
   "name": "python3"
  },
  "language_info": {
   "codemirror_mode": {
    "name": "ipython",
    "version": 3
   },
   "file_extension": ".py",
   "mimetype": "text/x-python",
   "name": "python",
   "nbconvert_exporter": "python",
   "pygments_lexer": "ipython3",
   "version": "3.7.2"
  }
 },
 "nbformat": 4,
 "nbformat_minor": 2
}
