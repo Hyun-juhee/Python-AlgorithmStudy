{
 "cells": [
  {
   "cell_type": "code",
   "execution_count": 4,
   "metadata": {},
   "outputs": [],
   "source": [
    "import heapq\n",
    "\n",
    "def di(graph, start):\n",
    "    result = {node: float('inf') for node in graph}\n",
    "    result[start] = 0\n",
    "    queue = []\n",
    "    heapq.heappush(queue, [result[start], start])\n",
    "    \n",
    "    while queue:\n",
    "        cDistance, cNode = heapq.heappop(queue)\n",
    "        \n",
    "        if cDistance > result[cNode]:\n",
    "            continue\n",
    "        for tempNode, tempDistance in graph[cNode].items(): # .items()해야지 key, value가 변수에 하나씩 저장된다!! \n",
    "            distance = tempDistance + cDistance\n",
    "            if distance < result[tempNode]:\n",
    "                result[tempNode] = distance\n",
    "                heapq.heappush(queue, [result[tempNode], tempNode])\n",
    "            else: \n",
    "                continue\n",
    "    return result\n",
    "        "
   ]
  },
  {
   "cell_type": "code",
   "execution_count": 5,
   "metadata": {},
   "outputs": [
    {
     "data": {
      "text/plain": [
       "{'A': 0, 'B': 6, 'C': 1, 'D': 2, 'E': 5, 'F': 6}"
      ]
     },
     "execution_count": 5,
     "metadata": {},
     "output_type": "execute_result"
    }
   ],
   "source": [
    "graph = {\n",
    "    'A': {'B': 8, 'C': 1, 'D': 2},\n",
    "    'B': {},\n",
    "    'C': {'B': 5, 'C': 2},\n",
    "    'D': {'E': 3, 'F': 5},\n",
    "    'E': {'F': 1},\n",
    "    'F': {'A': 5}\n",
    "}\n",
    "\n",
    "di(graph, 'A')"
   ]
  },
  {
   "cell_type": "code",
   "execution_count": 6,
   "metadata": {},
   "outputs": [],
   "source": [
    "import heapq\n",
    "\n",
    "def fastroot(graph, start, end):\n",
    "    result = {node: [float('inf'), start] for node in graph}\n",
    "    result[start] = [0, start]\n",
    "    queue = []\n",
    "    heapq.heappush(queue, [result[start][0], start])\n",
    "    \n",
    "    while queue:\n",
    "        cDistance, cNode = heapq.heappop(queue)\n",
    "        if cDistance > result[cNode][0]:\n",
    "            continue\n",
    "        \n",
    "        for tempNode, tempDistance in graph[cNode].items():\n",
    "            distance = cDistance + tempDistance\n",
    "            if distance < result[tempNode][0]:\n",
    "                result[tempNode] = [distance, cNode]\n",
    "                heapq.heappush(queue, [distance, tempNode])\n",
    "            else: \n",
    "                continue\n",
    "    \n",
    "    root = [end]\n",
    "    while end != start:\n",
    "        root.insert(0, result[end][1])\n",
    "        end = result[end][1]\n",
    "    return root"
   ]
  },
  {
   "cell_type": "code",
   "execution_count": 7,
   "metadata": {},
   "outputs": [
    {
     "data": {
      "text/plain": [
       "['A', 'D', 'E', 'F']"
      ]
     },
     "execution_count": 7,
     "metadata": {},
     "output_type": "execute_result"
    }
   ],
   "source": [
    "fastroot(graph, 'A', 'F')"
   ]
  },
  {
   "cell_type": "code",
   "execution_count": 3,
   "metadata": {},
   "outputs": [],
   "source": [
    "graph = dict()\n",
    "graph['A'] = ['B', 'C']\n",
    "graph['B'] = ['A', 'D']\n",
    "graph['C'] = ['A', 'G', 'H', 'I']\n",
    "graph['D'] = ['B', 'E', 'F']\n",
    "graph['E'] = ['D']\n",
    "graph['F'] = ['D']\n",
    "graph['G'] = ['C']\n",
    "graph['H'] = ['C']\n",
    "graph['I'] = ['C', 'J']\n",
    "graph['J'] = ['I']\n",
    "\n",
    "# 가중치가 있는 그래프는 value가 dictionary\n",
    "# 가중치가 없는 그래프는 value가 list"
   ]
  },
  {
   "cell_type": "code",
   "execution_count": null,
   "metadata": {},
   "outputs": [],
   "source": [
    "def BFS(graph, start):\n",
    "    queue = [start]\n",
    "    result = []\n",
    "    while queue:\n",
    "        temp = queue.pop(0)\n",
    "        if temp not in result:\n",
    "            result.append(temp)\n",
    "            queue.extend(graph[temp])\n",
    "    return result"
   ]
  },
  {
   "cell_type": "code",
   "execution_count": null,
   "metadata": {},
   "outputs": [],
   "source": [
    "BFS(graph, 'A')"
   ]
  }
 ],
 "metadata": {
  "kernelspec": {
   "display_name": "Python 3",
   "language": "python",
   "name": "python3"
  },
  "language_info": {
   "codemirror_mode": {
    "name": "ipython",
    "version": 3
   },
   "file_extension": ".py",
   "mimetype": "text/x-python",
   "name": "python",
   "nbconvert_exporter": "python",
   "pygments_lexer": "ipython3",
   "version": "3.7.2"
  }
 },
 "nbformat": 4,
 "nbformat_minor": 2
}
