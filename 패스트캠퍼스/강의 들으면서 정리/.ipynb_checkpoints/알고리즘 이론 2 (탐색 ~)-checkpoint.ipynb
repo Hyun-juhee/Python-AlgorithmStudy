{
 "cells": [
  {
   "cell_type": "markdown",
   "metadata": {},
   "source": [
    "# 탐색알고리즘 : 1. 순차 탐색 (Sequential Search)"
   ]
  },
  {
   "cell_type": "markdown",
   "metadata": {},
   "source": [
    "### 1. 순차 탐색 (Sequential Search) 이란?\n",
    "* 탐색은 여러 데이터 중에서 원하는 데이터를 찾아내는 것을 의미\n",
    "* 데이터가 담겨있는 리스트를 앞에서부터 하나씩 비교해서 원하는 데이터를 찾는 방법\n",
    "* 최악의 경우 리스트 길이가 n일 때, n번 비교해야 함 = `O(n)`"
   ]
  },
  {
   "cell_type": "markdown",
   "metadata": {},
   "source": [
    "<div class=\"alert alert-block alert-warning\">\n",
    "<strong><font color=\"blue\" size=\"4em\">프로그래밍 연습</font></strong><br>\n",
    "임의 리스트가 다음과 같이 rand_data_list로 있을 때, 원하는 데이터의 위치를 리턴하는 순차탐색 알고리즘 작성해보기<br>\n",
    "- 가장 기본적인 방법이므로, 직접 작성해보겠습니다.\n",
    "- 원하는 데이터가 리스트에 없을 경우 -1을 리턴\n",
    "</div>\n",
    "<pre>\n",
    "# 데이터 준비: data_list 10개 만들기\n",
    "from random import *\n",
    " \n",
    "rand_data_list = list()\n",
    "for num in range(10):\n",
    "    rand_data_list.append(randint(1, 100))\n",
    "</pre>"
   ]
  },
  {
   "cell_type": "code",
   "execution_count": 4,
   "metadata": {},
   "outputs": [],
   "source": [
    "from random import *\n",
    "\n",
    "dataList = list()\n",
    "for num in range(10):\n",
    "    dataList.append(randint(1, 100))"
   ]
  },
  {
   "cell_type": "code",
   "execution_count": 7,
   "metadata": {},
   "outputs": [],
   "source": [
    "def sequencial(dataList, searchData):\n",
    "    for i in range(len(dataList)):\n",
    "        if dataList[i] == searchData:\n",
    "            return i\n",
    "        else:\n",
    "            return -1"
   ]
  },
  {
   "cell_type": "code",
   "execution_count": 8,
   "metadata": {},
   "outputs": [
    {
     "data": {
      "text/plain": [
       "-1"
      ]
     },
     "execution_count": 8,
     "metadata": {},
     "output_type": "execute_result"
    }
   ],
   "source": [
    "sequencial(dataList, 3)"
   ]
  },
  {
   "cell_type": "markdown",
   "metadata": {},
   "source": [
    "# 탐색 알고리즘 : 2. 이진 탐색 (Binary Search)\n",
    "<img src=\"https://www.mathwarehouse.com/programming/images/binary-vs-linear-search/binary-and-linear-search-animations.gif\">\n"
   ]
  },
  {
   "cell_type": "markdown",
   "metadata": {},
   "source": [
    "### 1. 이진 탐색 (Binary Search) 이란?\n",
    "* 탐색할 자료를 둘로 나누어 해당 데이터가 있을만한 곳을 탐색하는 방법 (정렬이 되어있는 상태에서)"
   ]
  },
  {
   "cell_type": "code",
   "execution_count": null,
   "metadata": {},
   "outputs": [],
   "source": [
    "# 헷갈리지 말고 응용하자!!\n",
    "print(6/4)  # 나누기 \n",
    "print(6//4) # 몫\n",
    "print(6%4)  # 나머지 \n",
    "\n",
    "import random\n",
    "dataList = random.sample(range(100), 10) # 중복 X\n",
    "\n",
    "dataList = list()\n",
    "for num in range(10):\n",
    "    dataList.append(randint(1, 100)) # 중복 O"
   ]
  },
  {
   "cell_type": "code",
   "execution_count": 25,
   "metadata": {},
   "outputs": [],
   "source": [
    "def binarySearch(data, search):\n",
    "    if len(data) == 1 and search == data[0]:\n",
    "        return True\n",
    "    if len(data) == 1 and search !=data[0]:\n",
    "        return False\n",
    "    if len(data) == 0:\n",
    "        return false\n",
    "    \n",
    "    medium = len(data)//2\n",
    "    if search == data[medium]:\n",
    "        return True\n",
    "    else:\n",
    "        if search > data[medium]:\n",
    "            return binarySearch(data[medium:], search)\n",
    "        else:\n",
    "            return binarySearch(data[:medium], search)"
   ]
  },
  {
   "cell_type": "code",
   "execution_count": 13,
   "metadata": {},
   "outputs": [
    {
     "data": {
      "text/plain": [
       "[76, 68, 24, 36, 94, 71, 42, 55, 66, 84]"
      ]
     },
     "execution_count": 13,
     "metadata": {},
     "output_type": "execute_result"
    }
   ],
   "source": [
    "import random\n",
    "dataList = random.sample(range(100), 10) # 중복 X\n",
    "dataList"
   ]
  },
  {
   "cell_type": "code",
   "execution_count": 14,
   "metadata": {},
   "outputs": [],
   "source": [
    "dataList.sort()"
   ]
  },
  {
   "cell_type": "code",
   "execution_count": 26,
   "metadata": {},
   "outputs": [
    {
     "data": {
      "text/plain": [
       "True"
      ]
     },
     "execution_count": 26,
     "metadata": {},
     "output_type": "execute_result"
    }
   ],
   "source": [
    "binarySearch(dataList, 76)"
   ]
  },
  {
   "cell_type": "markdown",
   "metadata": {},
   "source": [
    "# 그래프와 탐색\n",
    "## 1. 그래프 이해"
   ]
  },
  {
   "cell_type": "markdown",
   "metadata": {},
   "source": [
    "- 노드 (Node) = 정점 = Vertex\n",
    "- 간선 (Edge) = link = branch\n",
    "- 정점의 차수 (Degree): 무방향 그래프에서 하나의 정점에 인접한 정점의 수 (아래 그림에서 모든 vertex는 degree = 2)\n",
    "<img src=\"https://www.fun-coding.org/00_Images/undirectedgraph.png\" width=300>\n",
    "- 진입 차수 (In-Degree): 방향 그래프에서 외부에서 오는 간선의 수\n",
    "- 진출 차수 (Out-Degree): 방향 그래프에서 외부로 향하는 간선의 수\n",
    "- 경로 길이 (Path Length): 경로를 구성하기 위해 사용된 간선의 수\n",
    "- 단순 경로 (Simple Path): 처음 정점과 끝 정점을 제외하고 중복된 정점이 없는 경로\n",
    "- 사이클 (Cycle): 단순 경로의 시작 정점과 종료 정점이 동일한 경우"
   ]
  },
  {
   "cell_type": "markdown",
   "metadata": {},
   "source": [
    "<div style=\"text-align:left\">\n",
    "<table>\n",
    "  <tr>\n",
    "    <th></th>\n",
    "    <th style=\"text-align:center\">그래프</th>\n",
    "    <th style=\"text-align:center\">트리</th>\n",
    "  </tr>\n",
    "  <tr>\n",
    "    <td style=\"text-align:center\">정의</td>\n",
    "    <td style=\"text-align:left\">노드와 노드를 연결하는 간선으로 표현되는 자료 구조</td>\n",
    "    <td style=\"text-align:left\">그래프의 한 종류, 방향성이 있는 비순환 그래프</td>\n",
    "  </tr>\n",
    "  <tr>\n",
    "    <td style=\"text-align:center\">방향성</td>\n",
    "    <td style=\"text-align:left\">방향 그래프, 무방향 그래프 둘다 존재함</td>\n",
    "    <td style=\"text-align:left\">방향 그래프만 존재함</td>\n",
    "  </tr>\n",
    "  <tr>\n",
    "    <td style=\"text-align:center\">사이클</td>\n",
    "    <td style=\"text-align:left\">사이클 가능함, 순환 및 비순환 그래프 모두 존재함</td>\n",
    "    <td style=\"text-align:left\">비순환 그래프로 사이클이 존재하지 않음</td>\n",
    "  </tr>\n",
    "  <tr>\n",
    "    <td style=\"text-align:center\">루트 노드</td>\n",
    "    <td style=\"text-align:left\">루트 노드 존재하지 않음</td>\n",
    "    <td style=\"text-align:left\">루트 노드 존재함</td>\n",
    "  </tr>\n",
    "  <tr>\n",
    "    <td style=\"text-align:center\">부모/자식 관계</td>\n",
    "    <td style=\"text-align:left\">부모 자식 개념이 존재하지 않음</td>\n",
    "    <td style=\"text-align:left\">부모 자식 관계가 존재함</td>\n",
    "  </tr>\n",
    "</table>\n",
    "</div>"
   ]
  },
  {
   "cell_type": "markdown",
   "metadata": {},
   "source": [
    "## 2-1. 너비 우선 탐색 (BFS)\n",
    "\n",
    "- BFS 방식: A - B - C - D - G - H - I - E - F - J \n",
    "  - 한 단계씩 내려가면서, 해당 노드와 같은 레벨에 있는 노드들 (형제 노드들)을 먼저 순회함\n",
    "- DFS 방식: A - B - D - E - F - C - G - H - I - J \n",
    "  - 한 노드의 자식을 타고 끝까지 순회한 후, 다시 돌아와서 다른 형제들의 자식을 타고 내려가며 순화함\n",
    "\n",
    "<img src=\"https://www.fun-coding.org/00_Images/BFSDFS.png\" width=700>"
   ]
  },
  {
   "cell_type": "markdown",
   "metadata": {},
   "source": [
    "### 파이썬으로 그래프 구현하기 \n",
    "중복포함 인접한 모든 정점을 list에 추가\n",
    "<img src=\"https://www.fun-coding.org/00_Images/bfsgraph.png\" width=700>"
   ]
  },
  {
   "cell_type": "code",
   "execution_count": 28,
   "metadata": {},
   "outputs": [],
   "source": [
    "graph = dict()\n",
    "\n",
    "graph['A'] = ['B', 'C']\n",
    "graph['B'] = ['A', 'D']\n",
    "graph['C'] = ['A', 'G', 'H', 'I']\n",
    "graph['D'] = ['B', 'E', 'F']\n",
    "graph['E'] = ['D']\n",
    "graph['F'] = ['D']\n",
    "graph['G'] = ['C']\n",
    "graph['H'] = ['C']\n",
    "graph['I'] = ['C', 'J']\n",
    "graph['J'] = ['I']"
   ]
  },
  {
   "cell_type": "code",
   "execution_count": 29,
   "metadata": {},
   "outputs": [
    {
     "data": {
      "text/plain": [
       "{'A': ['B', 'C'],\n",
       " 'B': ['A', 'D'],\n",
       " 'C': ['A', 'G', 'H', 'I'],\n",
       " 'D': ['B', 'E', 'F'],\n",
       " 'E': ['D'],\n",
       " 'F': ['D'],\n",
       " 'G': ['C'],\n",
       " 'H': ['C'],\n",
       " 'I': ['C', 'J'],\n",
       " 'J': ['I']}"
      ]
     },
     "execution_count": 29,
     "metadata": {},
     "output_type": "execute_result"
    }
   ],
   "source": [
    "graph"
   ]
  },
  {
   "cell_type": "code",
   "execution_count": 30,
   "metadata": {},
   "outputs": [
    {
     "data": {
      "text/plain": [
       "[1, 2, 3, 4]"
      ]
     },
     "execution_count": 30,
     "metadata": {},
     "output_type": "execute_result"
    }
   ],
   "source": [
    "## 리스트에서 리스트의 원소들만 다른 리스트로 append하기\n",
    "data = [1,2]\n",
    "data.extend([3,4])\n",
    "data"
   ]
  },
  {
   "cell_type": "code",
   "execution_count": 31,
   "metadata": {},
   "outputs": [],
   "source": [
    "def bfs(graph, start):\n",
    "    visited = []\n",
    "    needVisit = []\n",
    "    \n",
    "    visited.append(start)\n",
    "    needVisit.extend(graph[start])\n",
    "    \n",
    "    while needVisit:\n",
    "        temp = needVisit.pop(0)  # list에서 pop(index)하면 원하는 인덱스의 값이 리턴되고, 리스트에서 삭제됨\n",
    "        if temp not in visited:   # 이문법 잘활용하자! 메소드 쓸필요 없음 in / not in\n",
    "            visited.append(temp)\n",
    "            needVisit.extend(graph[temp])\n",
    "    \n",
    "    return visited\n",
    "    "
   ]
  },
  {
   "cell_type": "code",
   "execution_count": null,
   "metadata": {},
   "outputs": [],
   "source": [
    "bfs(graph, 'A')"
   ]
  }
 ],
 "metadata": {
  "kernelspec": {
   "display_name": "Python 3",
   "language": "python",
   "name": "python3"
  },
  "language_info": {
   "codemirror_mode": {
    "name": "ipython",
    "version": 3
   },
   "file_extension": ".py",
   "mimetype": "text/x-python",
   "name": "python",
   "nbconvert_exporter": "python",
   "pygments_lexer": "ipython3",
   "version": "3.7.2"
  }
 },
 "nbformat": 4,
 "nbformat_minor": 2
}
