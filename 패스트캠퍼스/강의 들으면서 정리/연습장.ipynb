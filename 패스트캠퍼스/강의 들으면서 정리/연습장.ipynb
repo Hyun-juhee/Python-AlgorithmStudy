{
 "cells": [
  {
   "cell_type": "code",
   "execution_count": 4,
   "metadata": {},
   "outputs": [],
   "source": [
    "import heapq\n",
    "\n",
    "def di(graph, start):\n",
    "    result = {node: float('inf') for node in graph}\n",
    "    result[start] = 0\n",
    "    queue = []\n",
    "    heapq.heappush(queue, [result[start], start])\n",
    "    \n",
    "    while queue:\n",
    "        cDistance, cNode = heapq.heappop(queue)\n",
    "        \n",
    "        if cDistance > result[cNode]:\n",
    "            continue\n",
    "        for tempNode, tempDistance in graph[cNode].items(): # .items()해야지 key, value가 변수에 하나씩 저장된다!! \n",
    "            distance = tempDistance + cDistance\n",
    "            if distance < result[tempNode]:\n",
    "                result[tempNode] = distance\n",
    "                heapq.heappush(queue, [result[tempNode], tempNode])\n",
    "            else: \n",
    "                continue\n",
    "    return result\n",
    "        "
   ]
  },
  {
   "cell_type": "code",
   "execution_count": 5,
   "metadata": {},
   "outputs": [
    {
     "data": {
      "text/plain": [
       "{'A': 0, 'B': 6, 'C': 1, 'D': 2, 'E': 5, 'F': 6}"
      ]
     },
     "execution_count": 5,
     "metadata": {},
     "output_type": "execute_result"
    }
   ],
   "source": [
    "graph = {\n",
    "    'A': {'B': 8, 'C': 1, 'D': 2},\n",
    "    'B': {},\n",
    "    'C': {'B': 5, 'C': 2},\n",
    "    'D': {'E': 3, 'F': 5},\n",
    "    'E': {'F': 1},\n",
    "    'F': {'A': 5}\n",
    "}\n",
    "\n",
    "di(graph, 'A')"
   ]
  },
  {
   "cell_type": "code",
   "execution_count": 6,
   "metadata": {},
   "outputs": [],
   "source": [
    "import heapq\n",
    "\n",
    "def fastroot(graph, start, end):\n",
    "    result = {node: [float('inf'), start] for node in graph}\n",
    "    result[start] = [0, start]\n",
    "    queue = []\n",
    "    heapq.heappush(queue, [result[start][0], start])\n",
    "    \n",
    "    while queue:\n",
    "        cDistance, cNode = heapq.heappop(queue)\n",
    "        if cDistance > result[cNode][0]:\n",
    "            continue\n",
    "        \n",
    "        for tempNode, tempDistance in graph[cNode].items():\n",
    "            distance = cDistance + tempDistance\n",
    "            if distance < result[tempNode][0]:\n",
    "                result[tempNode] = [distance, cNode]\n",
    "                heapq.heappush(queue, [distance, tempNode])\n",
    "            else: \n",
    "                continue\n",
    "    \n",
    "    root = [end]\n",
    "    while end != start:\n",
    "        root.insert(0, result[end][1])\n",
    "        end = result[end][1]\n",
    "    return root"
   ]
  },
  {
   "cell_type": "code",
   "execution_count": 7,
   "metadata": {},
   "outputs": [
    {
     "data": {
      "text/plain": [
       "['A', 'D', 'E', 'F']"
      ]
     },
     "execution_count": 7,
     "metadata": {},
     "output_type": "execute_result"
    }
   ],
   "source": [
    "fastroot(graph, 'A', 'F')"
   ]
  },
  {
   "cell_type": "code",
   "execution_count": 3,
   "metadata": {},
   "outputs": [],
   "source": [
    "graph = dict()\n",
    "graph['A'] = ['B', 'C']\n",
    "graph['B'] = ['A', 'D']\n",
    "graph['C'] = ['A', 'G', 'H', 'I']\n",
    "graph['D'] = ['B', 'E', 'F']\n",
    "graph['E'] = ['D']\n",
    "graph['F'] = ['D']\n",
    "graph['G'] = ['C']\n",
    "graph['H'] = ['C']\n",
    "graph['I'] = ['C', 'J']\n",
    "graph['J'] = ['I']\n",
    "\n",
    "# 가중치가 있는 그래프는 value가 dictionary\n",
    "# 가중치가 없는 그래프는 value가 list"
   ]
  },
  {
   "cell_type": "code",
   "execution_count": 1,
   "metadata": {},
   "outputs": [],
   "source": [
    "def BFS(graph, start):\n",
    "    queue = [start]\n",
    "    result = []\n",
    "    while queue:\n",
    "        temp = queue.pop(0)\n",
    "        if temp not in result:\n",
    "            result.append(temp) \n",
    "            queue.extend(graph[temp]) # 방문한 노드의 인접 노드들만 큐에 추가\n",
    "    return result"
   ]
  },
  {
   "cell_type": "code",
   "execution_count": 6,
   "metadata": {},
   "outputs": [],
   "source": [
    "def DFS(graph, start):\n",
    "    queue = [start]\n",
    "    result = []\n",
    "    while queue:\n",
    "        temp = queue.pop()\n",
    "        if temp not in result:\n",
    "            result.append(temp) \n",
    "            queue.extend(graph[temp]) # 방문한 노드의 인접 노드들만 큐에 추가\n",
    "    return result"
   ]
  },
  {
   "cell_type": "code",
   "execution_count": 4,
   "metadata": {},
   "outputs": [
    {
     "data": {
      "text/plain": [
       "['A', 'B', 'C', 'D', 'G', 'H', 'I', 'E', 'F', 'J']"
      ]
     },
     "execution_count": 4,
     "metadata": {},
     "output_type": "execute_result"
    }
   ],
   "source": [
    "BFS(graph, 'A')"
   ]
  },
  {
   "cell_type": "code",
   "execution_count": 7,
   "metadata": {},
   "outputs": [
    {
     "data": {
      "text/plain": [
       "['A', 'C', 'I', 'J', 'H', 'G', 'B', 'D', 'F', 'E']"
      ]
     },
     "execution_count": 7,
     "metadata": {},
     "output_type": "execute_result"
    }
   ],
   "source": [
    "DFS(graph, 'A')"
   ]
  },
  {
   "cell_type": "code",
   "execution_count": 14,
   "metadata": {},
   "outputs": [],
   "source": [
    "parent = dict()\n",
    "rank = dict()\n",
    "\n",
    "def wringFind(node):\n",
    "    if node == parent[node]:\n",
    "        return node # root일 때만 root를 return할 수 있음 \n",
    "    else: \n",
    "        parent[node] = find(parent[node])\n",
    "\n",
    "def find(node):\n",
    "    if node != parent[node]:\n",
    "        parent[node] = find(parent[node]) # 재귀용법으로 계속 부모를 find하면 결국 root가 리턴될것 : node를 무조건 root의 자식으로 붙임\n",
    "    return parent[node] #위 if문을 거치면 결국 모든 노드의 부모가 root가 되므로 모두 root를 반환한다. \n",
    "      \n",
    "def union(u, v):\n",
    "    root1, root2 = find(u), find(v)\n",
    "    if rank[root1] > rank[root2]:\n",
    "        parent[root2] = root1\n",
    "    else:\n",
    "        parent[root1] = root2\n",
    "        if rank[root1] == rank[root2]:\n",
    "            rank[root1] += 1\n",
    "\n",
    "def kluskal(graph):\n",
    "    mst = []\n",
    "    \n",
    "    # 초기화\n",
    "    for node in graph['vertices']:\n",
    "        parent[node] = node\n",
    "        rank[node] = 0\n",
    "\n",
    "    # 가장 작은 edges부터 하자 !\n",
    "    edgeList = graph['edges']\n",
    "    edgeList.sort()\n",
    "    \n",
    "    # 간선 연결\n",
    "    for edge in edgeList:\n",
    "        w, u, v = edge\n",
    "        if find(u) != find(v):\n",
    "            union(u,v)\n",
    "            mst.append(edge)\n",
    "    return mst"
   ]
  },
  {
   "cell_type": "code",
   "execution_count": 15,
   "metadata": {},
   "outputs": [
    {
     "data": {
      "text/plain": [
       "[(5, 'A', 'D'),\n",
       " (5, 'C', 'E'),\n",
       " (6, 'D', 'F'),\n",
       " (7, 'A', 'B'),\n",
       " (7, 'B', 'E'),\n",
       " (9, 'E', 'G')]"
      ]
     },
     "execution_count": 15,
     "metadata": {},
     "output_type": "execute_result"
    }
   ],
   "source": [
    "kluskal(mygraph)"
   ]
  },
  {
   "cell_type": "markdown",
   "metadata": {},
   "source": [
    "### 프림 알고리즘 정리\n",
    "1. 필요한 변수\n",
    "    - mst : 최종 최소신장트리\n",
    "    - edgeList : pop해가면서 테스트할 간선 리스트 (매번 weight가 가장작은 간선 먼저 pop해야하는데, 항상 정렬할 수 없으니까 힙 사용)\n",
    "    - connectedNode : 이미 연결 완료된 노드 리스트\n",
    "2. 처음 초기화 \n",
    "    - start 노드를 connectedNode에 추가\n",
    "    - edgeList에 start 노드와 인접해있는 모든 간선 추가\n",
    "\n",
    "3.  edgeList pop()해가면서 처리 \n",
    "    - pop한 간선의 말단 노드가 connectedNode에 없으면 추가\n",
    "    - pop한 간선의 말단 노드의 인접한 간선 중 말단이 connectedNode에 없는 간선 edgeList에 추가 "
   ]
  },
  {
   "cell_type": "code",
   "execution_count": 1,
   "metadata": {},
   "outputs": [],
   "source": [
    "mygraph = {\n",
    "    'vertices': ['A', 'B', 'C', 'D', 'E', 'F', 'G'],\n",
    "    'edges': [ # 중복 포함 (정렬하려고 맨앞에 weight로 저렇게 표현함 )\n",
    "        (7, 'A', 'B'),\n",
    "        (5, 'A', 'D'),\n",
    "        (7, 'B', 'A'),\n",
    "        (8, 'B', 'C'),\n",
    "        (9, 'B', 'D'),\n",
    "        (7, 'B', 'E'),\n",
    "        (8, 'C', 'B'),\n",
    "        (5, 'C', 'E'),\n",
    "        (5, 'D', 'A'),\n",
    "        (9, 'D', 'B'),\n",
    "        (7, 'D', 'E'),\n",
    "        (6, 'D', 'F'),\n",
    "        (7, 'E', 'B'),\n",
    "        (5, 'E', 'C'),\n",
    "        (7, 'E', 'D'),\n",
    "        (8, 'E', 'F'),\n",
    "        (9, 'E', 'G'),\n",
    "        (6, 'F', 'D'),\n",
    "        (8, 'F', 'E'),\n",
    "        (11, 'F', 'G'),\n",
    "        (9, 'G', 'E'),\n",
    "        (11, 'G', 'F')\n",
    "    ]\n",
    "}"
   ]
  },
  {
   "cell_type": "code",
   "execution_count": 41,
   "metadata": {},
   "outputs": [],
   "source": [
    "import heapq\n",
    "from collections import defaultdict\n",
    "\n",
    "def prim(start, mygraph):\n",
    "    mst = []\n",
    "    edgeList = []\n",
    "    connectedList = []\n",
    "    \n",
    "    connectedList.append(start)\n",
    "    graph = defaultdict(list)\n",
    "    for edge in mygraph['edges']:\n",
    "        graph[edge[1]].append(edge)\n",
    "    \n",
    "    edgeList.extend(graph[start])\n",
    "    heapq.heapify(edgeList)\n",
    "    \n",
    "    while edgeList:\n",
    "        edge = heapq.heappop(edgeList)\n",
    "        w, n1, n2 = edge\n",
    "        \n",
    "        if n2 not in connectedList:\n",
    "            connectedList.append(n2)\n",
    "            mst.append(edge)\n",
    "            for edge in graph[n2]:\n",
    "                if edge[2] not in connectedList:\n",
    "                    heapq.heappush(edgeList,edge)\n",
    "    return mst"
   ]
  },
  {
   "cell_type": "code",
   "execution_count": 42,
   "metadata": {},
   "outputs": [
    {
     "data": {
      "text/plain": [
       "[(5, 'A', 'D'),\n",
       " (6, 'D', 'F'),\n",
       " (7, 'A', 'B'),\n",
       " (7, 'B', 'E'),\n",
       " (5, 'E', 'C'),\n",
       " (9, 'E', 'G')]"
      ]
     },
     "execution_count": 42,
     "metadata": {},
     "output_type": "execute_result"
    }
   ],
   "source": [
    "prim('A', mygraph)"
   ]
  }
 ],
 "metadata": {
  "kernelspec": {
   "display_name": "Python 3",
   "language": "python",
   "name": "python3"
  },
  "language_info": {
   "codemirror_mode": {
    "name": "ipython",
    "version": 3
   },
   "file_extension": ".py",
   "mimetype": "text/x-python",
   "name": "python",
   "nbconvert_exporter": "python",
   "pygments_lexer": "ipython3",
   "version": "3.7.2"
  }
 },
 "nbformat": 4,
 "nbformat_minor": 2
}
