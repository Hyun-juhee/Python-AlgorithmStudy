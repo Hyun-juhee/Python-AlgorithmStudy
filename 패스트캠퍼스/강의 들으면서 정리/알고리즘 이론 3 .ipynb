{
 "cells": [
  {
   "cell_type": "markdown",
   "metadata": {},
   "source": [
    "# 최단 경로 알고리즘\n",
    "## 1. 최단 경로 문제란?\n",
    "- 최단 경로 문제란 두 노드를 잇는 가장 짧은 경로를 찾는 문제임\n",
    "- 가중치 그래프 (Weighted Graph) 에서 간선 (Edge)의 가중치 합이 최소가 되도록 하는 경로를 찾는 것이 목적\n",
    "\n",
    "### 최단 경로 문제 종류\n",
    "1. 단일 출발 및 단일 도착 (single-source and single-destination shortest path problem) 최단 경로 문제\n",
    "  - 그래프 내의 특정 노드 u 에서 출발, 또다른 특정 노드 v 에 도착하는 가장 짧은 경로를 찾는 문제\n",
    "2. 단일 출발 (single-source shortest path problem) 최단 경로 문제\n",
    "  - 그래프 내의 특정 노드 u 와 그래프 내 다른 모든 노드 각각의 가장 짧은 경로를 찾는 문제\n",
    "  > 따지고 보면 굉장히 헷깔릴 수 있으므로 명확히 하자면, \n",
    "  > 예를 들어 A, B, C, D 라는 노드를 가진 그래프에서 특정 노드를 A 라고 한다면,\n",
    "  > A 외 모든 노드인 B, C, D 각 노드와 A 간에 (즉, A - B, A - C, A - D) 각각 가장 짧은 경로를 찾는 문제를 의미함\n",
    "  \n",
    "  \n",
    "  \n",
    "3. 전체 쌍(all-pair) 최단 경로: 그래프 내의 모든 노드 쌍 (u, v) 에 대한 최단 경로를 찾는 문제\n",
    "\n",
    "\n",
    "## 2. 다익스트라 알고리즘 (단일 출발)"
   ]
  },
  {
   "cell_type": "code",
   "execution_count": 13,
   "metadata": {},
   "outputs": [
    {
     "name": "stdout",
     "output_type": "stream",
     "text": [
      "[[1, 'C'], [5, 'B'], [2, 'A'], [7, 'D']]\n",
      "[1, 'C']\n",
      "[2, 'A']\n",
      "[5, 'B']\n",
      "[7, 'D']\n",
      "{'A': 0, 'B': 0, 'C': 0}\n",
      "[0, 0, 0, 0, 0, 0, 0, 0, 0]\n",
      "[0, 1, 2, 3, 4, 5, 6, 7, 8]\n",
      "inf\n"
     ]
    }
   ],
   "source": [
    "## 필요한 우선순위 큐를 위한 heapq 라이브러리!\n",
    "\n",
    "import heapq\n",
    "queue = []\n",
    "# heapq.heappush(담을 리스트, [key, value]) # 무조건 key가 먼저 - 맨 앞 값으로 정렬하기 때문\n",
    "heapq.heappush(queue, [2, 'A'])\n",
    "heapq.heappush(queue, [5, 'B'])\n",
    "heapq.heappush(queue, [1, 'C'])\n",
    "heapq.heappush(queue, [7, 'D'])\n",
    "print(queue)  # 트리 구조라 눈으로 보기에 완전 정렬처럼 보이진 않음 but, pop하면 가장 작은애가 나옴\n",
    "\n",
    "for i in range(len(queue)):\n",
    "    print(heapq.heappop(queue)) # heapq.heappop(큐-리스트)\n",
    "    \n",
    "## 사용되는 반복문으로 dictionary 채우기\n",
    "graph = {'A': 4, 'B': 3, 'C': 8}\n",
    "distance = {node: 0 for node in graph}\n",
    "print(distance)\n",
    "# 자주 사용되는 리스트 문법(아래)와 같은 원리이다.\n",
    "exList = [0 for i in range(9)]\n",
    "exList2 = [i for i in range(9)]\n",
    "print(exList)\n",
    "print(exList2)"
   ]
  },
  {
   "cell_type": "markdown",
   "metadata": {},
   "source": [
    "<img src=\"https://www.fun-coding.org/00_Images/dijkstra.png\" width=200>"
   ]
  },
  {
   "cell_type": "code",
   "execution_count": 6,
   "metadata": {},
   "outputs": [],
   "source": [
    "mygraph = {\n",
    "    'A': {'B': 8, 'C': 1, 'D': 2},\n",
    "    'B': {},\n",
    "    'C': {'B': 5, 'D': 2},\n",
    "    'D': {'E': 3, 'F': 5},\n",
    "    'E': {'F': 1},\n",
    "    'F': {'A': 5}\n",
    "}"
   ]
  },
  {
   "cell_type": "code",
   "execution_count": 31,
   "metadata": {},
   "outputs": [],
   "source": [
    "import heapq\n",
    "\n",
    "def dijkstra(graph, start):\n",
    "    distances = {node: float('inf') for node in graph} #float('inf')는 무한대를 뜻한다.\n",
    "    distances[start] = 0\n",
    "    queue = []\n",
    "    heapq.heappush(queue, [distances[start], start])\n",
    "    \n",
    "    while queue:\n",
    "        current_distance, current_node = heapq.heappop(queue)\n",
    "        \n",
    "        if distances[current_node] < current_distance: # 힙에 저장된 애들이 distances에 이미 저장된 값보다 크면 아래 for문 해줄 필요 X\n",
    "            continue\n",
    "        \n",
    "        # adjacent : 인접해 있는 노드의 이름\n",
    "        # weight : 인접해 있는 노드의 거리, 가중치\n",
    "        # for key, value in dictionary 로 사용할 수 있다!!\n",
    "        for adjacent, weight in graph[current_node].items(): #이중 딕셔너리니까, .items 안하면 adjacent = 'A', weight = {'B':8, ...}\n",
    "            distance = current_distance + weight\n",
    "            if distances[adjacent] > distance: # 새롭게 구한 거리가 더 작으면, distances에도 추가 & 우선 순위 큐에도 추가\n",
    "                distances[adjacent] = distance \n",
    "                heapq.heappush(queue, [distance, adjacent])\n",
    "    return distances"
   ]
  },
  {
   "cell_type": "code",
   "execution_count": 32,
   "metadata": {},
   "outputs": [
    {
     "name": "stdout",
     "output_type": "stream",
     "text": [
      "{'A': 0, 'B': 6, 'C': 1, 'D': 2, 'E': 5, 'F': 6}\n"
     ]
    }
   ],
   "source": [
    "mygraph = {\n",
    "    'A': {'B': 8, 'C': 1, 'D': 2},\n",
    "    'B': {},\n",
    "    'C': {'B': 5, 'D': 2},\n",
    "    'D': {'E': 3, 'F': 5},\n",
    "    'E': {'F': 1},\n",
    "    'F': {'A': 5}\n",
    "}\n",
    "\n",
    "print(dijkstra(mygraph, 'A'))"
   ]
  },
  {
   "cell_type": "code",
   "execution_count": 34,
   "metadata": {},
   "outputs": [
    {
     "name": "stdout",
     "output_type": "stream",
     "text": [
      "['A', 'D', 'E', 'F']\n"
     ]
    }
   ],
   "source": [
    "## 응용, 최단 경로 출력\n",
    "\n",
    "import heapq\n",
    "\n",
    "def dijkstra(graph, start, end):\n",
    "    distances = {node: [float('inf'), start] for node in graph} #float('inf')는 무한대를 뜻한다.\n",
    "    distances[start] = [0, start]\n",
    "    queue = []\n",
    "    heapq.heappush(queue, [distances[start][0], start])\n",
    "    \n",
    "    while queue:\n",
    "        current_distance, current_node = heapq.heappop(queue)\n",
    "        \n",
    "        if distances[current_node][0] < current_distance: # 힙에 저장된 애들이 distances에 이미 저장된 값보다 크면 아래 for문 해줄 필요 X\n",
    "            continue\n",
    "        \n",
    "        # adjacent : 인접해 있는 노드의 이름\n",
    "        # weight : 인접해 있는 노드의 거리, 가중치\n",
    "        # for key, value in dictionary 로 사용할 수 있다!!\n",
    "        for adjacent, weight in graph[current_node].items(): #이중 딕셔너리니까, .items 안하면 adjacent = 'A', weight = {'B':8, ...}\n",
    "            distance = current_distance + weight\n",
    "            if distances[adjacent][0] > distance: # 새롭게 구한 거리가 더 작으면, distances에도 추가 & 우선 순위 큐에도 추가\n",
    "                # distances에 출발점으로 부터 거리 + 바로 직전에 거친 vertex까지 함께 저장 \n",
    "                # 마지막에 타고타고 경로 찾음 \n",
    "                distances[adjacent] = [distance, current_node] \n",
    "                heapq.heappush(queue, [distance, adjacent])\n",
    "    \n",
    "    root = [end]\n",
    "    while end != start:\n",
    "        root.insert(0, distances[end][1])\n",
    "        end = distances[end][1]\n",
    "    return root\n",
    "\n",
    "\n",
    "# 방향 그래프\n",
    "mygraph = {\n",
    "    'A': {'B': 8, 'C': 1, 'D': 2},\n",
    "    'B': {},\n",
    "    'C': {'B': 5, 'D': 2},\n",
    "    'D': {'E': 3, 'F': 5},\n",
    "    'E': {'F': 1},\n",
    "    'F': {'A': 5}\n",
    "}\n",
    "\n",
    "print(dijkstra(mygraph, 'A', 'F'))"
   ]
  }
 ],
 "metadata": {
  "kernelspec": {
   "display_name": "Python 3",
   "language": "python",
   "name": "python3"
  },
  "language_info": {
   "codemirror_mode": {
    "name": "ipython",
    "version": 3
   },
   "file_extension": ".py",
   "mimetype": "text/x-python",
   "name": "python",
   "nbconvert_exporter": "python",
   "pygments_lexer": "ipython3",
   "version": "3.7.2"
  }
 },
 "nbformat": 4,
 "nbformat_minor": 2
}
