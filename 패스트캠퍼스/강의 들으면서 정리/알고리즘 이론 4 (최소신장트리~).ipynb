{
 "cells": [
  {
   "cell_type": "markdown",
   "metadata": {},
   "source": [
    "# 최소 신장 트리 \n",
    "### 1. 신장트리와 최소 신장트리의 이해\n",
    "<b>신장트리(Spanning Tree)의 조건</b>\n",
    "- 본래의 그래프의 모든 노드를 포함해야 함\n",
    "- 모든 노드가 서로 연결\n",
    "- 트리의 속성을 만족시킴 (사이클이 존재하지 않음)\n",
    "<img src=\"https://www.fun-coding.org/00_Images/spanningtree.png\">\n",
    "\n",
    "**최소 신장트리(Minimum Spanning Tree, MST)의 조건**\n",
    "- 가능한 Spanning Tree 중에서, 간선의 가중치 합이 최소인 Spanning Tree를 지칭함\n",
    "<img src=\"https://www.fun-coding.org/00_Images/mst.png\" width=500>\n",
    "  "
   ]
  },
  {
   "cell_type": "markdown",
   "metadata": {},
   "source": [
    "### 2. 최소 신장 트리 알고리즘 (MST를 찾는 알고리즘)\n",
    "### 2-1. 크루스칼 알고리즘 (Kruskal's Algorithm)\n",
    "1. 모든 정점을 독립적인 집합으로 만든다.\n",
    "2. 모든 간선을 비용을 기준으로 정렬하고, 비용이 작은 간선부터 양 끝의 두 정점을 비교한다. -> 이 비교 알고리즘의 예시가 union-find\n",
    "3. 두 정점의 최상위 정점을 확인하고, 서로 다를 경우 두 정점을 연결한다. (최소 신장 트리는 사이클이 없으므로, 사이클이 생기지 않도록 하는 것임)\n",
    "\n",
    " `탐욕 알고리즘을 기초로 하고 있음 (당장 눈 앞의 최소 비용을 선택해서, 결과적으로 최적의 솔루션을 찾음)`\n",
    "<img src=\"https://www.fun-coding.org/00_Images/kruscal_internal1.png\" width=650>\n",
    "<img src=\"https://www.fun-coding.org/00_Images/kruscal_internal2.png\" width=800>\n",
    "\n",
    "### 2-2 Union-Find 알고리즘\n",
    "- 두 노드를 연결했을 때, cycle이 생기는지 안생기는지 검사하는 알고리즘\n",
    "- 같은 집합에 있다 = 이미 연결된 노드이다.\n",
    "- 같은 집합 내에 있는 두 노드를 연결하면 사이클이 생긴다.\n",
    "- 서로 다른 집합 (Disjoint Set)에 있는 두 노드를 연결하면 사이클이 생기지 않는다.\n",
    "- find : 두 노드가 동일 부분 집합에 있는지 없는 지 확인\n",
    "- 이 알고리즘 에서 각 집합의 root노드를 저장하고 있기 때문에 두 노드의 집합의 root 노드를 비교해서 체크한다.\n",
    "- union : find완료 후 합치기  \n",
    "\n",
    "1. 초기화\n",
    "   - n 개의 원소가 개별 집합으로 이뤄지도록 초기화\n",
    "<img src=\"https://www.fun-coding.org/00_Images/initial_findunion.png\" width=400>\n",
    "2. Union\n",
    "   - 두 개별 집합을 하나의 집합으로 합침, 두 트리를 하나의 트리로 만듬\n",
    "<img src=\"https://www.fun-coding.org/00_Images/union_findunion.png\" width=600>\n",
    "\n",
    "3. Find\n",
    "   - 여러 노드가 존재할 때, 두 개의 노드를 선택해서, 현재 두 노드가 서로 같은 그래프에 속하는지 판별하기 위해, 각 그룹의 최상단 원소 (즉, 루트 노드)를 확인\n",
    "<img src=\"https://www.fun-coding.org/00_Images/find_findunion.png\" width=500>\n",
    "\n",
    "### union-by-rank 기법\n",
    "- 각 트리에 대해 높이(rank)를 기억해 두고,\n",
    "- Union시 두 트리의 높이(rank)가 다르면, 높이가 작은 트리를 높이가 큰 트리에 붙임 (즉, 높이가 큰 트리의 루트 노드가 합친 집합의 루트 노드가 되게 함)\n",
    "<img src=\"https://www.fun-coding.org/00_Images/unionbyrank_findunion.png\" width=700>\n",
    "\n",
    "- 높이가 h - 1 인 두 개의 트리를 합칠 때는 한 쪽의 트리 높이를 1 증가시켜주고, 다른 쪽의 트리를 해당 트리에 붙여줌\n",
    "<img src=\"https://www.fun-coding.org/00_Images/unionbyranksame_findunion.png\" width=700>\n",
    "\n",
    "- 초기화시, 모든 원소는 높이(rank) 가 0 인 개별 집합인 상태에서, 하나씩 원소를 합칠 때, union-by-rank 기법을 사용한다면,\n",
    "  - 높이가 h 인 트리가 만들어지려면, 높이가 h - 1 인 두 개의 트리가 합쳐져야 함\n",
    "  - 높이가 h - 1 인 트리를 만들기 위해 최소 n개의 원소가 필요하다면, 높이가 h 인 트리가 만들어지기 위해서는 최소 2n개의 원소가 필요함\n",
    "  - 따라서 union-by-rank 기법을 사용하면, union/find 연산의 시간복잡도는 O(N) 이 아닌, $ O(log{N}) $ 로 낮출 수 있음\n",
    "  \n",
    "### path compression\n",
    "- Find를 실행한 노드는 싹다 루트 노드 자식으로 붙여버림\n",
    "\n",
    "<center><img src=\"https://www.fun-coding.org/00_Images/pathcompression_findunion.png\" width=400></center>\n",
    "\n",
    "- union-by-rank 와 path compression 기법 사용시 시간 복잡도는 다음 계산식을 만족함이 증명되었음\n",
    "  - $ O(M log^*{N}) $\n",
    "  - $ log^*{N} $ 은 다음 값을 가짐이 증명되었음\n",
    "    - N이 $ 2^{65536} $ 값을 가지더라도, $ log^*{N} $ 의 값이 5의 값을 가지므로, 거의 O(1), 즉 상수값에 가깝다고 볼 수 있음\n",
    "\n",
    "<div style=\"text-align:left\">\n",
    "<table>\n",
    "  <tr>\n",
    "    <th style=\"text-align:center\">N</th>\n",
    "    <th style=\"text-align:center\">$ log^*{N} $</th>\n",
    "  </tr>\n",
    "  <tr>\n",
    "    <td style=\"text-align:left\">1</td>\n",
    "    <td style=\"text-align:left\">0</td>\n",
    "  </tr>\n",
    "  <tr>\n",
    "    <td style=\"text-align:left\">2</td>\n",
    "    <td style=\"text-align:left\">1</td>\n",
    "  </tr>\n",
    "  <tr>\n",
    "    <td style=\"text-align:left\">4</td>\n",
    "    <td style=\"text-align:left\">2</td>\n",
    "  </tr>\n",
    "  <tr>\n",
    "    <td style=\"text-align:left\">16</td>\n",
    "    <td style=\"text-align:left\">3</td>\n",
    "  </tr>\n",
    "  <tr>\n",
    "    <td style=\"text-align:left\">65536</td>\n",
    "    <td style=\"text-align:left\">4</td>\n",
    "  </tr>\n",
    "  <tr>\n",
    "    <td style=\"text-align:left\">$ 2^{65536} $</td>\n",
    "    <td style=\"text-align:left\">5</td>\n",
    "  </tr>\n",
    "</table>\n",
    "</div>"
   ]
  },
  {
   "cell_type": "code",
   "execution_count": 4,
   "metadata": {},
   "outputs": [],
   "source": [
    "mygraph = {\n",
    "    'vertices': ['A', 'B', 'C', 'D', 'E', 'F', 'G'],\n",
    "    'edges': [ # 중복 포함 (정렬하려고 맨앞에 weight로 저렇게 표현함 )\n",
    "        (7, '', 'B'),\n",
    "        (5, 'A','D'),\n",
    "        (7, 'B', 'A'),\n",
    "        (8, 'B', 'C'),\n",
    "        (9, 'B', 'D'),\n",
    "        (7, 'B', 'E'),\n",
    "        (8, 'C', 'B'),\n",
    "        (5, 'C', 'E'),\n",
    "        (5, 'D', 'A'),\n",
    "        (9, 'D', 'B'),\n",
    "        (7, 'D', 'E'),\n",
    "        (6, 'D', 'F'),\n",
    "        (7, 'E', 'B'),\n",
    "        (5, 'E', 'C'),\n",
    "        (7, 'E', 'D'),\n",
    "        (8, 'E', 'F'),\n",
    "        (9, 'E', 'G'),\n",
    "        (6, 'F', 'D'),\n",
    "        (8, 'F', 'E'),\n",
    "        (11, 'F', 'G'),\n",
    "        (9, 'G', 'E'),\n",
    "        (11, 'G', 'F')\n",
    "    ]\n",
    "}"
   ]
  },
  {
   "cell_type": "code",
   "execution_count": 1,
   "metadata": {},
   "outputs": [],
   "source": [
    "# union-by-rank 기법을 사용하기 위해 msk의 결과와는 상관없는 두 딕셔너리 parent, rank를 생성해야 한다.\n",
    "# 여러 함수에서 사용할거기 때문에 전역변수로 선언한다.\n",
    "\n",
    "parent = dict()\n",
    "rank = dict()\n",
    "\n",
    "# 초기화를 위한 메소드 : 모든 노드가 자기자신이 루트인 간선은 없고 vertex만 있는 트리/그래프가 된다.\n",
    "def make_set(node):\n",
    "    parent[node] = node # 부모 노드가 자기 자신이라는 것은 루트라는 의미\n",
    "    rank[node] = 0 \n",
    "\n",
    "# 노드의 root 노드 찾기 + path compression\n",
    "def find(node):\n",
    "    if node != parent[node]:\n",
    "        parent[node] = find(parent[node]) # 재귀용법으로 계속 부모를 find하면 결국 root가 리턴될것 : node를 무조건 root의 자식으로 붙임\n",
    "    return parent[node] # node == parent[node]일 때 리턴되는 parent[node]는 root\n",
    "\n",
    "# 두 노드 합치기\n",
    "def union(v, u):\n",
    "    root1 = find(v)\n",
    "    root2 = find(u)\n",
    "    \n",
    "    if rank[root1] > rank[root2]:\n",
    "        parent[root2] = root1\n",
    "    else:\n",
    "        parent[root1] = root2\n",
    "        if rank[root1] == rank[root2]:\n",
    "            rank[root2] += 1\n",
    "        \n",
    "    \n",
    "# 나중에 거쳐간 간선들을 리스트로 담아 리턴할 변수\n",
    "def kruskal(graph):      \n",
    "    mst = [] \n",
    "    \n",
    "    # 1. 초기화 : 모든 노드들 parent, rank에 초기화 값으로 채우기 \n",
    "    for node in graph['vertices']:\n",
    "        make_set(node)\n",
    "            \n",
    "    # 2. weight순 edge 정렬 : edge의 weight가 가장 작은 것 부터 처리하기 위해 \n",
    "    edges = graph['edges']\n",
    "    edges.sort()\n",
    "    \n",
    "    # 3. 간선 연결 (union-find)\n",
    "    for edge in edges:\n",
    "        weight, v, u = edge\n",
    "        if find(v) != find(u):\n",
    "            union(v, u)\n",
    "            mst.append(edge)\n",
    "        \n",
    "    return mst"
   ]
  },
  {
   "cell_type": "code",
   "execution_count": 5,
   "metadata": {},
   "outputs": [
    {
     "ename": "KeyError",
     "evalue": "''",
     "output_type": "error",
     "traceback": [
      "\u001b[1;31m---------------------------------------------------------------------------\u001b[0m",
      "\u001b[1;31mKeyError\u001b[0m                                  Traceback (most recent call last)",
      "\u001b[1;32m<ipython-input-5-d1ec68d77b12>\u001b[0m in \u001b[0;36m<module>\u001b[1;34m\u001b[0m\n\u001b[1;32m----> 1\u001b[1;33m \u001b[0mkruskal\u001b[0m\u001b[1;33m(\u001b[0m\u001b[0mmygraph\u001b[0m\u001b[1;33m)\u001b[0m\u001b[1;33m\u001b[0m\u001b[1;33m\u001b[0m\u001b[0m\n\u001b[0m",
      "\u001b[1;32m<ipython-input-1-b75a12a1d5f0>\u001b[0m in \u001b[0;36mkruskal\u001b[1;34m(graph)\u001b[0m\n\u001b[0;32m     44\u001b[0m     \u001b[1;32mfor\u001b[0m \u001b[0medge\u001b[0m \u001b[1;32min\u001b[0m \u001b[0medges\u001b[0m\u001b[1;33m:\u001b[0m\u001b[1;33m\u001b[0m\u001b[1;33m\u001b[0m\u001b[0m\n\u001b[0;32m     45\u001b[0m         \u001b[0mweight\u001b[0m\u001b[1;33m,\u001b[0m \u001b[0mv\u001b[0m\u001b[1;33m,\u001b[0m \u001b[0mu\u001b[0m \u001b[1;33m=\u001b[0m \u001b[0medge\u001b[0m\u001b[1;33m\u001b[0m\u001b[1;33m\u001b[0m\u001b[0m\n\u001b[1;32m---> 46\u001b[1;33m         \u001b[1;32mif\u001b[0m \u001b[0mfind\u001b[0m\u001b[1;33m(\u001b[0m\u001b[0mv\u001b[0m\u001b[1;33m)\u001b[0m \u001b[1;33m!=\u001b[0m \u001b[0mfind\u001b[0m\u001b[1;33m(\u001b[0m\u001b[0mu\u001b[0m\u001b[1;33m)\u001b[0m\u001b[1;33m:\u001b[0m\u001b[1;33m\u001b[0m\u001b[1;33m\u001b[0m\u001b[0m\n\u001b[0m\u001b[0;32m     47\u001b[0m             \u001b[0munion\u001b[0m\u001b[1;33m(\u001b[0m\u001b[0mv\u001b[0m\u001b[1;33m,\u001b[0m \u001b[0mu\u001b[0m\u001b[1;33m)\u001b[0m\u001b[1;33m\u001b[0m\u001b[1;33m\u001b[0m\u001b[0m\n\u001b[0;32m     48\u001b[0m             \u001b[0mmst\u001b[0m\u001b[1;33m.\u001b[0m\u001b[0mappend\u001b[0m\u001b[1;33m(\u001b[0m\u001b[0medge\u001b[0m\u001b[1;33m)\u001b[0m\u001b[1;33m\u001b[0m\u001b[1;33m\u001b[0m\u001b[0m\n",
      "\u001b[1;32m<ipython-input-1-b75a12a1d5f0>\u001b[0m in \u001b[0;36mfind\u001b[1;34m(node)\u001b[0m\n\u001b[0;32m     12\u001b[0m \u001b[1;31m# 노드의 root 노드 찾기 + path compression\u001b[0m\u001b[1;33m\u001b[0m\u001b[1;33m\u001b[0m\u001b[1;33m\u001b[0m\u001b[0m\n\u001b[0;32m     13\u001b[0m \u001b[1;32mdef\u001b[0m \u001b[0mfind\u001b[0m\u001b[1;33m(\u001b[0m\u001b[0mnode\u001b[0m\u001b[1;33m)\u001b[0m\u001b[1;33m:\u001b[0m\u001b[1;33m\u001b[0m\u001b[1;33m\u001b[0m\u001b[0m\n\u001b[1;32m---> 14\u001b[1;33m     \u001b[1;32mif\u001b[0m \u001b[0mnode\u001b[0m \u001b[1;33m!=\u001b[0m \u001b[0mparent\u001b[0m\u001b[1;33m[\u001b[0m\u001b[0mnode\u001b[0m\u001b[1;33m]\u001b[0m\u001b[1;33m:\u001b[0m\u001b[1;33m\u001b[0m\u001b[1;33m\u001b[0m\u001b[0m\n\u001b[0m\u001b[0;32m     15\u001b[0m         \u001b[0mparent\u001b[0m\u001b[1;33m[\u001b[0m\u001b[0mnode\u001b[0m\u001b[1;33m]\u001b[0m \u001b[1;33m=\u001b[0m \u001b[0mfind\u001b[0m\u001b[1;33m(\u001b[0m\u001b[0mparent\u001b[0m\u001b[1;33m[\u001b[0m\u001b[0mnode\u001b[0m\u001b[1;33m]\u001b[0m\u001b[1;33m)\u001b[0m \u001b[1;31m# 재귀용법으로 계속 부모를 find하면 결국 root가 리턴될것 : node를 무조건 root의 자식으로 붙임\u001b[0m\u001b[1;33m\u001b[0m\u001b[1;33m\u001b[0m\u001b[0m\n\u001b[0;32m     16\u001b[0m     \u001b[1;32mreturn\u001b[0m \u001b[0mparent\u001b[0m\u001b[1;33m[\u001b[0m\u001b[0mnode\u001b[0m\u001b[1;33m]\u001b[0m \u001b[1;31m# node == parent[node]일 때 리턴되는 parent[node]는 root\u001b[0m\u001b[1;33m\u001b[0m\u001b[1;33m\u001b[0m\u001b[0m\n",
      "\u001b[1;31mKeyError\u001b[0m: ''"
     ]
    }
   ],
   "source": [
    "kruskal(mygraph)"
   ]
  },
  {
   "cell_type": "markdown",
   "metadata": {},
   "source": [
    "### 2-3. 프림 알고리즘 \n",
    "- 임의의 정점을 선택해 연결된 노드 집합에 삽입\n",
    "- 선택된 정점에 연결된 간선들을 간선 리스트에 삽입\n",
    "- 간선 리스트 중 최소 가중치를 갖는 간선부터 추출\n",
    "- cycle이 되거나, 연결된 접점이 이미 연결된 노드 집합 내에 있으면 패스\n",
    "- 아니면 해당 간선 선택\n",
    "\n",
    "<img src=\"https://www.fun-coding.org/00_Images/prim1.png\" width=600>\n",
    "<img src=\"https://www.fun-coding.org/00_Images/prim2.png\" width=600>\n",
    "<img src=\"https://www.fun-coding.org/00_Images/prim3.png\" width=600>"
   ]
  },
  {
   "cell_type": "markdown",
   "metadata": {},
   "source": [
    "> 프림 알고리즘을 구현하기 위해 필요한 문법 (heapq, heapify, deaultdict)"
   ]
  },
  {
   "cell_type": "code",
   "execution_count": 17,
   "metadata": {},
   "outputs": [
    {
     "name": "stdout",
     "output_type": "stream",
     "text": [
      "[2, 'A']\n",
      "[3, 'C']\n",
      "[5, 'B']\n"
     ]
    }
   ],
   "source": [
    "import heapq\n",
    "\n",
    "queue = []\n",
    "graph_data = [[2,'A'],[5,'B'],[3,'C']]\n",
    "\n",
    "for edge in graph_data:\n",
    "    heapq.heappush(queue, edge)\n",
    "    \n",
    "for i in range(len(queue)):\n",
    "    print(heapq.heappop(queue))"
   ]
  },
  {
   "cell_type": "code",
   "execution_count": 24,
   "metadata": {},
   "outputs": [
    {
     "name": "stdout",
     "output_type": "stream",
     "text": [
      "[2, 'A']\n",
      "[3, 'C']\n",
      "[5, 'B']\n"
     ]
    }
   ],
   "source": [
    "import heapq\n",
    "\n",
    "graph_data = [[2,'A'],[5,'B'],[3,'C']]\n",
    "\n",
    "heapq.heapify(graph_data) # 위에 처럼 for문 써서 하나하나 push하지 않아도 전체가 우선순위큐의 규칙을 맞춰서 잘 들어감\n",
    "    \n",
    "for i in range(len(graph_data)):\n",
    "    print(heapq.heappop(graph_data))\n"
   ]
  },
  {
   "cell_type": "code",
   "execution_count": 28,
   "metadata": {},
   "outputs": [
    {
     "name": "stdout",
     "output_type": "stream",
     "text": [
      "[]\n"
     ]
    },
    {
     "ename": "KeyError",
     "evalue": "'key2'",
     "output_type": "error",
     "traceback": [
      "\u001b[1;31m---------------------------------------------------------------------------\u001b[0m",
      "\u001b[1;31mKeyError\u001b[0m                                  Traceback (most recent call last)",
      "\u001b[1;32m<ipython-input-28-8b92b531df67>\u001b[0m in \u001b[0;36m<module>\u001b[1;34m\u001b[0m\n\u001b[0;32m      6\u001b[0m \u001b[1;33m\u001b[0m\u001b[0m\n\u001b[0;32m      7\u001b[0m \u001b[0mlist_dict2\u001b[0m \u001b[1;33m=\u001b[0m \u001b[0mdict\u001b[0m\u001b[1;33m(\u001b[0m\u001b[1;33m)\u001b[0m\u001b[1;33m\u001b[0m\u001b[1;33m\u001b[0m\u001b[0m\n\u001b[1;32m----> 8\u001b[1;33m \u001b[0mprint\u001b[0m\u001b[1;33m(\u001b[0m\u001b[0mlist_dict2\u001b[0m\u001b[1;33m[\u001b[0m\u001b[1;34m'key2'\u001b[0m\u001b[1;33m]\u001b[0m\u001b[1;33m)\u001b[0m\u001b[1;33m\u001b[0m\u001b[1;33m\u001b[0m\u001b[0m\n\u001b[0m",
      "\u001b[1;31mKeyError\u001b[0m: 'key2'"
     ]
    }
   ],
   "source": [
    "from collections import defaultdict\n",
    "# 어떤 키값으로 호출해도, 에러 안나고 null값 리턴\n",
    "list_dict = defaultdict(list) # 안에 타입을 적으면 그 타입에 맞는 null값을 리턴해준다\n",
    "                             # int = 0, list = []\n",
    "print(list_dict['key1'])\n",
    "\n",
    "list_dict2 = dict()  # 라이브러리 쓰지 않으면 없는 키 호출해보면 에러\n",
    "print(list_dict2['key2'])"
   ]
  },
  {
   "cell_type": "markdown",
   "metadata": {},
   "source": [
    "### 프림 알고리즘 정리\n",
    "1. 필요한 변수\n",
    "    - mst : 최종 최소신장트리\n",
    "    - edgeList : pop해가면서 테스트할 간선 리스트 (매번 weight가 가장작은 간선 먼저 pop해야하는데, 항상 정렬할 수 없으니까 힙 사용)\n",
    "    - connectedNode : 이미 연결 완료된 노드 리스트\n",
    "    \n",
    "    \n",
    "2. 처음 초기화 \n",
    "    - start 노드를 connectedNode에 추가\n",
    "    - edgeList에 start 노드와 인접해있는 모든 간선 추가\n",
    "\n",
    "\n",
    "3.  edgeList pop()해가면서 처리 \n",
    "    - pop한 간선의 말단 노드가 connectedNode에 없으면 추가\n",
    "    - pop한 간선의 말단 노드의 인접한 간선 중 말단이 connectedNode에 없는 간선 edgeList에 추가 "
   ]
  },
  {
   "cell_type": "code",
   "execution_count": 31,
   "metadata": {},
   "outputs": [],
   "source": [
    "# 앞 크루스칼 알고리즘과 다르게 중복을 제외하고 간선 리스트 저장 \n",
    "edges = [\n",
    "    (7, 'A', 'B'), (5, 'A', 'D'),\n",
    "    (8, 'B', 'C'), (9, 'B', 'D'), (7, 'B', 'E'),\n",
    "    (5, 'C', 'E'),\n",
    "    (7, 'D', 'E'), (6, 'D', 'F'),\n",
    "    (8, 'E', 'F'), (9, 'E', 'G'),\n",
    "    (11, 'F', 'G')\n",
    "]"
   ]
  },
  {
   "cell_type": "code",
   "execution_count": 52,
   "metadata": {},
   "outputs": [],
   "source": [
    "from collections import defaultdict\n",
    "import heapq\n",
    "\n",
    "def prim(start, edges):\n",
    "    graph = defaultdict(list)\n",
    "    \n",
    "    # 1. 노드 별 인접한 간선 리스트 모두 저장\n",
    "    for w, n1, n2 in edges:\n",
    "        graph[n1].append((w, n1, n2))\n",
    "        graph[n2].append((w, n2, n1))\n",
    "        #  graph = {'A': [(7, 'A', 'B'), (5, 'A', 'D')], 'B': [(7, 'B', 'A'), (8, 'B', 'C'), (9, 'B', 'D'), (7, 'B', 'E')]\n",
    "        # 중복된거 하나하나 두번씩 써주지 않아도 이렇게 append((weight, n1, n2))로 전체 노드에 모든 간선을 담은 딕셔너리를 만들 수 있다.\n",
    "    \n",
    "        \n",
    "    # 2. 필요한 변수 선언\n",
    "    mst = [] # 최종 최소신장트리\n",
    "    edgeList = [] # pop해가면서 테스트할 엣지 리스트\n",
    "    \n",
    "    # 3. 시작 노드 (start)에 대한 데이터 삽입\n",
    "    connectedNode = [start] # 이미 연결된 노드의 리스트\n",
    "    edgeList.extend(graph[start]) # append로 하면 graph[start]가 이중 리스트인데 이게 그대로 들어감, pop할 때 같이나옴\n",
    "    heapq.heapify(edgeList) # 우선순위 큐 형태로 바꿔주기 \n",
    "    \n",
    "    # 4. 간선 리스트 pop해가면서 하나씩 처리 (w 가장 작은 애 pop)\n",
    "    while edgeList:\n",
    "        edge = heapq.heappop(edgeList)\n",
    "        w, n1, n2 = edge # n1은 무조건 connetedNode에 이미 담겨있는 애\n",
    "        \n",
    "        if n2 not in connectedNode:\n",
    "            connectedNode.append(n2)\n",
    "            mst.append(edge)\n",
    "            \n",
    "            for edge in graph[n2]:\n",
    "                if edge[2] not in connectedNode: # 이미 connectedNode에 담겨 있지 않은 노드의 간선만 추가 \n",
    "                    heapq.heappush(edgeList, edge)\n",
    "    \n",
    "    return mst"
   ]
  },
  {
   "cell_type": "code",
   "execution_count": 53,
   "metadata": {},
   "outputs": [
    {
     "data": {
      "text/plain": [
       "[(5, 'A', 'D'),\n",
       " (6, 'D', 'F'),\n",
       " (7, 'A', 'B'),\n",
       " (7, 'B', 'E'),\n",
       " (5, 'E', 'C'),\n",
       " (9, 'E', 'G')]"
      ]
     },
     "execution_count": 53,
     "metadata": {},
     "output_type": "execute_result"
    }
   ],
   "source": [
    "prim('A', edges)"
   ]
  },
  {
   "cell_type": "markdown",
   "metadata": {},
   "source": [
    "<br><br>\n",
    "\n",
    "# 백트래킹 (backtracking)\n",
    "- 제약 조건 만족 문제에서 해를 찾기 위한 전략\n",
    "- 해를 찾기 위해 후보군 들을 탐색하다, 특정 후보군이 조건이 만족되지 않는다 생각하면 아예 제외시켜서 계산양을 줄이는 방법\n",
    "- 후보군 = 고려할 수 있는 경우의 수 = \"상태 공간 트리\" = State Space Tree\n",
    "- Promising: 해당 루트가 조건에 맞는지 검사\n",
    "- Pruning(가지치기): 조건에 맞지 않으면 포기/제외시키고 다른 루트 검사 \n",
    "- 각 후보군을 DFS 방식으로 탐색한다. \n",
    "\n",
    "- 결과값은 `[[첫행에서 열번호, 두번째 행에서 열번호, 세번째 행에서 열번호, 네번째 행에서 열번호], [가능한 다른 경우]]`"
   ]
  }
 ],
 "metadata": {
  "kernelspec": {
   "display_name": "Python 3",
   "language": "python",
   "name": "python3"
  },
  "language_info": {
   "codemirror_mode": {
    "name": "ipython",
    "version": 3
   },
   "file_extension": ".py",
   "mimetype": "text/x-python",
   "name": "python",
   "nbconvert_exporter": "python",
   "pygments_lexer": "ipython3",
   "version": "3.7.2"
  }
 },
 "nbformat": 4,
 "nbformat_minor": 2
}
