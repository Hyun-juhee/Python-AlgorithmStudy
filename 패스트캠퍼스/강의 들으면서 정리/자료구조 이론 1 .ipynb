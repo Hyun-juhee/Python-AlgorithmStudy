{
 "cells": [
  {
   "cell_type": "markdown",
   "metadata": {},
   "source": [
    "# 1️⃣ 자료구조 이론"
   ]
  },
  {
   "cell_type": "markdown",
   "metadata": {},
   "source": [
    "##  ✅ QUEUE\n",
    "### 1. 큐 구조 \n",
    "* 줄을 서는 행위와 유사\n",
    "* 가장 먼저 넣은 데이터를 가장 먼저 꺼낼 수 있는 구조\n",
    "  - FIFO(First-In, First-Out) 또는 LILO(Last-In, Last-Out) 방식으로 스택과 꺼내는 순서가 반대\n",
    "  \n",
    "<img src=\"https://www.fun-coding.org/00_Images/queue.png\" />\n",
    "\n",
    "* enqueue = insert\n",
    "* dequeue = delete\n",
    "\n",
    "<br>\n",
    "\n",
    "### 2. queue 라이브러리 이용하기\n"
   ]
  },
  {
   "cell_type": "code",
   "execution_count": 13,
   "metadata": {},
   "outputs": [
    {
     "data": {
      "text/plain": [
       "2"
      ]
     },
     "execution_count": 13,
     "metadata": {},
     "output_type": "execute_result"
    }
   ],
   "source": [
    "import queue\n",
    "data_queue = queue.Queue()\n",
    "data_queue.put(1)\n",
    "data_queue.put(2)\n",
    "data_queue.qsize()"
   ]
  },
  {
   "cell_type": "code",
   "execution_count": 14,
   "metadata": {},
   "outputs": [
    {
     "name": "stdout",
     "output_type": "stream",
     "text": [
      "1\n",
      "1\n"
     ]
    }
   ],
   "source": [
    "print(data_queue.get())\n",
    "print(data_queue.qsize())"
   ]
  },
  {
   "cell_type": "markdown",
   "metadata": {},
   "source": [
    "### 3. 변형된 큐 \n",
    "1. LifoQueue: LIFO를 따르는 큐 선언 (= 스택)\n",
    "2. PriorityQueue : 각 데이터마다 우선순위를 같이 넣는다. 넣는 순서에 따라서 데이터가 get되지 않고 우선순위에 따라서! "
   ]
  },
  {
   "cell_type": "code",
   "execution_count": 16,
   "metadata": {},
   "outputs": [
    {
     "data": {
      "text/plain": [
       "2"
      ]
     },
     "execution_count": 16,
     "metadata": {},
     "output_type": "execute_result"
    }
   ],
   "source": [
    "data_queue = queue.LifoQueue()\n",
    "data_queue.put(1)\n",
    "data_queue.put(2)\n",
    "data_queue.get()"
   ]
  },
  {
   "cell_type": "code",
   "execution_count": 20,
   "metadata": {},
   "outputs": [
    {
     "data": {
      "text/plain": [
       "(0, 'c')"
      ]
     },
     "execution_count": 20,
     "metadata": {},
     "output_type": "execute_result"
    }
   ],
   "source": [
    "data_queue = queue.PriorityQueue()\n",
    "data_queue.put((10, \"a\"))\n",
    "data_queue.put((1, \"b\"))\n",
    "data_queue.put((0, \"c\"))  # 우선순위가 가장 높다\n",
    "data_queue.get()"
   ]
  },
  {
   "cell_type": "markdown",
   "metadata": {},
   "source": [
    "참고) 큐의 쓰임\n",
    "- 멀티 태스킹을 위한 프로세스 스케쥴링 방식을 구현하기 위해 많이 이용됨 (활용 예로 프로세스 스케쥴링을 기억해놔!)\n",
    "<br>\n",
    "\n",
    "### 4. 리스트로 큐 만들기"
   ]
  },
  {
   "cell_type": "code",
   "execution_count": 21,
   "metadata": {},
   "outputs": [],
   "source": [
    "queue_list = list()\n",
    "def enqueue(data):\n",
    "    queue_list.append(data)\n",
    "    \n",
    "def dequeue():\n",
    "    data = queue_list[0]\n",
    "    del queue_list[0]\n",
    "    return data"
   ]
  },
  {
   "cell_type": "code",
   "execution_count": 22,
   "metadata": {},
   "outputs": [],
   "source": [
    "for i in range(10):\n",
    "    enqueue(i)"
   ]
  },
  {
   "cell_type": "code",
   "execution_count": 25,
   "metadata": {},
   "outputs": [
    {
     "name": "stdout",
     "output_type": "stream",
     "text": [
      "10\n",
      "0\n"
     ]
    }
   ],
   "source": [
    "print(len(queue_list))\n",
    "print(dequeue())   # 파라미터가 없는 함수여도, 내가 만든 함수여도 꼭 ()쓰기! "
   ]
  },
  {
   "cell_type": "markdown",
   "metadata": {},
   "source": [
    "##  ✅ STACK\n",
    "\n",
    "### 1. 스택 구조와 특징\n",
    "\n",
    "\n",
    "1) 스택은 LIFO(Last In, Fisrt Out) 또는 FILO(First In, Last Out) 데이터 관리 방식을 따름\n",
    "- LIFO: 마지막에 넣은 데이터를 가장 먼저 추출하는 데이터 관리 정책\n",
    "  \n",
    "  \n",
    "\n",
    "2) 대표적인 스택의 활용\n",
    "  - 컴퓨터 내부의 프로세스 구조의 함수 동작 방식\n",
    "\n",
    "\n",
    "\n",
    "3) 주요 기능\n",
    "  - push(): 데이터를 스택에 넣기\n",
    "  - pop(): 데이터를 스택에서 꺼내기\n",
    "  \n",
    "  \n",
    "  \n",
    "4) 장점\n",
    "  - 구조가 단순해서, 구현이 쉽다.\n",
    "  - 데이터 저장/읽기 속도가 빠르다.\n",
    "  \n",
    "  \n",
    "  \n",
    "5) 단점 (일반적인 스택 구현시) \n",
    "  - 데이터 최대 갯수를 미리 정해야 한다. \n",
    "  - 파이썬의 경우 재귀 함수는 1000번까지만 호출이 가능함\n",
    "  - 저장 공간의 낭비가 발생할 수 있음\n",
    "  - 미리 최대 갯수만큼 저장 공간을 확보해야 함\n",
    "\n",
    "\n",
    "> 스택은 단순하고 빠른 성능을 위해 사용되므로, 보통 배열 구조를 활용해서 구현하는 것이 일반적임.\n",
    "> 이 경우, 위에서 열거한 단점이 있을 수 있음"
   ]
  },
  {
   "cell_type": "markdown",
   "metadata": {},
   "source": [
    "### 2. 재귀 함수 "
   ]
  },
  {
   "cell_type": "markdown",
   "metadata": {},
   "source": [
    "<img src=\"stack_recursive.PNG\" />\n",
    "\n",
    "컴퓨터 내부의 프로세스 구조의 함수 동작 방식에서 스택이 사용된다.\n",
    "recursive 함수가 호출되면 0보다 클 때, print(data)로 숫자가 찍히고 recursive를 다시 호출한다. \n",
    "그 밑에 남은 print(\"returned\", data)는 스택에 쌓인다. \n"
   ]
  },
  {
   "cell_type": "code",
   "execution_count": 5,
   "metadata": {},
   "outputs": [],
   "source": [
    "def recursive(data):\n",
    "    if data < 0:\n",
    "        print (\"ended\")\n",
    "    else:\n",
    "        print(data)   \n",
    "        recursive(data - 1)\n",
    "        print(\"returned\", data)        "
   ]
  },
  {
   "cell_type": "code",
   "execution_count": 6,
   "metadata": {},
   "outputs": [
    {
     "name": "stdout",
     "output_type": "stream",
     "text": [
      "4\n",
      "3\n",
      "2\n",
      "1\n",
      "0\n",
      "ended\n",
      "returned 0\n",
      "returned 1\n",
      "returned 2\n",
      "returned 3\n",
      "returned 4\n"
     ]
    }
   ],
   "source": [
    "recursive(4)"
   ]
  },
  {
   "cell_type": "markdown",
   "metadata": {},
   "source": [
    "### 3. 리스트로 스택 만들기"
   ]
  },
  {
   "cell_type": "code",
   "execution_count": 1,
   "metadata": {},
   "outputs": [],
   "source": [
    "stack = list()\n",
    "\n",
    "def push(data):\n",
    "    stack.append(data)\n",
    "    \n",
    "def pop():\n",
    "    data = stack[-1]\n",
    "    del stack[-1]\n",
    "    return data"
   ]
  },
  {
   "cell_type": "code",
   "execution_count": 2,
   "metadata": {},
   "outputs": [],
   "source": [
    "for i in range(10):\n",
    "    push(i)"
   ]
  },
  {
   "cell_type": "code",
   "execution_count": 3,
   "metadata": {},
   "outputs": [
    {
     "name": "stdout",
     "output_type": "stream",
     "text": [
      "[0, 1, 2, 3, 4, 5, 6, 7, 8, 9]\n"
     ]
    }
   ],
   "source": [
    "print(stack)"
   ]
  },
  {
   "cell_type": "code",
   "execution_count": 4,
   "metadata": {},
   "outputs": [
    {
     "data": {
      "text/plain": [
       "9"
      ]
     },
     "execution_count": 4,
     "metadata": {},
     "output_type": "execute_result"
    }
   ],
   "source": [
    "stack.pop()"
   ]
  },
  {
   "cell_type": "markdown",
   "metadata": {},
   "source": [
    "## ✅ Linked List\n",
    "\n",
    "### 1. 링크드 리스트 구조\n",
    "\n",
    "<img src=\"https://www.fun-coding.org/00_Images/linkedlistadd.png\" />\n",
    "\n",
    "- 떨어진 곳에 존재하는 데이터를 화살표로 연결해서 관리하는 데이터 구조\n",
    "- C언어에서 배열은 선언할 때 부터 크기를 지정해줘야 해서 크기 지정이 유연한 링크드 리스트가 중요\n",
    "- 파이썬에서는 리스트도 크기가 처음부터 선언하지 않아도 된다. \n",
    "- 연결을 위한 별도의 데이터 공간이 필요함, 저장공간 효율이 높지 않음\n",
    "- 연결 정보를 찾는 시간이 필요하므로 접근 속도가 느림\n",
    "\n",
    "### 2. 링크드 리스트 이해 (class 이용)"
   ]
  },
  {
   "cell_type": "code",
   "execution_count": 13,
   "metadata": {},
   "outputs": [],
   "source": [
    "class Node:\n",
    "    def __init__(self, data):   #__init__()은 파이썬에서 생성자를 선언하는 문법, self는 클래스로 선언된 객체 자체\n",
    "        self.data = data\n",
    "        self.next = None"
   ]
  },
  {
   "cell_type": "code",
   "execution_count": 9,
   "metadata": {},
   "outputs": [],
   "source": [
    "class Node:\n",
    "    def __init__(self, data, next = None):   # next의 default는 None\n",
    "        self.data = data\n",
    "        self.next = next"
   ]
  },
  {
   "cell_type": "code",
   "execution_count": 14,
   "metadata": {},
   "outputs": [],
   "source": [
    "node1 = Node(1)\n",
    "node2 = Node(2)\n",
    "node1.next = node2\n",
    "head = node1"
   ]
  },
  {
   "cell_type": "code",
   "execution_count": 17,
   "metadata": {},
   "outputs": [],
   "source": [
    "# 링크드 리스트 구현\n",
    "class Node:\n",
    "    def __init__(self, data, next = None):\n",
    "        self.data = data\n",
    "        self.next = next\n",
    "\n",
    "# 노드 추가하는 함수 (연결)\n",
    "# 시작하는 지점을 node로 지정해줌 (멤버 함수가 아니기 때문에 그냥 전역변수로 node 선언해서 활용)\n",
    "def add(data):\n",
    "    node = head\n",
    "    while node.next:\n",
    "        node = node.next\n",
    "    node.next = Node(data)"
   ]
  },
  {
   "cell_type": "code",
   "execution_count": 18,
   "metadata": {},
   "outputs": [],
   "source": [
    "node1 = Node(1)\n",
    "haed = node1\n",
    "for i in range(1, 10):\n",
    "    add(i)"
   ]
  },
  {
   "cell_type": "code",
   "execution_count": 22,
   "metadata": {},
   "outputs": [
    {
     "name": "stdout",
     "output_type": "stream",
     "text": [
      "1\n",
      "2\n",
      "1\n",
      "2\n",
      "3\n",
      "4\n",
      "5\n",
      "6\n",
      "7\n",
      "8\n",
      "9\n"
     ]
    }
   ],
   "source": [
    "# 노드 순회 \n",
    "node = head\n",
    "while node.next:\n",
    "    print(node.data)\n",
    "    node = node.next\n",
    "print(node.data)"
   ]
  },
  {
   "cell_type": "markdown",
   "metadata": {},
   "source": [
    "### 3. 링크드 리스트 전체 구현 "
   ]
  },
  {
   "cell_type": "code",
   "execution_count": 44,
   "metadata": {},
   "outputs": [],
   "source": [
    "class Node: \n",
    "    def __init__(self, data, next = None):\n",
    "        self.data = data\n",
    "        self.next = next\n",
    "        \n",
    "class NodeMgmt:\n",
    "    def __init__(self, data):\n",
    "        self.head = Node(data)\n",
    "    def add(self, data):\n",
    "        if self.head =='':\n",
    "            self.head = Node(data)\n",
    "        else:\n",
    "            node = self.head\n",
    "            while node.next:\n",
    "                node = node.next\n",
    "            node.next = Node(data)\n",
    "    def desc(self):  # 순회하면서 출력 \n",
    "        node = self.head\n",
    "        while node:\n",
    "            print(node.data, end = ' ')\n",
    "            node = node.next\n",
    "    def delete(self, data):\n",
    "        if self.head == '':\n",
    "            print(\"해당 값을 가진 노드가 없습니다.\")\n",
    "            return\n",
    "        elif self.head.data == data:\n",
    "            temp = self.head\n",
    "            self.head = self.head.next\n",
    "            del temp\n",
    "        else:\n",
    "            node = self.head\n",
    "            while node.next:\n",
    "                if node.next.data == data:\n",
    "                    temp = node.next\n",
    "                    node.next = node.next.next\n",
    "                    del temp\n",
    "                    return\n",
    "                else:\n",
    "                    node = node.next"
   ]
  },
  {
   "cell_type": "code",
   "execution_count": 45,
   "metadata": {},
   "outputs": [
    {
     "name": "stdout",
     "output_type": "stream",
     "text": [
      "0 0 1 2 3 4 5 6 7 8 9 "
     ]
    }
   ],
   "source": [
    "linkedlist1 = NodeMgmt(0)\n",
    "linkedlist1.desc()\n",
    "\n",
    "for i in range(1,10):\n",
    "    linkedlist1.add(i)\n",
    "    \n",
    "linkedlist1.desc()"
   ]
  },
  {
   "cell_type": "code",
   "execution_count": 47,
   "metadata": {},
   "outputs": [
    {
     "name": "stdout",
     "output_type": "stream",
     "text": [
      "1 2 3 4 5 6 7 8 9 \n",
      "1\n"
     ]
    }
   ],
   "source": [
    "linkedlist1.delete(0)\n",
    "linkedlist1.desc()\n",
    "print()\n",
    "print(linkedlist1.head.data)"
   ]
  },
  {
   "cell_type": "markdown",
   "metadata": {},
   "source": [
    "### 4. 더블 링크드 리스트"
   ]
  }
 ],
 "metadata": {
  "kernelspec": {
   "display_name": "Python 3",
   "language": "python",
   "name": "python3"
  },
  "language_info": {
   "codemirror_mode": {
    "name": "ipython",
    "version": 3
   },
   "file_extension": ".py",
   "mimetype": "text/x-python",
   "name": "python",
   "nbconvert_exporter": "python",
   "pygments_lexer": "ipython3",
   "version": "3.7.2"
  }
 },
 "nbformat": 4,
 "nbformat_minor": 2
}
