{
 "cells": [
  {
   "cell_type": "markdown",
   "metadata": {},
   "source": [
    "# 1260. DFS와 BFS\n",
    "- 스택말고 재귀함수를 이용한 dfs도 기억해두기!!\n",
    "- 간선 저장 순서에 따라 달라지기 때문에 간선 순서 정렬한 후 탐색해야한다."
   ]
  },
  {
   "cell_type": "code",
   "execution_count": 50,
   "metadata": {},
   "outputs": [
    {
     "name": "stdout",
     "output_type": "stream",
     "text": [
      "0 0\n"
     ]
    },
    {
     "ename": "ValueError",
     "evalue": "not enough values to unpack (expected 3, got 2)",
     "output_type": "error",
     "traceback": [
      "\u001b[1;31m---------------------------------------------------------------------------\u001b[0m",
      "\u001b[1;31mValueError\u001b[0m                                Traceback (most recent call last)",
      "\u001b[1;32m<ipython-input-50-631f40482a7e>\u001b[0m in \u001b[0;36m<module>\u001b[1;34m\u001b[0m\n\u001b[0;32m      1\u001b[0m \u001b[1;32mfrom\u001b[0m \u001b[0mcollections\u001b[0m \u001b[1;32mimport\u001b[0m \u001b[0mdeque\u001b[0m\u001b[1;33m,\u001b[0m \u001b[0mdefaultdict\u001b[0m\u001b[1;33m\u001b[0m\u001b[1;33m\u001b[0m\u001b[0m\n\u001b[1;32m----> 2\u001b[1;33m \u001b[0mn\u001b[0m\u001b[1;33m,\u001b[0m \u001b[0mm\u001b[0m\u001b[1;33m,\u001b[0m \u001b[0mstart\u001b[0m \u001b[1;33m=\u001b[0m \u001b[0mmap\u001b[0m\u001b[1;33m(\u001b[0m\u001b[0mint\u001b[0m\u001b[1;33m,\u001b[0m \u001b[0minput\u001b[0m\u001b[1;33m(\u001b[0m\u001b[1;33m)\u001b[0m\u001b[1;33m.\u001b[0m\u001b[0msplit\u001b[0m\u001b[1;33m(\u001b[0m\u001b[1;33m)\u001b[0m\u001b[1;33m)\u001b[0m\u001b[1;33m\u001b[0m\u001b[1;33m\u001b[0m\u001b[0m\n\u001b[0m\u001b[0;32m      3\u001b[0m \u001b[1;33m\u001b[0m\u001b[0m\n\u001b[0;32m      4\u001b[0m \u001b[0mgraph\u001b[0m \u001b[1;33m=\u001b[0m \u001b[0mdefaultdict\u001b[0m\u001b[1;33m(\u001b[0m\u001b[0mlist\u001b[0m\u001b[1;33m)\u001b[0m\u001b[1;33m\u001b[0m\u001b[1;33m\u001b[0m\u001b[0m\n\u001b[0;32m      5\u001b[0m \u001b[1;32mfor\u001b[0m \u001b[0m_\u001b[0m \u001b[1;32min\u001b[0m \u001b[0mrange\u001b[0m\u001b[1;33m(\u001b[0m\u001b[0mm\u001b[0m\u001b[1;33m)\u001b[0m\u001b[1;33m:\u001b[0m\u001b[1;33m\u001b[0m\u001b[1;33m\u001b[0m\u001b[0m\n",
      "\u001b[1;31mValueError\u001b[0m: not enough values to unpack (expected 3, got 2)"
     ]
    }
   ],
   "source": [
    "from collections import deque, defaultdict\n",
    "n, m, start = map(int, input().split())\n",
    "\n",
    "graph = defaultdict(list)\n",
    "for _ in range(m):\n",
    "    a, b = map(int, input().split())\n",
    "    graph[a].append(b)\n",
    "    graph[b].append(a)\n",
    "# BFS\n",
    "visited = [0 for _ in range(n+1)]\n",
    "queue = deque()\n",
    "queue.append(start)\n",
    "bfs = []\n",
    "while queue:\n",
    "    temp = queue.popleft()\n",
    "    if visited[temp] == 0:\n",
    "        bfs.append(temp)\n",
    "        visited[temp] = 1\n",
    "        graph[temp].sort()\n",
    "        queue.extend(graph[temp])\n",
    "        \n",
    "# DFS\n",
    "# stack을 이용해도 되지만 재귀함수를 이용하겠음\n",
    "# 자기랑 연결된애 dfs 호출, 호출 \n",
    "visited = [0 for _ in range(n+1)]\n",
    "def dfs(start):\n",
    "    print(start, end = ' ')\n",
    "    visited[start] = 1\n",
    "    for item in graph[start]:\n",
    "        if visited[item] == 0:\n",
    "            dfs(item)\n",
    "            \n",
    "\n",
    "dfs(start)\n",
    "print()\n",
    "for item in bfs:\n",
    "    print(item, end = ' ')\n",
    "    "
   ]
  },
  {
   "cell_type": "markdown",
   "metadata": {},
   "source": [
    "# 1697. 숨바꼭질 \n",
    "- 이동 가능한 위치를 연결된 노드라고 두고 풀이 "
   ]
  },
  {
   "cell_type": "code",
   "execution_count": 53,
   "metadata": {},
   "outputs": [
    {
     "name": "stdout",
     "output_type": "stream",
     "text": [
      "100000 1\n",
      "99999\n"
     ]
    }
   ],
   "source": [
    "from collections import deque\n",
    "x, y = map(int, input().split())\n",
    "\n",
    "queue = deque()\n",
    "queue.append(x)\n",
    "100000\n",
    "visited = [0 for _ in range(100001)]\n",
    "visited[x] = 1\n",
    "while queue:\n",
    "    temp = queue.popleft()\n",
    "    if temp == y:\n",
    "        break\n",
    "    else:\n",
    "        cnt = visited[temp]+1\n",
    "        a = temp-1\n",
    "        b = temp+1\n",
    "        c = temp*2\n",
    "        if 0 <= a <= 100000 and visited[a] == 0 :\n",
    "            queue.append(a)\n",
    "            visited[a] = cnt\n",
    "        if 0 <= b <= 100000 and visited[b] == 0 :\n",
    "            queue.append(b)\n",
    "            visited[b] = cnt\n",
    "        if 0 <= c <= 100000 and visited[c] == 0 :\n",
    "            queue.append(c)\n",
    "            visited[c] = cnt\n",
    "print(visited[y]-1)"
   ]
  },
  {
   "cell_type": "markdown",
   "metadata": {},
   "source": [
    "# 2606. 바이러스"
   ]
  },
  {
   "cell_type": "code",
   "execution_count": 61,
   "metadata": {},
   "outputs": [
    {
     "name": "stdout",
     "output_type": "stream",
     "text": [
      "7\n",
      "6\n",
      "1 2\n",
      "2 3\n",
      "1 5\n",
      "5 2\n",
      "5 6\n",
      "4 7\n",
      "5\n"
     ]
    }
   ],
   "source": [
    "n = int(input())\n",
    "m = int(input())\n",
    "graph = [[] for _ in range(n+1)]\n",
    "graph\n",
    "for _ in range(m):\n",
    "    a, b = map(int, input().split())\n",
    "    graph[a].append(b)\n",
    "    graph[b].append(a)\n",
    "\n",
    "array = []\n",
    "def dfs(start):\n",
    "    array.append(start)\n",
    "    for item in graph[start]:\n",
    "        if item not in array:\n",
    "            dfs(item)\n",
    "dfs(1)\n",
    "print(len(array)-1)"
   ]
  },
  {
   "cell_type": "markdown",
   "metadata": {},
   "source": [
    "# 1012. 유기농 배추\n",
    "- 여기선 bfs순서가 중요한게 아니니까 그냥 stack, dfs로 구현하자\n",
    "- deque를 사용하는게 pop(0)보단 시간이 덜걸리지만 pop()만큼은 아니다!"
   ]
  },
  {
   "cell_type": "code",
   "execution_count": 76,
   "metadata": {},
   "outputs": [
    {
     "name": "stdout",
     "output_type": "stream",
     "text": [
      "1\n",
      "5 3 6\n",
      "0 2\n",
      "1 2\n",
      "2 2\n",
      "3 2\n",
      "4 2\n",
      "4 0\n",
      "2\n"
     ]
    }
   ],
   "source": [
    "# from collections import deque\n",
    "testCase = int(input())\n",
    "for _ in range(testCase):\n",
    "    m, n, k = map(int, input().split())\n",
    "    table = [[0] * n for _ in range(m)]\n",
    "    array = []\n",
    "    for _ in range(k):\n",
    "        a, b = map(int, input().split())\n",
    "        array.append((a,b))\n",
    "        table[a][b] = 1\n",
    "\n",
    "    def bfs(x, y):\n",
    "        queue = []\n",
    "        queue.append((x,y))\n",
    "        while queue:\n",
    "            a, b = queue.pop()\n",
    "            table[a][b] = 0\n",
    "            if a-1 >= 0 and table[a-1][b] == 1:\n",
    "                queue.append((a-1, b))\n",
    "            if a+1 < m and table[a+1][b] == 1:\n",
    "                queue.append((a+1, b))\n",
    "            if b-1 >= 0 and table[a][b-1] == 1:\n",
    "                queue.append((a, b-1))\n",
    "            if b+1 < n and table[a][b+1] == 1:\n",
    "                queue.append((a, b+1))\n",
    "    cnt = 0\n",
    "    for x, y in array:\n",
    "        if table[x][y] == 1:\n",
    "            bfs(x, y)\n",
    "            cnt += 1\n",
    "    print(cnt)"
   ]
  },
  {
   "cell_type": "markdown",
   "metadata": {},
   "source": [
    "# 1325. 효율적인 해킹"
   ]
  },
  {
   "cell_type": "code",
   "execution_count": 97,
   "metadata": {},
   "outputs": [
    {
     "name": "stdout",
     "output_type": "stream",
     "text": [
      "5 4\n",
      "3 1\n",
      "3 2\n",
      "4 3\n",
      "5 3\n",
      "1 2 "
     ]
    }
   ],
   "source": [
    "# from collections import deque\n",
    "def dfs(start):\n",
    "    visited = [0 for _ in range(n+1)]\n",
    "    queue = []\n",
    "    queue.append(start)\n",
    "    cnt = 1\n",
    "    visited[start] = 1\n",
    "    while queue:\n",
    "        temp = queue.pop()\n",
    "        for item in graph[temp]:\n",
    "            if visited[item] == 0:\n",
    "                queue.append(item)\n",
    "                visited[item] = 1\n",
    "                cnt += 1\n",
    "    return cnt\n",
    "\n",
    "n,m = map(int, input().split())\n",
    "graph = [[] for _ in range(n+1)]\n",
    "for _ in range(m):\n",
    "    a, b = map(int, input().split())\n",
    "    graph[b].append(a)\n",
    "    \n",
    "comNo = []\n",
    "maxCnt = 0\n",
    "for i in range(1, n+1):\n",
    "    temp = dfs(i)\n",
    "    if  maxCnt < temp:\n",
    "        comNo = [i]\n",
    "        maxCnt = temp\n",
    "    elif maxCnt == temp:\n",
    "        comNo.append(i)\n",
    "for item in comNo:\n",
    "    print(item, end= ' ')"
   ]
  },
  {
   "cell_type": "code",
   "execution_count": null,
   "metadata": {},
   "outputs": [],
   "source": [
    "def dfs(start):\n",
    "    visited = [0 for _ in range(n+1)]\n",
    "    queue = []\n",
    "    queue.append(start)\n",
    "    cnt = 0\n",
    "    while queue:\n",
    "        temp = queue.pop()\n",
    "        cnt += 1\n",
    "        visited[temp] = 1\n",
    "        for item in graph[temp]:\n",
    "            if visited[item] == 0:\n",
    "                queue.append(item)\n",
    "    return cnt\n",
    "\n",
    "n,m = map(int, input().split())\n",
    "graph = [[] for _ in range(n+1)]\n",
    "for _ in range(m):\n",
    "    a, b = map(int, input().split())\n",
    "    graph[b].append(a)\n",
    "    \n",
    "comNo = []\n",
    "maxCnt = 0\n",
    "for i in range(1, n+1):\n",
    "    temp = dfs(i)\n",
    "    if  maxCnt < temp:\n",
    "        comNo = [i]\n",
    "        maxCnt = temp\n",
    "    elif maxCnt == temp:\n",
    "        comNo.append(i)\n",
    "for item in comNo:\n",
    "    print(item, end= ' ')"
   ]
  },
  {
   "cell_type": "markdown",
   "metadata": {},
   "source": [
    "# 10282 해킹\n",
    "- 간선에 weight가 주어진다 \n",
    "- 가장 거리가 먼 노드의 거리를 구하는 것 -> 최단 경로 \n",
    "- 이런 경우의 탐색은 다익스트라를 이용한다. "
   ]
  },
  {
   "cell_type": "code",
   "execution_count": 34,
   "metadata": {},
   "outputs": [
    {
     "name": "stdout",
     "output_type": "stream",
     "text": [
      "2\n",
      "3 2 2\n",
      "2 1 5\n",
      "3 2 5\n",
      "2 5\n",
      "3 3 1\n",
      "2 1 2\n",
      "3 1 8\n",
      "3 2 4\n",
      "3 6\n"
     ]
    }
   ],
   "source": [
    "import heapq\n",
    "test_case = int(input())\n",
    "for _ in range(test_case):\n",
    "    n, d, c = map(int, input().split())\n",
    "    graph = [[] for _ in range(n+1)]\n",
    "    for i in range(d):\n",
    "        a, b, s = map(int, input().split())\n",
    "        graph[b].append((s, a))\n",
    "\n",
    "    queue = []\n",
    "    heapq.heappush(queue, (0, c))\n",
    "    distances = [float('inf') for _ in range(n+1)]\n",
    "    distances[c] = 0\n",
    "    while queue:\n",
    "        cS, cNode = heapq.heappop(queue)\n",
    "        if cS <= distances[cNode]:\n",
    "            for s, a in graph[cNode]:\n",
    "                dis = cS + s\n",
    "                if distances[a] > dis:\n",
    "                    distances[a] = dis\n",
    "                    heapq.heappush(queue, (dis, a))\n",
    "\n",
    "    cnt = 0\n",
    "    time = 0\n",
    "    for item in distances:\n",
    "        if item != float('inf'):\n",
    "            cnt += 1\n",
    "            if time < item:\n",
    "                time = item\n",
    "    print(cnt, time)\n"
   ]
  },
  {
   "cell_type": "markdown",
   "metadata": {},
   "source": [
    "# 🔺 5719. 거의 최단 경로\n",
    "- 처음에 문제이해 잘못한 부분 : 나는 그냥 제일 최단 말고 그 다음 짧은 거리 구하는 줄알았는데, 제일 짧은 경로에서 사용된 도로를 제외하고 구할 수 있는 제일 짧은 거리이다.\n",
    "- \"이 경로는 최단 경로에 포함되지 않은 도로로 이루어진 경로 중 가장 짧은 경로이다.\"\n",
    "- 때문에 그냥 dijskstra로 최단 경로 구한 다음에 그 때 사용된 간선들 다 제거 -> 이후 dijkstra 다시 실행해서 구해서 나온 경로가 거의 최단 경로가 된다. "
   ]
  },
  {
   "cell_type": "code",
   "execution_count": null,
   "metadata": {},
   "outputs": [],
   "source": [
    "# 내가 구현한 역추적 방법\n",
    " # 역추적\n",
    "    while dijk[end][0] == minDistance:\n",
    "        dijk[end]\n",
    "        u = dijk[end][1]\n",
    "        temp = end\n",
    "        while temp != start:\n",
    "            dropped[u][temp] = True\n",
    "            temp = u\n",
    "            u = dijk[temp][1]\n",
    "\n",
    "        dijk = dijkstra()     \n",
    "# dijkstra가 2중 포문인데 while문안에 들어가서 3중 포문 -> 당연히 시간초과\n",
    "# 방법: dijk에 반환된 직전 노드 하나씩 찾는거를 이용하지 말고\n",
    "# graph에 있는 노드들을 방문하면서 구하자! \n",
    "# graph에서 end가 역으로 연결되어 있는 u중 end~u + dijk[u] = dijk[end]인 경로 찾기\n",
    "# dijkstra은 반드시 두번만 실행하자!!"
   ]
  },
  {
   "cell_type": "code",
   "execution_count": 8,
   "metadata": {
    "scrolled": true
   },
   "outputs": [
    {
     "name": "stdout",
     "output_type": "stream",
     "text": [
      "4 6 \n",
      "0 2\n",
      "0 1 1\n",
      "1 2 1\n",
      "1 3 1\n",
      "3 2 1\n",
      "2 0 3\n",
      "3 0 2\n",
      "-1\n",
      "6 8\n",
      "0 1\n",
      "0 1 1\n",
      "0 2 2\n",
      "0 3 3\n",
      "2 5 3\n",
      "3 4 2\n",
      "4 1 1\n",
      "5 1 1\n",
      "3 0 1\n",
      "6\n",
      "00\n"
     ]
    },
    {
     "ename": "ValueError",
     "evalue": "not enough values to unpack (expected 2, got 1)",
     "output_type": "error",
     "traceback": [
      "\u001b[1;31m---------------------------------------------------------------------------\u001b[0m",
      "\u001b[1;31mValueError\u001b[0m                                Traceback (most recent call last)",
      "\u001b[1;32m<ipython-input-8-dcf77a52088f>\u001b[0m in \u001b[0;36m<module>\u001b[1;34m\u001b[0m\n\u001b[0;32m     57\u001b[0m         \u001b[0mprint\u001b[0m\u001b[1;33m(\u001b[0m\u001b[0mdijk\u001b[0m\u001b[1;33m[\u001b[0m\u001b[0mend\u001b[0m\u001b[1;33m]\u001b[0m\u001b[1;33m)\u001b[0m\u001b[1;33m\u001b[0m\u001b[1;33m\u001b[0m\u001b[0m\n\u001b[0;32m     58\u001b[0m \u001b[1;33m\u001b[0m\u001b[0m\n\u001b[1;32m---> 59\u001b[1;33m     \u001b[0mn\u001b[0m\u001b[1;33m,\u001b[0m \u001b[0mm\u001b[0m \u001b[1;33m=\u001b[0m \u001b[0mmap\u001b[0m\u001b[1;33m(\u001b[0m\u001b[0mint\u001b[0m\u001b[1;33m,\u001b[0m \u001b[0minput\u001b[0m\u001b[1;33m(\u001b[0m\u001b[1;33m)\u001b[0m\u001b[1;33m.\u001b[0m\u001b[0msplit\u001b[0m\u001b[1;33m(\u001b[0m\u001b[1;33m)\u001b[0m\u001b[1;33m)\u001b[0m\u001b[1;33m\u001b[0m\u001b[1;33m\u001b[0m\u001b[0m\n\u001b[0m",
      "\u001b[1;31mValueError\u001b[0m: not enough values to unpack (expected 2, got 1)"
     ]
    }
   ],
   "source": [
    "import heapq\n",
    "from collections import deque\n",
    "# import sys\n",
    "# input = sys.stdin.readline\n",
    "\n",
    "def dijkstra():\n",
    "    dijk = [float('inf') for _ in range(n)]\n",
    "    queue = []\n",
    "    dijk[start] = 0\n",
    "    heapq.heappush(queue, (0, start))\n",
    "    while queue:\n",
    "        nowDistance, now = heapq.heappop(queue)\n",
    "        for p, node in graph[now]:\n",
    "            distance = nowDistance + p\n",
    "            if distance <= dijk[node] and not dropped[now][node]:\n",
    "                dijk[node] = distance\n",
    "                heapq.heappush(queue, (distance, node))\n",
    "    return dijk\n",
    "\n",
    "def bfs():\n",
    "    q = deque()\n",
    "    q.append(end)\n",
    "    while q:\n",
    "        now = q.popleft()\n",
    "        if now == start:\n",
    "            continue\n",
    "        for cost, prev in reverseGraph[now]:\n",
    "            if dijk[now] == dijk[prev] + cost:\n",
    "                dropped[prev][now] = True\n",
    "                q.append(prev)\n",
    "\n",
    "n, m = map(int, input().split())\n",
    "while n!= 0 or m!=0:\n",
    "    # 그래프 입력받기 \n",
    "    start, end = map(int, input().split())\n",
    "    graph = [[] for _ in range(n)]\n",
    "    reverseGraph = [[] for _ in range(n)]\n",
    "    for _ in range(m):\n",
    "        u,v,p = map(int, input().split())\n",
    "        graph[u].append([p,v])\n",
    "        reverseGraph[v].append([p,u])\n",
    "\n",
    "    # 첫 dijkstra\n",
    "    dropped = [[False] * n for _ in range(n)]\n",
    "    dijk = dijkstra() \n",
    "\n",
    "    # 역추적 \n",
    "    bfs()\n",
    "    \n",
    "    # 다시 dijkstra\n",
    "    dijk = dijkstra()\n",
    "    \n",
    "    # 결과 출력 \n",
    "    if dijk[end] == float('inf'):\n",
    "        print(-1)\n",
    "    else:\n",
    "        print(dijk[end])\n",
    "\n",
    "    n, m = map(int, input().split())"
   ]
  },
  {
   "cell_type": "markdown",
   "metadata": {},
   "source": [
    "# 🔺1174. 우주신과의 교감"
   ]
  },
  {
   "cell_type": "code",
   "execution_count": 52,
   "metadata": {},
   "outputs": [],
   "source": [
    "mygraph = {\n",
    "    'vertices': ['A', 'B', 'C', 'D', 'E', 'F', 'G'],\n",
    "    'edges': [ # 중복 포함 (정렬하려고 맨앞에 weight로 저렇게 표현함 )\n",
    "        (7, 'A', 'B'),\n",
    "        (5, 'A', 'D'),\n",
    "        (7, 'B', 'A'),\n",
    "        (8, 'B', 'C'),\n",
    "        (9, 'B', 'D'),\n",
    "        (7, 'B', 'E'),\n",
    "        (8, 'C', 'B'),\n",
    "        (5, 'C', 'E'),\n",
    "        (5, 'D', 'A'),\n",
    "        (9, 'D', 'B'),\n",
    "        (7, 'D', 'E'),\n",
    "        (6, 'D', 'F'),\n",
    "        (7, 'E', 'B'),\n",
    "        (5, 'E', 'C'),\n",
    "        (7, 'E', 'D'),\n",
    "        (8, 'E', 'F'),\n",
    "        (9, 'E', 'G'),\n",
    "        (6, 'F', 'D'),\n",
    "        (8, 'F', 'E'),\n",
    "        (11, 'F', 'G'),\n",
    "        (9, 'G', 'E'),\n",
    "        (11, 'G', 'F')\n",
    "    ]\n",
    "}"
   ]
  },
  {
   "cell_type": "code",
   "execution_count": 55,
   "metadata": {},
   "outputs": [],
   "source": [
    "parent = dict()\n",
    "rank = dict()\n",
    "\n",
    "def make_set(node):\n",
    "    parent[node] = node\n",
    "    rank[node] = 0\n",
    "\n",
    "# find함수는 루트 노드를 찾아주기도 하고, 조사한 모든 노드의 부모 노드를 루트노드로 만드는 역할을 한다. \n",
    "def find(node):\n",
    "    if parent[node] != node:\n",
    "        parent[node] = find(parent[node]) # 루트 노드가 아니라면 부모 노드를 모두 루트로\n",
    "    return parent[node]\n",
    "\n",
    "def union(u, v):\n",
    "    root1 = find(u)\n",
    "    root2 = find(v)\n",
    "    if rank[root1] > rank[root2]:\n",
    "        parent[root2] = root1\n",
    "    else:\n",
    "        parent[root1] = root2\n",
    "        if rank[root1] == rank[root2]:\n",
    "            rank[root2] += 1\n",
    "    \n",
    "    \n",
    "def kruskal(graph):\n",
    "    mst = list()\n",
    "    # 초기화\n",
    "    for node in graph['vertices']:\n",
    "        make_set(node)\n",
    "    \n",
    "    # 간선마다 돌아가면서 연결할 건데, weight 작은 것부터 처리하도록\n",
    "    edges = graph['edges']\n",
    "    edges.sort()\n",
    "    \n",
    "    # union-find\n",
    "    # find해서 root가 서로 다르면 합친다. \n",
    "    for edge in edges:\n",
    "        w,u,v = edge\n",
    "#         print(find(u), find(v))\n",
    "        if find(u) != find(v):\n",
    "            union(u, v)\n",
    "            mst.append(edge)\n",
    "            \n",
    "    return mst\n",
    " "
   ]
  },
  {
   "cell_type": "code",
   "execution_count": 56,
   "metadata": {},
   "outputs": [
    {
     "data": {
      "text/plain": [
       "[(5, 'A', 'D'),\n",
       " (5, 'C', 'E'),\n",
       " (6, 'D', 'F'),\n",
       " (7, 'A', 'B'),\n",
       " (7, 'B', 'E'),\n",
       " (9, 'E', 'G')]"
      ]
     },
     "execution_count": 56,
     "metadata": {},
     "output_type": "execute_result"
    }
   ],
   "source": [
    "kruskal(mygraph)"
   ]
  },
  {
   "cell_type": "code",
   "execution_count": 33,
   "metadata": {},
   "outputs": [
    {
     "data": {
      "text/plain": [
       "{'A': 'D', 'B': 'B', 'C': 'E', 'D': 'D', 'E': 'E', 'F': 'D', 'G': 'G'}"
      ]
     },
     "execution_count": 33,
     "metadata": {},
     "output_type": "execute_result"
    }
   ],
   "source": [
    "parent"
   ]
  },
  {
   "cell_type": "code",
   "execution_count": 36,
   "metadata": {},
   "outputs": [
    {
     "name": "stdout",
     "output_type": "stream",
     "text": [
      "4 1\n",
      "1 1\n",
      "3 1\n",
      "2 3\n",
      "4 3\n",
      "1 4\n",
      "4.00\n"
     ]
    }
   ],
   "source": [
    "import math\n",
    "def get_distance(p1, p2):\n",
    "    result = (p1[0]-p2[0])**2 + (p1[1]-p2[1])**2\n",
    "    return math.sqrt(result)\n",
    "\n",
    "def find(node):\n",
    "    if node != parent[node]:\n",
    "        parent[node] = find(parent[node])\n",
    "    return parent[node]\n",
    "    \n",
    "def union(u, v):\n",
    "    root1 = find(u)\n",
    "    root2 = find(v)\n",
    "    if rank[root1] > rank[root2]:\n",
    "        parent[root2] = root1\n",
    "    else:\n",
    "        parent[root1] = root2\n",
    "        if rank[root1] == rank[root2]:\n",
    "            rank[root2] += 1\n",
    "    \n",
    "\n",
    "n,m = map(int, input().split())\n",
    "vertex = [i for i in range(1, n+1)]\n",
    "location = [[] for _ in range(n+1)]\n",
    "for i in range(1, n+1):\n",
    "    x, y = map(int,input().split())\n",
    "    location[i] =[x,y]\n",
    "\n",
    "# 모든 노드에 대하여 가능한 간선 추가 \n",
    "edges = []\n",
    "for i in range(1, n):\n",
    "    for j in range(i+1, n+1):\n",
    "        edges.append((get_distance(location[i], location[j]), i, j))\n",
    "\n",
    "# 초기화 \n",
    "parent = dict()\n",
    "rank = dict()\n",
    "for item in vertex:\n",
    "    parent[item] = item\n",
    "    rank[item] = 0\n",
    "\n",
    "#정렬\n",
    "edges.sort()\n",
    "\n",
    "for i in range(m):\n",
    "    a, b = map(int, input().split())\n",
    "    union(a, b)\n",
    "    \n",
    "# 연결\n",
    "result = 0\n",
    "for edge in edges:\n",
    "    distance, u, v = edge\n",
    "    if find(u) != find(v):\n",
    "        result += distance\n",
    "        union(u, v)\n",
    "print(\"%0.2f\"%result)"
   ]
  }
 ],
 "metadata": {
  "kernelspec": {
   "display_name": "Python 3",
   "language": "python",
   "name": "python3"
  },
  "language_info": {
   "codemirror_mode": {
    "name": "ipython",
    "version": 3
   },
   "file_extension": ".py",
   "mimetype": "text/x-python",
   "name": "python",
   "nbconvert_exporter": "python",
   "pygments_lexer": "ipython3",
   "version": "3.7.2"
  }
 },
 "nbformat": 4,
 "nbformat_minor": 2
}
