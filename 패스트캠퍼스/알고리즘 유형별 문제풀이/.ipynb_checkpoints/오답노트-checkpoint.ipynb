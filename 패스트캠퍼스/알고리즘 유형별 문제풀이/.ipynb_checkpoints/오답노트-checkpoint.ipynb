{
 "cells": [
  {
   "cell_type": "code",
   "execution_count": 13,
   "metadata": {},
   "outputs": [
    {
     "name": "stdout",
     "output_type": "stream",
     "text": [
      "5\n",
      "1\n",
      "2\n",
      "5\n",
      "3\n",
      "4\n",
      "NO\n"
     ]
    }
   ],
   "source": [
    "n = int(input())\n",
    "array = []\n",
    "for _ in range(n):\n",
    "    array.append(int(input()))\n",
    "    \n",
    "def stack():\n",
    "    result = []\n",
    "    stack = []\n",
    "    now = 1\n",
    "    for temp in array:\n",
    "        while True:\n",
    "            if now <= temp:\n",
    "                result.append('+')\n",
    "                stack.append(now)\n",
    "                now += 1\n",
    "            else:\n",
    "                if len(stack) > 0:\n",
    "                    if stack.pop() != temp:\n",
    "                        result = ['NO']\n",
    "                        return result\n",
    "                    else:\n",
    "                        result.append('-')\n",
    "                        break\n",
    "    return result\n",
    "a = stack()\n",
    "for item in a:\n",
    "    print(item)"
   ]
  }
 ],
 "metadata": {
  "kernelspec": {
   "display_name": "Python 3",
   "language": "python",
   "name": "python3"
  },
  "language_info": {
   "codemirror_mode": {
    "name": "ipython",
    "version": 3
   },
   "file_extension": ".py",
   "mimetype": "text/x-python",
   "name": "python",
   "nbconvert_exporter": "python",
   "pygments_lexer": "ipython3",
   "version": "3.7.2"
  }
 },
 "nbformat": 4,
 "nbformat_minor": 2
}
