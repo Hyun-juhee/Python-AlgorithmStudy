{
 "cells": [
  {
   "cell_type": "markdown",
   "metadata": {},
   "source": [
    "# 1904. 01타일\n",
    "- 전형적인 동적 프로그래밍 문제! \n",
    "- memorization 기법을 사용한다. (부분 문제의 해답을 저장해서 재활용)\n",
    "- memory error가 난이유 : %15746을 안해줬다, 숫자가 너무 커서 print하고 저장할 때 메모리 에러!! \n",
    "- 문제 잘읽자"
   ]
  },
  {
   "cell_type": "markdown",
   "metadata": {},
   "source": [
    "<img src=\"./1904.PNG\" />"
   ]
  },
  {
   "cell_type": "code",
   "execution_count": 6,
   "metadata": {},
   "outputs": [
    {
     "name": "stdout",
     "output_type": "stream",
     "text": [
      "5\n",
      "8\n"
     ]
    }
   ],
   "source": [
    "n = int(input())\n",
    "cache = [0] * 1000001 # * (n+1) 안한 이유 : n에 관계없이 1, 2는 저장하려고 (if문 안쓰고)\n",
    "cache[1] = 1\n",
    "cache[2] = 2\n",
    "for i in range(3,n+1):\n",
    "    cache[i] = (cache[i-1] + cache[i-2]) % 15746\n",
    "print(cache[n])"
   ]
  },
  {
   "cell_type": "markdown",
   "metadata": {},
   "source": [
    "# 🔺🔺12865. 평범한 배낭\n",
    "- 다이나믹 프로그래밍으로 구현한다.\n",
    "- 다이나믹은 대부분  배열, 이차원 배열을 이용한다.\n",
    "- 자료 구조 설계가 가장 어렵다!\n",
    "- 이 문제유형은 외워둘것!\n",
    "- 모든 짐에 대해서 최대치 구하기 (i, 각행)\n",
    "- 무게의 합은 j\n",
    "- `dp[i][j]`는 무개가 j일 때 최대 가치 \n",
    "- i <= n\n",
    "- j <= k\n",
    "<img src=\"./12865.PNG\" />\n",
    "<img src=\"./12865_1.PNG\" />"
   ]
  },
  {
   "cell_type": "code",
   "execution_count": 15,
   "metadata": {},
   "outputs": [
    {
     "name": "stdout",
     "output_type": "stream",
     "text": [
      "4 7\n",
      "6 13\n",
      "4 8\n",
      "3 6\n",
      "5 12\n",
      "14\n"
     ]
    }
   ],
   "source": [
    "n, k = map(int, input().split())\n",
    "# dp선언 \n",
    "dp = [[0] * (k+1) for _ in range(n+1)]\n",
    "for i in range(1, n+1):\n",
    "    weight, value = map(int, input().split())\n",
    "    for j in range(1, k+1):\n",
    "        if j <weight:\n",
    "            dp[i][j] = dp[i-1][j]\n",
    "        else:\n",
    "            dp[i][j] = max(dp[i-1][j], dp[i-1][j-weight] + value)\n",
    "print(dp[n][k])"
   ]
  },
  {
   "cell_type": "code",
   "execution_count": 14,
   "metadata": {},
   "outputs": [
    {
     "name": "stdout",
     "output_type": "stream",
     "text": [
      "[[0, 0, 0, 0, 0, 0, 0, 0], [0, 0, 0, 0, 0, 0, 13, 13], [0, 0, 0, 0, 8, 8, 13, 13], [0, 0, 0, 6, 8, 8, 13, 14], [0, 0, 0, 6, 8, 12, 13, 14]]\n"
     ]
    }
   ],
   "source": [
    "print(dp)"
   ]
  },
  {
   "cell_type": "markdown",
   "metadata": {},
   "source": [
    "# 🔺🔺11053 가장 긴 증가하는 부분 수열\n",
    "- dp에 각 순서를 저장할거야\n",
    "- 만약에 긴 부분집합에서 탈락한 애는 그냥 1\n",
    "- 순서대로 앞에거 보다 크면 앞에거의 dp값 + 1\n",
    "- 앞에거 중에서 제일 작으면 그냥 그대로 1\n",
    "- array에 앞에 있는 원소 중, 자기보다 작은 원소 + 1한 값을 저장 \n",
    "<img src=\"./11053.PNG\" />\n",
    "- 그림에서 i = 3 일 때, j=1과 비교했을 때 더크니까 1+1, j=2와 비교했을 때도 더 크니까 2+1, j=3과 비교 했을 때도 더 큰데 이때 1+1을 하는 것보다 이미 i자리에 있는 값이 더 커서 그값으로 -> 이런 경우를 위해 `max(dp[i]. dp[j]+1)`비교가 필요하다."
   ]
  },
  {
   "cell_type": "code",
   "execution_count": 27,
   "metadata": {},
   "outputs": [
    {
     "name": "stdout",
     "output_type": "stream",
     "text": [
      "5\n",
      "5 1 2 3 4\n",
      "[1, 1, 2, 3, 4]\n"
     ]
    }
   ],
   "source": [
    "n = int(input())\n",
    "array = list(map(int, input().split())) # 입력받은 배열 순서대로 (10, 20, 10, 30, 20, 50)\n",
    "dp = [1]*n # 순서대로 각 원소의 순서? 부분집합 크기?\n",
    "for i in range(1,n): #맨앞은 할 필요 X\n",
    "    for j in range(0, i):\n",
    "        if array[j] < array[i]:\n",
    "            dp[i] = max(dp[i], dp[j]+1) \n",
    "print(dp)"
   ]
  },
  {
   "cell_type": "markdown",
   "metadata": {},
   "source": [
    "# 🔺🔺9251. LCS\n",
    "\n",
    "- 구조는 잘 잡았으나 아이디어가 틀렸다\n",
    "- 대각선 위에 있는 애와 비교한다는 것을 알아냈으면, 바로 대각선 위가 아닐 경우를 위해서, 뒤에 것들을 채워 넣어야 함도 알아야한다.\n",
    "- point는 `dp[i][j] = max(dp[i][j-1], dp[i-1][j])`"
   ]
  },
  {
   "cell_type": "code",
   "execution_count": 51,
   "metadata": {},
   "outputs": [
    {
     "name": "stdout",
     "output_type": "stream",
     "text": [
      "acac\n",
      "acc\n",
      "2\n"
     ]
    }
   ],
   "source": [
    "# 내가짠 틀린 코드\n",
    "array = input()\n",
    "n = len(array)\n",
    "array2 = input()\n",
    "k = len(array2)\n",
    "\n",
    "dp = [[0] * n for _ in range(k+1)]\n",
    "for i in range(1, k+1):\n",
    "    Max = 0\n",
    "    for j in range(n):\n",
    "        if array2[i-1] == array[j]:\n",
    "            dp[i][j] = Max + 1\n",
    "        else:\n",
    "            dp[i][j] = dp[i-1][j]\n",
    "            Max = max(Max, dp[i-1][j])\n",
    "\n",
    "result = 0\n",
    "for item in dp[k]:\n",
    "    result = max(result, item)\n",
    "print(result)"
   ]
  },
  {
   "cell_type": "code",
   "execution_count": 58,
   "metadata": {},
   "outputs": [
    {
     "name": "stdout",
     "output_type": "stream",
     "text": [
      "3 5 10\n",
      "5 3 7\n",
      "2\n"
     ]
    }
   ],
   "source": [
    "x = input()\n",
    "y = input()\n",
    "\n",
    "dp = [[0]*(len(y)+1) for _ in range(len(x)+1)]\n",
    "\n",
    "for i in range(1, len(x)+1):\n",
    "    for j in range(1, len(y)+1):\n",
    "        if x[i-1] == y[j-1]:\n",
    "            dp[i][j] = dp[i-1][j-1] + 1\n",
    "        else:\n",
    "            dp[i][j] = max(dp[i][j-1], dp[i-1][j])\n",
    "print(dp[len(x)][len(y)])"
   ]
  },
  {
   "cell_type": "code",
   "execution_count": null,
   "metadata": {},
   "outputs": [],
   "source": [
    "n, s, m = map(int, input().split())\n",
    "v = list(map(int, input().split()))\n",
    "dp = [[] for _ in range(n+1)]\n",
    "dp[0].append(s)\n",
    "for i in range(1, n+1):\n",
    "    for j in range(len(dp[i-1])):\n",
    "        vol1 = dp[i-1][j] - v[i-1]\n",
    "        if vol1 > 0 and vol1 < m:\n",
    "            dp[i].append(vol1)\n",
    "        vol1 = dp[i-1][j] - v[i-1]\n",
    "        if vol1 > 0 and vol1 < m:\n",
    "            dp[i].append(vol1)"
   ]
  },
  {
   "cell_type": "code",
   "execution_count": 55,
   "metadata": {},
   "outputs": [
    {
     "data": {
      "text/plain": [
       "[[], [], []]"
      ]
     },
     "execution_count": 55,
     "metadata": {},
     "output_type": "execute_result"
    }
   ],
   "source": [
    "[[] for i in range(3)]"
   ]
  }
 ],
 "metadata": {
  "kernelspec": {
   "display_name": "Python 3",
   "language": "python",
   "name": "python3"
  },
  "language_info": {
   "codemirror_mode": {
    "name": "ipython",
    "version": 3
   },
   "file_extension": ".py",
   "mimetype": "text/x-python",
   "name": "python",
   "nbconvert_exporter": "python",
   "pygments_lexer": "ipython3",
   "version": "3.7.2"
  }
 },
 "nbformat": 4,
 "nbformat_minor": 2
}
