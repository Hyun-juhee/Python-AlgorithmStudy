{
 "cells": [
  {
   "cell_type": "markdown",
   "metadata": {},
   "source": [
    "# 1260. DFS와 BFS\n",
    "- 스택말고 재귀함수를 이용한 dfs도 기억해두기!!\n",
    "- 간선 저장 순서에 따라 달라지기 때문에 간선 순서 정렬한 후 탐색해야한다."
   ]
  },
  {
   "cell_type": "code",
   "execution_count": 50,
   "metadata": {},
   "outputs": [
    {
     "name": "stdout",
     "output_type": "stream",
     "text": [
      "0 0\n"
     ]
    },
    {
     "ename": "ValueError",
     "evalue": "not enough values to unpack (expected 3, got 2)",
     "output_type": "error",
     "traceback": [
      "\u001b[1;31m---------------------------------------------------------------------------\u001b[0m",
      "\u001b[1;31mValueError\u001b[0m                                Traceback (most recent call last)",
      "\u001b[1;32m<ipython-input-50-631f40482a7e>\u001b[0m in \u001b[0;36m<module>\u001b[1;34m\u001b[0m\n\u001b[0;32m      1\u001b[0m \u001b[1;32mfrom\u001b[0m \u001b[0mcollections\u001b[0m \u001b[1;32mimport\u001b[0m \u001b[0mdeque\u001b[0m\u001b[1;33m,\u001b[0m \u001b[0mdefaultdict\u001b[0m\u001b[1;33m\u001b[0m\u001b[1;33m\u001b[0m\u001b[0m\n\u001b[1;32m----> 2\u001b[1;33m \u001b[0mn\u001b[0m\u001b[1;33m,\u001b[0m \u001b[0mm\u001b[0m\u001b[1;33m,\u001b[0m \u001b[0mstart\u001b[0m \u001b[1;33m=\u001b[0m \u001b[0mmap\u001b[0m\u001b[1;33m(\u001b[0m\u001b[0mint\u001b[0m\u001b[1;33m,\u001b[0m \u001b[0minput\u001b[0m\u001b[1;33m(\u001b[0m\u001b[1;33m)\u001b[0m\u001b[1;33m.\u001b[0m\u001b[0msplit\u001b[0m\u001b[1;33m(\u001b[0m\u001b[1;33m)\u001b[0m\u001b[1;33m)\u001b[0m\u001b[1;33m\u001b[0m\u001b[1;33m\u001b[0m\u001b[0m\n\u001b[0m\u001b[0;32m      3\u001b[0m \u001b[1;33m\u001b[0m\u001b[0m\n\u001b[0;32m      4\u001b[0m \u001b[0mgraph\u001b[0m \u001b[1;33m=\u001b[0m \u001b[0mdefaultdict\u001b[0m\u001b[1;33m(\u001b[0m\u001b[0mlist\u001b[0m\u001b[1;33m)\u001b[0m\u001b[1;33m\u001b[0m\u001b[1;33m\u001b[0m\u001b[0m\n\u001b[0;32m      5\u001b[0m \u001b[1;32mfor\u001b[0m \u001b[0m_\u001b[0m \u001b[1;32min\u001b[0m \u001b[0mrange\u001b[0m\u001b[1;33m(\u001b[0m\u001b[0mm\u001b[0m\u001b[1;33m)\u001b[0m\u001b[1;33m:\u001b[0m\u001b[1;33m\u001b[0m\u001b[1;33m\u001b[0m\u001b[0m\n",
      "\u001b[1;31mValueError\u001b[0m: not enough values to unpack (expected 3, got 2)"
     ]
    }
   ],
   "source": [
    "from collections import deque, defaultdict\n",
    "n, m, start = map(int, input().split())\n",
    "\n",
    "graph = defaultdict(list)\n",
    "for _ in range(m):\n",
    "    a, b = map(int, input().split())\n",
    "    graph[a].append(b)\n",
    "    graph[b].append(a)\n",
    "# BFS\n",
    "visited = [0 for _ in range(n+1)]\n",
    "queue = deque()\n",
    "queue.append(start)\n",
    "bfs = []\n",
    "while queue:\n",
    "    temp = queue.popleft()\n",
    "    if visited[temp] == 0:\n",
    "        bfs.append(temp)\n",
    "        visited[temp] = 1\n",
    "        graph[temp].sort()\n",
    "        queue.extend(graph[temp])\n",
    "        \n",
    "# DFS\n",
    "# stack을 이용해도 되지만 재귀함수를 이용하겠음\n",
    "# 자기랑 연결된애 dfs 호출, 호출 \n",
    "visited = [0 for _ in range(n+1)]\n",
    "def dfs(start):\n",
    "    print(start, end = ' ')\n",
    "    visited[start] = 1\n",
    "    for item in graph[start]:\n",
    "        if visited[item] == 0:\n",
    "            dfs(item)\n",
    "            \n",
    "\n",
    "dfs(start)\n",
    "print()\n",
    "for item in bfs:\n",
    "    print(item, end = ' ')\n",
    "    "
   ]
  },
  {
   "cell_type": "markdown",
   "metadata": {},
   "source": [
    "# 1697. 숨바꼭질 \n",
    "- 이동 가능한 위치를 연결된 노드라고 두고 풀이 "
   ]
  },
  {
   "cell_type": "code",
   "execution_count": 53,
   "metadata": {},
   "outputs": [
    {
     "name": "stdout",
     "output_type": "stream",
     "text": [
      "100000 1\n",
      "99999\n"
     ]
    }
   ],
   "source": [
    "from collections import deque\n",
    "x, y = map(int, input().split())\n",
    "\n",
    "queue = deque()\n",
    "queue.append(x)\n",
    "100000\n",
    "visited = [0 for _ in range(100001)]\n",
    "visited[x] = 1\n",
    "while queue:\n",
    "    temp = queue.popleft()\n",
    "    if temp == y:\n",
    "        break\n",
    "    else:\n",
    "        cnt = visited[temp]+1\n",
    "        a = temp-1\n",
    "        b = temp+1\n",
    "        c = temp*2\n",
    "        if 0 <= a <= 100000 and visited[a] == 0 :\n",
    "            queue.append(a)\n",
    "            visited[a] = cnt\n",
    "        if 0 <= b <= 100000 and visited[b] == 0 :\n",
    "            queue.append(b)\n",
    "            visited[b] = cnt\n",
    "        if 0 <= c <= 100000 and visited[c] == 0 :\n",
    "            queue.append(c)\n",
    "            visited[c] = cnt\n",
    "print(visited[y]-1)"
   ]
  },
  {
   "cell_type": "markdown",
   "metadata": {},
   "source": [
    "# 2606. 바이러스"
   ]
  },
  {
   "cell_type": "code",
   "execution_count": 61,
   "metadata": {},
   "outputs": [
    {
     "name": "stdout",
     "output_type": "stream",
     "text": [
      "7\n",
      "6\n",
      "1 2\n",
      "2 3\n",
      "1 5\n",
      "5 2\n",
      "5 6\n",
      "4 7\n",
      "5\n"
     ]
    }
   ],
   "source": [
    "n = int(input())\n",
    "m = int(input())\n",
    "graph = [[] for _ in range(n+1)]\n",
    "graph\n",
    "for _ in range(m):\n",
    "    a, b = map(int, input().split())\n",
    "    graph[a].append(b)\n",
    "    graph[b].append(a)\n",
    "\n",
    "array = []\n",
    "def dfs(start):\n",
    "    array.append(start)\n",
    "    for item in graph[start]:\n",
    "        if item not in array:\n",
    "            dfs(item)\n",
    "dfs(1)\n",
    "print(len(array)-1)"
   ]
  },
  {
   "cell_type": "markdown",
   "metadata": {},
   "source": [
    "# 1012. 유기농 배추\n",
    "- 여기선 bfs순서가 중요한게 아니니까 그냥 stack, dfs로 구현하자\n",
    "- deque를 사용하는게 pop(0)보단 시간이 덜걸리지만 pop()만큼은 아니다!"
   ]
  },
  {
   "cell_type": "code",
   "execution_count": 76,
   "metadata": {},
   "outputs": [
    {
     "name": "stdout",
     "output_type": "stream",
     "text": [
      "1\n",
      "5 3 6\n",
      "0 2\n",
      "1 2\n",
      "2 2\n",
      "3 2\n",
      "4 2\n",
      "4 0\n",
      "2\n"
     ]
    }
   ],
   "source": [
    "# from collections import deque\n",
    "testCase = int(input())\n",
    "for _ in range(testCase):\n",
    "    m, n, k = map(int, input().split())\n",
    "    table = [[0] * n for _ in range(m)]\n",
    "    array = []\n",
    "    for _ in range(k):\n",
    "        a, b = map(int, input().split())\n",
    "        array.append((a,b))\n",
    "        table[a][b] = 1\n",
    "\n",
    "    def bfs(x, y):\n",
    "        queue = []\n",
    "        queue.append((x,y))\n",
    "        while queue:\n",
    "            a, b = queue.pop()\n",
    "            table[a][b] = 0\n",
    "            if a-1 >= 0 and table[a-1][b] == 1:\n",
    "                queue.append((a-1, b))\n",
    "            if a+1 < m and table[a+1][b] == 1:\n",
    "                queue.append((a+1, b))\n",
    "            if b-1 >= 0 and table[a][b-1] == 1:\n",
    "                queue.append((a, b-1))\n",
    "            if b+1 < n and table[a][b+1] == 1:\n",
    "                queue.append((a, b+1))\n",
    "    cnt = 0\n",
    "    for x, y in array:\n",
    "        if table[x][y] == 1:\n",
    "            bfs(x, y)\n",
    "            cnt += 1\n",
    "    print(cnt)"
   ]
  },
  {
   "cell_type": "markdown",
   "metadata": {},
   "source": [
    "# 1325. 효율적인 해킹"
   ]
  },
  {
   "cell_type": "code",
   "execution_count": 97,
   "metadata": {},
   "outputs": [
    {
     "name": "stdout",
     "output_type": "stream",
     "text": [
      "5 4\n",
      "3 1\n",
      "3 2\n",
      "4 3\n",
      "5 3\n",
      "1 2 "
     ]
    }
   ],
   "source": [
    "# from collections import deque\n",
    "def dfs(start):\n",
    "    visited = [0 for _ in range(n+1)]\n",
    "    queue = []\n",
    "    queue.append(start)\n",
    "    cnt = 1\n",
    "    visited[start] = 1\n",
    "    while queue:\n",
    "        temp = queue.pop()\n",
    "        for item in graph[temp]:\n",
    "            if visited[item] == 0:\n",
    "                queue.append(item)\n",
    "                visited[item] = 1\n",
    "                cnt += 1\n",
    "    return cnt\n",
    "\n",
    "n,m = map(int, input().split())\n",
    "graph = [[] for _ in range(n+1)]\n",
    "for _ in range(m):\n",
    "    a, b = map(int, input().split())\n",
    "    graph[b].append(a)\n",
    "    \n",
    "comNo = []\n",
    "maxCnt = 0\n",
    "for i in range(1, n+1):\n",
    "    temp = dfs(i)\n",
    "    if  maxCnt < temp:\n",
    "        comNo = [i]\n",
    "        maxCnt = temp\n",
    "    elif maxCnt == temp:\n",
    "        comNo.append(i)\n",
    "for item in comNo:\n",
    "    print(item, end= ' ')"
   ]
  },
  {
   "cell_type": "code",
   "execution_count": null,
   "metadata": {},
   "outputs": [],
   "source": [
    "def dfs(start):\n",
    "    visited = [0 for _ in range(n+1)]\n",
    "    queue = []\n",
    "    queue.append(start)\n",
    "    cnt = 0\n",
    "    while queue:\n",
    "        temp = queue.pop()\n",
    "        cnt += 1\n",
    "        visited[temp] = 1\n",
    "        for item in graph[temp]:\n",
    "            if visited[item] == 0:\n",
    "                queue.append(item)\n",
    "    return cnt\n",
    "\n",
    "n,m = map(int, input().split())\n",
    "graph = [[] for _ in range(n+1)]\n",
    "for _ in range(m):\n",
    "    a, b = map(int, input().split())\n",
    "    graph[b].append(a)\n",
    "    \n",
    "comNo = []\n",
    "maxCnt = 0\n",
    "for i in range(1, n+1):\n",
    "    temp = dfs(i)\n",
    "    if  maxCnt < temp:\n",
    "        comNo = [i]\n",
    "        maxCnt = temp\n",
    "    elif maxCnt == temp:\n",
    "        comNo.append(i)\n",
    "for item in comNo:\n",
    "    print(item, end= ' ')"
   ]
  },
  {
   "cell_type": "markdown",
   "metadata": {},
   "source": [
    "# 10282 해킹\n",
    "- 간선에 weight가 주어진다 \n",
    "- 가장 거리가 먼 노드의 거리를 구하는 것 -> 최단 경로 \n",
    "- 이런 경우의 탐색은 다익스트라를 이용한다. "
   ]
  },
  {
   "cell_type": "code",
   "execution_count": 34,
   "metadata": {},
   "outputs": [
    {
     "name": "stdout",
     "output_type": "stream",
     "text": [
      "2\n",
      "3 2 2\n",
      "2 1 5\n",
      "3 2 5\n",
      "2 5\n",
      "3 3 1\n",
      "2 1 2\n",
      "3 1 8\n",
      "3 2 4\n",
      "3 6\n"
     ]
    }
   ],
   "source": [
    "import heapq\n",
    "test_case = int(input())\n",
    "for _ in range(test_case):\n",
    "    n, d, c = map(int, input().split())\n",
    "    graph = [[] for _ in range(n+1)]\n",
    "    for i in range(d):\n",
    "        a, b, s = map(int, input().split())\n",
    "        graph[b].append((s, a))\n",
    "\n",
    "    queue = []\n",
    "    heapq.heappush(queue, (0, c))\n",
    "    distances = [float('inf') for _ in range(n+1)]\n",
    "    distances[c] = 0\n",
    "    while queue:\n",
    "        cS, cNode = heapq.heappop(queue)\n",
    "        if cS <= distances[cNode]:\n",
    "            for s, a in graph[cNode]:\n",
    "                dis = cS + s\n",
    "                if distances[a] > dis:\n",
    "                    distances[a] = dis\n",
    "                    heapq.heappush(queue, (dis, a))\n",
    "\n",
    "    cnt = 0\n",
    "    time = 0\n",
    "    for item in distances:\n",
    "        if item != float('inf'):\n",
    "            cnt += 1\n",
    "            if time < item:\n",
    "                time = item\n",
    "    print(cnt, time)\n"
   ]
  },
  {
   "cell_type": "markdown",
   "metadata": {},
   "source": [
    "# 🔺 5719. 거의 최단 경로\n",
    "- 처음에 문제이해 잘못한 부분 : 나는 그냥 제일 최단 말고 그 다음 짧은 거리 구하는 줄알았는데, 제일 짧은 경로에서 사용된 도로를 제외하고 구할 수 있는 제일 짧은 거리이다.\n",
    "- \"이 경로는 최단 경로에 포함되지 않은 도로로 이루어진 경로 중 가장 짧은 경로이다.\"\n",
    "- 때문에 그냥 dijskstra로 최단 경로 구한 다음에 그 때 사용된 간선들 다 제거 -> 이후 dijkstra 다시 실행해서 구해서 나온 경로가 거의 최단 경로가 된다. \n",
    "- "
   ]
  },
  {
   "cell_type": "code",
   "execution_count": 18,
   "metadata": {},
   "outputs": [
    {
     "ename": "ValueError",
     "evalue": "not enough values to unpack (expected 2, got 0)",
     "output_type": "error",
     "traceback": [
      "\u001b[1;31m---------------------------------------------------------------------------\u001b[0m",
      "\u001b[1;31mValueError\u001b[0m                                Traceback (most recent call last)",
      "\u001b[1;32m<ipython-input-18-8f414b96f263>\u001b[0m in \u001b[0;36m<module>\u001b[1;34m\u001b[0m\n\u001b[0;32m     17\u001b[0m     \u001b[1;32mreturn\u001b[0m \u001b[0mdijk\u001b[0m\u001b[1;33m\u001b[0m\u001b[1;33m\u001b[0m\u001b[0m\n\u001b[0;32m     18\u001b[0m \u001b[1;33m\u001b[0m\u001b[0m\n\u001b[1;32m---> 19\u001b[1;33m \u001b[0mn\u001b[0m\u001b[1;33m,\u001b[0m \u001b[0mm\u001b[0m \u001b[1;33m=\u001b[0m \u001b[0mmap\u001b[0m\u001b[1;33m(\u001b[0m\u001b[0mint\u001b[0m\u001b[1;33m,\u001b[0m \u001b[0minput\u001b[0m\u001b[1;33m(\u001b[0m\u001b[1;33m)\u001b[0m\u001b[1;33m.\u001b[0m\u001b[0msplit\u001b[0m\u001b[1;33m(\u001b[0m\u001b[1;33m)\u001b[0m\u001b[1;33m)\u001b[0m\u001b[1;33m\u001b[0m\u001b[1;33m\u001b[0m\u001b[0m\n\u001b[0m\u001b[0;32m     20\u001b[0m \u001b[1;33m\u001b[0m\u001b[0m\n\u001b[0;32m     21\u001b[0m \u001b[1;32mwhile\u001b[0m \u001b[0mn\u001b[0m\u001b[1;33m!=\u001b[0m \u001b[1;36m0\u001b[0m \u001b[1;32mor\u001b[0m \u001b[0mm\u001b[0m\u001b[1;33m!=\u001b[0m\u001b[1;36m0\u001b[0m\u001b[1;33m:\u001b[0m\u001b[1;33m\u001b[0m\u001b[1;33m\u001b[0m\u001b[0m\n",
      "\u001b[1;31mValueError\u001b[0m: not enough values to unpack (expected 2, got 0)"
     ]
    }
   ],
   "source": [
    "import heapq\n",
    "# import sys\n",
    "# input = sys.stdin.readline\n",
    "\n",
    "def dijkstra():\n",
    "    dijk = [(float('inf'), start) for _ in range(n)]\n",
    "    queue = []\n",
    "    dijk[start] = (0, start)\n",
    "    heapq.heappush(queue, (0, start))\n",
    "    while queue:\n",
    "        nowDistance, now = heapq.heappop(queue)\n",
    "        for p, node in graph[now]:\n",
    "            distance = nowDistance + p\n",
    "            if distance <= dijk[node][0] and not dropped[now][node]:\n",
    "                dijk[node] = (distance, now)\n",
    "                heapq.heappush(queue, (distance, node))\n",
    "    return dijk\n",
    "\n",
    "n, m = map(int, input().split())\n",
    "\n",
    "while n!= 0 or m!=0:\n",
    "    # 그래프 입력받기 \n",
    "    start, end = map(int, input().split())\n",
    "    graph = [[] for _ in range(n)]\n",
    "    for _ in range(m):\n",
    "        u,v,p = map(int, input().split())\n",
    "        graph[u].append([p,v])\n",
    "\n",
    "\n",
    "    # 첫 dijkstra\n",
    "    dropped = [[False] * n for _ in range(n)]\n",
    "    dijk = dijkstra()\n",
    "    minDistance = dijk[end][0]   \n",
    "\n",
    "    # 역추적\n",
    "    while dijk[end][0] == minDistance:\n",
    "        dijk[end]\n",
    "        u = dijk[end][1]\n",
    "        temp = end\n",
    "        while temp != start:\n",
    "            dropped[u][temp] = True\n",
    "            temp = u\n",
    "            u = dijk[temp][1]\n",
    "\n",
    "        dijk = dijkstra()     \n",
    "    # 결과 출력 \n",
    "    if dijk[end][0] == float('inf'):\n",
    "        print(-1)\n",
    "    else:\n",
    "        print(dijk[end][0])\n",
    "\n",
    "    n, m = map(int, input().split())"
   ]
  },
  {
   "cell_type": "code",
   "execution_count": 24,
   "metadata": {},
   "outputs": [
    {
     "ename": "ValueError",
     "evalue": "not enough values to unpack (expected 2, got 0)",
     "output_type": "error",
     "traceback": [
      "\u001b[1;31m---------------------------------------------------------------------------\u001b[0m",
      "\u001b[1;31mValueError\u001b[0m                                Traceback (most recent call last)",
      "\u001b[1;32m<ipython-input-24-dacb5d6d54dd>\u001b[0m in \u001b[0;36m<module>\u001b[1;34m\u001b[0m\n\u001b[0;32m     30\u001b[0m \u001b[1;33m\u001b[0m\u001b[0m\n\u001b[0;32m     31\u001b[0m \u001b[1;32mwhile\u001b[0m \u001b[1;32mTrue\u001b[0m\u001b[1;33m:\u001b[0m\u001b[1;33m\u001b[0m\u001b[1;33m\u001b[0m\u001b[0m\n\u001b[1;32m---> 32\u001b[1;33m     \u001b[0mn\u001b[0m\u001b[1;33m,\u001b[0m \u001b[0mm\u001b[0m \u001b[1;33m=\u001b[0m \u001b[0mmap\u001b[0m\u001b[1;33m(\u001b[0m\u001b[0mint\u001b[0m\u001b[1;33m,\u001b[0m \u001b[0minput\u001b[0m\u001b[1;33m(\u001b[0m\u001b[1;33m)\u001b[0m\u001b[1;33m.\u001b[0m\u001b[0msplit\u001b[0m\u001b[1;33m(\u001b[0m\u001b[1;33m)\u001b[0m\u001b[1;33m)\u001b[0m\u001b[1;33m\u001b[0m\u001b[1;33m\u001b[0m\u001b[0m\n\u001b[0m\u001b[0;32m     33\u001b[0m     \u001b[1;32mif\u001b[0m \u001b[0mn\u001b[0m \u001b[1;33m==\u001b[0m \u001b[1;36m0\u001b[0m\u001b[1;33m:\u001b[0m\u001b[1;33m\u001b[0m\u001b[1;33m\u001b[0m\u001b[0m\n\u001b[0;32m     34\u001b[0m         \u001b[1;32mbreak\u001b[0m\u001b[1;33m\u001b[0m\u001b[1;33m\u001b[0m\u001b[0m\n",
      "\u001b[1;31mValueError\u001b[0m: not enough values to unpack (expected 2, got 0)"
     ]
    }
   ],
   "source": [
    "from collections import deque\n",
    "import heapq\n",
    "import sys\n",
    "input = sys.stdin.readline\n",
    "def dijkstra():\n",
    "    heap_data = []\n",
    "    heapq.heappush(heap_data, (0, start))\n",
    "    distance[start] = 0\n",
    "    while heap_data:\n",
    "        dist, now = heapq.heappop(heap_data)\n",
    "        if distance[now] < dist:\n",
    "            continue\n",
    "        for i in adj[now]:\n",
    "            cost = dist + i[1]\n",
    "            if distance[i[0]] > cost and not dropped[now][i[0]]:\n",
    "                distance[i[0]] = cost\n",
    "                heapq.heappush(heap_data, (cost, i[0]))\n",
    "\n",
    "def bfs():\n",
    "    q = deque()\n",
    "    q.append(end)\n",
    "    while q:\n",
    "        now = q.popleft()\n",
    "        if now == start:\n",
    "            continue\n",
    "        for prev, cost in reverse_adj[now]:\n",
    "            if distance[now] == distance[prev] + cost:\n",
    "                dropped[prev][now] = True\n",
    "                q.append(prev)\n",
    "\n",
    "while True:\n",
    "    n, m = map(int, input().split())\n",
    "    if n == 0:\n",
    "        break\n",
    "    start, end = map(int, input().split())\n",
    "    adj = [[] for _ in range(n + 1)]\n",
    "    reverse_adj = [[] for _ in range(n + 1)]\n",
    "    for _ in range(m):\n",
    "        x, y, cost = map(int, input().split())\n",
    "        adj[x].append((y, cost))\n",
    "        reverse_adj[y].append((x, cost))\n",
    "    dropped = [[False] * (n + 1) for _ in range(n + 1)]\n",
    "    distance= [1e9] * (n + 1)\n",
    "    dijkstra()\n",
    "    bfs()\n",
    "    distance= [1e9] * (n + 1)\n",
    "    dijkstra()\n",
    "    if distance[end] != 1e9:\n",
    "        print(distance[end])\n",
    "    else:\n",
    "        print(-1)"
   ]
  },
  {
   "cell_type": "code",
   "execution_count": 23,
   "metadata": {},
   "outputs": [],
   "source": [
    "a = input()\n",
    "# dropped"
   ]
  }
 ],
 "metadata": {
  "kernelspec": {
   "display_name": "Python 3",
   "language": "python",
   "name": "python3"
  },
  "language_info": {
   "codemirror_mode": {
    "name": "ipython",
    "version": 3
   },
   "file_extension": ".py",
   "mimetype": "text/x-python",
   "name": "python",
   "nbconvert_exporter": "python",
   "pygments_lexer": "ipython3",
   "version": "3.7.2"
  }
 },
 "nbformat": 4,
 "nbformat_minor": 2
}
