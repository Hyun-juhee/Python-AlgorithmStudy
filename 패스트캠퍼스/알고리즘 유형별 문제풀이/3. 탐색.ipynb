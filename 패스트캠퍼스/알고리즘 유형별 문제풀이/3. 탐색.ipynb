{
 "cells": [
  {
   "cell_type": "markdown",
   "metadata": {},
   "source": [
    "# 1543. 문서 검색\n",
    "- 문자열에서도 count()사용이 가능하다.\n",
    "- list to str = ''.join(list)\n",
    "- str to list = 'str'.split() : 공백이 있어야만 나뉨"
   ]
  },
  {
   "cell_type": "code",
   "execution_count": 20,
   "metadata": {},
   "outputs": [
    {
     "name": "stdout",
     "output_type": "stream",
     "text": [
      "abababababab\n",
      "bab\n",
      "3\n"
     ]
    }
   ],
   "source": [
    "data = input()\n",
    "find = input()\n",
    "print(data.count(find))"
   ]
  },
  {
   "cell_type": "markdown",
   "metadata": {},
   "source": [
    "# 1568. 새"
   ]
  },
  {
   "cell_type": "code",
   "execution_count": 25,
   "metadata": {},
   "outputs": [
    {
     "name": "stdout",
     "output_type": "stream",
     "text": [
      "10\n",
      "4\n"
     ]
    }
   ],
   "source": [
    "k = int(input())\n",
    "sing = 0\n",
    "cnt = 0\n",
    "while k > 0:\n",
    "    cnt += 1\n",
    "    sing += 1\n",
    "    if sing > k:\n",
    "        sing = 1\n",
    "    k -= sing\n",
    "print(cnt)"
   ]
  },
  {
   "cell_type": "markdown",
   "metadata": {},
   "source": [
    "# 1302. 베스트 셀러"
   ]
  },
  {
   "cell_type": "code",
   "execution_count": 21,
   "metadata": {},
   "outputs": [
    {
     "name": "stdout",
     "output_type": "stream",
     "text": [
      "5\n",
      "a\n",
      "y\n",
      "y\n",
      "t\n",
      "t\n",
      "[('a', 1), ('t', 2), ('y', 2)]\n",
      "t\n"
     ]
    }
   ],
   "source": [
    "from collections import defaultdict\n",
    "n = int(input())\n",
    "data = defaultdict(int)\n",
    "for _ in range(n):\n",
    "    temp = input()\n",
    "    data[temp] += 1\n",
    "data1 = sorted(data.items())\n",
    "print(sorted(data1, key = lambda x: x[1], reverse = True)[0][0])  "
   ]
  },
  {
   "cell_type": "markdown",
   "metadata": {},
   "source": [
    "# 1668. 트로피 진열"
   ]
  },
  {
   "cell_type": "code",
   "execution_count": 34,
   "metadata": {},
   "outputs": [
    {
     "name": "stdout",
     "output_type": "stream",
     "text": [
      "5\n",
      "7\n",
      "1\n",
      "3\n",
      "5\n",
      "2\n",
      "1\n",
      "3\n"
     ]
    }
   ],
   "source": [
    "n = int(input())\n",
    "data = []\n",
    "for _ in range(n):\n",
    "    data.append(int(input()))\n",
    "\n",
    "right, left = 1, 1\n",
    "leftMax = data[0]\n",
    "rightMax = data[-1]\n",
    "for i in range(1, n):\n",
    "    if leftMax < data[i]:\n",
    "        leftMax = data[i]\n",
    "        left += 1\n",
    "    if rightMax < data[n-i-1]:\n",
    "        rightMax = data[n-i-1]\n",
    "        right += 1    \n",
    "print(left)\n",
    "print(right)"
   ]
  },
  {
   "cell_type": "markdown",
   "metadata": {},
   "source": [
    "# 1236. 성 지키기"
   ]
  },
  {
   "cell_type": "code",
   "execution_count": 39,
   "metadata": {},
   "outputs": [
    {
     "name": "stdout",
     "output_type": "stream",
     "text": [
      "3 3\n",
      "...\n",
      "...\n",
      "...\n",
      "3\n"
     ]
    }
   ],
   "source": [
    "r, c = list(map(int, input().split(' ')))\n",
    "row = [0 for i in range(r)]\n",
    "col = [0 for i in range(c)]\n",
    "\n",
    "for i in range(r):\n",
    "    temp = input()\n",
    "    for j in range(c):\n",
    "        if temp[j] == 'X':\n",
    "            row[i] = 1\n",
    "            col[j] = 1\n",
    "rowNum = row.count(0)\n",
    "colNum = col.count(0)\n",
    "print(max(rowNum, colNum))"
   ]
  },
  {
   "cell_type": "markdown",
   "metadata": {},
   "source": [
    "# 🔺🔺2110. 공유기 설치\n",
    "- 두 공유기 사이의 거리를 최대로 하는 프로그램\n",
    "- 두 공유기 사이의 거리를 이진탐색으로 찾는다.\n",
    "- 이진 탐색 : 최소값과 최대값을 정해두고 중간값으로 처리해보고 더 작으면 최소값~중간값(을 최대값으로 두고) 다시 중간값을 찾아서 처리 반복\n",
    "- gab을 1~최대 값으로 두고 중간값 찾기 -> 그 중간 값을 gab(공유기 사이의 거리)라고 했을 때, C개의 공유기를 모두 설치하지 못하면 지금 중간 값으로 최대로 두고 / 설치 가능하면 지금 중간갑을 최소로 두고 반복\n",
    "- 1,000,000,000까지의 수가 나옴(10억) 이건 O(n)으로 처리해도 시간 초과 -> log(n)으로 만들 수 있는 이진탐색 등이 답이 된다.\n",
    "- 이진탐색은 재귀함수보다 반복문(while)을 이용하는 것이 더 유리하다. "
   ]
  },
  {
   "cell_type": "code",
   "execution_count": 32,
   "metadata": {},
   "outputs": [
    {
     "name": "stdout",
     "output_type": "stream",
     "text": [
      "5 3\n",
      "1\n",
      "2\n",
      "4\n",
      "8\n",
      "9\n",
      "3\n"
     ]
    }
   ],
   "source": [
    "n, c = list(map(int, input().split(' ')))\n",
    "home = []\n",
    "for _ in range(n):\n",
    "    home.append(int(input()))\n",
    "home.sort()\n",
    "\n",
    "min = home[1] - home[0] # 최소값은 항상 1이 아니라 맨 앞 인접한 두 집 사이의 거리이다.\n",
    "max = home[-1] - home[0] # 가장 먼 두 집 사이의 거리\n",
    "result = 0\n",
    "while min<=max:\n",
    "    mid = int((min + max)/2) # == (min + max) // 2\n",
    "    set = [home[0]] # 이렇게 set을 지정해서 답을 구하는 것보다 아래처럼 구하는게 메모리 사용이 적다. (별 차이 안나긴함)\n",
    "    for i in range(1,n):\n",
    "        if set[-1] + mid <= home[i]:\n",
    "            set.append(home[i])\n",
    "    if len(set) < c:\n",
    "        max = mid-1\n",
    "    else:\n",
    "        min = mid+1\n",
    "        result = mid # 이때 맞게 활용한 gab = mid값이 정답이다. \n",
    "        # 재귀함수를 사용할 수 없는 이유는 재귀함수에서 이때의 mid값을 리턴해 줄 수 없기 때문이다\n",
    "        # result에 mid를 저장하긴 하지만 min<=max일 때 까지 돌려봐야 한다.\n",
    "        # 반복문에서는 나머지 반복문을 돌고 결과값을 저장해두는게 가능하지만,\n",
    "        # 재귀함수에서는 return해야할 조건문에서 return값으로 정답을 지정하는 것이 편하기 때문에\n",
    "        # 위 경우는 재귀보다 반복문이 더 낫다.\n",
    "print(result)"
   ]
  },
  {
   "cell_type": "code",
   "execution_count": null,
   "metadata": {},
   "outputs": [],
   "source": [
    "n, c = list(map(int, input().split(' ')))\n",
    "home = []\n",
    "for _ in range(n):\n",
    "    home.append(int(input()))\n",
    "home.sort()\n",
    "\n",
    "min = home[1] - home[0]\n",
    "max = home[-1] - home[0]\n",
    "result = 0\n",
    "while min<=max:\n",
    "    mid = int((min + max)/2)\n",
    "    cnt = 1 # 첫번째 집에 공유기를 설치하고 시작하기 때문에 cnt = 1부터 시작 \n",
    "    value = home[0]\n",
    "    for i in range(1,n):\n",
    "        if value + mid <= home[i]:\n",
    "            value = home[i]\n",
    "            cnt += 1\n",
    "    if cnt < c:\n",
    "        max = mid-1\n",
    "    else:\n",
    "        min = mid+1\n",
    "        result = mid \n",
    "print(result)"
   ]
  },
  {
   "cell_type": "code",
   "execution_count": null,
   "metadata": {},
   "outputs": [],
   "source": [
    "# 헷갈리지 말고 응용하자!!\n",
    "print(6/4)  # 나누기 \n",
    "print(6//4) # 몫\n",
    "print(6%4)  # 나머지 "
   ]
  },
  {
   "cell_type": "markdown",
   "metadata": {},
   "source": [
    "### 최단 경로 알고리즘 : 다익스트라\n",
    "- distance배열, queue, graph를 준비한다.\n",
    "- queue에서 꺼낸 node를 cnode라고 할때 cnode와 출발점 사이의 거리 + cnode와 다른 인접한 node(v)사이의 거리가 distance에 이미 저장된 출발점과 v사이의 거리보다 작을 때, 그 값을 교체\n",
    "\n",
    "<img src=\"https://www.fun-coding.org/00_Images/dijkstra_1st.png\">"
   ]
  },
  {
   "cell_type": "code",
   "execution_count": 38,
   "metadata": {},
   "outputs": [],
   "source": [
    "import heapq\n",
    "# [node for node in graph] : 에서 node는 graph의 key값들 이다.\n",
    "# for key, value in graph : 하면 key, value가 알맞게 들어간다.\n",
    "def dijkstra(graph, start):\n",
    "    distance = {node: float('inf') for node in graph}\n",
    "    distance[start] = 0\n",
    "    queue = []\n",
    "    heapq.heappush(queue, [start, distance[start]])\n",
    "    while queue:\n",
    "        currentNode, currentDis = heapq.heappop(queue)\n",
    "        if distance[currentNode] < currentDis:\n",
    "            continue\n",
    "        for node, dis in graph[currentNode].items(): # 지금 pop한 애랑 인접한 애들, 지금 pop한애 ~ 출발점 까지의 거리 + 인접한 노드 까지의 거리 더 작은지 비교하고 교체\n",
    "            if dis + currentDis < distance[node]:\n",
    "                distance[node] = dis + currentDis\n",
    "                heapq.heappush(queue, [node, distance[node]])\n",
    "    return distance"
   ]
  },
  {
   "cell_type": "code",
   "execution_count": 39,
   "metadata": {},
   "outputs": [
    {
     "name": "stdout",
     "output_type": "stream",
     "text": [
      "{'A': 0, 'B': 6, 'C': 1, 'D': 2, 'E': 5, 'F': 6}\n"
     ]
    }
   ],
   "source": [
    "mygraph = {\n",
    "    'A': {'B': 8, 'C': 1, 'D': 2},\n",
    "    'B': {},\n",
    "    'C': {'B': 5, 'D': 2},\n",
    "    'D': {'E': 3, 'F': 5},\n",
    "    'E': {'F': 1},\n",
    "    'F': {'A': 5}\n",
    "}\n",
    "\n",
    "print(dijkstra(mygraph, 'A'))"
   ]
  },
  {
   "cell_type": "markdown",
   "metadata": {},
   "source": [
    "# 🔺🔺1939. 중량 제한\n",
    "- c < 10억 -> 마찬기지로 이진 탐색을 이용해야한다.\n",
    "- 이진탐색을 이용할 때는 구하려는 값의 최대, 최소를 구하고 그의 중간값으로 값찾는 것을 반복한다. 기준은 무조건 구하려는 값!! -> 이 문제에서는 중량 제한이 그 값이다. \n",
    "- 입력 받은 다리의 중량제한 들의 최소, 최대 값을 구한다.\n",
    "- 중간값으로 설정한 중량제한으로 탐색을 진행, 탐색은 그냥 BFS로 하며, 중량이 제한 이상일 때만 탐색 가능하게\n",
    "- 처음부터 끝값까지 탐색이 가능하다면 해당 중량 제한은 가능한것 \n",
    "- 그렇게 최대의 중량제한 구하기\n",
    "\n",
    "### 시간초과 방지를 위한 코드\n",
    "- 그래프 탐색에서 node가 정수고, 방문 여부만 알면 될 때, visited = []에 방문한 node를 넣는게 아니라 `visited[node] = True`로 True/False 값으로 넣어준다 \n",
    "    - queue를 구현할 때, append() & pop(0)을 쓰는 것도 결과는 같지만`from collections import deque` 해주고 `queue = deque()`로 선언한 후 `queue.append()` & `queue.popleft()`를 사용하자 "
   ]
  },
  {
   "cell_type": "code",
   "execution_count": 2,
   "metadata": {},
   "outputs": [
    {
     "data": {
      "text/plain": [
       "1"
      ]
     },
     "execution_count": 2,
     "metadata": {},
     "output_type": "execute_result"
    }
   ],
   "source": [
    "from collections import deque\n",
    "queue = deque()\n",
    "queue.append(1)\n",
    "queue.append(5)\n",
    "queue.popleft()"
   ]
  },
  {
   "cell_type": "code",
   "execution_count": 5,
   "metadata": {},
   "outputs": [
    {
     "name": "stdout",
     "output_type": "stream",
     "text": [
      "3 3\n",
      "1 3 1\n",
      "2 3 2\n",
      "1 2 3\n",
      "1 3\n",
      "2\n"
     ]
    }
   ],
   "source": [
    "from collections import defaultdict\n",
    "from collections import deque\n",
    "n, m = list(map(int, input().split(' ')))\n",
    "graph = defaultdict(dict)\n",
    "\n",
    "Min = float('inf')\n",
    "Max = 0\n",
    "for _ in range(m):  \n",
    "    a, b, c = list(map(int, input().split(' ')))\n",
    "    if Min > c:\n",
    "        Min = c\n",
    "    if Max < c:\n",
    "        Max = c\n",
    "    graph[a][b] = c\n",
    "    graph[b][a] = c\n",
    "\n",
    "start, end = list(map(int, input().split(' ')))    \n",
    "\n",
    "def BFS(graph, start, end, mid):\n",
    "    queue = deque()\n",
    "    visited = [False] * (n+1)\n",
    "    queue.append(start)\n",
    "    visited[start] = True\n",
    "    while queue:\n",
    "        node = queue.popleft()\n",
    "        if node == end:\n",
    "            break\n",
    "        for cn, w in graph[node].items():\n",
    "            if not visited[cn] and mid <= w:\n",
    "                queue.append(cn)\n",
    "                visited[cn] = True\n",
    "    return visited[end]\n",
    "\n",
    "maxWeight = 0\n",
    "while Min <= Max:\n",
    "    mid = (Min+Max) // 2\n",
    "    result = BFS(graph, start, end, mid)\n",
    "    if result:\n",
    "        maxWeight = mid\n",
    "        Min = mid + 1\n",
    "    else:\n",
    "        Max = mid - 1\n",
    "        \n",
    "print(maxWeight)\n",
    "\n",
    "# visited 바꿈 "
   ]
  },
  {
   "cell_type": "code",
   "execution_count": null,
   "metadata": {},
   "outputs": [],
   "source": [
    "# 아래는 visited때문에 시간 초과 나는 코드 \n",
    "\n",
    "from collections import defaultdict\n",
    "from collections import deque\n",
    "n, m = list(map(int, input().split(' ')))\n",
    "graph = defaultdict(dict)\n",
    "\n",
    "Min = float('inf')\n",
    "Max = 0\n",
    "for _ in range(m):  \n",
    "    a, b, c = list(map(int, input().split(' ')))\n",
    "    if Min > c:\n",
    "        Min = c\n",
    "    if Max < c:\n",
    "        Max = c\n",
    "    graph[a][b] = c\n",
    "    graph[b][a] = c\n",
    "\n",
    "start, end = list(map(int, input().split(' ')))    \n",
    "\n",
    "def BFS(graph, start, end, mid):\n",
    "    queue = deque()\n",
    "    visited = []\n",
    "    queue.append([start,0])\n",
    "    visited.append(start)\n",
    "    while queue:\n",
    "        node = queue.popleft()[0]\n",
    "        if node == end:\n",
    "            break\n",
    "        for n, w in graph[node].items():\n",
    "            if n not in visited:\n",
    "                if mid <= w:\n",
    "                    queue.append([n,w])\n",
    "                    visited.append(n)\n",
    "    return end in visited\n",
    "maxWeight = 0\n",
    "while Min <= Max:\n",
    "    mid = (Min+Max) // 2\n",
    "    result = BFS(graph, start, end, mid)\n",
    "    if result:\n",
    "        maxWeight = mid\n",
    "        Min = mid + 1\n",
    "    else:\n",
    "        Max = mid - 1\n",
    "        \n",
    "print(maxWeight)"
   ]
  },
  {
   "cell_type": "markdown",
   "metadata": {},
   "source": [
    "# 1991. 트리 순회"
   ]
  },
  {
   "cell_type": "code",
   "execution_count": null,
   "metadata": {},
   "outputs": [],
   "source": [
    "from collections import defaultdict\n",
    "n = int(input())\n",
    "graph = defaultdict(list)\n",
    "for _ in range(n):\n",
    "    a, b ,c = input().split(' ')\n",
    "    graph[a] = [b, c]\n",
    "\n",
    "\n",
    "def preorder(graph, root):\n",
    "    print(root, end = '')\n",
    "    if graph[root][0] != '.':\n",
    "        preorder(graph, graph[root][0])\n",
    "    if graph[root][1] != '.':\n",
    "        preorder(graph, graph[root][1])\n",
    "        \n",
    "def inorder(graph, root):\n",
    "    if graph[root][0] != '.':\n",
    "        inorder(graph, graph[root][0])\n",
    "    print(root, end = '')\n",
    "    if graph[root][1] != '.':\n",
    "        inorder(graph, graph[root][1])\n",
    "        \n",
    "def postorder(graph, root):\n",
    "    if graph[root][0] != '.':\n",
    "        postorder(graph, graph[root][0])\n",
    "    if graph[root][1] != '.':\n",
    "        postorder(graph, graph[root][1])\n",
    "    print(root, end = '')\n",
    "    \n",
    "preorder(graph, list(graph.keys())[0])\n",
    "print()\n",
    "inorder(graph, list(graph.keys())[0])\n",
    "print()\n",
    "postorder(graph, list(graph.keys())[0])"
   ]
  },
  {
   "cell_type": "markdown",
   "metadata": {},
   "source": [
    "# 🔺🔺2250. 트리의 높이와 너비\n",
    "- root가 항상 1이 아닐 수 있음 주의\n",
    "- inorder을 통해 트리의 level(높이)와 너비를 구할 수 있다!\n",
    "- level을 구할 때, 모든 노드를 count하지 않고 자식으로 내려갈 때만 count해서 level을 구하고 싶은거니까 -> inorder에서 level을 파라미터로 전달하자! \n",
    "- 노드 이름이 다 정수일 때, 배열의 인덱스를 활용해서 딕셔너리처럼 사용할 수 있다. "
   ]
  },
  {
   "cell_type": "code",
   "execution_count": 274,
   "metadata": {},
   "outputs": [
    {
     "name": "stdout",
     "output_type": "stream",
     "text": [
      "3\n",
      "1 2 3\n",
      "2 -1 -1\n",
      "3 -1 -1\n",
      "defaultdict(<class 'int'>, {2: 1, 3: 1})\n",
      "0\n",
      "2 1 2\n",
      "1 2 1\n",
      "3 3 2\n",
      "[3, 2, 1, 3]\n",
      "[0, 2, 3, 0]\n",
      "----------------\n",
      "2 3\n"
     ]
    }
   ],
   "source": [
    "from collections import defaultdict\n",
    "import copy\n",
    "\n",
    "# 그래프 입력받기\n",
    "# root 가 항상 1이 아님 -> parent 값을 받아서 parent가 자기자신인 즉, root인 노드 찾는 for문 돌려서 찾아야해\n",
    "n = int(input())\n",
    "graph = defaultdict(list)\n",
    "parent = defaultdict(int)\n",
    "for _ in range(n):\n",
    "    a, b ,c = map(int,input().split(' '))\n",
    "    if b != -1:\n",
    "        parent[b] = a\n",
    "    if c != -1:\n",
    "        parent[c] = a\n",
    "    graph[a] = [b, c]\n",
    "\n",
    "# root 찾기\n",
    "root = 1\n",
    "for i in range(1, n+1): \n",
    "    if parent[i] == 0:\n",
    "        root = i\n",
    "\n",
    "# 열구하기 \n",
    "# 여기서 level도 알 수 있다!! \n",
    "# inorder에서 left -> root -> right 방문\n",
    "# 이때, left, right 방문에서 동일하게 level + 1로 주기 : 그냥 변수에 계속 더하면\n",
    "# 레벨 마다가 아니라 노드 마다 더해지므로 파라미터로 level을 만든다!! \n",
    "# 각 레벨마다 최소 너비, 최대 너비 저장\n",
    "# 인덱스가 레벨이 된다 minWidth[level]로 저장!! (dictionary처럼 list를 활용)\n",
    "minWidth = [n for i in range(n+1)] # 최소 값을 구하기 위해 가장 큰값\n",
    "maxWidth = [0 for i in range(n+1)] # 최대 값을 구하기 위해 가장 작은 값\n",
    "def inorder(root, level):\n",
    "    global col\n",
    "    if graph[root][0] != -1:\n",
    "        inorder(graph[root][0], level+1)\n",
    "    minWidth[level] = min(minWidth[level], col)\n",
    "    maxWidth[level] = max(maxWidth[level], col)\n",
    "    col += 1\n",
    "    if graph[root][1] != -1:\n",
    "        inorder(graph[root][1], level+1)\n",
    "        \n",
    "col = 1\n",
    "inorder(root, 1)\n",
    "\n",
    "result = maxWidth[1] - minWidth[1] + 1\n",
    "resultLevel = 1\n",
    "for i in range(2, n+1):\n",
    "    width = maxWidth[i] - minWidth[i] + 1\n",
    "    if width > result:\n",
    "        result = width\n",
    "        resultLevel = i\n",
    "print(resultLevel, result)"
   ]
  },
  {
   "cell_type": "markdown",
   "metadata": {},
   "source": [
    "# 1927. 최소힙"
   ]
  },
  {
   "cell_type": "code",
   "execution_count": null,
   "metadata": {},
   "outputs": [],
   "source": [
    "# 이건 시간초과!! \n",
    "import heapq\n",
    "n = int(input())\n",
    "queue = []\n",
    "for _ in range(n):\n",
    "    x = int(input())\n",
    "    if x == 0:\n",
    "        if len(queue) < 1:\n",
    "            print(0)\n",
    "        else:\n",
    "            print(heapq.heappop(queue))\n",
    "    else:\n",
    "        heapq.heappush(queue, x)\n",
    "# 입력값에 대하여 하나하나 print를 해주는 것보다 출력값을 배열에 모아놨다가\n",
    "# 한번에 for문으로 출력하는게 시간이 덜걸린다. 이유는 모르겠음 "
   ]
  },
  {
   "cell_type": "code",
   "execution_count": 281,
   "metadata": {},
   "outputs": [
    {
     "name": "stdout",
     "output_type": "stream",
     "text": [
      "9\n",
      "0\n",
      "123\n",
      "1\n",
      "2\n",
      "0\n",
      "0\n",
      "0\n",
      "0\n",
      "32\n",
      "0\n",
      "1\n",
      "2\n",
      "123\n",
      "0\n"
     ]
    }
   ],
   "source": [
    "import heapq\n",
    "n = int(input())\n",
    "queue = []\n",
    "result = []\n",
    "for _ in range(n):\n",
    "    x = int(input())\n",
    "    if x == 0:\n",
    "        if len(queue) < 1:\n",
    "            result.append(0)\n",
    "        else:\n",
    "            result.append(heapq.heappop(queue))\n",
    "    else:\n",
    "        heapq.heappush(queue, x)\n",
    "for item in result:\n",
    "    print(item)"
   ]
  },
  {
   "cell_type": "markdown",
   "metadata": {},
   "source": [
    "# 🔺1715. 카드 정렬하기\n",
    "- 왜이렇게 생각을 못하지,, 이런 ㅈ밥문제를 ㅜ\n",
    "- 10, 20, 30, 40 같은 경우 가장 작은 것부터 더하는게 맞게지만 `(10+20) + (10+20)+30 + (10+20+30)+40`\n",
    "- 20,30,30,40 같은 경우 `(20+30) + (50+30) + (80+40) = 250` 하는 것 보다 `(20+30) + (30+40) + (50 + 70) = 240` 하는 게 낫다\n",
    "- 즉 두개씩 더한 값을 heapq에 push하고 더한 값까지 한 원소로 보고 제일 작은거 두개씩 계속 더해가야돼! \n",
    "- 카드가 한개면 비교 안해도 되지, 합칠 필요가 없으니까"
   ]
  },
  {
   "cell_type": "code",
   "execution_count": 15,
   "metadata": {},
   "outputs": [
    {
     "name": "stdout",
     "output_type": "stream",
     "text": [
      "3\n",
      "10\n",
      "20\n",
      "40\n",
      "100\n"
     ]
    }
   ],
   "source": [
    "import heapq\n",
    "\n",
    "n = int(input())\n",
    "queue = []\n",
    "    \n",
    "for i in range(n):\n",
    "    heapq.heappush(queue, int(input()))\n",
    "\n",
    "result = 0\n",
    "while len(queue)>1:\n",
    "    one = heapq.heappop(queue)\n",
    "    two = heapq.heappop(queue)\n",
    "    temp = one+two\n",
    "    heapq.heappush(queue, temp)\n",
    "    result += temp\n",
    "\n",
    "print(result)"
   ]
  },
  {
   "cell_type": "markdown",
   "metadata": {},
   "source": [
    "# 🔺1766. 문제집\n",
    "### ✅ 위상정렬 알고리즘 \n",
    "+. 내가 한 방법 : 먼저 풀어야 되는 문제를 나중에 풀어야 되는 문제에 더해줘서 정렬 -> 정렬에 대해서 덧셈을 하면, 해당 값이 같아지거나 정렬순서에 어긋나는 경우가 반드시 발생한다. 따라서 이런 연결되는 게 있는 문제는 꼭 그래프로 풀자!\n",
    "1. 진입차수가 0인 정점을 큐에 삽입한다\n",
    "2. 큐에서 원소를 꺼내 해당 원소와 간선을 제거한다. (해당 원소에서 출발하는 간선 제거)\n",
    "3. 제거 이후 진입 차수가 0이된 정점을 큐에 삽입한다.\n",
    "4. 큐가 빌 때 까지 2~3 과정을 반복한다."
   ]
  },
  {
   "cell_type": "code",
   "execution_count": 48,
   "metadata": {},
   "outputs": [
    {
     "name": "stdout",
     "output_type": "stream",
     "text": [
      "4 5\n",
      "4 3\n",
      "4 2\n",
      "4 1\n",
      "3 2\n",
      "2 1\n",
      "4 3 2 1 "
     ]
    }
   ],
   "source": [
    "import heapq\n",
    "\n",
    "n, m = map(int, input().split())\n",
    "\n",
    "# 배열을 딕셔너리 처럼 쓰기 (인덱스 값으로)\n",
    "# 방향이 있는 그래프의 경우 내가 갈 수 있는 노드를 기록한다.\n",
    "graph = [[] for i in range(n+1)] # 연결 되어 있는 노드 \n",
    "indegree = [0 for i in range(n+1)] # 진입차수 \n",
    "\n",
    "for _ in range(m):\n",
    "    x, y = map(int, input().split()) # x -> y (x다음에 y가 실행돼야 하니까)\n",
    "    graph[x].append(y) # x에 y연결 (x가 먼저)\n",
    "    indegree[y] += 1 # y는 x 이후에 할 수 있으므로 진입차수가 1 \n",
    "\n",
    "queue = []\n",
    "result = []\n",
    "for i in range(1, n+1):\n",
    "    if indegree[i] == 0:\n",
    "        heapq.heappush(queue, i)\n",
    "        \n",
    "while queue:\n",
    "    temp = heapq.heappop(queue)\n",
    "    result.append(temp)\n",
    "    for item in graph[temp]:\n",
    "        indegree[item] -= 1\n",
    "        if indegree[item] == 0:\n",
    "            heapq.heappush(queue, item)\n",
    "    graph[temp] = []\n",
    "    \n",
    "for item in result:\n",
    "    print(item, end = ' ')"
   ]
  },
  {
   "cell_type": "code",
   "execution_count": 47,
   "metadata": {},
   "outputs": [
    {
     "name": "stdout",
     "output_type": "stream",
     "text": [
      "4 5\n",
      "4 3\n",
      "4 2\n",
      "4 1\n",
      "3 2\n",
      "2 1\n",
      "4 1 3 2 "
     ]
    }
   ],
   "source": [
    "# 내 틀린 방법\n",
    "queue = []\n",
    "n, m = map(int, input().split(' '))\n",
    "for i in range(n):\n",
    "    queue.append([i+1, i+1])\n",
    "for i in range(m):\n",
    "    a, b = map(int, input().split(' '))\n",
    "    queue[b-1][0] += a\n",
    "queue.sort()\n",
    "for i in range(n):\n",
    "    print(queue.pop(0)[1], end = ' ')"
   ]
  }
 ],
 "metadata": {
  "kernelspec": {
   "display_name": "Python 3",
   "language": "python",
   "name": "python3"
  },
  "language_info": {
   "codemirror_mode": {
    "name": "ipython",
    "version": 3
   },
   "file_extension": ".py",
   "mimetype": "text/x-python",
   "name": "python",
   "nbconvert_exporter": "python",
   "pygments_lexer": "ipython3",
   "version": "3.7.2"
  }
 },
 "nbformat": 4,
 "nbformat_minor": 2
}
