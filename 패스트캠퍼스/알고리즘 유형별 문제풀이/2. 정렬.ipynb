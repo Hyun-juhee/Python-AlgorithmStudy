{
 "cells": [
  {
   "cell_type": "markdown",
   "metadata": {},
   "source": [
    "# 2750. 수 정렬하기"
   ]
  },
  {
   "cell_type": "code",
   "execution_count": 116,
   "metadata": {},
   "outputs": [
    {
     "name": "stdout",
     "output_type": "stream",
     "text": [
      "5\n",
      "2\n",
      "3\n",
      "2\n",
      "6\n",
      "1\n",
      "1\n",
      "2\n",
      "2\n",
      "3\n",
      "6\n"
     ]
    }
   ],
   "source": [
    "N = int(input())\n",
    "data = []\n",
    "for _ in range(N):\n",
    "    data.append(int(input()))\n",
    "data.sort()\n",
    "for item in data:\n",
    "    print(item)"
   ]
  },
  {
   "cell_type": "markdown",
   "metadata": {},
   "source": [
    "# 1427. 소트인사이드 \n",
    "- 9부터 0까지 모든 수의 개수를 체크\n",
    "- 9가 1개면 9, 8은 2개면 988~ 차례대로 확인"
   ]
  },
  {
   "cell_type": "code",
   "execution_count": 115,
   "metadata": {},
   "outputs": [
    {
     "name": "stdout",
     "output_type": "stream",
     "text": [
      "4312\n",
      "4321"
     ]
    }
   ],
   "source": [
    "array = input()\n",
    "for i in range(9, -1, -1): # 9~0까지 하나하나 비교 \n",
    "    for j in array:\n",
    "        if int(j) == i:\n",
    "            print(i, end = '')"
   ]
  },
  {
   "cell_type": "code",
   "execution_count": 28,
   "metadata": {},
   "outputs": [
    {
     "name": "stdout",
     "output_type": "stream",
     "text": [
      "123454321\n",
      "544332211"
     ]
    }
   ],
   "source": [
    "data = input()\n",
    "result = []\n",
    "for item in data:\n",
    "    result.append(int(item))\n",
    "result.sort(reverse = True)\n",
    "for item in result:\n",
    "    print(item, end ='')"
   ]
  },
  {
   "cell_type": "markdown",
   "metadata": {},
   "source": [
    "# 10814 나이순 정렬"
   ]
  },
  {
   "cell_type": "code",
   "execution_count": null,
   "metadata": {},
   "outputs": [],
   "source": [
    "for i in range(9, 1, -1):\n",
    "    for j in array:\n",
    "        if int(j) == i:\n",
    "            print(i, end')"
   ]
  },
  {
   "cell_type": "code",
   "execution_count": 53,
   "metadata": {},
   "outputs": [
    {
     "name": "stdout",
     "output_type": "stream",
     "text": [
      "2\n",
      "20 i\n",
      "20 k\n",
      "20 i\n",
      "20 k\n"
     ]
    }
   ],
   "source": [
    "N = int(input())\n",
    "people = []\n",
    "for _ in range(N):\n",
    "    data = input().split()\n",
    "    people.append([int(data[0]), data[1]])\n",
    "people = sorted(people, key = lambda x:x[0])\n",
    "for item in people:\n",
    "    print(item[0],item[1])"
   ]
  },
  {
   "cell_type": "markdown",
   "metadata": {},
   "source": [
    "# 🔺11650. 좌표 정렬 \n",
    "- 이중 포문을 sorted()하면 원소의 [0]을먼저 비교하고 같으면 [1]비교하는 문제에 해당하는 정렬이 자동으로 가능"
   ]
  },
  {
   "cell_type": "code",
   "execution_count": 90,
   "metadata": {},
   "outputs": [
    {
     "name": "stdout",
     "output_type": "stream",
     "text": [
      "3\n",
      "1 2\n",
      "2 3\n",
      "1 4\n",
      "[[1, 2], [1, 4], [2, 3]]\n",
      "1 2\n",
      "1 4\n",
      "2 3\n"
     ]
    }
   ],
   "source": [
    "# def bubble(data):\n",
    "#     for i in range(len(data) -1):\n",
    "#         for j in range(len(data)-i-1):\n",
    "#             if data[j][0] > data[j+1][0]:\n",
    "#                 data[j], data[j+1] = data[j+1], data[j]\n",
    "#             elif data[j][0] == data[j+1][0]:\n",
    "#                 if data[j][1] > data[j+1][1]:\n",
    "#                     data[j], data[j+1] = data[j+1], data[j]\n",
    "  \n",
    "n = int(input())\n",
    "data =[]\n",
    "for _ in range(n):\n",
    "    data.append(list(map(int, input().split(' '))))\n",
    "data = sorted(data)\n",
    "\n",
    "for item in data:\n",
    "    print(item[0],item[1])"
   ]
  },
  {
   "cell_type": "markdown",
   "metadata": {},
   "source": [
    "# 🔺10989. 수 정렬하기 3 (크기는 작고 개수는 많은 데이터 처리)\n",
    "- 데이터의 개수가 최대 천만개 까지 나올 수 있는데, 파이썬은 1초에 약 2천만개 연산을 할 수 있다.\n",
    "- 기본 정렬 알고리즘 = nlogn : 천만개는 기본 알고리즘으로 수행X\n",
    "- but, 수의 범위가 < 10,000\n",
    "- 수의 범위가 작고 테스트 케이스가 많을 때, 계수 정렬 알고리즘(counting Sort) 이용!\n",
    "- 각 숫자가 몇번 나왔는지를 저장, 각 개수 만큼 출력\n",
    "- 데이터의 개수가 많을 때 파이썬 에서는 input대신 import sys 후, sys.stdin.readline()을 사용하는게 빠르다!! (jupyter에서는 지원안하니까 그냥 input()으로 코드짜고 그부분 그대로 `sys.stdin.readline()`으로 바꿔주면 된다."
   ]
  },
  {
   "cell_type": "code",
   "execution_count": 143,
   "metadata": {},
   "outputs": [
    {
     "name": "stdout",
     "output_type": "stream",
     "text": [
      "3\n",
      "5\n",
      "2\n",
      "6\n",
      "2\n",
      "5\n",
      "6\n"
     ]
    }
   ],
   "source": [
    "# import sys\n",
    "n = int(input())\n",
    "# n = int(sys.stdin.readline())\n",
    "array = [0] * 10001 #10,000보다 작거나 같은 자연수 이므로 0~10000공간 만들어줌\n",
    "\n",
    "for i in range(n):\n",
    "    data = int(input())\n",
    "#     data = int(sys.stdin.readline())\n",
    "    array[data] += 1\n",
    "# print(array)\n",
    "for i in range(10001):\n",
    "    if array[i] > 0:\n",
    "        for j in range(array[i]):\n",
    "            print(i)"
   ]
  },
  {
   "cell_type": "markdown",
   "metadata": {},
   "source": [
    "# 2747. 피보나치"
   ]
  },
  {
   "cell_type": "code",
   "execution_count": 19,
   "metadata": {},
   "outputs": [
    {
     "name": "stdout",
     "output_type": "stream",
     "text": [
      "10\n",
      "55\n"
     ]
    }
   ],
   "source": [
    "def fibo(num):\n",
    "    if num == 0:\n",
    "        return 0\n",
    "    if num == 1 or num == 2:\n",
    "        return 1\n",
    "    else:\n",
    "        return fibo(num-1) + fibo(num-2)\n",
    "\n",
    "data = int(input())\n",
    "print(fibo(data))"
   ]
  },
  {
   "cell_type": "code",
   "execution_count": 28,
   "metadata": {},
   "outputs": [
    {
     "name": "stdout",
     "output_type": "stream",
     "text": [
      "2\n",
      "1\n"
     ]
    }
   ],
   "source": [
    "num = int(input())\n",
    "a, b = 1, 1\n",
    "cnt = 2\n",
    "result = 0\n",
    "while cnt < num:\n",
    "    temp = a\n",
    "    a = b\n",
    "    b += temp\n",
    "    cnt += 1\n",
    "print(b)"
   ]
  },
  {
   "cell_type": "markdown",
   "metadata": {},
   "source": [
    "# 🔺🔺1074. Z (이차원 배열 Z자 방문)\n",
    "- 최소 단위로 만들었을 때만, 리턴되는 특정 값이 있게 하기 = 재귀 함수\n",
    "- def로 함수 선언할 때, `global 변수명`해주면 해당 변수는 밖에서 선언한 값을 그대로 사용한다. \n",
    "- 전체를 4등분 했을 때, 가능한 시작점 4군데에 대한 처리 4개 각각 (꼭 순서대로 해줘야해)\n",
    "- 최소 단위가 됐을 때, 가능한 리턴값 4개 + (해당 단위에 없을 때) 1개 "
   ]
  },
  {
   "cell_type": "code",
   "execution_count": 48,
   "metadata": {},
   "outputs": [],
   "source": [
    "def solve(n, x, y):\n",
    "    global cnt # 밖에서 선언한 변수 사용하기\n",
    "    if n == 2: # n이 가장 작은 단위, 2일 때만 return할 수 있음\n",
    "        if y == Y and x == X:\n",
    "            print(cnt)\n",
    "            return #cnt에 plus하는 것 없이 return\n",
    "        cnt += 1\n",
    "        if y+1 == Y and x == X:\n",
    "            print(cnt)\n",
    "            return\n",
    "        cnt += 1\n",
    "        if y == Y and x+1 == X:\n",
    "            print(cnt)\n",
    "            return\n",
    "        cnt += 1\n",
    "        if y+1 == Y and x+1 == X:\n",
    "            print(cnt)\n",
    "            return\n",
    "        # 이안에 없을 때, 다음 최소 단위로 \n",
    "        cnt += 1\n",
    "        return \n",
    "    \n",
    "    # 아래 순서 대로 이동 왼쪽, 오른쪽, 왼쪽아래, 오른쪽아래\n",
    "    solve(n/2, x, y)\n",
    "    solve(n/2, x, y+n/2)\n",
    "    solve(n/2, x+n/2, y)\n",
    "    solve(n/2, x+n/2, y+n/2)\n"
   ]
  },
  {
   "cell_type": "code",
   "execution_count": 50,
   "metadata": {},
   "outputs": [
    {
     "name": "stdout",
     "output_type": "stream",
     "text": [
      "3 7 7\n",
      "63\n"
     ]
    }
   ],
   "source": [
    "n,X,Y = list(map(int, input().split(' ')))\n",
    "cnt = 0\n",
    "solve(2**n, 0, 0)"
   ]
  },
  {
   "cell_type": "markdown",
   "metadata": {},
   "source": [
    "# 🔺🔺 7490. 0만들기 \n",
    "\n",
    "- 연산자 리스트만 모든 경우의 수에 대해 만들어주기 : 재귀 이용 \n",
    "- 가지 뻗는 애들은 재귀 써주는게 좋음(한 번에 세개씩 가지 뻗으면, 한 함수에 세번 재귀호출)\n",
    "- eval()함수 이용\n",
    "- copy해줘야 하는 이유 : 파이썬에서 리스트 공간은 공유되기 때문에 밑에 있는 pop()에서 처리돼서 다 빈 공백만 들어간다. 솔직히 왜그런지 모르겠는데 그냥 조가튼 파이썬 특징인거 같다.\n",
    "- 테스트 케이스가 매우 적고 자연수 N의 범위도 매우 한정적 이므로 완전탐색! "
   ]
  },
  {
   "cell_type": "code",
   "execution_count": 2,
   "metadata": {},
   "outputs": [],
   "source": [
    "import copy\n",
    "def operate(array, n):\n",
    "    if len(array) == n:\n",
    "#         print(array)\n",
    "        operators_list.append(copy.deepcopy(array))\n",
    "        return\n",
    "#         return array # 왜 이렇게 리턴하면 None (경우의 수가 너무 많아서)\n",
    "\n",
    "    # 재귀호출 1\n",
    "    array.append(' ')\n",
    "    operate(array, n)\n",
    "    array.pop()\n",
    "    \n",
    "    # 재귀호출 2\n",
    "    array.append('+')\n",
    "    operate(array, n)\n",
    "    array.pop()\n",
    "    \n",
    "    # 재귀호출 3\n",
    "    array.append('-')\n",
    "    operate(array, n)\n",
    "    array.pop()"
   ]
  },
  {
   "cell_type": "code",
   "execution_count": 39,
   "metadata": {},
   "outputs": [
    {
     "name": "stdout",
     "output_type": "stream",
     "text": [
      "2\n",
      "3\n",
      "1+2-3\n",
      "\n",
      "7\n",
      "1+2-3+4-5-6+7\n",
      "1+2-3-4+5+6-7\n",
      "1-2 3+4+5+6+7\n",
      "1-2 3-4 5+6 7\n",
      "1-2+3+4-5+6-7\n",
      "1-2-3-4-5+6+7\n",
      "\n"
     ]
    }
   ],
   "source": [
    "n = int(input())\n",
    "for _ in range(n):\n",
    "    operators_list = []\n",
    "    m = int(input()) # 자연수 크기\n",
    "    operate([], m-1)\n",
    "    result = [[] for i in range(len(operators_list))]\n",
    "    stringResult = []\n",
    "    for i in range(len(operators_list)):\n",
    "        result[i].append('1')\n",
    "        for j in range(2, m+1):\n",
    "            result[i].append(operators_list[i][j-2])\n",
    "            result[i].append(str(j))\n",
    "        string = ''.join(result[i])\n",
    "        if eval(string.replace(' ', '')) == 0:\n",
    "            print(string)\n",
    "    print()"
   ]
  },
  {
   "cell_type": "code",
   "execution_count": null,
   "metadata": {},
   "outputs": [],
   "source": []
  },
  {
   "cell_type": "code",
   "execution_count": 40,
   "metadata": {},
   "outputs": [
    {
     "name": "stdout",
     "output_type": "stream",
     "text": [
      "3\n",
      "2\n",
      "9\n",
      "0\n",
      "0\n",
      "2\n",
      "9\n"
     ]
    }
   ],
   "source": [
    "n = int(input())\n",
    "k = list()\n",
    "for i in range(n):\n",
    "    k.append(int(input()))\n",
    "k.sort()\n",
    "for i in range(len(k)):\n",
    "    print(k[i])"
   ]
  },
  {
   "cell_type": "code",
   "execution_count": null,
   "metadata": {},
   "outputs": [],
   "source": []
  },
  {
   "cell_type": "code",
   "execution_count": 41,
   "metadata": {},
   "outputs": [
    {
     "name": "stdout",
     "output_type": "stream",
     "text": [
      "5 2\n",
      "4 1 2 3 5\n",
      "2\n"
     ]
    }
   ],
   "source": [
    "n, m = list(map(int, input().split(' ')))\n",
    "data = list(map(int, input().split(' ')))\n",
    "data.sort()\n",
    "print(data[m-1])"
   ]
  }
 ],
 "metadata": {
  "kernelspec": {
   "display_name": "Python 3",
   "language": "python",
   "name": "python3"
  },
  "language_info": {
   "codemirror_mode": {
    "name": "ipython",
    "version": 3
   },
   "file_extension": ".py",
   "mimetype": "text/x-python",
   "name": "python",
   "nbconvert_exporter": "python",
   "pygments_lexer": "ipython3",
   "version": "3.7.2"
  }
 },
 "nbformat": 4,
 "nbformat_minor": 2
}
