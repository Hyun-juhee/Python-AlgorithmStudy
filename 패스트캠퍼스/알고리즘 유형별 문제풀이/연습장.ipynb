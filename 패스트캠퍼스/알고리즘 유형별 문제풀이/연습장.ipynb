{
 "cells": [
  {
   "cell_type": "code",
   "execution_count": 5,
   "metadata": {},
   "outputs": [
    {
     "name": "stdout",
     "output_type": "stream",
     "text": [
      "1 3\n",
      "2 7\n",
      "7\n"
     ]
    }
   ],
   "source": [
    "n, k = map(int, input().split())\n",
    "dp = [[0]*(k+1) for _ in range(n+1)]\n",
    "for i in range(1, n+1):\n",
    "    w, v = map(int, input().split())\n",
    "    for j in range(1, k+1):\n",
    "        if j < w:\n",
    "            dp[i][j] = dp[i-1][j]\n",
    "        else:\n",
    "            dp[i][j] = max(dp[i-1][j], dp[i-1][j-w] + v) # i번째는 완성 X, i-1번째와 비교해야해 \n",
    "print(dp[n][k])"
   ]
  },
  {
   "cell_type": "code",
   "execution_count": 8,
   "metadata": {},
   "outputs": [
    {
     "name": "stdout",
     "output_type": "stream",
     "text": [
      "5\n",
      "1 2 1 3 2\n",
      "[1, 2, 1, 3, 2]\n",
      "3\n"
     ]
    }
   ],
   "source": [
    "n = int(input())\n",
    "array = list(map(int, input().split()))\n",
    "dp = [1 for _ in range(n)]\n",
    "for i in range(1,n):\n",
    "    for j in range(i):\n",
    "        if array[j] < array[i]:\n",
    "            dp[i] = max(dp[i], dp[j]+1)\n",
    "# print(dp)\n",
    "print(max(dp))"
   ]
  },
  {
   "cell_type": "code",
   "execution_count": 9,
   "metadata": {},
   "outputs": [
    {
     "name": "stdout",
     "output_type": "stream",
     "text": [
      "acaykp\n",
      "capcak\n",
      "4\n"
     ]
    }
   ],
   "source": [
    "x = input()\n",
    "y = input()\n",
    "\n",
    "dp = [[0]*(len(y)+1) for _ in range(len(x)+1)]\n",
    "for i in range(1, len(x)+1):\n",
    "    for j in range(1, len(y)+1):\n",
    "        if x[i-1] == y[j-1]:\n",
    "            dp[i][j] = dp[i-1][j-1] +1\n",
    "        else:\n",
    "            dp[i][j] = max(dp[i-1][j], dp[i][j-1])\n",
    "print(max(dp[len(x)]))"
   ]
  },
  {
   "cell_type": "code",
   "execution_count": 16,
   "metadata": {},
   "outputs": [
    {
     "name": "stdout",
     "output_type": "stream",
     "text": [
      "3 5 10\n",
      "5 3 7\n",
      "10\n"
     ]
    }
   ],
   "source": [
    "n, s, m = map(int, input().split())\n",
    "v = list(map(int, input().split()))\n",
    "\n",
    "dp = [[0]*(m+1) for _ in range(n+1)]\n",
    "dp[0][s] = 1\n",
    "for i in range(1, n+1):\n",
    "    for j in range(0, m+1):\n",
    "        if dp[i-1][j] == 1:\n",
    "            maxVol = j + v[i-1]\n",
    "            minVol = j - v[i-1]\n",
    "            if maxVol <= m:\n",
    "                dp[i][maxVol] = 1\n",
    "            if minVol >= 0:\n",
    "                dp[i][minVol] = 1\n",
    "result = -1\n",
    "for i in range(m, -1, -1):\n",
    "    if dp[n][i] == 1:\n",
    "        result = i\n",
    "        break\n",
    "print(result)"
   ]
  },
  {
   "cell_type": "code",
   "execution_count": 28,
   "metadata": {},
   "outputs": [
    {
     "name": "stdout",
     "output_type": "stream",
     "text": [
      "5\n",
      "25 3 4\n",
      "4 4 6\n",
      "9 2 3\n",
      "16 2 5\n",
      "1 5 2\n",
      "10\n",
      "5\n",
      "3\n",
      "1\n"
     ]
    }
   ],
   "source": [
    "n = int(input())\n",
    "array = []\n",
    "array.append((0,0,0,0))\n",
    "for i in range(n):\n",
    "    a, b, c = map(int,input().split()) # 밑면, 높이, 무게\n",
    "    array.append((i+1, a, b, c))\n",
    "array.sort(key = lambda x: x[3])\n",
    "dp = [0 for _ in range(n+1)]\n",
    "for i in range(1,n+1):\n",
    "    for j in range(0, i):\n",
    "        if array[i][1] > array[j][1]:\n",
    "            dp[i] = max(dp[j]+array[i][2], dp[i])\n",
    "\n",
    "# 역추적\n",
    "high = max(dp)\n",
    "index = n\n",
    "result = []\n",
    "for i in range(n, 0, -1):\n",
    "    if high == dp[i]:\n",
    "        result.append(array[i][0])\n",
    "        high -= array[i][2]\n",
    "for item in result:\n",
    "    print(item)"
   ]
  },
  {
   "cell_type": "code",
   "execution_count": 33,
   "metadata": {},
   "outputs": [
    {
     "name": "stdout",
     "output_type": "stream",
     "text": [
      "[0, 5, 7, 10, 9, 9]\n",
      "[(0, 0, 0, 0), (5, 1, 5, 2), (3, 9, 2, 3), (1, 25, 3, 4), (4, 16, 2, 5), (2, 4, 4, 6)]\n"
     ]
    }
   ],
   "source": [
    "print(dp)\n",
    "print(array)"
   ]
  },
  {
   "cell_type": "code",
   "execution_count": 31,
   "metadata": {},
   "outputs": [
    {
     "name": "stdout",
     "output_type": "stream",
     "text": [
      "3\n",
      "5\n",
      "3\n",
      "1\n"
     ]
    }
   ],
   "source": [
    "print(len(result))\n",
    "for item in result:\n",
    "    print(item)"
   ]
  },
  {
   "cell_type": "code",
   "execution_count": 1,
   "metadata": {},
   "outputs": [
    {
     "name": "stdout",
     "output_type": "stream",
     "text": [
      "4 6\n",
      "0 2\n",
      "0 1 1\n",
      "1 2 1\n",
      "1 3 1\n",
      "3 2 1\n",
      "2 0 3\n",
      "3 0 2\n",
      "-1\n",
      "0 0\n"
     ]
    }
   ],
   "source": [
    "import heapq\n",
    "from collections import deque\n",
    "# import sys\n",
    "# input = sys.stdin.readline\n",
    "\n",
    "def dijkstra():\n",
    "    dijk = [(float('inf'), start) for _ in range(n)]\n",
    "    queue = []\n",
    "    dijk[start] = (0, start)\n",
    "    heapq.heappush(queue, (0, start))\n",
    "    while queue:\n",
    "        nowDistance, now = heapq.heappop(queue)\n",
    "        for p, node in graph[now]:\n",
    "            distance = nowDistance + p\n",
    "            if distance <= dijk[node][0] and not dropped[now][node]:\n",
    "                dijk[node] = (distance, now)\n",
    "                heapq.heappush(queue, (distance, node))\n",
    "    return dijk\n",
    "\n",
    "n, m = map(int, input().split())\n",
    "def bfs():\n",
    "    q = deque()\n",
    "    q.append(end)\n",
    "    while q:\n",
    "        now = q.popleft()\n",
    "        if now == start:\n",
    "            continue\n",
    "        for prev, cost in graph[now]:\n",
    "            if dijk[now] == dijk[prev] + cost:\n",
    "                dropped[prev][now] = True\n",
    "                q.append(prev)\n",
    "                \n",
    "while n!= 0 or m!=0:\n",
    "    # 그래프 입력받기 \n",
    "    start, end = map(int, input().split())\n",
    "    graph = [[] for _ in range(n)]\n",
    "    for _ in range(m):\n",
    "        u,v,p = map(int, input().split())\n",
    "        graph[u].append([p,v])\n",
    "\n",
    "\n",
    "    # 첫 dijkstra\n",
    "    dropped = [[False] * n for _ in range(n)]\n",
    "    dijk = dijkstra()\n",
    "    minDistance = dijk[end][0]   \n",
    "\n",
    "    # 역추적\n",
    "    while dijk[end][0] == minDistance:\n",
    "        dijk[end]\n",
    "        u = dijk[end][1]\n",
    "        temp = end\n",
    "        while temp != start:\n",
    "            dropped[u][temp] = True\n",
    "            temp = u\n",
    "            u = dijk[temp][1]\n",
    "\n",
    "        dijk = dijkstra()     \n",
    "    # 결과 출력 \n",
    "    if dijk[end][0] == float('inf'):\n",
    "        print(-1)\n",
    "    else:\n",
    "        print(dijk[end][0])\n",
    "\n",
    "    n, m = map(int, input().split())"
   ]
  },
  {
   "cell_type": "code",
   "execution_count": 15,
   "metadata": {},
   "outputs": [
    {
     "name": "stdout",
     "output_type": "stream",
     "text": [
      "3\n",
      "1 2 3\n",
      "3\n",
      "1 2 3\n"
     ]
    }
   ],
   "source": [
    "n = int(input())\n",
    "crane = list(map(int, input().split()))\n",
    "m = int(input())\n",
    "box = list(map(int, input().split()))"
   ]
  },
  {
   "cell_type": "code",
   "execution_count": 21,
   "metadata": {},
   "outputs": [
    {
     "name": "stdout",
     "output_type": "stream",
     "text": [
      "3\n",
      "7 8 9\n",
      "5\n",
      "3 3 9 9 3\n"
     ]
    },
    {
     "ename": "KeyboardInterrupt",
     "evalue": "",
     "output_type": "error",
     "traceback": [
      "\u001b[1;31m---------------------------------------------------------------------------\u001b[0m",
      "\u001b[1;31mKeyboardInterrupt\u001b[0m                         Traceback (most recent call last)",
      "\u001b[1;32m<ipython-input-21-d487b3b9fca1>\u001b[0m in \u001b[0;36m<module>\u001b[1;34m\u001b[0m\n\u001b[0;32m     20\u001b[0m                     \u001b[0mcount\u001b[0m \u001b[1;33m+=\u001b[0m \u001b[1;36m1\u001b[0m\u001b[1;33m\u001b[0m\u001b[1;33m\u001b[0m\u001b[0m\n\u001b[0;32m     21\u001b[0m                     \u001b[0mindex\u001b[0m\u001b[1;33m[\u001b[0m\u001b[0mi\u001b[0m\u001b[1;33m]\u001b[0m \u001b[1;33m+=\u001b[0m \u001b[1;36m1\u001b[0m\u001b[1;33m\u001b[0m\u001b[1;33m\u001b[0m\u001b[0m\n\u001b[1;32m---> 22\u001b[1;33m                     \u001b[1;32mbreak\u001b[0m\u001b[1;33m\u001b[0m\u001b[1;33m\u001b[0m\u001b[0m\n\u001b[0m\u001b[0;32m     23\u001b[0m         \u001b[0mresult\u001b[0m \u001b[1;33m+=\u001b[0m \u001b[1;36m1\u001b[0m\u001b[1;33m\u001b[0m\u001b[1;33m\u001b[0m\u001b[0m\n\u001b[0;32m     24\u001b[0m     \u001b[0mprint\u001b[0m\u001b[1;33m(\u001b[0m\u001b[0mresult\u001b[0m\u001b[1;33m)\u001b[0m\u001b[1;33m\u001b[0m\u001b[1;33m\u001b[0m\u001b[0m\n",
      "\u001b[1;31mKeyboardInterrupt\u001b[0m: "
     ]
    }
   ],
   "source": [
    "n = int(input())\n",
    "crane = list(map(int, input().split()))\n",
    "m = int(input())\n",
    "box = list(map(int, input().split()))\n",
    "\n",
    "crane.sort()\n",
    "box.sort()\n",
    "\n",
    "if max(crane) < max(box):\n",
    "    print(-1)\n",
    "else:\n",
    "    count = 0\n",
    "    already = [False for _ in range(m)]\n",
    "    result = 0\n",
    "    index = [0 for _ in range(n)]\n",
    "    while count < m:\n",
    "        for i in range(n):\n",
    "            while index[i] < m:\n",
    "                a = index[i]\n",
    "                index[i] += 1\n",
    "                if already[a] == False and box[a] <= crane[i]:\n",
    "                    already[a] = True\n",
    "                    count += 1\n",
    "                    break\n",
    "        result += 1\n",
    "    print(result)\n"
   ]
  },
  {
   "cell_type": "code",
   "execution_count": 24,
   "metadata": {},
   "outputs": [
    {
     "name": "stdout",
     "output_type": "stream",
     "text": [
      "7\n",
      "2 6\n",
      "2 7\n",
      "1 4\n",
      "1 5\n",
      "3 1\n",
      "3 2\n",
      "5 1\n"
     ]
    }
   ],
   "source": [
    "import heapq\n",
    "n = int(input())\n",
    "array = []\n",
    "for _ in range(n):\n",
    "    deadline, cup = map(int, input().split())\n",
    "    array.append((deadline, cup))\n",
    "    \n",
    "array.sort()"
   ]
  },
  {
   "cell_type": "code",
   "execution_count": 25,
   "metadata": {},
   "outputs": [
    {
     "name": "stdout",
     "output_type": "stream",
     "text": [
      "16\n"
     ]
    }
   ],
   "source": [
    "import heapq\n",
    "n = int(input())\n",
    "array = []\n",
    "for _ in range(n):\n",
    "    deadline, cup = map(int, input().split())\n",
    "    array.append((deadline, cup))\n",
    "    \n",
    "array.sort()\n",
    "queue = []\n",
    "for i in range(n):\n",
    "    heapq.heappush(queue, array[i][1])\n",
    "    if array[i][0] < len(queue):\n",
    "        heapq.heappop(queue)\n",
    "print(sum(queue))"
   ]
  }
 ],
 "metadata": {
  "kernelspec": {
   "display_name": "Python 3",
   "language": "python",
   "name": "python3"
  },
  "language_info": {
   "codemirror_mode": {
    "name": "ipython",
    "version": 3
   },
   "file_extension": ".py",
   "mimetype": "text/x-python",
   "name": "python",
   "nbconvert_exporter": "python",
   "pygments_lexer": "ipython3",
   "version": "3.7.2"
  }
 },
 "nbformat": 4,
 "nbformat_minor": 2
}
