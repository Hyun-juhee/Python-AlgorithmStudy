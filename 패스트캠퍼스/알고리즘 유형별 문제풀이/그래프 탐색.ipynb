{
 "cells": [
  {
   "cell_type": "markdown",
   "metadata": {},
   "source": [
    "# 1260. DFS와 BFS\n",
    "- 스택말고 재귀함수를 이용한 dfs도 기억해두기!!\n",
    "- 간선 저장 순서에 따라 달라지기 때문에 간선 순서 정렬한 후 탐색해야한다."
   ]
  },
  {
   "cell_type": "code",
   "execution_count": 50,
   "metadata": {},
   "outputs": [
    {
     "name": "stdout",
     "output_type": "stream",
     "text": [
      "0 0\n"
     ]
    },
    {
     "ename": "ValueError",
     "evalue": "not enough values to unpack (expected 3, got 2)",
     "output_type": "error",
     "traceback": [
      "\u001b[1;31m---------------------------------------------------------------------------\u001b[0m",
      "\u001b[1;31mValueError\u001b[0m                                Traceback (most recent call last)",
      "\u001b[1;32m<ipython-input-50-631f40482a7e>\u001b[0m in \u001b[0;36m<module>\u001b[1;34m\u001b[0m\n\u001b[0;32m      1\u001b[0m \u001b[1;32mfrom\u001b[0m \u001b[0mcollections\u001b[0m \u001b[1;32mimport\u001b[0m \u001b[0mdeque\u001b[0m\u001b[1;33m,\u001b[0m \u001b[0mdefaultdict\u001b[0m\u001b[1;33m\u001b[0m\u001b[1;33m\u001b[0m\u001b[0m\n\u001b[1;32m----> 2\u001b[1;33m \u001b[0mn\u001b[0m\u001b[1;33m,\u001b[0m \u001b[0mm\u001b[0m\u001b[1;33m,\u001b[0m \u001b[0mstart\u001b[0m \u001b[1;33m=\u001b[0m \u001b[0mmap\u001b[0m\u001b[1;33m(\u001b[0m\u001b[0mint\u001b[0m\u001b[1;33m,\u001b[0m \u001b[0minput\u001b[0m\u001b[1;33m(\u001b[0m\u001b[1;33m)\u001b[0m\u001b[1;33m.\u001b[0m\u001b[0msplit\u001b[0m\u001b[1;33m(\u001b[0m\u001b[1;33m)\u001b[0m\u001b[1;33m)\u001b[0m\u001b[1;33m\u001b[0m\u001b[1;33m\u001b[0m\u001b[0m\n\u001b[0m\u001b[0;32m      3\u001b[0m \u001b[1;33m\u001b[0m\u001b[0m\n\u001b[0;32m      4\u001b[0m \u001b[0mgraph\u001b[0m \u001b[1;33m=\u001b[0m \u001b[0mdefaultdict\u001b[0m\u001b[1;33m(\u001b[0m\u001b[0mlist\u001b[0m\u001b[1;33m)\u001b[0m\u001b[1;33m\u001b[0m\u001b[1;33m\u001b[0m\u001b[0m\n\u001b[0;32m      5\u001b[0m \u001b[1;32mfor\u001b[0m \u001b[0m_\u001b[0m \u001b[1;32min\u001b[0m \u001b[0mrange\u001b[0m\u001b[1;33m(\u001b[0m\u001b[0mm\u001b[0m\u001b[1;33m)\u001b[0m\u001b[1;33m:\u001b[0m\u001b[1;33m\u001b[0m\u001b[1;33m\u001b[0m\u001b[0m\n",
      "\u001b[1;31mValueError\u001b[0m: not enough values to unpack (expected 3, got 2)"
     ]
    }
   ],
   "source": [
    "from collections import deque, defaultdict\n",
    "n, m, start = map(int, input().split())\n",
    "\n",
    "graph = defaultdict(list)\n",
    "for _ in range(m):\n",
    "    a, b = map(int, input().split())\n",
    "    graph[a].append(b)\n",
    "    graph[b].append(a)\n",
    "# BFS\n",
    "visited = [0 for _ in range(n+1)]\n",
    "queue = deque()\n",
    "queue.append(start)\n",
    "bfs = []\n",
    "while queue:\n",
    "    temp = queue.popleft()\n",
    "    if visited[temp] == 0:\n",
    "        bfs.append(temp)\n",
    "        visited[temp] = 1\n",
    "        graph[temp].sort()\n",
    "        queue.extend(graph[temp])\n",
    "        \n",
    "# DFS\n",
    "# stack을 이용해도 되지만 재귀함수를 이용하겠음\n",
    "# 자기랑 연결된애 dfs 호출, 호출 \n",
    "visited = [0 for _ in range(n+1)]\n",
    "def dfs(start):\n",
    "    print(start, end = ' ')\n",
    "    visited[start] = 1\n",
    "    for item in graph[start]:\n",
    "        if visited[item] == 0:\n",
    "            dfs(item)\n",
    "            \n",
    "\n",
    "dfs(start)\n",
    "print()\n",
    "for item in bfs:\n",
    "    print(item, end = ' ')\n",
    "    "
   ]
  },
  {
   "cell_type": "markdown",
   "metadata": {},
   "source": [
    "# 1697. 숨바꼭질 \n",
    "- 이동 가능한 위치를 연결된 노드라고 두고 풀이 "
   ]
  },
  {
   "cell_type": "code",
   "execution_count": 53,
   "metadata": {},
   "outputs": [
    {
     "name": "stdout",
     "output_type": "stream",
     "text": [
      "100000 1\n",
      "99999\n"
     ]
    }
   ],
   "source": [
    "from collections import deque\n",
    "x, y = map(int, input().split())\n",
    "\n",
    "queue = deque()\n",
    "queue.append(x)\n",
    "100000\n",
    "visited = [0 for _ in range(100001)]\n",
    "visited[x] = 1\n",
    "while queue:\n",
    "    temp = queue.popleft()\n",
    "    if temp == y:\n",
    "        break\n",
    "    else:\n",
    "        cnt = visited[temp]+1\n",
    "        a = temp-1\n",
    "        b = temp+1\n",
    "        c = temp*2\n",
    "        if 0 <= a <= 100000 and visited[a] == 0 :\n",
    "            queue.append(a)\n",
    "            visited[a] = cnt\n",
    "        if 0 <= b <= 100000 and visited[b] == 0 :\n",
    "            queue.append(b)\n",
    "            visited[b] = cnt\n",
    "        if 0 <= c <= 100000 and visited[c] == 0 :\n",
    "            queue.append(c)\n",
    "            visited[c] = cnt\n",
    "print(visited[y]-1)"
   ]
  },
  {
   "cell_type": "markdown",
   "metadata": {},
   "source": [
    "# 2606. 바이러스"
   ]
  },
  {
   "cell_type": "code",
   "execution_count": 61,
   "metadata": {},
   "outputs": [
    {
     "name": "stdout",
     "output_type": "stream",
     "text": [
      "7\n",
      "6\n",
      "1 2\n",
      "2 3\n",
      "1 5\n",
      "5 2\n",
      "5 6\n",
      "4 7\n",
      "5\n"
     ]
    }
   ],
   "source": [
    "n = int(input())\n",
    "m = int(input())\n",
    "graph = [[] for _ in range(n+1)]\n",
    "graph\n",
    "for _ in range(m):\n",
    "    a, b = map(int, input().split())\n",
    "    graph[a].append(b)\n",
    "    graph[b].append(a)\n",
    "\n",
    "array = []\n",
    "def dfs(start):\n",
    "    array.append(start)\n",
    "    for item in graph[start]:\n",
    "        if item not in array:\n",
    "            dfs(item)\n",
    "dfs(1)\n",
    "print(len(array)-1)"
   ]
  },
  {
   "cell_type": "markdown",
   "metadata": {},
   "source": [
    "# 1012. 유기농 배추\n",
    "- 여기선 bfs순서가 중요한게 아니니까 그냥 stack, dfs로 구현하자\n",
    "- deque를 사용하는게 pop(0)보단 시간이 덜걸리지만 pop()만큼은 아니다!"
   ]
  },
  {
   "cell_type": "code",
   "execution_count": 76,
   "metadata": {},
   "outputs": [
    {
     "name": "stdout",
     "output_type": "stream",
     "text": [
      "1\n",
      "5 3 6\n",
      "0 2\n",
      "1 2\n",
      "2 2\n",
      "3 2\n",
      "4 2\n",
      "4 0\n",
      "2\n"
     ]
    }
   ],
   "source": [
    "# from collections import deque\n",
    "testCase = int(input())\n",
    "for _ in range(testCase):\n",
    "    m, n, k = map(int, input().split())\n",
    "    table = [[0] * n for _ in range(m)]\n",
    "    array = []\n",
    "    for _ in range(k):\n",
    "        a, b = map(int, input().split())\n",
    "        array.append((a,b))\n",
    "        table[a][b] = 1\n",
    "\n",
    "    def bfs(x, y):\n",
    "        queue = []\n",
    "        queue.append((x,y))\n",
    "        while queue:\n",
    "            a, b = queue.pop()\n",
    "            table[a][b] = 0\n",
    "            if a-1 >= 0 and table[a-1][b] == 1:\n",
    "                queue.append((a-1, b))\n",
    "            if a+1 < m and table[a+1][b] == 1:\n",
    "                queue.append((a+1, b))\n",
    "            if b-1 >= 0 and table[a][b-1] == 1:\n",
    "                queue.append((a, b-1))\n",
    "            if b+1 < n and table[a][b+1] == 1:\n",
    "                queue.append((a, b+1))\n",
    "    cnt = 0\n",
    "    for x, y in array:\n",
    "        if table[x][y] == 1:\n",
    "            bfs(x, y)\n",
    "            cnt += 1\n",
    "    print(cnt)"
   ]
  },
  {
   "cell_type": "markdown",
   "metadata": {},
   "source": [
    "# 1325. 효율적인 해킹"
   ]
  },
  {
   "cell_type": "code",
   "execution_count": 97,
   "metadata": {},
   "outputs": [
    {
     "name": "stdout",
     "output_type": "stream",
     "text": [
      "5 4\n",
      "3 1\n",
      "3 2\n",
      "4 3\n",
      "5 3\n",
      "1 2 "
     ]
    }
   ],
   "source": [
    "# from collections import deque\n",
    "def dfs(start):\n",
    "    visited = [0 for _ in range(n+1)]\n",
    "    queue = []\n",
    "    queue.append(start)\n",
    "    cnt = 1\n",
    "    visited[start] = 1\n",
    "    while queue:\n",
    "        temp = queue.pop()\n",
    "        for item in graph[temp]:\n",
    "            if visited[item] == 0:\n",
    "                queue.append(item)\n",
    "                visited[item] = 1\n",
    "                cnt += 1\n",
    "    return cnt\n",
    "\n",
    "n,m = map(int, input().split())\n",
    "graph = [[] for _ in range(n+1)]\n",
    "for _ in range(m):\n",
    "    a, b = map(int, input().split())\n",
    "    graph[b].append(a)\n",
    "    \n",
    "comNo = []\n",
    "maxCnt = 0\n",
    "for i in range(1, n+1):\n",
    "    temp = dfs(i)\n",
    "    if  maxCnt < temp:\n",
    "        comNo = [i]\n",
    "        maxCnt = temp\n",
    "    elif maxCnt == temp:\n",
    "        comNo.append(i)\n",
    "for item in comNo:\n",
    "    print(item, end= ' ')"
   ]
  },
  {
   "cell_type": "code",
   "execution_count": null,
   "metadata": {},
   "outputs": [],
   "source": [
    "def dfs(start):\n",
    "    visited = [0 for _ in range(n+1)]\n",
    "    queue = []\n",
    "    queue.append(start)\n",
    "    cnt = 0\n",
    "    while queue:\n",
    "        temp = queue.pop()\n",
    "        cnt += 1\n",
    "        visited[temp] = 1\n",
    "        for item in graph[temp]:\n",
    "            if visited[item] == 0:\n",
    "                queue.append(item)\n",
    "    return cnt\n",
    "\n",
    "n,m = map(int, input().split())\n",
    "graph = [[] for _ in range(n+1)]\n",
    "for _ in range(m):\n",
    "    a, b = map(int, input().split())\n",
    "    graph[b].append(a)\n",
    "    \n",
    "comNo = []\n",
    "maxCnt = 0\n",
    "for i in range(1, n+1):\n",
    "    temp = dfs(i)\n",
    "    if  maxCnt < temp:\n",
    "        comNo = [i]\n",
    "        maxCnt = temp\n",
    "    elif maxCnt == temp:\n",
    "        comNo.append(i)\n",
    "for item in comNo:\n",
    "    print(item, end= ' ')"
   ]
  },
  {
   "cell_type": "markdown",
   "metadata": {},
   "source": [
    "# 10282 해킹\n",
    "- 간선에 weight가 주어진다 \n",
    "- 가장 거리가 먼 노드의 거리를 구하는 것 -> 최단 경로 \n",
    "- 이런 경우의 탐색은 다익스트라를 이용한다. "
   ]
  },
  {
   "cell_type": "code",
   "execution_count": 34,
   "metadata": {},
   "outputs": [
    {
     "name": "stdout",
     "output_type": "stream",
     "text": [
      "2\n",
      "3 2 2\n",
      "2 1 5\n",
      "3 2 5\n",
      "2 5\n",
      "3 3 1\n",
      "2 1 2\n",
      "3 1 8\n",
      "3 2 4\n",
      "3 6\n"
     ]
    }
   ],
   "source": [
    "import heapq\n",
    "test_case = int(input())\n",
    "for _ in range(test_case):\n",
    "    n, d, c = map(int, input().split())\n",
    "    graph = [[] for _ in range(n+1)]\n",
    "    for i in range(d):\n",
    "        a, b, s = map(int, input().split())\n",
    "        graph[b].append((s, a))\n",
    "\n",
    "    queue = []\n",
    "    heapq.heappush(queue, (0, c))\n",
    "    distances = [float('inf') for _ in range(n+1)]\n",
    "    distances[c] = 0\n",
    "    while queue:\n",
    "        cS, cNode = heapq.heappop(queue)\n",
    "        if cS <= distances[cNode]:\n",
    "            for s, a in graph[cNode]:\n",
    "                dis = cS + s\n",
    "                if distances[a] > dis:\n",
    "                    distances[a] = dis\n",
    "                    heapq.heappush(queue, (dis, a))\n",
    "\n",
    "    cnt = 0\n",
    "    time = 0\n",
    "    for item in distances:\n",
    "        if item != float('inf'):\n",
    "            cnt += 1\n",
    "            if time < item:\n",
    "                time = item\n",
    "    print(cnt, time)\n"
   ]
  }
 ],
 "metadata": {
  "kernelspec": {
   "display_name": "Python 3",
   "language": "python",
   "name": "python3"
  },
  "language_info": {
   "codemirror_mode": {
    "name": "ipython",
    "version": 3
   },
   "file_extension": ".py",
   "mimetype": "text/x-python",
   "name": "python",
   "nbconvert_exporter": "python",
   "pygments_lexer": "ipython3",
   "version": "3.7.2"
  }
 },
 "nbformat": 4,
 "nbformat_minor": 2
}
