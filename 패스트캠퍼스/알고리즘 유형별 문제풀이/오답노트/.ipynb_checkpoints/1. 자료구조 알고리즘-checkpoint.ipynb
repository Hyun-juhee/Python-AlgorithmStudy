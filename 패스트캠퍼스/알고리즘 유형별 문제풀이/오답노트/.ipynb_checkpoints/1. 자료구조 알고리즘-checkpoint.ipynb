{
 "cells": [
  {
   "cell_type": "markdown",
   "metadata": {},
   "source": [
    "# 2920. 음계"
   ]
  },
  {
   "cell_type": "code",
   "execution_count": 20,
   "metadata": {},
   "outputs": [
    {
     "name": "stdout",
     "output_type": "stream",
     "text": [
      "8 1 7 2 6 3 5 4\n",
      "mixing\n"
     ]
    }
   ],
   "source": [
    "def isAscending(data):\n",
    "    check = 0;\n",
    "    for i in range(1,9):\n",
    "        if int(data[i-1]) == i:\n",
    "            check += 0\n",
    "        else: \n",
    "            check += 1\n",
    "    if check == 0:\n",
    "        return True\n",
    "    else:\n",
    "        return False\n",
    "    \n",
    "def isDescending(data):\n",
    "    check = 0;\n",
    "    for i in range(1,9):\n",
    "        if int(data[8-i]) == i:\n",
    "            check += 0\n",
    "        else: \n",
    "            check += 1\n",
    "    if check == 0:\n",
    "        return True\n",
    "    else:\n",
    "        return False\n",
    "    \n",
    "\n",
    "a = input().split(' ')\n",
    "if isAscending(a):\n",
    "    print(\"ascending\")\n",
    "elif isDescending(a):\n",
    "    print(\"descending\")\n",
    "else:\n",
    "    print(\"mixed\")"
   ]
  },
  {
   "cell_type": "code",
   "execution_count": 29,
   "metadata": {},
   "outputs": [
    {
     "name": "stdout",
     "output_type": "stream",
     "text": [
      "1 3 2 1 4 5 6 4\n",
      "mixed\n"
     ]
    }
   ],
   "source": [
    "a = list(map(int, input().split()))\n",
    "\n",
    "ascending = True\n",
    "descending = True\n",
    "# 하나라도 틀리면 아닌 상황에서는 초기값을 true로 두고 틀리면 false체크하는 것이 편하다.\n",
    "# 오름차순, 내림차순 검사\n",
    "for i in range(1, 8):\n",
    "    if a[i-1] < a[i]:\n",
    "        descending = False\n",
    "    if a[i-1] > a[i]:\n",
    "        ascending = False\n",
    "\n",
    "if ascending:\n",
    "    print(\"ascending\")\n",
    "elif descending:\n",
    "    print(\"descending\")\n",
    "else:\n",
    "    print(\"mixed\")"
   ]
  },
  {
   "cell_type": "markdown",
   "metadata": {},
   "source": [
    "# 2798. 블랙잭\n",
    "### 완전 탐색으로 문제를 풀어도 되는 이유\n",
    "- n(총 카드의 개수)가 최대 100이다. \n",
    "- 100 중에 세개를 뽑아서 돌리는 nC3을 해도 < 1,000,000 인데 이정도면 런타임 에러 X (1초에 2천만 정도 수행가능, 백만은 OK) \n",
    "\n",
    "### 메모리, 시간 최소화\n",
    "- 내가짠건 아예 3중포문 n^3\n",
    "- 인덱싱을 적게 하는 것도 좋지만 n*(n-1)*(n-2)/3!에 비해서 n^3은 매우 크다 \n",
    "- 리스트를 만들어 정렬하면 정렬하는데 또 반복문 쓰는것과 마찬가지 + 리스트 전체 길이 만큼의 메모리가 소요된다.\n",
    "- 매번 max로 비교해서 기존값보다 클 때만 변수에 저장하는 것이 더 효율적\n",
    "- 아래 두코드는 메모리와 시간 모두 2배 이상차이난다."
   ]
  },
  {
   "cell_type": "code",
   "execution_count": 41,
   "metadata": {},
   "outputs": [
    {
     "name": "stdout",
     "output_type": "stream",
     "text": [
      "5 21\n",
      "5 6 7 8 9\n",
      "21\n"
     ]
    }
   ],
   "source": [
    "n,m = list(map(int, input().split()))\n",
    "\n",
    "card = list(map(int, input().split()))\n",
    "\n",
    "sumList = []\n",
    "for a in card:\n",
    "    for b in card:\n",
    "        for c in card:\n",
    "            result = a+b+c\n",
    "            if a!=b and b!=c and a!=c and result <= m:\n",
    "                sumList.append(result)\n",
    "sumList.sort(reverse = True)\n",
    "print(sumList[0])"
   ]
  },
  {
   "cell_type": "code",
   "execution_count": 40,
   "metadata": {},
   "outputs": [
    {
     "name": "stdout",
     "output_type": "stream",
     "text": [
      "5 21\n",
      "5 6 7 8 9\n",
      "21\n"
     ]
    }
   ],
   "source": [
    "n,m = list(map(int, input().split()))\n",
    "\n",
    "card = list(map(int, input().split()))\n",
    "\n",
    "maxSum = 0\n",
    "for a in range(0, n):\n",
    "    for b in range(a+1, n):\n",
    "        for c in range(b+1, n):\n",
    "            result = card[a]+card[b]+card[c]\n",
    "            if result <= m:\n",
    "                maxSum = max(maxSum, result)\n",
    "print(maxSum)"
   ]
  },
  {
   "cell_type": "markdown",
   "metadata": {},
   "source": [
    "# 🔺1974. 스택수열\n",
    "\n",
    "- 나는 stack에 있으면 그거 나올 때 까지 push라고 생각했는데, 만약에 이번에 나와야할게 3인데 stack에 1,3,4이렇게 담겨있으면 무조건 4부터 나와야 하니까 안되는 수열!\n",
    "- pop()할 때는, 가장 뒤에있는 stack[-1]의 값과 나와야할 값만 비교해 주면 된다.\n",
    "- pop()하기 이전에 input된 값이 최근에 push된 값보다 크다면 같아질 때까지 push\n",
    "- 위에서 while로 그렇게 push하면 이미 push해서 같아졌거나, 이미 있던 값이라 같아진 마지막 원소를 그냥 pop()하면 된다.\n",
    "- 마지막 원소가 input한 값과 다르다면 NO\n",
    "- 아예 실행문을 종료할때 `exit(0)`활용하기\n",
    "- 내가짠 코드는 pypy3로는 되지만 python으로는 시간초과, 아래 코드와 비교했을 때 pypy3에서도 시간 2배 차이 "
   ]
  },
  {
   "cell_type": "code",
   "execution_count": 4,
   "metadata": {},
   "outputs": [
    {
     "name": "stdout",
     "output_type": "stream",
     "text": [
      "5\n",
      "1\n",
      "2\n",
      "5\n",
      "3\n",
      "4\n",
      "NO\n"
     ]
    }
   ],
   "source": [
    "n = int(input())\n",
    "stack = []\n",
    "currentPush = 0\n",
    "data = []\n",
    "for i in range(n): # 그냥 아래 포문과 합칠 수 있음\n",
    "    data.append(int(input()))\n",
    "result = []\n",
    "\n",
    "for a in data:\n",
    "    if a in stack:\n",
    "        data = 0\n",
    "        while a != data:\n",
    "            data = stack.pop()\n",
    "            result.append('-')\n",
    "    else:\n",
    "        if a >= currentPush:\n",
    "            while a != currentPush: # 위 if문과 합쳐줄 수 있음 while a>currentPush:\n",
    "                currentPush += 1\n",
    "                stack.append(currentPush)\n",
    "                result.append('+')\n",
    "            stack.pop()\n",
    "            result.append('-')\n",
    "        else:\n",
    "            result = ['NO']\n",
    "            break\n",
    "\n",
    "for i in result:\n",
    "    print(i)"
   ]
  },
  {
   "cell_type": "code",
   "execution_count": null,
   "metadata": {},
   "outputs": [],
   "source": [
    "n = int(input())\n",
    "count = 1\n",
    "stack = []\n",
    "result = []\n",
    "\n",
    "for i in range(n):\n",
    "    data = int(input())\n",
    "    while count <= data:\n",
    "        stack.append(count)\n",
    "        count += 1\n",
    "        result.append('+')\n",
    "    if stack[-1] == data:\n",
    "        stack.pop()\n",
    "        result.append('-')\n",
    "    else:\n",
    "        print('NO')\n",
    "        exit(0) #아예 종료\n",
    "for i in result:\n",
    "    print(i)\n"
   ]
  },
  {
   "cell_type": "markdown",
   "metadata": {},
   "source": [
    "# 1996. 프린터 큐\n",
    "총 반복횟수가 몇회가 될지 모를 때, for문에 얽매이지 말고 while 사용!!"
   ]
  },
  {
   "cell_type": "code",
   "execution_count": 18,
   "metadata": {},
   "outputs": [
    {
     "name": "stdout",
     "output_type": "stream",
     "text": [
      "0 a\n",
      "1 b\n",
      "2 c\n"
     ]
    },
    {
     "data": {
      "text/plain": [
       "[5, 7]"
      ]
     },
     "execution_count": 18,
     "metadata": {},
     "output_type": "execute_result"
    }
   ],
   "source": [
    "# 리스트의 인덱스와 값을 동시에 for문에 쓸 수 있게하는 함수 \n",
    "for idx, value in enumerate(['a', 'b', 'c']):\n",
    "    print(idx, value)\n",
    "    \n",
    "# 이차원 배열에서, 각 원소의 첫 번째 원소가 가장큰 원소 구하기 \n",
    "doubleList = [[1,2], [3,4], [5,7]]\n",
    "max(doubleList, key = lambda x: x[0])"
   ]
  },
  {
   "cell_type": "code",
   "execution_count": 12,
   "metadata": {},
   "outputs": [
    {
     "name": "stdout",
     "output_type": "stream",
     "text": [
      "3\n",
      "1 0\n",
      "5\n",
      "1\n",
      "4 2\n",
      "1 2 3 4\n",
      "2\n",
      "6 0\n",
      "1 1 9 1 1 1\n",
      "5\n"
     ]
    }
   ],
   "source": [
    "T = int(input())\n",
    "\n",
    "for case in range(T):\n",
    "    n, m = list(map(int, input().split(' ')))\n",
    "    inputData = list(map(int, input().split(' ')))\n",
    "\n",
    "    queue = [];\n",
    "    for i in range(n):\n",
    "        queue.append([i,inputData[i]]) # 인덱스와 순서모두 기억해야해서 dict보단 순서까지 남길 수 있는 이차원배열 사용\n",
    "\n",
    "    inputData.sort(reverse = True) # 가중치 판단하기 위한 정렬\n",
    "    cnt = 0\n",
    "    while queue:\n",
    "        temp = queue.pop(0)\n",
    "        if temp[1] == inputData[0]:\n",
    "            inputData.pop(0)\n",
    "            cnt += 1\n",
    "            if temp[0] == m:\n",
    "                print(cnt)\n",
    "                break\n",
    "        else:\n",
    "            queue.append(temp)\n",
    "\n",
    "        "
   ]
  },
  {
   "cell_type": "code",
   "execution_count": null,
   "metadata": {},
   "outputs": [],
   "source": [
    "test_case = int(input())\n",
    "for _ in range(test_case):\n",
    "    n, m = list(map(int, input().split(' ')))\n",
    "    queue = list(map(int, input().split(' ')))\n",
    "    queue = [(i, idx) for idx, i in enumerate(queue)]\n",
    "    \n",
    "    count = 0\n",
    "    while True:\n",
    "        if queue[0][0] == max(queue, key = lambda x: x[0])[0]:\n",
    "            count +=1\n",
    "            if queue[0][1] == m:\n",
    "                print(count)\n",
    "                break\n",
    "            else:\n",
    "                queue.pop(0)\n",
    "        else:\n",
    "            queue.append(queue.pop(0))"
   ]
  },
  {
   "cell_type": "markdown",
   "metadata": {},
   "source": [
    "# 🔺 5397 키로거\n",
    "- 내가짠 코드처럼 커서를 변동하고 인덱싱해서 수정하면 시간초과\n",
    "- 인덱싱에서 시간이 초과되는 것 같음\n",
    "- 왼쪽과 오른쪽의 리스트를 따로 두고 커서가 옮겨갈 때, 맨 뒤를 pop해서 다른 곳으로 이동시키게 짜자\n",
    "- 시간 초과 문제의 주된 원인은 `insert(0, data)`와 `pop(0)`이었음!"
   ]
  },
  {
   "cell_type": "code",
   "execution_count": 1,
   "metadata": {},
   "outputs": [
    {
     "name": "stdout",
     "output_type": "stream",
     "text": [
      "4\n",
      "<<-1\n",
      "1\n",
      "avdfde-x\n",
      "avdfdx\n",
      "dfaeq----3\n",
      "d3\n",
      "adf<<33-eq\n",
      "a3eqdf\n"
     ]
    }
   ],
   "source": [
    "testCast = int(input())\n",
    "for _ in range(testCast):\n",
    "    data = input()\n",
    "    cursor = 0\n",
    "    cnt = 0\n",
    "    result = []\n",
    "    for item in data:\n",
    "        if item == '<':\n",
    "            if cursor > 0:\n",
    "                cursor -= 1\n",
    "            else:\n",
    "                continue\n",
    "        elif item == '>':\n",
    "            if cursor < cnt:\n",
    "                cursor += 1\n",
    "            else:\n",
    "                continue\n",
    "        elif item == '-':\n",
    "            if cnt > 0 and cursor > 0:\n",
    "                result.pop(cursor-1)\n",
    "                cnt -= 1\n",
    "                cursor -= 1\n",
    "            else:\n",
    "                continue\n",
    "        else:\n",
    "            result.insert(cursor,item)\n",
    "            cursor += 1\n",
    "            cnt += 1\n",
    "\n",
    "    print(''.join(result))\n"
   ]
  },
  {
   "cell_type": "code",
   "execution_count": 12,
   "metadata": {},
   "outputs": [
    {
     "name": "stdout",
     "output_type": "stream",
     "text": [
      "2\n",
      "1231\n",
      "1231\n",
      "132<e\n",
      "13e2\n"
     ]
    }
   ],
   "source": [
    "# 맨 앞에거를 찾고, 맨 앞에 insert해주는 게 시간초과\n",
    "# insert >>>>>>> append\n",
    "# pop(0) >>>>>>> pop()\n",
    "\n",
    "testCase = int(input())\n",
    "\n",
    "for _ in range(testCase):\n",
    "    data = input()\n",
    "    left, right = [], []\n",
    "    for item in data:\n",
    "        if item == '<':\n",
    "            if len(left) > 0:\n",
    "                temp = left.pop()\n",
    "                right.insert(0, temp) # 여기서 시간초과!!!\n",
    "            else:\n",
    "                continue\n",
    "        elif item == '>':\n",
    "            if len(right) > 0:\n",
    "                temp 2= right.pop(0)\n",
    "                left.append(temp) # 여기서 시간초과!!!\n",
    "            else:\n",
    "                continue\n",
    "        elif item == '-':\n",
    "            if len(left) > 0:\n",
    "                left.pop()\n",
    "            else:\n",
    "                continue\n",
    "        else:\n",
    "            left.append(item)\n",
    "\n",
    "    print(''.join(left)+''.join(right))"
   ]
  },
  {
   "cell_type": "code",
   "execution_count": null,
   "metadata": {},
   "outputs": [],
   "source": [
    "testCase = int(input())\n",
    "\n",
    "for _ in range(testCase):\n",
    "    data = input()\n",
    "    left, right = [], []\n",
    "    for item in data:\n",
    "        if item == '<':\n",
    "            if len(left) > 0:\n",
    "                temp = left.pop()\n",
    "                right.append(temp)\n",
    "            else:\n",
    "                continue\n",
    "        elif item == '>':\n",
    "            if len(right) > 0:\n",
    "                temp = right.pop()\n",
    "                left.append(temp)\n",
    "            else:\n",
    "                continue\n",
    "        elif item == '-':\n",
    "            if len(left) > 0:\n",
    "                left.pop()\n",
    "            else:\n",
    "                continue\n",
    "        else:\n",
    "            left.append(item)\n",
    "\n",
    "    print(''.join(left)+''.join(reversed(right)))"
   ]
  },
  {
   "cell_type": "markdown",
   "metadata": {},
   "source": [
    "# 10930. SHA-256"
   ]
  },
  {
   "cell_type": "code",
   "execution_count": 16,
   "metadata": {},
   "outputs": [
    {
     "name": "stdout",
     "output_type": "stream",
     "text": [
      "Baekjoon\n",
      "<sha256 HASH object @ 0x0529F458>\n",
      "9944e1862efbb2a4e2486392dc6701896416b251eccdecb8332deb7f4cf2a857\n"
     ]
    }
   ],
   "source": [
    "import hashlib \n",
    "data = input()\n",
    "data = hashlib.sha256(data.encode())\n",
    "\n",
    "print(data.hexdigest())"
   ]
  },
  {
   "cell_type": "markdown",
   "metadata": {},
   "source": [
    "# 1920 수찾기\n",
    "- list로도 풀 수 있는 문제고 괜찮은 코드 같지만 시간 초과 됨\n",
    "- in으로 원소의 유무만을 판단할 때는 set이 훨씬 빠르다!\n",
    "- list()로 감싸는 대신 set()으로 감싸면 집합 자료구조 \n",
    "- 해시가 필요한 경우 : 값을 찾는 코드가 반복됨 \n",
    "- 해시가 필요한 모든 경우 파이썬의 set(집합 자료구조)로 대체될 수 있다. "
   ]
  },
  {
   "cell_type": "code",
   "execution_count": 23,
   "metadata": {},
   "outputs": [
    {
     "name": "stdout",
     "output_type": "stream",
     "text": [
      "1 2 3 4\n",
      "{1, 2, 3, 4}\n",
      "3 2 1\n",
      "1\n",
      "1\n",
      "1\n"
     ]
    }
   ],
   "source": [
    "N = input()\n",
    "\n",
    "# data = list(map(int, input().split(' '))) \n",
    "data = set(map(int, input().split(' '))) \n",
    "\n",
    "M = input()\n",
    "\n",
    "test = list (map(int, input().split(' ')))\n",
    "for item in test:\n",
    "    print(int(item in data))"
   ]
  },
  {
   "cell_type": "markdown",
   "metadata": {},
   "source": [
    "# 🔺🔺 4195. 친구 네트워크\n",
    "- 단순 그래프, BFS를 이용하면 시간초과!\n",
    "- 합집합, 연결이 되어있는지 비교할 때는 union-find를 사용하는게 가장 빠르다.\n",
    "- 모든 그래프의 원소와 간선을 dictionary에 저장하는게 아니라, 부모 노드에 대한 간선만 저장 (root는 자기자신)\n",
    "- 한 집합에 삽입할 때, root노드의 바로 하위 자식으로 저장\n",
    "- root노드의 자식개수 저장 \n",
    "- find()와 union()함수 꼭 외워두기"
   ]
  },
  {
   "cell_type": "code",
   "execution_count": 4,
   "metadata": {},
   "outputs": [
    {
     "name": "stdout",
     "output_type": "stream",
     "text": [
      "2\n",
      "3\n",
      "F B\n",
      "2\n",
      "B T\n",
      "3\n",
      "T W\n",
      "4\n",
      "3\n",
      "F b\n",
      "2\n",
      "t w\n",
      "2\n",
      "b t\n",
      "4\n"
     ]
    }
   ],
   "source": [
    "from collections import defaultdict\n",
    "N = int(input())\n",
    "for _ in range(N):\n",
    "    F = int(input())\n",
    "    graph = defaultdict(list)\n",
    "    for i in range(F):\n",
    "        data = input().split(' ')\n",
    "        graph[data[0]].append(data[1])\n",
    "        graph[data[1]].append(data[0])\n",
    "        queue = []\n",
    "        result = set()\n",
    "        queue.append(data[0])\n",
    "        while len(queue) > 0:\n",
    "            temp = queue.pop()\n",
    "            if temp not in result:\n",
    "                queue.extend(graph[temp])\n",
    "                result.add(temp)\n",
    "        print(len(result))"
   ]
  },
  {
   "cell_type": "code",
   "execution_count": 114,
   "metadata": {},
   "outputs": [
    {
     "name": "stdout",
     "output_type": "stream",
     "text": [
      "2\n",
      "3\n",
      "f b\n",
      "2\n",
      "b t\n",
      "3\n",
      "t w\n",
      "4\n",
      "3\n",
      "f b\n",
      "2\n",
      "t w\n",
      "2\n",
      "b r\n",
      "3\n"
     ]
    }
   ],
   "source": [
    "def union(x,y):\n",
    "    rootx = find(x)\n",
    "    rooty = find(y)\n",
    "    if rootx != rooty: #이미 같은 집합내에 있는 경우를 제외하고 \n",
    "        parent[rootx] = rooty\n",
    "        num[rooty] += num[rootx]\n",
    "\n",
    "def find(x):\n",
    "    if parent[x] != x:\n",
    "        parent[x] = find(parent[x])\n",
    "    return parent[x]\n",
    "        \n",
    "n = int(input())\n",
    "\n",
    "for _ in range(n):\n",
    "    parent = dict()\n",
    "    num = dict()\n",
    "    m = int(input())\n",
    "    for _ in range(m):\n",
    "        x, y = input().split(' ')\n",
    "        if x not in parent:\n",
    "            parent[x] = x\n",
    "            num[x] = 1\n",
    "        if y not in parent:\n",
    "            parent[y] = y\n",
    "            num[y] = 1\n",
    "        union(x, y)\n",
    "        print(num[find(y)])\n"
   ]
  }
 ],
 "metadata": {
  "kernelspec": {
   "display_name": "Python 3",
   "language": "python",
   "name": "python3"
  },
  "language_info": {
   "codemirror_mode": {
    "name": "ipython",
    "version": 3
   },
   "file_extension": ".py",
   "mimetype": "text/x-python",
   "name": "python",
   "nbconvert_exporter": "python",
   "pygments_lexer": "ipython3",
   "version": "3.7.2"
  }
 },
 "nbformat": 4,
 "nbformat_minor": 2
}
