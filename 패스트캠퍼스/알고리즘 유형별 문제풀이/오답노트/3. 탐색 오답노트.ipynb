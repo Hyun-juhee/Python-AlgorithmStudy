{
 "cells": [
  {
   "cell_type": "code",
   "execution_count": 14,
   "metadata": {},
   "outputs": [
    {
     "name": "stdout",
     "output_type": "stream",
     "text": [
      "5 3\n",
      "1\n",
      "2\n",
      "4\n",
      "8\n",
      "9\n",
      "3\n"
     ]
    }
   ],
   "source": [
    "n, c = map(int, input().split())\n",
    "home = []\n",
    "for _ in range(n):\n",
    "    home.append(int(input()))\n",
    "home.sort()\n",
    "minGap = home[1]-home[0]\n",
    "maxGap = home[-1]-home[0]\n",
    "\n",
    "result = 0\n",
    "while minGap <= maxGap:\n",
    "    x = (maxGap+minGap)//2\n",
    "    set = [home[0]]\n",
    "    for i in range(n):\n",
    "        if home[i]>= set[-1] + x:\n",
    "            set.append(home[i])\n",
    "    if len(set) >= c: # 가능\n",
    "        result = x\n",
    "        minGap = x+1\n",
    "    else:\n",
    "        maxGap = x-1\n",
    "\n",
    "print(result)\n",
    "    \n",
    "    "
   ]
  },
  {
   "cell_type": "code",
   "execution_count": 12,
   "metadata": {},
   "outputs": [],
   "source": [
    "minGap = 1\n",
    "maxGap = 8\n",
    "home = [1,2,4,8,9]\n",
    "n = 5\n",
    "c= 3"
   ]
  },
  {
   "cell_type": "code",
   "execution_count": null,
   "metadata": {},
   "outputs": [],
   "source": [
    "result = 0\n",
    "while minGap <= maxGap:\n",
    "    x = (maxGap+minGap)//2\n",
    "    set = [home[0]]\n",
    "    for i in range(n):\n",
    "        if home[i]>= set[-1] + x:\n",
    "            set.append(home[i])\n",
    "    if len(set) >= c: # 가능\n",
    "        result = x\n",
    "        minGap = x+1\n",
    "    else:\n",
    "        maxGap = x-1\n",
    "\n",
    "print(result)"
   ]
  },
  {
   "cell_type": "code",
   "execution_count": 48,
   "metadata": {},
   "outputs": [
    {
     "name": "stdout",
     "output_type": "stream",
     "text": [
      "3 3\n",
      "1 2 2\n",
      "3 1 3\n",
      "2 3 2\n",
      "1 3\n",
      "[False, True, True, True]\n",
      "[False, True, False, True]\n",
      "3\n"
     ]
    }
   ],
   "source": [
    "from collections import deque\n",
    "n, m = map(int, input().split())\n",
    "graph = [[] for _ in range(n+1)]\n",
    "weight = []\n",
    "for _ in range(m):\n",
    "    a, b, c= map(int, input().split())\n",
    "    weight.append(c)\n",
    "    graph[a].append([b,c])\n",
    "    graph[b].append([a,c])\n",
    "start, end = map(int, input().split())\n",
    "\n",
    "minWeight = min(weight)\n",
    "maxWeight = max(weight)\n",
    "\n",
    "result = 0\n",
    "while minWeight <= maxWeight:\n",
    "    x = (minWeight+maxWeight) // 2\n",
    "    # bfs\n",
    "    visited = [False for _ in range(n+1)]\n",
    "    \n",
    "    queue = deque()\n",
    "    queue.append(start)\n",
    "    visited[start] = True\n",
    "    \n",
    "    while queue:\n",
    "        temp = queue.popleft()\n",
    "        visited[temp] = True\n",
    "        if temp == end:\n",
    "            break\n",
    "        for node, weight in graph[temp]:\n",
    "            if weight >= x and not visited[node]:\n",
    "                queue.append(node)\n",
    "    \n",
    "    if visited[end]:\n",
    "        result = x\n",
    "        minWeight = x+1\n",
    "    else:\n",
    "        maxWeight = x-1\n",
    "print(result)"
   ]
  },
  {
   "cell_type": "code",
   "execution_count": null,
   "metadata": {},
   "outputs": [],
   "source": [
    "from collections import deque\n",
    "n, m = map(int, input().split())\n",
    "graph = [[] for _ in range(n+1)]\n",
    "weight = []\n",
    "for _ in range(m):\n",
    "    a, b, c= map(int, input().split())\n",
    "    weight.append(c)\n",
    "    graph[a].append([b,c])\n",
    "    graph[b].append([a,c])\n",
    "start, end = map(int, input().split())\n",
    "\n",
    "minWeight = min(weight)\n",
    "maxWeight = max(weight)\n",
    "\n",
    "result = 0\n",
    "while minWeight <= maxWeight:\n",
    "    x = (minWeight+maxWeight) // 2\n",
    "    # bfs\n",
    "    visited = [False for _ in range(n+1)]\n",
    "    \n",
    "    queue = deque()\n",
    "    queue.append(start)\n",
    "    visited[start] = True\n",
    "    \n",
    "    while queue:\n",
    "        temp = queue.popleft()\n",
    "        visited[temp] = True\n",
    "        if temp == end:\n",
    "            break\n",
    "        for node, weight in graph[temp]:\n",
    "            if weight >= x and not visited[node]:\n",
    "                queue.append(node)\n",
    "    \n",
    "    if visited[end]:\n",
    "        result = x\n",
    "        minWeight = x+1\n",
    "    else:\n",
    "        maxWeight = x-1\n",
    "print(result)"
   ]
  },
  {
   "cell_type": "code",
   "execution_count": null,
   "metadata": {},
   "outputs": [],
   "source": []
  },
  {
   "cell_type": "code",
   "execution_count": 34,
   "metadata": {},
   "outputs": [
    {
     "data": {
      "text/plain": [
       "3"
      ]
     },
     "execution_count": 34,
     "metadata": {},
     "output_type": "execute_result"
    }
   ],
   "source": [
    "weight"
   ]
  },
  {
   "cell_type": "code",
   "execution_count": 54,
   "metadata": {},
   "outputs": [
    {
     "name": "stdout",
     "output_type": "stream",
     "text": [
      "5\n",
      "3 1 4 3 2\n",
      "32\n"
     ]
    }
   ],
   "source": [
    "n = int(input())\n",
    "p = list(map(int, input().split()))\n",
    "p.sort()\n",
    "result = 0\n",
    "for i in range(n):\n",
    "    for j in range(i+1):\n",
    "        result += p[j]\n",
    "        \n",
    "print(result)"
   ]
  },
  {
   "cell_type": "code",
   "execution_count": 52,
   "metadata": {},
   "outputs": [
    {
     "name": "stdout",
     "output_type": "stream",
     "text": [
      "[1, 2, 3, 3, 4]\n"
     ]
    }
   ],
   "source": [
    "print(p)"
   ]
  },
  {
   "cell_type": "code",
   "execution_count": 53,
   "metadata": {},
   "outputs": [
    {
     "name": "stdout",
     "output_type": "stream",
     "text": [
      "1\n",
      "4\n",
      "10\n",
      "19\n",
      "32\n",
      "32\n"
     ]
    }
   ],
   "source": [
    "result = 0\n",
    "for i in range(n):\n",
    "    for j in range(i+1):\n",
    "        result += p[j]\n",
    "    print(result)\n",
    "print(result)"
   ]
  }
 ],
 "metadata": {
  "kernelspec": {
   "display_name": "Python 3",
   "language": "python",
   "name": "python3"
  },
  "language_info": {
   "codemirror_mode": {
    "name": "ipython",
    "version": 3
   },
   "file_extension": ".py",
   "mimetype": "text/x-python",
   "name": "python",
   "nbconvert_exporter": "python",
   "pygments_lexer": "ipython3",
   "version": "3.7.2"
  }
 },
 "nbformat": 4,
 "nbformat_minor": 2
}
