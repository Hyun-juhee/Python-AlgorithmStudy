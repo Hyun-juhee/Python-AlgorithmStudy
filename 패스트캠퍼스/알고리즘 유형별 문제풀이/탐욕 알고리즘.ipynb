{
 "cells": [
  {
   "cell_type": "markdown",
   "metadata": {},
   "source": [
    "# \n",
    "- 내가 푼 방식 : 이중 반복문을 돌면서, 500원이 가능하면 500제외 다시 반복문-> 500원이 가능하면 또 500제외 다시 반복문 -> ...\n",
    "- 위 방식보다 단위가 큰 거스름돈부터, 가능한 개수 만큼 빼주는게 더 효율적이다."
   ]
  },
  {
   "cell_type": "code",
   "execution_count": 8,
   "metadata": {},
   "outputs": [
    {
     "name": "stdout",
     "output_type": "stream",
     "text": [
      "380\n",
      "처음 :  620\n",
      "4\n"
     ]
    }
   ],
   "source": [
    "m = [500, 100, 50, 10, 5, 1]\n",
    "n = 1000 - int(input())\n",
    "result = 0\n",
    "while n > 0:\n",
    "    for item in m:\n",
    "        if n >= item:\n",
    "            n -= item\n",
    "            result += 1\n",
    "            break\n",
    "print(result)"
   ]
  },
  {
   "cell_type": "code",
   "execution_count": null,
   "metadata": {},
   "outputs": [],
   "source": [
    "m = [500, 100, 50, 10, 5, 1]\n",
    "n = 1000 - int(input())\n",
    "result = 0\n",
    "for item in m:\n",
    "#     if n >= item: # 이것도 해줄 필요 없다. 어차피 n이 item보다 작다면 n//item = 0\n",
    "    result += n // item\n",
    "    n = n % item\n",
    "print(result)"
   ]
  },
  {
   "cell_type": "markdown",
   "metadata": {},
   "source": [
    "# 1439. 뒤집기 "
   ]
  },
  {
   "cell_type": "code",
   "execution_count": 101,
   "metadata": {},
   "outputs": [
    {
     "name": "stdout",
     "output_type": "stream",
     "text": [
      "1001001\n",
      "3\n"
     ]
    }
   ],
   "source": [
    "s = input()\n",
    "change = []\n",
    "for i in range(1, len(s)):\n",
    "    if s[i-1] != s[i]:\n",
    "        change.append(i)\n",
    "isOdd = False\n",
    "if len(change)%2 == 1: \n",
    "    isOdd = True\n",
    "    \n",
    "result = len(change)//2\n",
    "if isOdd:\n",
    "    result += 1\n",
    "print(result)"
   ]
  },
  {
   "cell_type": "markdown",
   "metadata": {},
   "source": [
    "# 🔺2012. 등수 매기기\n",
    "- 내가 푼 방식은 시간초과, 런타임 에러 : 정확한 이유는 모르겠다..\n",
    "- 처음에 원하는 곳에 채워 넣은 후에 남은 곳에 남은 애들 넣는 것과 = 정렬해서 1등부터n등까지 각각과 비교해서 불만족도를 합하는 것과 값은 동일하다."
   ]
  },
  {
   "cell_type": "code",
   "execution_count": 114,
   "metadata": {
    "scrolled": true
   },
   "outputs": [
    {
     "name": "stdout",
     "output_type": "stream",
     "text": [
      "5\n",
      "1\n",
      "1\n",
      "2\n",
      "3\n",
      "5\n",
      "3\n"
     ]
    }
   ],
   "source": [
    "n = int(input())\n",
    "expected = []\n",
    "for _ in range(n):\n",
    "    expected.append(int(input()))\n",
    "\n",
    "# 정렬\n",
    "expected.sort()\n",
    "\n",
    "# 불만족도 합\n",
    "result = 0\n",
    "for i in range(1, n+1):\n",
    "    result += abs(i-expected[i-1])\n",
    "print(result)"
   ]
  },
  {
   "cell_type": "code",
   "execution_count": 113,
   "metadata": {},
   "outputs": [
    {
     "name": "stdout",
     "output_type": "stream",
     "text": [
      "5\n",
      "1\n",
      "1\n",
      "1\n",
      "1\n",
      "1\n",
      "10\n"
     ]
    }
   ],
   "source": [
    "# 아래는 시간 초과\n",
    "n = int(input())\n",
    "isEmpty = [0 for _ in range(n+1)]\n",
    "remain = []\n",
    "for _ in range(n):\n",
    "    temp = int(input())\n",
    "    if isEmpty[temp] == 0:\n",
    "        isEmpty[temp] = 1\n",
    "    else:\n",
    "        remain.append(temp)\n",
    "        \n",
    "remain.sort(reverse = True)\n",
    "result = 0\n",
    "for i in range(1, len(isEmpty)):\n",
    "    if isEmpty[i] == 0:\n",
    "        temp = remain.pop()\n",
    "        result += abs(temp - i)\n",
    "print(result)"
   ]
  },
  {
   "cell_type": "code",
   "execution_count": null,
   "metadata": {},
   "outputs": [],
   "source": []
  },
  {
   "cell_type": "code",
   "execution_count": 148,
   "metadata": {},
   "outputs": [
    {
     "name": "stdout",
     "output_type": "stream",
     "text": [
      "3\n",
      "6 8 10\n",
      "5\n",
      "2 3 4 8 10\n",
      "2\n"
     ]
    }
   ],
   "source": [
    "n = int(input())\n",
    "crane = list(map(int, input().split()))\n",
    "m = int(input())\n",
    "box = list(map(int, input().split()))\n",
    "\n",
    "crane.sort()\n",
    "box.sort(reverse = True)\n",
    "\n",
    "time = 0\n",
    "if box[0] > crane[-1]:\n",
    "    print(-1)\n",
    "else:\n",
    "    while box:\n",
    "        temp = box.pop()\n",
    "        for i in range(n):\n",
    "            if temp <= crane[i]:\n",
    "                if len(box) > 0 and i < n-1:\n",
    "                    temp = box.pop()\n",
    "                else:\n",
    "                    break\n",
    "            else:\n",
    "                continue\n",
    "        time += 1\n",
    "    print(time)    \n",
    "            "
   ]
  },
  {
   "cell_type": "code",
   "execution_count": 135,
   "metadata": {},
   "outputs": [],
   "source": [
    "box = [2,4,6,8,10]\n",
    "crane = [6,7,10]\n",
    "crane.sort()\n",
    "box.sort(reverse = True)\n",
    "\n",
    "            "
   ]
  },
  {
   "cell_type": "code",
   "execution_count": 136,
   "metadata": {},
   "outputs": [
    {
     "name": "stdout",
     "output_type": "stream",
     "text": [
      "2 6\n",
      "4 7\n",
      "6 10\n",
      "8 6\n",
      "8 7\n",
      "8 10\n",
      "10 6\n",
      "10 7\n",
      "10 10\n",
      "3\n"
     ]
    }
   ],
   "source": [
    "time = 0\n",
    "if box[-1] > crane[-1]:\n",
    "    print(-1)\n",
    "else:\n",
    "    while box:\n",
    "        temp = box.pop()\n",
    "        for i in range(m):\n",
    "            if temp <= crane[i]:\n",
    "                if len(box) > 0 and i < n-1:\n",
    "                    temp = box.pop()\n",
    "                else:\n",
    "                    break\n",
    "            else:\n",
    "                continue\n",
    "        time += 1\n",
    "print(time)    "
   ]
  }
 ],
 "metadata": {
  "kernelspec": {
   "display_name": "Python 3",
   "language": "python",
   "name": "python3"
  },
  "language_info": {
   "codemirror_mode": {
    "name": "ipython",
    "version": 3
   },
   "file_extension": ".py",
   "mimetype": "text/x-python",
   "name": "python",
   "nbconvert_exporter": "python",
   "pygments_lexer": "ipython3",
   "version": "3.7.2"
  }
 },
 "nbformat": 4,
 "nbformat_minor": 2
}
