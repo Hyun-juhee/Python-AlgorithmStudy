{
 "cells": [
  {
   "cell_type": "markdown",
   "metadata": {},
   "source": [
    "# \n",
    "- 내가 푼 방식 : 이중 반복문을 돌면서, 500원이 가능하면 500제외 다시 반복문-> 500원이 가능하면 또 500제외 다시 반복문 -> ...\n",
    "- 위 방식보다 단위가 큰 거스름돈부터, 가능한 개수 만큼 빼주는게 더 효율적이다."
   ]
  },
  {
   "cell_type": "code",
   "execution_count": 8,
   "metadata": {},
   "outputs": [
    {
     "name": "stdout",
     "output_type": "stream",
     "text": [
      "380\n",
      "처음 :  620\n",
      "4\n"
     ]
    }
   ],
   "source": [
    "m = [500, 100, 50, 10, 5, 1]\n",
    "n = 1000 - int(input())\n",
    "result = 0\n",
    "while n > 0:\n",
    "    for item in m:\n",
    "        if n >= item:\n",
    "            n -= item\n",
    "            result += 1\n",
    "            break\n",
    "print(result)"
   ]
  },
  {
   "cell_type": "code",
   "execution_count": null,
   "metadata": {},
   "outputs": [],
   "source": [
    "m = [500, 100, 50, 10, 5, 1]\n",
    "n = 1000 - int(input())\n",
    "result = 0\n",
    "for item in m:\n",
    "#     if n >= item: # 이것도 해줄 필요 없다. 어차피 n이 item보다 작다면 n//item = 0\n",
    "    result += n // item\n",
    "    n = n % item\n",
    "print(result)"
   ]
  },
  {
   "cell_type": "markdown",
   "metadata": {},
   "source": [
    "# 1439. 뒤집기 "
   ]
  },
  {
   "cell_type": "code",
   "execution_count": 101,
   "metadata": {},
   "outputs": [
    {
     "name": "stdout",
     "output_type": "stream",
     "text": [
      "1001001\n",
      "3\n"
     ]
    }
   ],
   "source": [
    "s = input()\n",
    "change = []\n",
    "for i in range(1, len(s)):\n",
    "    if s[i-1] != s[i]:\n",
    "        change.append(i)\n",
    "isOdd = False\n",
    "if len(change)%2 == 1: \n",
    "    isOdd = True\n",
    "    \n",
    "result = len(change)//2\n",
    "if isOdd:\n",
    "    result += 1\n",
    "print(result)"
   ]
  },
  {
   "cell_type": "markdown",
   "metadata": {},
   "source": [
    "# 🔺2012. 등수 매기기\n",
    "- 내가 푼 방식은 시간초과, 런타임 에러 : 정확한 이유는 모르겠다..\n",
    "- 처음에 원하는 곳에 채워 넣은 후에 남은 곳에 남은 애들 넣는 것과 = 정렬해서 1등부터n등까지 각각과 비교해서 불만족도를 합하는 것과 값은 동일하다."
   ]
  },
  {
   "cell_type": "code",
   "execution_count": 114,
   "metadata": {
    "scrolled": true
   },
   "outputs": [
    {
     "name": "stdout",
     "output_type": "stream",
     "text": [
      "5\n",
      "1\n",
      "1\n",
      "2\n",
      "3\n",
      "5\n",
      "3\n"
     ]
    }
   ],
   "source": [
    "n = int(input())\n",
    "expected = []\n",
    "for _ in range(n):\n",
    "    expected.append(int(input()))\n",
    "\n",
    "# 정렬\n",
    "expected.sort()\n",
    "\n",
    "# 불만족도 합\n",
    "result = 0\n",
    "for i in range(1, n+1):\n",
    "    result += abs(i-expected[i-1])\n",
    "print(result)"
   ]
  },
  {
   "cell_type": "code",
   "execution_count": 113,
   "metadata": {},
   "outputs": [
    {
     "name": "stdout",
     "output_type": "stream",
     "text": [
      "5\n",
      "1\n",
      "1\n",
      "1\n",
      "1\n",
      "1\n",
      "10\n"
     ]
    }
   ],
   "source": [
    "# 아래는 시간 초과\n",
    "n = int(input())\n",
    "isEmpty = [0 for _ in range(n+1)]\n",
    "remain = []\n",
    "for _ in range(n):\n",
    "    temp = int(input())\n",
    "    if isEmpty[temp] == 0:\n",
    "        isEmpty[temp] = 1\n",
    "    else:\n",
    "        remain.append(temp)\n",
    "        \n",
    "remain.sort(reverse = True)\n",
    "result = 0\n",
    "for i in range(1, len(isEmpty)):\n",
    "    if isEmpty[i] == 0:\n",
    "        temp = remain.pop()\n",
    "        result += abs(temp - i)\n",
    "print(result)"
   ]
  },
  {
   "cell_type": "markdown",
   "metadata": {},
   "source": [
    "# 🔺1092. 배"
   ]
  },
  {
   "cell_type": "code",
   "execution_count": 157,
   "metadata": {},
   "outputs": [
    {
     "name": "stdout",
     "output_type": "stream",
     "text": [
      "3\n",
      "10 8 6\n",
      "6\n",
      "10 10 6 5 4 3\n",
      "2\n"
     ]
    }
   ],
   "source": [
    "n = int(input())\n",
    "cranes = list(map(int, input().split()))\n",
    "m = int(input())\n",
    "boxes = list(map(int, input().split()))\n",
    "# 모든 박스를 옮길 수 없는 경우\n",
    "if max(cranes) < max(boxes):\n",
    "    print(-1)\n",
    "else:\n",
    "    # 각 크레인이 현재 옮겨야 하는 박스의 번호 (0부터 시작)\n",
    "    positions = [0] * n\n",
    "    # 각 박스를 옮겼는지의 여부\n",
    "    checked = [False] * m\n",
    "    # 최적의 해를 구해야 하므로, 내림차순 정렬\n",
    "    cranes.sort(reverse=True)\n",
    "    boxes.sort(reverse=True)\n",
    "    result = 0\n",
    "    count = 0\n",
    "\n",
    "    while True:\n",
    "        if count == len(boxes): # 박스를 다 옮겼다면 종료\n",
    "            break\n",
    "        for i in range(n): # 모든 크레인에 대하여 각각 처리\n",
    "            while positions[i] < len(boxes):\n",
    "            # 아직 안 옮긴 박스 중에서, 옮길 수 있는 박스를 만날 때까지 반복\n",
    "                if not checked[positions[i]] and cranes[i] >= boxes[positions[i]]:\n",
    "                    checked[positions[i]] = True\n",
    "                    positions[i] += 1\n",
    "                    count += 1\n",
    "                    break\n",
    "                positions[i] += 1\n",
    "        result += 1\n",
    "    print(result)"
   ]
  },
  {
   "cell_type": "code",
   "execution_count": 171,
   "metadata": {},
   "outputs": [
    {
     "name": "stdout",
     "output_type": "stream",
     "text": [
      "3\n",
      "8 7 10\n",
      "5\n",
      "10 10 2 3 4\n",
      "2\n"
     ]
    }
   ],
   "source": [
    "n = int(input())\n",
    "crane = list(map(int, input().split()))\n",
    "m = int(input())\n",
    "box = list(map(int, input().split()))\n",
    "\n",
    "crane.sort(reverse = True)\n",
    "box.sort(reverse = True)\n",
    "\n",
    "time = 0 # 시간\n",
    "checked = [0 for _ in range(m)] # 박스를 옮겼는지 여부\n",
    "count = 0 # 옮긴 박스의 개수 \n",
    "\n",
    "positions = [0] * n\n",
    "\n",
    "if max(box) > max(crane):\n",
    "    print(-1)\n",
    "else:\n",
    "    while count < len(box):\n",
    "        for i in range(n): # 크레인에 대하여\n",
    "            while positions[i] < len(box):\n",
    "            # 아직 안 옮긴 박스 중에서, 옮길 수 있는 박스를 만날 때까지 반복\n",
    "                if not checked[positions[i]] and crane[i] >= box[positions[i]]:\n",
    "                    checked[positions[i]] = True\n",
    "                    positions[i] += 1\n",
    "                    count += 1\n",
    "                    break\n",
    "                positions[i] += 1\n",
    "        time += 1\n",
    "    print(time)    \n",
    "            "
   ]
  },
  {
   "cell_type": "code",
   "execution_count": 136,
   "metadata": {},
   "outputs": [
    {
     "name": "stdout",
     "output_type": "stream",
     "text": [
      "2 6\n",
      "4 7\n",
      "6 10\n",
      "8 6\n",
      "8 7\n",
      "8 10\n",
      "10 6\n",
      "10 7\n",
      "10 10\n",
      "3\n"
     ]
    }
   ],
   "source": [
    "time = 0\n",
    "if box[-1] > crane[-1]:\n",
    "    print(-1)\n",
    "else:\n",
    "    while box:\n",
    "        temp = box.pop()\n",
    "        for i in range(m):\n",
    "            if temp <= crane[i]:\n",
    "                if len(box) > 0 and i < n-1:\n",
    "                    temp = box.pop()\n",
    "                else:\n",
    "                    break\n",
    "            else:\n",
    "                continue\n",
    "        time += 1\n",
    "print(time)    "
   ]
  },
  {
   "cell_type": "markdown",
   "metadata": {},
   "source": [
    "# 2212 센서"
   ]
  },
  {
   "cell_type": "code",
   "execution_count": 191,
   "metadata": {},
   "outputs": [
    {
     "name": "stdout",
     "output_type": "stream",
     "text": [
      "5\n",
      "5\n",
      "1 1 1 1 1 \n",
      "0\n"
     ]
    }
   ],
   "source": [
    "n = int(input())\n",
    "k = int(input())\n",
    "sensor = list(map(int, input().split()))\n",
    "\n",
    "## k>n일때 예외처리\n",
    "if k >= n:\n",
    "    print(0)\n",
    "else: \n",
    "    sensor.sort()\n",
    "    gap = []\n",
    "    for i in range(1, n):\n",
    "        gap.append((sensor[i]-sensor[i-1], i))\n",
    "    gap.sort()\n",
    "\n",
    "    standard = [0]\n",
    "    result = 0\n",
    "    for i in range(k-1):\n",
    "        standard.append(gap.pop()[1])\n",
    "    standard.append(0)\n",
    "\n",
    "    result = 0\n",
    "    for i in range(k): # 0, 1\n",
    "        result += sensor[standard[i+1]-1]-sensor[standard[i]]\n",
    "    print(result)"
   ]
  },
  {
   "cell_type": "code",
   "execution_count": 192,
   "metadata": {},
   "outputs": [
    {
     "name": "stdout",
     "output_type": "stream",
     "text": [
      "6\n",
      "2\n",
      "1 6 9 3 6 7\n",
      "5\n"
     ]
    }
   ],
   "source": [
    "n = int(input())\n",
    "k = int(input())\n",
    "sensor = list(map(int, input().split()))\n",
    "## k>n일때!!\n",
    "if k >= n:\n",
    "    print(0)\n",
    "else: \n",
    "    sensor.sort()\n",
    "    gap = []\n",
    "    for i in range(1, n):\n",
    "        gap.append(sensor[i]-sensor[i-1])\n",
    "    gap.sort()\n",
    "\n",
    "    standard = [0]\n",
    "    for i in range(k-1):\n",
    "        gap.pop()\n",
    "    print(sum(gap))"
   ]
  },
  {
   "cell_type": "markdown",
   "metadata": {},
   "source": [
    "# 1461. 도서관"
   ]
  },
  {
   "cell_type": "code",
   "execution_count": 215,
   "metadata": {},
   "outputs": [
    {
     "name": "stdout",
     "output_type": "stream",
     "text": [
      "7 8\n",
      "-37 2 -6 -39 -29 11 -28\n",
      "61\n"
     ]
    }
   ],
   "source": [
    "n,m = map(int,input().split())\n",
    "book = list(map(int, input().split()))\n",
    "left = []\n",
    "right = []\n",
    "for item in book:\n",
    "    if item < 0:\n",
    "        left.append(item)\n",
    "    elif item > 0:\n",
    "        right.append(item)\n",
    "\n",
    "distance = []\n",
    "left.sort()\n",
    "for i in range(len(left)//m):\n",
    "    distance.append(abs(left[m*i]))\n",
    "if len(left) % m > 0:\n",
    "    distance.append(abs(left[(len(left)//m)*m]))\n",
    "    \n",
    "right.sort(reverse = True)\n",
    "for i in range(len(right)//m):\n",
    "    distance.append(right[m*i]) \n",
    "if len(right) % m > 0:\n",
    "    distance.append(right[(len(right)//m)*m])    \n",
    "    \n",
    "distance.sort()\n",
    "result = distance.pop()\n",
    "result += 2*sum(distance)\n",
    "print(result)    "
   ]
  },
  {
   "cell_type": "markdown",
   "metadata": {},
   "source": [
    "# 🔺🔺1781. 컵라면\n",
    "- 데드라인은 문제를 푸는데 걸리는 최대시간이지 풀이 순서는 아니다!\n",
    "- 때문에 데드라인이 1인 문제가 없고 2인 문제가 2문제라면 둘다 풀기 가능"
   ]
  },
  {
   "cell_type": "code",
   "execution_count": 11,
   "metadata": {},
   "outputs": [
    {
     "name": "stdout",
     "output_type": "stream",
     "text": [
      "(1, 6)\n",
      "(2, 4)\n",
      "(3, 1)\n",
      "(6, 1)\n",
      "15\n"
     ]
    }
   ],
   "source": [
    "import heapq\n",
    "n = int(input())\n",
    "queue = []\n",
    "for _ in range(n):\n",
    "    deadline, cupNoodle = map(int, input().split())\n",
    "    heapq.heappush(queue, (deadline, cupNoodle))\n",
    "    \n",
    "current = 0\n",
    "currentCup = 0\n",
    "result = 0\n",
    "while queue:\n",
    "    temp = heapq.heappop(queue)\n",
    "    if current != temp[0]:\n",
    "        result += temp[1]\n",
    "        current = temp[0]\n",
    "        currentCup = temp[1]\n",
    "    else:\n",
    "        if currentCup < temp[1]:\n",
    "            result -= currentCup\n",
    "            result += temp[1]\n",
    "            current = temp[0]\n",
    "            currentCup = temp[1]\n",
    "            \n",
    "print(result)"
   ]
  },
  {
   "cell_type": "code",
   "execution_count": 17,
   "metadata": {},
   "outputs": [
    {
     "name": "stdout",
     "output_type": "stream",
     "text": [
      "7\n",
      "1 6\n",
      "1 7\n",
      "3 2\n",
      "3 1\n",
      "2 4\n",
      "2 5\n",
      "6 1\n"
     ]
    }
   ],
   "source": [
    "import heapq\n",
    "n = int(input())\n",
    "queue = []\n",
    "for _ in range(n):\n",
    "    deadline, cupNoodle = map(int, input().split())\n",
    "    queue.append((deadline, cupNoodle))\n",
    "    "
   ]
  },
  {
   "cell_type": "code",
   "execution_count": 26,
   "metadata": {},
   "outputs": [
    {
     "name": "stdout",
     "output_type": "stream",
     "text": [
      "7\n",
      "1 6\n",
      "1 7\n",
      "2 4\n",
      "2 5\n",
      "3 1\n",
      "3 2\n",
      "6 1\n",
      "15\n"
     ]
    }
   ],
   "source": [
    "import heapq\n",
    "n = int(input())\n",
    "array = []\n",
    "for _ in range(n):\n",
    "    deadline, cupNoodle = map(int, input().split())\n",
    "    array.append((deadline, cupNoodle))\n",
    "\n",
    "array.sort()\n",
    "\n",
    "queue = []\n",
    "\n",
    "for i in array:\n",
    "    if i[0] <= len(queue):\n",
    "        heapq.heappop(queue)\n",
    "        heapq.heappush(queue, i[1])\n",
    "    else:\n",
    "        heapq.heappush(queue, i[1])\n",
    "    \n",
    "print(sum(queue))"
   ]
  },
  {
   "cell_type": "code",
   "execution_count": 25,
   "metadata": {},
   "outputs": [
    {
     "name": "stdout",
     "output_type": "stream",
     "text": [
      "15\n"
     ]
    }
   ],
   "source": []
  }
 ],
 "metadata": {
  "kernelspec": {
   "display_name": "Python 3",
   "language": "python",
   "name": "python3"
  },
  "language_info": {
   "codemirror_mode": {
    "name": "ipython",
    "version": 3
   },
   "file_extension": ".py",
   "mimetype": "text/x-python",
   "name": "python",
   "nbconvert_exporter": "python",
   "pygments_lexer": "ipython3",
   "version": "3.7.2"
  }
 },
 "nbformat": 4,
 "nbformat_minor": 2
}
