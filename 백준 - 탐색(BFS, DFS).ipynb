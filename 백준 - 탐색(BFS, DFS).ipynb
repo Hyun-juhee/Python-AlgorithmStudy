{
 "cells": [
  {
   "cell_type": "markdown",
   "metadata": {},
   "source": [
    "### 1260) DFS와 BFS"
   ]
  },
  {
   "cell_type": "code",
   "execution_count": 1,
   "metadata": {},
   "outputs": [
    {
     "name": "stdout",
     "output_type": "stream",
     "text": [
      "4 5 1\n",
      "1 2\n",
      "1 3\n",
      "1 4\n",
      "2 4\n",
      "3 4\n"
     ]
    }
   ],
   "source": [
    "## 그래프 구현\n",
    "graph = {}\n",
    "n = input().split(' ')\n",
    "node, edge, start = [int(i) for i in n]\n",
    "for i in range(edge):\n",
    "    edge_info = input().split(' ')\n",
    "    n1, n2 = [int(j) for j in edge_info]\n",
    "    \n",
    "    if n1 not in graph:  #graph에서 in과 not in연산은 key, values를 통틀어 존재하는지 유무를 반환한다. \n",
    "        graph[n1] = [n2]\n",
    "    elif n2 not in graph[n1]:\n",
    "        graph[n1].append(n2)\n",
    "    if n2 not in graph:\n",
    "        graph[n2] = [n1]\n",
    "    elif n1 not in graph[n2]:\n",
    "        graph[n2].append(n1)"
   ]
  },
  {
   "cell_type": "code",
   "execution_count": 9,
   "metadata": {},
   "outputs": [
    {
     "data": {
      "text/plain": [
       "[1, 4, 3, 2]"
      ]
     },
     "execution_count": 9,
     "metadata": {},
     "output_type": "execute_result"
    }
   ],
   "source": [
    "def dfs(graph, start_node):\n",
    "    visit = []\n",
    "    stack = []\n",
    "\n",
    "    stack.append(start_node)\n",
    "\n",
    "    while stack:\n",
    "        node = stack.pop()\n",
    "        if node not in visit:\n",
    "            visit.append(node)\n",
    "            stack.extend(reversed(graph[node]))\n",
    "\n",
    "    return visit\n",
    "dfs(graph, 1)"
   ]
  },
  {
   "cell_type": "code",
   "execution_count": 5,
   "metadata": {},
   "outputs": [
    {
     "data": {
      "text/plain": [
       "[1, 2, 3, 4]"
      ]
     },
     "execution_count": 5,
     "metadata": {},
     "output_type": "execute_result"
    }
   ],
   "source": [
    "def bfs(graph, start_node):\n",
    "    visit = []\n",
    "    queue = []\n",
    "\n",
    "    queue.append(start_node)\n",
    "\n",
    "    while queue:\n",
    "        node = queue.pop(0)\n",
    "        if node not in visit:\n",
    "            visit.append(node)\n",
    "            queue.extend(graph[node])\n",
    "\n",
    "    return visit\n",
    "\n",
    "bfs(graph, 1)"
   ]
  },
  {
   "cell_type": "markdown",
   "metadata": {},
   "source": [
    "### 2178) 미로 탐색"
   ]
  },
  {
   "cell_type": "code",
   "execution_count": 31,
   "metadata": {},
   "outputs": [
    {
     "name": "stdout",
     "output_type": "stream",
     "text": [
      "7 7\n",
      "1011111\n",
      "1110001\n",
      "1000001\n",
      "1000001\n",
      "1000001\n",
      "1000001\n",
      "1111111\n"
     ]
    }
   ],
   "source": [
    "n, m = input().split()\n",
    "n = int(n)\n",
    "m = int(m)\n",
    "miro = []\n",
    "for i in range(0, n):\n",
    "    data = list(input())\n",
    "    miro.append([int(j) for j in data])"
   ]
  },
  {
   "cell_type": "code",
   "execution_count": 9,
   "metadata": {},
   "outputs": [
    {
     "name": "stdout",
     "output_type": "stream",
     "text": [
      "4 6\n",
      "110110\n",
      "110110\n",
      "111111\n",
      "111101\n",
      "9\n"
     ]
    }
   ],
   "source": [
    "# from collections import deque\n",
    "n, m = input().split()\n",
    "n = int(n)\n",
    "m = int(m)\n",
    "miro = []\n",
    "for i in range(0, n):\n",
    "    data = list(input().replace(\" \", \"\"))\n",
    "    miro.append([int(j) for j in data])\n",
    "\n",
    "queue = []\n",
    "check = [[False]*m for _ in range(n)]\n",
    "dist = [[0]*m for _ in range(n)]\n",
    "\n",
    "queue.append([0,0])\n",
    "check[0][0] = True\n",
    "dist[0][0] = 1\n",
    "\n",
    "# 방향 지정을 위한 x, y좌표 이동 4방향\n",
    "dx = [-1, 0, 0, 1]\n",
    "dy = [0, -1, 1, 0]\n",
    "while queue:\n",
    "    x, y = queue.pop(0)\n",
    "    for i in range(0,4):\n",
    "        nx, ny = x+dx[i], y+dy[i]\n",
    "        if nx>=0 and ny >=0 and nx < n and ny < m:\n",
    "            if check[nx][ny]==False and miro[nx][ny] == 1:\n",
    "                check[nx][ny] = True\n",
    "                dist[nx][ny] = dist[x][y]+1\n",
    "                queue.append([nx,ny])\n",
    "\n",
    "print(dist[n-1][m-1])"
   ]
  },
  {
   "cell_type": "code",
   "execution_count": 6,
   "metadata": {},
   "outputs": [
    {
     "name": "stdout",
     "output_type": "stream",
     "text": [
      "4 6\n",
      "110110\n",
      "110110\n",
      "111111\n",
      "111101\n",
      "9\n",
      "[[1, 2, 0, 8, 9, 0], [2, 3, 0, 7, 8, 0], [3, 4, 5, 6, 7, 8], [4, 5, 6, 7, 0, 9]]\n"
     ]
    }
   ],
   "source": [
    "from collections import deque\n",
    " \n",
    "# dx[0], dy[0] => 오른쪽\n",
    "# dx[1], dy[1] => 왼쪽\n",
    "# dx[2], dy[2] => 아래\n",
    "# dx[3], dy[3] => 위\n",
    "dx = [0, 0, 1, -1]\n",
    "dy = [1, -1, 0, 0]\n",
    " \n",
    "n, m = map(int, input().split())\n",
    "a = [list(map(int, list(input()))) for _ in range(n)]\n",
    "q = deque()\n",
    "check = [[False]*m for _ in range(n)]\n",
    "dist = [[0]*m for _ in range(n)]\n",
    " \n",
    "# 시작점\n",
    "q.append((0,0))\n",
    "check[0][0] = True\n",
    "dist[0][0] = 1\n",
    " \n",
    "while q:\n",
    "    x, y = q.popleft()\n",
    "    for k in range(4):\n",
    "        nx, ny = x+dx[k], y+dy[k]\n",
    "        if 0 <= nx < n and 0 <= ny < m:\n",
    "            if check[nx][ny] == False and a[nx][ny] == 1:\n",
    "                q.append((nx,ny))\n",
    "                dist[nx][ny] = dist[x][y] + 1\n",
    "                check[nx][ny] = True\n",
    "print(dist[n-1][m-1])\n",
    "print(dist)"
   ]
  }
 ],
 "metadata": {
  "kernelspec": {
   "display_name": "Python 3",
   "language": "python",
   "name": "python3"
  },
  "language_info": {
   "codemirror_mode": {
    "name": "ipython",
    "version": 3
   },
   "file_extension": ".py",
   "mimetype": "text/x-python",
   "name": "python",
   "nbconvert_exporter": "python",
   "pygments_lexer": "ipython3",
   "version": "3.7.2"
  }
 },
 "nbformat": 4,
 "nbformat_minor": 2
}
