{
 "cells": [
  {
   "cell_type": "markdown",
   "metadata": {},
   "source": [
    "### 1260) DFS와 BFS"
   ]
  },
  {
   "cell_type": "code",
   "execution_count": 80,
   "metadata": {},
   "outputs": [
    {
     "name": "stdout",
     "output_type": "stream",
     "text": [
      "5 5 3\n",
      "5 4\n",
      "5 2\n",
      "1 2\n",
      "3 4\n",
      "3 1\n"
     ]
    }
   ],
   "source": [
    "## 그래프 구현\n",
    "graph = {}\n",
    "n = input().split(' ')\n",
    "node, edge, start = [int(i) for i in n]\n",
    "for i in range(edge):\n",
    "    edge_info = input().split(' ')\n",
    "    n1, n2 = [int(j) for j in edge_info]\n",
    "    if n1 not in graph:  #graph에서 in과 not in연산은 key, values를 통틀어 존재하는지 유무를 반환한다. \n",
    "        graph[n1] = [n2]\n",
    "    elif n2 not in graph[n1]:\n",
    "        graph[n1].append(n2)\n",
    "\n",
    "    if n2 not in graph:\n",
    "        graph[n2] = [n1]\n",
    "    elif n1 not in graph[n2]:\n",
    "        graph[n2].append(n1)"
   ]
  },
  {
   "cell_type": "code",
   "execution_count": 83,
   "metadata": {},
   "outputs": [
    {
     "name": "stdout",
     "output_type": "stream",
     "text": [
      "{5: [4, 2], 4: [5, 3], 2: [5, 1], 1: [2, 3], 3: [4, 1]}\n"
     ]
    }
   ],
   "source": [
    "print(graph)"
   ]
  },
  {
   "cell_type": "code",
   "execution_count": null,
   "metadata": {},
   "outputs": [],
   "source": [
    "def dfs(graph, start_node):\n",
    "    visit = list()\n",
    "    stack = list()\n",
    "\n",
    "    stack.append(start_node)\n",
    "\n",
    "    while stack:\n",
    "        node = stack.pop()\n",
    "        if node not in visit:\n",
    "            visit.append(node)\n",
    "            stack.extend(graph[node])\n",
    "\n",
    "    return visit"
   ]
  },
  {
   "cell_type": "code",
   "execution_count": null,
   "metadata": {},
   "outputs": [],
   "source": []
  },
  {
   "cell_type": "code",
   "execution_count": 91,
   "metadata": {},
   "outputs": [
    {
     "name": "stdout",
     "output_type": "stream",
     "text": [
      "[]\n",
      "[4, 1]\n",
      "[1]\n",
      "[1, 5, 3]\n",
      "[5, 3]\n",
      "[5, 3, 2, 3]\n",
      "[3, 2, 3]\n",
      "[3, 2, 3, 4, 2]\n",
      "[3, 4, 2]\n",
      "[3, 4, 2, 5, 1]\n"
     ]
    },
    {
     "data": {
      "text/plain": [
       "[3, 4, 1, 5, 2]"
      ]
     },
     "execution_count": 91,
     "metadata": {},
     "output_type": "execute_result"
    }
   ],
   "source": [
    "def bfs(graph, start_node):\n",
    "    visit = []\n",
    "    queue = []\n",
    "\n",
    "    queue.append(start_node)\n",
    "\n",
    "    while queue:\n",
    "        node = queue.pop(0)\n",
    "        if node not in visit:\n",
    "            visit.append(node)\n",
    "            queue.extend(graph[node])\n",
    "\n",
    "    return visit\n",
    "\n",
    "bfs(graph, 3)"
   ]
  },
  {
   "cell_type": "code",
   "execution_count": 92,
   "metadata": {},
   "outputs": [
    {
     "name": "stdout",
     "output_type": "stream",
     "text": [
      "[4, 1, 5, 2]\n"
     ]
    }
   ],
   "source": [
    "a = [3, 4, 1, 5, 2]\n",
    "a.pop(0)\n",
    "print(a)"
   ]
  }
 ],
 "metadata": {
  "kernelspec": {
   "display_name": "Python 3",
   "language": "python",
   "name": "python3"
  },
  "language_info": {
   "codemirror_mode": {
    "name": "ipython",
    "version": 3
   },
   "file_extension": ".py",
   "mimetype": "text/x-python",
   "name": "python",
   "nbconvert_exporter": "python",
   "pygments_lexer": "ipython3",
   "version": "3.7.2"
  }
 },
 "nbformat": 4,
 "nbformat_minor": 2
}
