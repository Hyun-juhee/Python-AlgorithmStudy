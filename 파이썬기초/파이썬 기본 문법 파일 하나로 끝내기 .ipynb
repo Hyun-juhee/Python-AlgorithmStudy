{
 "cells": [
  {
   "cell_type": "markdown",
   "metadata": {},
   "source": [
    "# 01. 문자열\n",
    "### 1) 선언 및 연산\n",
    "- \"\"\" 또는 '''로 선언하면 문자열 내의 줄바꿈을 인식할 수 있음\n",
    "- ''로 감싸면 \"를 인식할 수 있고, \"\"로 감싸면 '를 인식할 수 있다\n",
    "- +와 *연산이 가능하다.\n",
    "<br>\n",
    "\n",
    "### 2) 인덱싱과 슬라이싱\n",
    "- a[0], a[2:4], a[:4], a[-1] \n",
    "- [-1]인덱싱 값이 문자열의 마지막 문자\n",
    "<br>\n",
    "\n",
    "### 3) 문자열 포매팅 \n",
    "- %s : 문자열(%와 s사이의 양수만큼 왼쪽에 공백, 음수만큼 오른쪽에 공백)\n",
    "- %c : 문자 1개 \n",
    "- %d : 정수(int)\n",
    "- %f : float\n",
    "- %o : 8진수 \n",
    "- %x : 16진수\n",
    "<br>\n",
    "<br>\n",
    "\n",
    "### 4) 메소드 \n",
    "메소드 사용시 결과값을 반환하지만 이를 원래 문자열에 적용하지는 않는다. "
   ]
  },
  {
   "cell_type": "code",
   "execution_count": 12,
   "metadata": {},
   "outputs": [
    {
     "name": "stdout",
     "output_type": "stream",
     "text": [
      "1\n",
      "12\n",
      "Hi Python\n",
      "    Hello Python\n"
     ]
    }
   ],
   "source": [
    "a = \"    Hi Python\"\n",
    "print(a.count('h'))\n",
    "print(a.find('n'))  # 인덱스 알려줌, 없으면 -1 \n",
    "print(a.lstrip())   # 왼쪽 공백 지우기, .rstrip()은 오른쪽 공백 제거 \n",
    "print(a.replace('Hi', 'Hello'))"
   ]
  },
  {
   "cell_type": "code",
   "execution_count": 17,
   "metadata": {},
   "outputs": [
    {
     "name": "stdout",
     "output_type": "stream",
     "text": [
      "['Hi', 'Python']\n",
      "HiPython\n"
     ]
    }
   ],
   "source": [
    "toList = a.split()   # string to list\n",
    "print(toList)\n",
    "toStr = ''.join(toList)   # list to string (공백 없이 이어붙임)\n",
    "print(toStr)"
   ]
  },
  {
   "cell_type": "markdown",
   "metadata": {},
   "source": [
    "# 02. 리스트 \n",
    "\n",
    "### 1) 선언, 인덱싱, 슬라이싱\n",
    "- 리스트 내에 리스트도 원소로 가질 수 있다.\n",
    "- 인덱싱, 슬라이싱이 가능하다.\n",
    "- +와*연산이 가능하다.(+연산시 원소가 이어짐)\n",
    "<br>\n",
    "\n",
    "### 2) 원소 삭제 \n",
    "- 특정 원소를 삭제할 때는 슬라이싱을 이용할 수 있다.\n"
   ]
  },
  {
   "cell_type": "code",
   "execution_count": 40,
   "metadata": {},
   "outputs": [
    {
     "name": "stdout",
     "output_type": "stream",
     "text": [
      "[1, 2, 3, 4, 5, 6]\n",
      "[1, 2, 3, 4, 6]\n",
      "[1, 2, 3, 6]\n",
      "[1, 2, 3]\n",
      "[1, 2]\n"
     ]
    }
   ],
   "source": [
    "a = [1, 2, 3, 4, 5, 6]\n",
    "print(a)\n",
    "a[-2:-1] = []    # 인덱싱이 아닌 슬라이싱 만 가능, 인덱싱으로 []를 대입하면 []가 그대로 들어간다.\n",
    "print(a)\n",
    "\n",
    "del a[3]   # 인덱스 3자리에 있는 원소 삭제\n",
    "print (a)\n",
    "\n",
    "a.pop()   # 맨 마지막 원소 제가\n",
    "print(a)\n",
    "a.remove(3)   # 해당 값을 가지는 원소를 찾아서 제거 \n",
    "print(a)"
   ]
  },
  {
   "cell_type": "markdown",
   "metadata": {},
   "source": [
    "### 3) 원소 찾기 \n",
    "- index(값) : 찾으려는 원소의 인덱스 반환, 없을 때 에러 \n",
    "- count(값) : 찾으려는 원소이 개수 반환, 없을 때 0\n",
    "\n",
    "### 4) 원소 삽입하기 \n",
    "- append(4) : 무조건 맨뒤에 삽입\n",
    "- insert(원하는 인덱스, 값) : 원하는 인덱스에 값 삽입\n",
    "- extend([리스트만 가능]) : 괄호 안의 리스트의 원소들을 맨 뒤에 원소로 삽입한다."
   ]
  },
  {
   "cell_type": "markdown",
   "metadata": {},
   "source": [
    "# 03. 딕셔너리 \n"
   ]
  }
 ],
 "metadata": {
  "kernelspec": {
   "display_name": "Python 3",
   "language": "python",
   "name": "python3"
  },
  "language_info": {
   "codemirror_mode": {
    "name": "ipython",
    "version": 3
   },
   "file_extension": ".py",
   "mimetype": "text/x-python",
   "name": "python",
   "nbconvert_exporter": "python",
   "pygments_lexer": "ipython3",
   "version": "3.7.2"
  }
 },
 "nbformat": 4,
 "nbformat_minor": 2
}
