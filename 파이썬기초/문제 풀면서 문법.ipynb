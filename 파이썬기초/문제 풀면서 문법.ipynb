{
 "cells": [
  {
   "cell_type": "markdown",
   "metadata": {},
   "source": [
    "# 형변환"
   ]
  },
  {
   "cell_type": "code",
   "execution_count": 7,
   "metadata": {},
   "outputs": [
    {
     "data": {
      "text/plain": [
       "'a'"
      ]
     },
     "execution_count": 7,
     "metadata": {},
     "output_type": "execute_result"
    }
   ],
   "source": [
    "float(3.43)\n",
    "int(3.21)\n",
    "str(3)\n",
    "ord('a')   # ASC코드 값으로 변환\n",
    "chr(97)    # ASC코드를 문자로 변환 "
   ]
  },
  {
   "cell_type": "markdown",
   "metadata": {},
   "source": [
    "# 문자열 포매팅"
   ]
  },
  {
   "cell_type": "code",
   "execution_count": 10,
   "metadata": {},
   "outputs": [
    {
     "name": "stdout",
     "output_type": "stream",
     "text": [
      "0202.03.22\n",
      "    d\n"
     ]
    }
   ],
   "source": [
    "print(\"%04d.%02d.%02d\"%(202,3,22))\n",
    "# 여러개를 포매팅할때 %()로 묶어준다. \n",
    "# %04 : 4자리수 보다 적은 자리수가 들어오면 0으로 채운다. \n",
    "print(\"%5s\"%'d') # 문자열에서는 공백만 "
   ]
  },
  {
   "cell_type": "markdown",
   "metadata": {},
   "source": [
    "# 리스트 내의 for문"
   ]
  },
  {
   "cell_type": "code",
   "execution_count": null,
   "metadata": {},
   "outputs": [],
   "source": [
    "# []리스트 안에서 for문을 사용할 수 있으며 아래와 같이 리스트의 원소로 묶인다.\n",
    "# [함수(x) for x in 리스트] -> 리스트의 각 원소들을 함수의 원소로 넣은 결과 값이 저장된 리스트 생성\n",
    "[int(x) for x in range(0,3)]\n",
    "[str(x) for x in range(0,3)]"
   ]
  },
  {
   "cell_type": "markdown",
   "metadata": {},
   "source": [
    "# 반올림, 올림, 내림"
   ]
  },
  {
   "cell_type": "code",
   "execution_count": 21,
   "metadata": {},
   "outputs": [
    {
     "data": {
      "text/plain": [
       "4"
      ]
     },
     "execution_count": 21,
     "metadata": {},
     "output_type": "execute_result"
    }
   ],
   "source": [
    "round(4.55)  #반올림\n",
    "import math\n",
    "math.floor(4.55)\n",
    "math.ceil(3.4)"
   ]
  },
  {
   "cell_type": "markdown",
   "metadata": {},
   "source": [
    "# input 특정 기준으로 나눠서 받기 "
   ]
  },
  {
   "cell_type": "code",
   "execution_count": null,
   "metadata": {},
   "outputs": [],
   "source": [
    "a,b=input().split('.')\n",
    "\n",
    "print(int(a))\n",
    "print(int(b))"
   ]
  },
  {
   "cell_type": "markdown",
   "metadata": {},
   "source": [
    "# 소수점 지정 자리수까지 출력하기"
   ]
  },
  {
   "cell_type": "code",
   "execution_count": null,
   "metadata": {},
   "outputs": [],
   "source": [
    "a = float(input())\n",
    "print(\"%.11f\"%a)"
   ]
  },
  {
   "cell_type": "markdown",
   "metadata": {},
   "source": [
    "# 유니코드, 아스키코드 출력하기 "
   ]
  },
  {
   "cell_type": "code",
   "execution_count": 5,
   "metadata": {},
   "outputs": [
    {
     "name": "stdout",
     "output_type": "stream",
     "text": [
      "┌\n",
      "a\n"
     ]
    }
   ],
   "source": [
    "print('\\u250C') # '\\u유니코드'\n",
    "print(chr(97))  # chr(아스키코드)"
   ]
  },
  {
   "cell_type": "markdown",
   "metadata": {},
   "source": [
    "# 10진수가 아닌 정수로 입력받기 "
   ]
  },
  {
   "cell_type": "code",
   "execution_count": 20,
   "metadata": {},
   "outputs": [
    {
     "name": "stdout",
     "output_type": "stream",
     "text": [
      "f\n",
      "12\n"
     ]
    }
   ],
   "source": [
    "# int(input(), 8) \n",
    "\n",
    "## 16진수, 8진수 -> 10진수 \n",
    "int('10',8)   # int('이 숫자기', 8진수니까 10진수 정수로 바꿔)\n",
    "int('A', 16)  # int('이 숫자기', 16진수니까 10진수 정수로 바꿔)\n",
    "\n",
    "## 10진수 -> 16진수, 8진수\n",
    "hex(10)   # 16진수 \n",
    "oct(9)    # 8진수\n",
    "bin(2)    # 2진수\n",
    "\n",
    "## 출력할때 위에 세 함수는 0o, 0x같은 것이 붙음 \n",
    "print(\"%x\"%15)  # print(\"%x\"%10진수) -> 10진수를 16진수로 출력 \n",
    "print(\"%o\"%10)  # 8진수 "
   ]
  },
  {
   "cell_type": "markdown",
   "metadata": {},
   "source": [
    "# 나눗셈, 몫, 나머지"
   ]
  },
  {
   "cell_type": "code",
   "execution_count": 23,
   "metadata": {},
   "outputs": [
    {
     "name": "stdout",
     "output_type": "stream",
     "text": [
      "1.5\n",
      "1\n",
      "2\n"
     ]
    }
   ],
   "source": [
    "print(6/4)  # 나누기 \n",
    "print(6//4) # 몫\n",
    "print(6%4)  # 나머지 "
   ]
  },
  {
   "cell_type": "markdown",
   "metadata": {},
   "source": [
    "# AND, NOT, OR (boolean에 대한)"
   ]
  },
  {
   "cell_type": "code",
   "execution_count": 25,
   "metadata": {},
   "outputs": [
    {
     "name": "stdout",
     "output_type": "stream",
     "text": [
      "0\n",
      "0\n",
      "2\n",
      "0\n",
      "1\n",
      "False\n",
      "-3\n"
     ]
    }
   ],
   "source": [
    "print(1 and 0)\n",
    "print(1 or 0)\n",
    "print(not(1))"
   ]
  },
  {
   "cell_type": "markdown",
   "metadata": {},
   "source": [
    "# 비트 단위(bitwise) 연산"
   ]
  },
  {
   "cell_type": "code",
   "execution_count": 26,
   "metadata": {},
   "outputs": [
    {
     "name": "stdout",
     "output_type": "stream",
     "text": [
      "0\n",
      "0\n",
      "2\n",
      "-3\n"
     ]
    }
   ],
   "source": [
    "print(1>>1)\n",
    "print(1>>2)\n",
    "print(1<<1)\n",
    "print(~2)   # 해당 정수를 2진수로 바꾼후 0과 1을 바꿨을 때(bitwise)값\n",
    "\n",
    "# ~(bitwise not), &(bitwise and), |(bitwise or), ^(bitwise xor), => 2진수에 각bit에 대한"
   ]
  },
  {
   "cell_type": "markdown",
   "metadata": {},
   "source": [
    "# 삼항연산"
   ]
  },
  {
   "cell_type": "code",
   "execution_count": 27,
   "metadata": {},
   "outputs": [
    {
     "name": "stdout",
     "output_type": "stream",
     "text": [
      "2\n"
     ]
    }
   ],
   "source": [
    "print(1 if 1 > 2 else 2)\n",
    "\n",
    "# 참일때 값 if 조건 else 거짓일때 \n",
    "# 삼항 연산은 값이 return되는 것이다. \n",
    "a = 1\n",
    "b = 2\n",
    "c = 3 \n",
    "res = a if a < b else b\n",
    "res = res if res < c else c "
   ]
  },
  {
   "cell_type": "markdown",
   "metadata": {},
   "source": [
    "# print에서 다음 print할때 다음줄 안되게"
   ]
  },
  {
   "cell_type": "code",
   "execution_count": null,
   "metadata": {},
   "outputs": [],
   "source": [
    "a = input()\n",
    "a = int(a)\n",
    "for i in range(1, a+1):\n",
    "    if i == 3 or i ==6 or i ==9:\n",
    "        print(\"X\", end = ' ')\n",
    "    else:\n",
    "        print(i, end = ' ')"
   ]
  },
  {
   "cell_type": "markdown",
   "metadata": {},
   "source": [
    "# 2차원 배열을 만들때 하나의 1차원 배열 k을 만들어서 append했더니 원소하나를 수정하면 k의 모든 원소가 수정된다.."
   ]
  },
  {
   "cell_type": "code",
   "execution_count": 2,
   "metadata": {},
   "outputs": [
    {
     "name": "stdout",
     "output_type": "stream",
     "text": [
      "[[0, 0, 0, 0, 0], [0, 0, 0, 0, 0], [0, 0, 0, 0, 0], [0, 0, 0, 0, 0], [0, 0, 0, 0, 0]]\n",
      "[[1, 0, 0, 0, 0], [1, 0, 0, 0, 0], [1, 0, 0, 0, 0], [1, 0, 0, 0, 0], [1, 0, 0, 0, 0]]\n"
     ]
    }
   ],
   "source": [
    "k = []\n",
    "res = []\n",
    "for j in range(0, 5):\n",
    "    k.append(0) \n",
    "for i in range(0, 5):\n",
    "    res.append(k)\n",
    "print(res)\n",
    "res[0][0] = 1\n",
    "print(res)"
   ]
  }
 ],
 "metadata": {
  "kernelspec": {
   "display_name": "Python 3",
   "language": "python",
   "name": "python3"
  },
  "language_info": {
   "codemirror_mode": {
    "name": "ipython",
    "version": 3
   },
   "file_extension": ".py",
   "mimetype": "text/x-python",
   "name": "python",
   "nbconvert_exporter": "python",
   "pygments_lexer": "ipython3",
   "version": "3.7.2"
  }
 },
 "nbformat": 4,
 "nbformat_minor": 2
}
