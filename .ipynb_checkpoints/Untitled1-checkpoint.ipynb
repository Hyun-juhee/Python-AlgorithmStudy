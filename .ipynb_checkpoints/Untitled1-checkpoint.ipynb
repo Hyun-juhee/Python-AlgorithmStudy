{
 "cells": [
  {
   "cell_type": "markdown",
   "metadata": {},
   "source": [
    "# 1"
   ]
  },
  {
   "cell_type": "code",
   "execution_count": 2,
   "metadata": {},
   "outputs": [
    {
     "name": "stdout",
     "output_type": "stream",
     "text": [
      "5\n"
     ]
    }
   ],
   "source": [
    "score = {'A+': 10, 'A0': 9, 'B+':8, 'B0':7, 'C+':6, 'C0':5, 'D+':4, 'D0':3, 'F':0 }\n",
    "grades = [\"A+\",\"D+\",\"F\",\"C0\"]\n",
    "weights = [2,5,10,3]\n",
    "threshold = 50\n",
    "answer = 0\n",
    "for i, item in enumerate(grades):\n",
    "    answer += score[item]*weights[i]\n",
    "print(answer-threshold)\n"
   ]
  },
  {
   "cell_type": "code",
   "execution_count": null,
   "metadata": {},
   "outputs": [],
   "source": [
    "def solution(grades, weights, threshold):\n",
    "    score = {'A+': 10, 'A0': 9, 'B+':8, 'B0':7, 'C+':6, 'C0':5, 'D+':4, 'D0':3, 'F':0 }\n",
    "    answer = 0\n",
    "    for i, item in enumerate(grades):\n",
    "        answer += score[item]*weights[i]\n",
    "    return answer-threshold"
   ]
  },
  {
   "cell_type": "markdown",
   "metadata": {},
   "source": [
    "# 2"
   ]
  },
  {
   "cell_type": "code",
   "execution_count": 8,
   "metadata": {},
   "outputs": [
    {
     "name": "stdout",
     "output_type": "stream",
     "text": [
      "[-87978, -7889, 0, 9792, 98791]\n"
     ]
    }
   ],
   "source": [
    "s = \"987987\"\n",
    "op = \"-\"\n",
    "answer = []\n",
    "for i in range(1,len(s)):\n",
    "    a = s[:i]\n",
    "    b = s[i:]\n",
    "    answer.append(eval(a+op+b))\n",
    "answer.sort()\n",
    "print(answer)"
   ]
  },
  {
   "cell_type": "code",
   "execution_count": 17,
   "metadata": {},
   "outputs": [],
   "source": [
    "def solution(s, op):\n",
    "    answer = []\n",
    "    for i in range(1,len(s)):\n",
    "        a = str(int(s[:i]))\n",
    "        b = str(int(s[i:]))\n",
    "        answer.append(eval(a+op+b))\n",
    "    return answer"
   ]
  },
  {
   "cell_type": "code",
   "execution_count": 18,
   "metadata": {},
   "outputs": [
    {
     "data": {
      "text/plain": [
       "[4206, 12462, 628, 6280]"
      ]
     },
     "execution_count": 18,
     "metadata": {},
     "output_type": "execute_result"
    }
   ],
   "source": [
    "solution(\"31402\",\"*\")"
   ]
  },
  {
   "cell_type": "markdown",
   "metadata": {},
   "source": [
    "# 3"
   ]
  },
  {
   "cell_type": "code",
   "execution_count": 29,
   "metadata": {},
   "outputs": [
    {
     "name": "stdout",
     "output_type": "stream",
     "text": [
      "1500 100\n",
      "1400 200\n",
      "1200 400\n",
      "800 800\n",
      "0 0\n",
      "왜\n",
      "0\n"
     ]
    }
   ],
   "source": [
    "money= 1500\n",
    "# expected = ['H', 'T', 'H', 'T', 'H', 'T', 'H']\n",
    "# actual= ['T', 'T', 'H', 'H', 'T', 'T', 'H']\n",
    "\n",
    "expected = ['H', 'H', 'H', 'T', 'H']\n",
    "actual = ['T', 'T', 'T', 'H', 'T']\n",
    "now = 100\n",
    "for i, ex in enumerate(expected):\n",
    "    if ex == actual[i]:\n",
    "        money += now\n",
    "        now = 100\n",
    "    else:\n",
    "        if money < now or money == 0:\n",
    "            money = 0\n",
    "            break\n",
    "        else:\n",
    "            money -= now\n",
    "            if money >= now*2:\n",
    "                now *= 2\n",
    "            else:\n",
    "                now = money\n",
    "print(money)"
   ]
  },
  {
   "cell_type": "code",
   "execution_count": 31,
   "metadata": {},
   "outputs": [],
   "source": [
    "def solution(money, expected, actual):\n",
    "    now = 100\n",
    "    for i, ex in enumerate(expected):\n",
    "        if ex == actual[i]:\n",
    "            money += now\n",
    "            now = 100\n",
    "        else:\n",
    "            if money < now or money == 0:\n",
    "                money = 0\n",
    "                return 0\n",
    "            money -= now\n",
    "            if money >= now*2:\n",
    "                now *= 2\n",
    "            else:\n",
    "                now = money\n",
    "    return money"
   ]
  },
  {
   "cell_type": "code",
   "execution_count": null,
   "metadata": {},
   "outputs": [],
   "source": []
  },
  {
   "cell_type": "markdown",
   "metadata": {},
   "source": [
    "# 4"
   ]
  },
  {
   "cell_type": "code",
   "execution_count": 65,
   "metadata": {},
   "outputs": [
    {
     "name": "stdout",
     "output_type": "stream",
     "text": [
      "{11: (0, 0), 9: (0, 1), 8: (0, 2), 12: (0, 3), 2: (1, 0), 15: (1, 1), 4: (1, 2), 14: (1, 3), 1: (2, 0), 10: (2, 1), 16: (2, 2), 3: (2, 3), 13: (3, 0), 7: (3, 1), 5: (3, 2), 6: (3, 3)}\n",
      "46\n"
     ]
    }
   ],
   "source": [
    "board = [[11, 9, 8, 12], [2, 15, 4, 14], [1, 10, 16, 3], [13, 7, 5, 6]]\n",
    "n = 4\n",
    "table = dict()\n",
    "for i in range(n):\n",
    "    for j in range(n):\n",
    "        table[board[i][j]] = (i,j)\n",
    "print(table)\n",
    "cnt = 0\n",
    "now = (0,0)\n",
    "for i in range(1, n**2 + 1):\n",
    "    x,y = table[i]\n",
    "    cnt += min(abs(x-now[0]), abs(abs(x-now[0])-n))+min(abs(y-now[1]), abs(abs(y-now[1])-n))\n",
    "    now = (x,y)\n",
    "    cnt += 1\n",
    "    \n",
    "print(cnt)"
   ]
  },
  {
   "cell_type": "code",
   "execution_count": 66,
   "metadata": {},
   "outputs": [],
   "source": [
    "def solution(n, board):\n",
    "    table = dict()\n",
    "    for i in range(n):\n",
    "        for j in range(n):\n",
    "            table[board[i][j]] = (i,j)\n",
    "    cnt = 0\n",
    "    now = (0,0)\n",
    "    for i in range(1, n**2 + 1):\n",
    "        x,y = table[i]\n",
    "        cnt += min(abs(x-now[0]), abs(abs(x-now[0])-n))+min(abs(y-now[1]), abs(abs(y-now[1])-n))\n",
    "        now = (x,y)\n",
    "        cnt += 1\n",
    "    return cnt"
   ]
  },
  {
   "cell_type": "code",
   "execution_count": 67,
   "metadata": {},
   "outputs": [
    {
     "data": {
      "text/plain": [
       "46"
      ]
     },
     "execution_count": 67,
     "metadata": {},
     "output_type": "execute_result"
    }
   ],
   "source": [
    "solution(n, board)"
   ]
  },
  {
   "cell_type": "markdown",
   "metadata": {},
   "source": [
    "# 5"
   ]
  },
  {
   "cell_type": "code",
   "execution_count": 74,
   "metadata": {},
   "outputs": [
    {
     "name": "stdout",
     "output_type": "stream",
     "text": [
      "110011011001100110010010111100111001110000000010\n"
     ]
    },
    {
     "data": {
      "text/plain": [
       "True"
      ]
     },
     "execution_count": 74,
     "metadata": {},
     "output_type": "execute_result"
    }
   ],
   "source": [
    "penter = \"1100\"\n",
    "pexit = \"0010\"\n",
    "pescape = \"1001\"\n",
    "data = \"1101100100101111001111000000\"\n",
    "n = len(penter)\n",
    "answer = penter\n",
    "for i in range(0, len(data), n):\n",
    "    x = data[i:i+n]\n",
    "    if x == penter or x == pexit or x == pescape:\n",
    "        answer += pescape\n",
    "        answer += x\n",
    "    else:\n",
    "        answer += x\n",
    "answer += pexit\n",
    "print(answer)\n",
    "answer == '110011011001100110010010111100111001110000000010'"
   ]
  },
  {
   "cell_type": "code",
   "execution_count": null,
   "metadata": {},
   "outputs": [],
   "source": [
    "def solution(penter, pexit, pescape, data):\n",
    "    n = len(penter)\n",
    "    answer = penter\n",
    "    for i in range(0, len(data), n):\n",
    "        x = data[i:i+n]\n",
    "        if x == penter or x == pexit or x == pescape:\n",
    "            answer += pescape\n",
    "            answer += x\n",
    "        else:\n",
    "            answer += x\n",
    "    answer += pexit\n",
    "    return answer"
   ]
  },
  {
   "cell_type": "markdown",
   "metadata": {},
   "source": [
    "# 6"
   ]
  },
  {
   "cell_type": "code",
   "execution_count": null,
   "metadata": {},
   "outputs": [],
   "source": [
    "[\"0001 3 95\", \"0001 5 90\", \"0001 5 100\", \"0002 3 95\", \"0001 7 80\", \"0001 8 80\", \"0001 10 90\", \"0002 10 90\", \"0002 7 80\", \"0002 8 80\", \"0002 5 100\", \"0003 99 90\"]"
   ]
  },
  {
   "cell_type": "code",
   "execution_count": null,
   "metadata": {},
   "outputs": [],
   "source": []
  },
  {
   "cell_type": "markdown",
   "metadata": {},
   "source": [
    "# 7"
   ]
  },
  {
   "cell_type": "code",
   "execution_count": null,
   "metadata": {},
   "outputs": [],
   "source": []
  },
  {
   "cell_type": "code",
   "execution_count": null,
   "metadata": {},
   "outputs": [],
   "source": []
  }
 ],
 "metadata": {
  "kernelspec": {
   "display_name": "Python 3",
   "language": "python",
   "name": "python3"
  },
  "language_info": {
   "codemirror_mode": {
    "name": "ipython",
    "version": 3
   },
   "file_extension": ".py",
   "mimetype": "text/x-python",
   "name": "python",
   "nbconvert_exporter": "python",
   "pygments_lexer": "ipython3",
   "version": "3.7.2"
  }
 },
 "nbformat": 4,
 "nbformat_minor": 2
}
