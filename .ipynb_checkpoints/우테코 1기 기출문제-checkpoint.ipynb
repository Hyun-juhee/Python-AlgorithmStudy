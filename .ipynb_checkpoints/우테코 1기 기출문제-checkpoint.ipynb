{
 "cells": [
  {
   "cell_type": "code",
   "execution_count": null,
   "metadata": {},
   "outputs": [],
   "source": [
    "# 1번 (1번 ~ 4번 : 총 25분)"
   ]
  },
  {
   "cell_type": "code",
   "execution_count": 2,
   "metadata": {},
   "outputs": [],
   "source": [
    "def solution(money):\n",
    "    array = [50000, 10000, 5000,1000, 500,100,50,10,1]\n",
    "    result = []\n",
    "    for i in array:\n",
    "        result.append(money//i)\n",
    "        money = money%i\n",
    "    return result"
   ]
  },
  {
   "cell_type": "code",
   "execution_count": 3,
   "metadata": {},
   "outputs": [
    {
     "data": {
      "text/plain": [
       "[0, 1, 1, 0, 0, 0, 0, 0, 0]"
      ]
     },
     "execution_count": 3,
     "metadata": {},
     "output_type": "execute_result"
    }
   ],
   "source": [
    "solution(15000)"
   ]
  },
  {
   "cell_type": "code",
   "execution_count": 45,
   "metadata": {},
   "outputs": [],
   "source": [
    "# 3번 "
   ]
  },
  {
   "cell_type": "code",
   "execution_count": 33,
   "metadata": {},
   "outputs": [],
   "source": [
    "word = 'i love you'\n",
    "def solution(word):\n",
    "    result = ''\n",
    "    for i in word:\n",
    "        if 97 <= ord(i) <= 122:\n",
    "            i = chr(122 - (ord(i) - 97))\n",
    "        elif 65 <= ord(i) <= 90:\n",
    "            i = chr(90 - (ord(i)-65))\n",
    "        result += i\n",
    "    return result "
   ]
  },
  {
   "cell_type": "code",
   "execution_count": 34,
   "metadata": {},
   "outputs": [
    {
     "data": {
      "text/plain": [
       "'R olev blf'"
      ]
     },
     "execution_count": 34,
     "metadata": {},
     "output_type": "execute_result"
    }
   ],
   "source": [
    "solution(\"I love you\")"
   ]
  },
  {
   "cell_type": "code",
   "execution_count": null,
   "metadata": {},
   "outputs": [],
   "source": [
    "# 4번 "
   ]
  },
  {
   "cell_type": "code",
   "execution_count": 238,
   "metadata": {},
   "outputs": [],
   "source": [
    "pobi = [97, 98]\n",
    "crong = [197, 198]\n",
    "def solution (pobi, crong):\n",
    "    # 두 페이지 차이 \n",
    "    if pobi[1]-pobi[0] != 1 or crong[1]-crong[0] != 1:\n",
    "        return -1\n",
    "    # 홀, 짝 처리\n",
    "    if pobi[0]%2!=1 or pobi[1]%2!=0 or crong[0]%2!=1 or crong[1]%2!=0:\n",
    "        return -1\n",
    "    # 첫 페이지, 마지막 페이지 처리 \n",
    "    if min(crong) < 1 or max(crong) > 400 or min(pobi) < 1 or max(pobi) > 400:\n",
    "        return -1\n",
    "    \n",
    "    pobi_num = 0\n",
    "    crong_num = 0\n",
    "    for i in pobi:\n",
    "        i = str(i)\n",
    "        a = 0\n",
    "        b = 1\n",
    "        for j in i:\n",
    "            a += int(j)\n",
    "            b *= int(j)\n",
    "        pobi_num = max(pobi_num, a, b)\n",
    "\n",
    "    for i in crong:\n",
    "        i = str(i)\n",
    "        a = 0\n",
    "        b = 1\n",
    "        for j in i:\n",
    "            a += int(j)\n",
    "            b *= int(j) \n",
    "        crong_num = max(crong_num, a, b) \n",
    "    if pobi_num > crong_num:\n",
    "        return 1\n",
    "    elif pobi_num < crong_num:\n",
    "        return 2\n",
    "    else:\n",
    "        return 0"
   ]
  },
  {
   "cell_type": "code",
   "execution_count": 240,
   "metadata": {},
   "outputs": [
    {
     "data": {
      "text/plain": [
       "1"
      ]
     },
     "execution_count": 240,
     "metadata": {},
     "output_type": "execute_result"
    }
   ],
   "source": [
    "solution([99,100], [211,212])"
   ]
  },
  {
   "cell_type": "code",
   "execution_count": null,
   "metadata": {},
   "outputs": [],
   "source": [
    "# 5번 (5번 ~ 7번 60분)"
   ]
  },
  {
   "cell_type": "code",
   "execution_count": 22,
   "metadata": {},
   "outputs": [],
   "source": [
    "number = 10\n",
    "def solution(number):\n",
    "    cnt = 0\n",
    "    for i in range(3, number+1):\n",
    "        cnt += str(i).count('3') +str(i).count('6')+str(i).count('9')\n",
    "    return cnt"
   ]
  },
  {
   "cell_type": "code",
   "execution_count": 23,
   "metadata": {},
   "outputs": [
    {
     "data": {
      "text/plain": [
       "4"
      ]
     },
     "execution_count": 23,
     "metadata": {},
     "output_type": "execute_result"
    }
   ],
   "source": [
    "solution(13)"
   ]
  },
  {
   "cell_type": "markdown",
   "metadata": {},
   "source": [
    "# 6번 \n",
    "< 예외 >\n",
    "- leave 없음\n",
    "- 10시까지 \n",
    "- 티켓 수\n",
    "- "
   ]
  },
  {
   "cell_type": "code",
   "execution_count": 178,
   "metadata": {},
   "outputs": [],
   "source": [
    "def solution(total, logs):\n",
    "    temp = []\n",
    "    result = []\n",
    "    for i in logs:\n",
    "        if total <= 0:\n",
    "            break\n",
    "        id, action, time = i.split()\n",
    "        \n",
    "        # 10시 넘으면 X\n",
    "        time_list = list(map(int,time.split(\":\")))\n",
    "        if time_list[0] >= 10:\n",
    "            break\n",
    "            \n",
    "        if action == 'leave' and temp[0] == id:\n",
    "            temp = []\n",
    "            continue\n",
    "        \n",
    "        # 현재 접속한 사람 X\n",
    "        if temp == []:\n",
    "            temp = [id, time]\n",
    "        else:\n",
    "            temp_time = list(map(int,temp[1].split(\":\")))\n",
    "            temp_time = temp_time[0]*360 + temp_time[1]*60 + temp_time[2]\n",
    "            now_time = time_list[0]*360 + time_list[1]*60 + time_list[2]\n",
    "            # request 가능해\n",
    "            if now_time-temp_time > 60:\n",
    "                result.append(temp[0])\n",
    "                total -= 1\n",
    "                temp = []\n",
    "                temp = [id, time]\n",
    "    if temp and total>0:\n",
    "        result.append(temp[0])\n",
    "    result.sort()\n",
    "    return result"
   ]
  },
  {
   "cell_type": "code",
   "execution_count": 180,
   "metadata": {},
   "outputs": [
    {
     "data": {
      "text/plain": [
       "['j', 'w']"
      ]
     },
     "execution_count": 180,
     "metadata": {},
     "output_type": "execute_result"
    }
   ],
   "source": [
    "total = 2000\n",
    "logs = [\n",
    "    \"w request 09:12:29\",\n",
    "    \"b request 09:23:11\",\n",
    "    \"b request 09:24:11\",\n",
    "    \"b leave 09:23:44\",\n",
    "    \"j request 09:33:51\",\n",
    "    \"u request 09:33:56\",\n",
    "    \"c request 10:00:02\",\n",
    "]\n",
    "\n",
    "solution(total, logs)"
   ]
  },
  {
   "cell_type": "code",
   "execution_count": null,
   "metadata": {},
   "outputs": [],
   "source": [
    "# 7번"
   ]
  },
  {
   "cell_type": "code",
   "execution_count": 228,
   "metadata": {},
   "outputs": [],
   "source": [
    "string = \"browoanoommnaon\"\n",
    "def solution(string):\n",
    "    string_list = list(string)\n",
    "    is_pop = True\n",
    "    while is_pop:\n",
    "        i = 1\n",
    "        is_pop = False\n",
    "        same = []\n",
    "        \n",
    "        # 중복 제거 코드 \n",
    "        for i in range(1, len(string_list)):\n",
    "            if string_list[i-1] == string_list[i]:\n",
    "                is_pop = True\n",
    "                same.append(i-1)\n",
    "                same.append(i)\n",
    "        temp = []\n",
    "        for i in range(len(string_list)):\n",
    "            if i not in same:\n",
    "                temp.append(string_list[i])    \n",
    "        string_list = temp\n",
    "        \n",
    "    return ''.join(string_list)"
   ]
  },
  {
   "cell_type": "code",
   "execution_count": 229,
   "metadata": {},
   "outputs": [
    {
     "data": {
      "text/plain": [
       "'brown'"
      ]
     },
     "execution_count": 229,
     "metadata": {},
     "output_type": "execute_result"
    }
   ],
   "source": [
    "solution(\"browoanoommnaon\")"
   ]
  }
 ],
 "metadata": {
  "kernelspec": {
   "display_name": "Python 3",
   "language": "python",
   "name": "python3"
  },
  "language_info": {
   "codemirror_mode": {
    "name": "ipython",
    "version": 3
   },
   "file_extension": ".py",
   "mimetype": "text/x-python",
   "name": "python",
   "nbconvert_exporter": "python",
   "pygments_lexer": "ipython3",
   "version": "3.7.2"
  }
 },
 "nbformat": 4,
 "nbformat_minor": 2
}
