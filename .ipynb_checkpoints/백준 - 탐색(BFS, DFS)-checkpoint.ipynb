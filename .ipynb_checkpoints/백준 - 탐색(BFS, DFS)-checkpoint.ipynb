{
 "cells": [
  {
   "cell_type": "code",
   "execution_count": 2,
   "metadata": {},
   "outputs": [
    {
     "name": "stdout",
     "output_type": "stream",
     "text": [
      "4 5 1\n",
      "1 2\n",
      "1 3\n",
      "1 4\n",
      "2 4\n",
      "3 4\n"
     ]
    }
   ],
   "source": [
    "graph = {}\n",
    "n = input().split(' ')\n",
    "node, edge, start = [int(i) for i in n]\n",
    "for i in range(edge):\n",
    "    edge_info = input().split(' ')\n",
    "    n1, n2 = [int(j) for j in edge_info]\n",
    "    if n1 not in graph:  #graph에서 in과 not in연산은 key, values를 통틀어 존재하는지 유무를 반환한다. \n",
    "        graph[n1] = [n2]\n",
    "    elif n2 not in graph[n1]:\n",
    "        graph[n1].append(n2)\n",
    "\n",
    "    if n2 not in graph:\n",
    "        graph[n2] = [n1]\n",
    "    elif n1 not in graph[n2]:\n",
    "        graph[n2].append(n1)"
   ]
  },
  {
   "cell_type": "code",
   "execution_count": 56,
   "metadata": {},
   "outputs": [
    {
     "name": "stdout",
     "output_type": "stream",
     "text": [
      "{3: [1, 4], 4: [1, 2, 3], 1: [2, 3, 4], 2: [1, 4]}\n",
      "{3: [1, 4], 4: [1, 2, 3], 1: [2, 3, 4], 2: [1, 4]}\n",
      "True\n",
      "{3: [1, 4], 4: [1, 2, 3], 1: [2, 3, 4], 2: [1, 4]}\n",
      "{3: [1, 4], 4: [1, 2, 3], 1: [2, 3, 4], 2: [1, 4]}\n",
      "[1, 4, 3, 3]\n"
     ]
    }
   ],
   "source": [
    "print(graph)\n",
    "print(graph)\n",
    "dic = {1:3, 2:5}\n",
    "print(2in graph)\n",
    "graph[1] = [2,3,4]\n",
    "graph[2] = [1,4]\n",
    "print(graph)\n",
    "print(graph)\n",
    "print(last)"
   ]
  },
  {
   "cell_type": "code",
   "execution_count": 63,
   "metadata": {},
   "outputs": [
    {
     "name": "stdout",
     "output_type": "stream",
     "text": [
      "1 2 4 3 "
     ]
    }
   ],
   "source": [
    "## DFS\n",
    "start = 1\n",
    "last = []\n",
    "print(start, end = ' ')\n",
    "for i in range(0,4):\n",
    "    last.append(start)\n",
    "    for j in graph[start]:\n",
    "        if j not in last:\n",
    "            print(j, end = ' ')\n",
    "            start = j\n",
    "            break;"
   ]
  },
  {
   "cell_type": "code",
   "execution_count": null,
   "metadata": {},
   "outputs": [],
   "source": []
  }
 ],
 "metadata": {
  "kernelspec": {
   "display_name": "Python 3",
   "language": "python",
   "name": "python3"
  },
  "language_info": {
   "codemirror_mode": {
    "name": "ipython",
    "version": 3
   },
   "file_extension": ".py",
   "mimetype": "text/x-python",
   "name": "python",
   "nbconvert_exporter": "python",
   "pygments_lexer": "ipython3",
   "version": "3.7.2"
  }
 },
 "nbformat": 4,
 "nbformat_minor": 2
}
