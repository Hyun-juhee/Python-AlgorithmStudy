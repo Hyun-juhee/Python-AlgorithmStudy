{
 "cells": [
  {
   "cell_type": "markdown",
   "metadata": {},
   "source": [
    "# *뉴스 클러스터링 (35분)"
   ]
  },
  {
   "cell_type": "code",
   "execution_count": null,
   "metadata": {},
   "outputs": [],
   "source": [
    "def solution(str1, str2):\n",
    "    answer = 0\n",
    "    str1 = str1.lower()\n",
    "    str2 = str2.lower()\n",
    "    list1, list2 = [], []\n",
    "    for i in range(1,len(str1)):\n",
    "        if 96<ord(str1[i])<123 and 96<ord(str1[i-1])<123:\n",
    "            list1.append(str1[i-1]+str1[i])\n",
    "    for i in range(1,len(str2)):\n",
    "        if 96<ord(str2[i])<123 and 96<ord(str2[i-1])<123:\n",
    "            list2.append(str2[i-1]+str2[i])\n",
    "    union = []\n",
    "    inter = []\n",
    "    for i in list1:\n",
    "        if list2.count(i) ==0:\n",
    "            union.append(i)\n",
    "    for i in list2:\n",
    "        if list1.count(i) > 0 and union.count(i)==0 and inter.count(i)==0:\n",
    "            union.extend([i for _ in range(max(list1.count(i),list2.count(i)))])\n",
    "            inter.extend([i for _ in range(min(list1.count(i),list2.count(i)))])\n",
    "        elif list1.count(i) == 0:\n",
    "            union.append(i)\n",
    "    if len(union) == 0:\n",
    "        return 65536\n",
    "    answer = int((len(inter)/len(union))*65536)\n",
    "    return answer"
   ]
  },
  {
   "cell_type": "code",
   "execution_count": 29,
   "metadata": {},
   "outputs": [
    {
     "data": {
      "text/plain": [
       "Counter({1: 1, 2: 1, 34: 2})"
      ]
     },
     "execution_count": 29,
     "metadata": {},
     "output_type": "execute_result"
    }
   ],
   "source": [
    "from collections import Counter\n",
    "Counter([1,2,34,34])"
   ]
  },
  {
   "cell_type": "markdown",
   "metadata": {},
   "source": [
    "# ***큰 수 만들기 (맞기는 했는데 한 2시간 걸릿듯 ,,,)"
   ]
  },
  {
   "cell_type": "code",
   "execution_count": 82,
   "metadata": {},
   "outputs": [
    {
     "name": "stdout",
     "output_type": "stream",
     "text": [
      "[7, 7, 5, 8, 4, 1]\n",
      "775841\n"
     ]
    }
   ],
   "source": [
    "number = \"4177252841\"\n",
    "k = 4\n",
    "array = list(map(int, list(number)))\n",
    "result = [array[0]]\n",
    "for i in range(1, len(array)):\n",
    "    while len(result) > i-k:\n",
    "        if len(result) == 0 or result[-1] >= array[i] :\n",
    "            break\n",
    "        result.pop()\n",
    "    if len(result) < len(array)-k:\n",
    "        result.append(array[i])\n",
    "print(result)\n",
    "print(''.join(map(str, [i for i in result])))"
   ]
  },
  {
   "cell_type": "code",
   "execution_count": 65,
   "metadata": {},
   "outputs": [],
   "source": [
    "def solution(number, k):\n",
    "    array = list(map(int, list(number)))\n",
    "    result = [array[0]]\n",
    "    for i in range(1, len(array)):\n",
    "        while len(result) > i-k:\n",
    "            if len(result) == 0 or result[-1] >= array[i] :\n",
    "                break\n",
    "            result.pop()\n",
    "        if len(result) < len(array)-k:\n",
    "            result.append(array[i])\n",
    "    answer = ''.join(map(str, [j for j in result]))\n",
    "    return answer"
   ]
  },
  {
   "cell_type": "code",
   "execution_count": null,
   "metadata": {},
   "outputs": [],
   "source": [
    "# 오픈채팅방"
   ]
  },
  {
   "cell_type": "code",
   "execution_count": 90,
   "metadata": {},
   "outputs": [],
   "source": [
    "def solution(record):\n",
    "    nickname = dict()\n",
    "\n",
    "    for i in record:\n",
    "        i = i.split()\n",
    "        if i[0] == \"Enter\" or i[0] == \"Change\":\n",
    "            nickname[i[1]] = i[2]\n",
    "    \n",
    "    answer = []\n",
    "    \n",
    "    for i in record:\n",
    "        i = i.split()\n",
    "        if i[0] == \"Enter\":\n",
    "            answer.append(nickname[i[1]] + \"님이 들어왔습니다.\")\n",
    "        elif i[0] == \"Leave\":\n",
    "            answer.append(nickname[i[1]] + \"님이 나갔습니다.\")\n",
    "\n",
    "    return answer"
   ]
  },
  {
   "cell_type": "code",
   "execution_count": null,
   "metadata": {},
   "outputs": [],
   "source": [
    "record = \n",
    "[\"Enter uid1234 Muzi\", \"Enter uid4567 Prodo\",\"Leave uid1234\",\"Enter uid1234 Prodo\",\"Change uid4567 Ryan\"]\n",
    "[\"Enter 1 A\", \"Change 1 B\", \"Enter 2 B\"]\n",
    "[\"Enter 1 A\", \"Leave 1\", \"Enter 2 A\"]"
   ]
  },
  {
   "cell_type": "code",
   "execution_count": 93,
   "metadata": {},
   "outputs": [
    {
     "data": {
      "text/plain": [
       "['A님이 들어왔습니다.', 'A님이 나갔습니다.', 'A님이 들어왔습니다.']"
      ]
     },
     "execution_count": 93,
     "metadata": {},
     "output_type": "execute_result"
    }
   ],
   "source": [
    "solution([\"Enter 1 A\", \"Leave 1\", \"Enter 2 A\"])"
   ]
  },
  {
   "cell_type": "code",
   "execution_count": null,
   "metadata": {},
   "outputs": [],
   "source": []
  },
  {
   "cell_type": "code",
   "execution_count": null,
   "metadata": {},
   "outputs": [],
   "source": [
    "def solution(numbers):\n",
    "    array = list(map(str, numbers))\n",
    "    array.sort(reverse = True, key = lambda x: x*3)\n",
    "    answer = int(''.join(array))\n",
    "    return str(answer)"
   ]
  },
  {
   "cell_type": "code",
   "execution_count": null,
   "metadata": {},
   "outputs": [],
   "source": [
    "# 소수 찾기 (23분)"
   ]
  },
  {
   "cell_type": "code",
   "execution_count": 61,
   "metadata": {},
   "outputs": [],
   "source": [
    "from itertools import permutations\n",
    "\n",
    "def isPrime(n):\n",
    "    if n <= 1:\n",
    "        return False\n",
    "    for i in range(2, int(n/2)+1):\n",
    "        if n % i == 0:\n",
    "            return False\n",
    "    return True\n",
    "\n",
    "def solution(numbers):\n",
    "    stringArray = [i for i in numbers]\n",
    "    for i in range(2, len(numbers)+1):\n",
    "        stringArray.extend(permutations(numbers, i))\n",
    "    cnt = 0\n",
    "    intArray = []\n",
    "    for i in set(stringArray):\n",
    "        intArray.append(int(''.join(i)))\n",
    "    for i in set(intArray):\n",
    "        if isPrime(i):\n",
    "            cnt += 1\n",
    "    return cnt"
   ]
  },
  {
   "cell_type": "code",
   "execution_count": 58,
   "metadata": {
    "scrolled": true
   },
   "outputs": [
    {
     "data": {
      "text/plain": [
       "2"
      ]
     },
     "execution_count": 58,
     "metadata": {},
     "output_type": "execute_result"
    }
   ],
   "source": [
    "solution('011')"
   ]
  },
  {
   "cell_type": "code",
   "execution_count": null,
   "metadata": {},
   "outputs": [],
   "source": [
    "# 더맵게 (10분)"
   ]
  },
  {
   "cell_type": "code",
   "execution_count": 69,
   "metadata": {},
   "outputs": [],
   "source": [
    "import heapq\n",
    "def solution(scoville, k):\n",
    "    answer = 0\n",
    "    heapq.heapify(scoville)\n",
    "    while len(scoville) > 1:\n",
    "        a = heapq.heappop(scoville)\n",
    "        if a >= k:\n",
    "            return answer\n",
    "        b = heapq.heappop(scoville)\n",
    "        heapq.heappush(scoville, a+2*b)\n",
    "        answer += 1\n",
    "    if scoville[0]< k:\n",
    "        return -1"
   ]
  },
  {
   "cell_type": "code",
   "execution_count": null,
   "metadata": {},
   "outputs": [],
   "source": [
    "# h-index"
   ]
  },
  {
   "cell_type": "code",
   "execution_count": 29,
   "metadata": {},
   "outputs": [],
   "source": [
    "def solution(citations):\n",
    "    answer = 0\n",
    "    n = len(citations)\n",
    "    citations.sort()\n",
    "    for i in range(max(citations)):\n",
    "        sum([x >= i for x in citations])\n",
    "    return max(result)"
   ]
  },
  {
   "cell_type": "code",
   "execution_count": 30,
   "metadata": {},
   "outputs": [
    {
     "name": "stdout",
     "output_type": "stream",
     "text": [
      "5\n",
      "[0, 1, 3, 5, 6]\n"
     ]
    },
    {
     "data": {
      "text/plain": [
       "3"
      ]
     },
     "execution_count": 30,
     "metadata": {},
     "output_type": "execute_result"
    }
   ],
   "source": [
    "solution(citations)"
   ]
  },
  {
   "cell_type": "markdown",
   "metadata": {},
   "source": [
    "# *구명보트 (35분) - 그리디 "
   ]
  },
  {
   "cell_type": "code",
   "execution_count": null,
   "metadata": {},
   "outputs": [],
   "source": [
    "from collections import deque\n",
    "def solution(people, limit):\n",
    "    people.sort()\n",
    "    array= deque(people)\n",
    "    answer = 0\n",
    "    while array:\n",
    "        temp = array.pop()\n",
    "        if array and array[0] + temp <= limit:\n",
    "            array.popleft()\n",
    "        answer+= 1    \n",
    "    return answer"
   ]
  },
  {
   "cell_type": "code",
   "execution_count": 42,
   "metadata": {},
   "outputs": [
    {
     "data": {
      "text/plain": [
       "3"
      ]
     },
     "execution_count": 42,
     "metadata": {},
     "output_type": "execute_result"
    }
   ],
   "source": [
    "solution([70, 80, 50], 100)"
   ]
  },
  {
   "cell_type": "markdown",
   "metadata": {},
   "source": [
    "# 위장 (7분)"
   ]
  },
  {
   "cell_type": "code",
   "execution_count": null,
   "metadata": {},
   "outputs": [],
   "source": [
    "from collections import defaultdict\n",
    "def solution(clothes):\n",
    "    clothes_table = defaultdict(list)\n",
    "    for i, j in clothes:\n",
    "        clothes_table[j].append(i)\n",
    "    answer = 1\n",
    "    for key, values in clothes_table.items():\n",
    "        answer*= len(values)+1\n",
    "    return answer-1"
   ]
  },
  {
   "cell_type": "markdown",
   "metadata": {},
   "source": [
    "# 카펫 (5분~10분)"
   ]
  },
  {
   "cell_type": "code",
   "execution_count": 19,
   "metadata": {},
   "outputs": [
    {
     "name": "stdout",
     "output_type": "stream",
     "text": [
      "3\n",
      "[4, 3]\n"
     ]
    }
   ],
   "source": [
    "yellow = 2\n",
    "brown = 10\n",
    "z = int((brown-4)/2)\n",
    "print(z)\n",
    "answer = []\n",
    "for i in range(1, z//2 + 1):\n",
    "    temp = z-i\n",
    "    if temp*i == yellow:\n",
    "        answer = [temp+2, i+2]\n",
    "        break\n",
    "print(answer)"
   ]
  },
  {
   "cell_type": "code",
   "execution_count": null,
   "metadata": {},
   "outputs": [],
   "source": [
    "def solution(brown, yellow):\n",
    "    z = int((brown-4)/2)\n",
    "    answer = []\n",
    "    for i in range(1, z//2 + 1):\n",
    "        temp = z-i\n",
    "        if temp*i == yellow:\n",
    "            answer = [temp+2, i+2]\n",
    "            break\n",
    "    return answer"
   ]
  },
  {
   "cell_type": "markdown",
   "metadata": {},
   "source": [
    "# ***타겟넘버"
   ]
  },
  {
   "cell_type": "code",
   "execution_count": 154,
   "metadata": {},
   "outputs": [
    {
     "data": {
      "text/plain": [
       "5"
      ]
     },
     "execution_count": 154,
     "metadata": {},
     "output_type": "execute_result"
    }
   ],
   "source": [
    "from collections import deque\n",
    "def solution(numbers, target):\n",
    "    answer = 0\n",
    "    queue = deque()\n",
    "    n = len(numbers)\n",
    "    queue.append([numbers[0],0])\n",
    "    queue.append([-1*numbers[0],0])\n",
    "    while queue:\n",
    "        temp, idx = queue.popleft()\n",
    "        idx += 1\n",
    "        if idx < n:\n",
    "            queue.append([temp+numbers[idx], idx])\n",
    "            queue.append([temp-numbers[idx], idx])\n",
    "        else:\n",
    "            if temp == target:\n",
    "                answer += 1\n",
    "    return answer\n",
    "solution(numbers, target)"
   ]
  },
  {
   "cell_type": "code",
   "execution_count": 155,
   "metadata": {},
   "outputs": [
    {
     "data": {
      "text/plain": [
       "5"
      ]
     },
     "execution_count": 155,
     "metadata": {},
     "output_type": "execute_result"
    }
   ],
   "source": [
    "def solution(numbers, target):\n",
    "    answer = 0\n",
    "    queue = [[numbers[0],0], [-1*numbers[0],0]]\n",
    "    n = len(numbers)\n",
    "    while queue:\n",
    "        temp, idx = queue.pop()\n",
    "        idx += 1\n",
    "        if idx < n:\n",
    "            queue.append([temp+numbers[idx], idx])\n",
    "            queue.append([temp-numbers[idx], idx])\n",
    "        else:\n",
    "            if temp == target:\n",
    "                answer += 1\n",
    "    return answer\n",
    "solution(numbers, target)"
   ]
  },
  {
   "cell_type": "code",
   "execution_count": 156,
   "metadata": {},
   "outputs": [
    {
     "data": {
      "text/plain": [
       "5"
      ]
     },
     "execution_count": 156,
     "metadata": {},
     "output_type": "execute_result"
    }
   ],
   "source": [
    "def solution(numbers, target):\n",
    "    n = len(numbers)\n",
    "    cnt = 0\n",
    "    def dfs(idx, result):\n",
    "        if idx == n:\n",
    "            if result == target:\n",
    "                nonlocal cnt\n",
    "                cnt += 1\n",
    "            return\n",
    "        else:\n",
    "            dfs(idx+1, result+numbers[idx])\n",
    "            dfs(idx+1, result-numbers[idx])\n",
    "    dfs(0,0)\n",
    "    return cnt\n",
    "solution(numbers, target)"
   ]
  },
  {
   "cell_type": "code",
   "execution_count": null,
   "metadata": {},
   "outputs": [],
   "source": [
    "# dfs를 밖에다 정의하니까 numbers, target, cnt, n 다 못쓴다. solution 안에 있으면 \n",
    "# 사용가능하다.\n",
    "# 변수 선언의 scope를 사용하자\n",
    "# 변수 선언의 scope 내에만 있으면 함수 선언 내부에서도 get 사용이 가능하다\n",
    "# 그러나 해당 변수를 변경해주려면 꼭 nonlocal이나 global과 같은 변수 scope 변동을 해줘야 한다."
   ]
  },
  {
   "cell_type": "code",
   "execution_count": null,
   "metadata": {},
   "outputs": [],
   "source": [
    "# 가장 큰 정사각형 찾기"
   ]
  },
  {
   "cell_type": "code",
   "execution_count": 53,
   "metadata": {},
   "outputs": [
    {
     "name": "stdout",
     "output_type": "stream",
     "text": [
      "1\n"
     ]
    }
   ],
   "source": [
    "board = [[0,0],[0,0]]\n",
    "\n",
    "n = len(board)\n",
    "m = len(board[0])\n",
    "\n",
    "def check(n, m):\n",
    "    temp = [[0]*(m-1) for _ in range(n-1)]\n",
    "    is_able = False\n",
    "    for i in range(n-1):\n",
    "        for j in range(m-1):\n",
    "            if board[i][j]*board[i+1][j]*board[i][j+1]*board[i+1][j+1] == 1:\n",
    "                temp[i][j] = 1\n",
    "                is_able = True\n",
    "    return [temp, is_able]\n",
    "answer = 0\n",
    "total = 0\n",
    "for i in range(n):\n",
    "    total += sum(board[i])\n",
    "if total > 0:\n",
    "    answer = 1\n",
    "while n > 1 and m > 1:\n",
    "    temp, is_able = check(n, m)\n",
    "    if not is_able:\n",
    "        break\n",
    "    answer += 1\n",
    "    n = len(temp)\n",
    "    m = len(temp[0])\n",
    "print(answer)"
   ]
  },
  {
   "cell_type": "code",
   "execution_count": null,
   "metadata": {},
   "outputs": [],
   "source": [
    "def check(n, m):\n",
    "    temp = [[0]*(m-1) for _ in range(n-1)]\n",
    "    is_able = False\n",
    "    for i in range(n-1):\n",
    "        for j in range(m-1):\n",
    "            if board[i][j]*board[i+1][j]*board[i][j+1]*board[i+1][j+1] == 1:\n",
    "                temp[i][j] = 1\n",
    "                is_able = True\n",
    "    return [temp, is_able]\n",
    "\n",
    "def solution(board):\n",
    "    answer = 0\n",
    "    total = 0\n",
    "    \n",
    "    n = len(board)\n",
    "    m = len(board[0])\n",
    "    \n",
    "    for i in range(n):\n",
    "        total += sum(board[i])\n",
    "    if total > 0:\n",
    "        answer = 1\n",
    "        \n",
    "    while n > 1 and m > 1:\n",
    "        temp, is_able = check(n, m)\n",
    "        if not is_able:\n",
    "            break\n",
    "        answer += 1\n",
    "        n = len(temp)\n",
    "        m = len(temp[0])\n",
    "    return answer"
   ]
  },
  {
   "cell_type": "code",
   "execution_count": null,
   "metadata": {},
   "outputs": [],
   "source": [
    "[]"
   ]
  },
  {
   "cell_type": "code",
   "execution_count": 38,
   "metadata": {},
   "outputs": [
    {
     "data": {
      "text/plain": [
       "False"
      ]
     },
     "execution_count": 38,
     "metadata": {},
     "output_type": "execute_result"
    }
   ],
   "source": []
  }
 ],
 "metadata": {
  "kernelspec": {
   "display_name": "Python 3",
   "language": "python",
   "name": "python3"
  },
  "language_info": {
   "codemirror_mode": {
    "name": "ipython",
    "version": 3
   },
   "file_extension": ".py",
   "mimetype": "text/x-python",
   "name": "python",
   "nbconvert_exporter": "python",
   "pygments_lexer": "ipython3",
   "version": "3.7.2"
  }
 },
 "nbformat": 4,
 "nbformat_minor": 2
}
