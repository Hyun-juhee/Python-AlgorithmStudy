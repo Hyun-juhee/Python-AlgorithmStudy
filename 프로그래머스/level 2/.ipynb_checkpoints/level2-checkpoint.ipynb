{
 "cells": [
  {
   "cell_type": "code",
   "execution_count": null,
   "metadata": {},
   "outputs": [],
   "source": [
    "# 뉴스 클러스터링 (35분)"
   ]
  },
  {
   "cell_type": "code",
   "execution_count": null,
   "metadata": {},
   "outputs": [],
   "source": [
    "def solution(str1, str2):\n",
    "    answer = 0\n",
    "    str1 = str1.lower()\n",
    "    str2 = str2.lower()\n",
    "    list1, list2 = [], []\n",
    "    for i in range(1,len(str1)):\n",
    "        if 96<ord(str1[i])<123 and 96<ord(str1[i-1])<123:\n",
    "            list1.append(str1[i-1]+str1[i])\n",
    "    for i in range(1,len(str2)):\n",
    "        if 96<ord(str2[i])<123 and 96<ord(str2[i-1])<123:\n",
    "            list2.append(str2[i-1]+str2[i])\n",
    "    union = []\n",
    "    inter = []\n",
    "    for i in list1:\n",
    "        if list2.count(i) ==0:\n",
    "            union.append(i)\n",
    "    for i in list2:\n",
    "        if list1.count(i) > 0 and union.count(i)==0 and inter.count(i)==0:\n",
    "            union.extend([i for _ in range(max(list1.count(i),list2.count(i)))])\n",
    "            inter.extend([i for _ in range(min(list1.count(i),list2.count(i)))])\n",
    "        elif list1.count(i) == 0:\n",
    "            union.append(i)\n",
    "    if len(union) == 0:\n",
    "        return 65536\n",
    "    answer = int((len(inter)/len(union))*65536)\n",
    "    return answer"
   ]
  },
  {
   "cell_type": "code",
   "execution_count": 29,
   "metadata": {},
   "outputs": [
    {
     "data": {
      "text/plain": [
       "Counter({1: 1, 2: 1, 34: 2})"
      ]
     },
     "execution_count": 29,
     "metadata": {},
     "output_type": "execute_result"
    }
   ],
   "source": [
    "from collections import Counter\n",
    "Counter([1,2,34,34])"
   ]
  },
  {
   "cell_type": "code",
   "execution_count": null,
   "metadata": {},
   "outputs": [],
   "source": [
    "# 큰 수 만들기 (맞기는 했는데 한 2시간 걸릿듯 ,,,)"
   ]
  },
  {
   "cell_type": "code",
   "execution_count": 82,
   "metadata": {},
   "outputs": [
    {
     "name": "stdout",
     "output_type": "stream",
     "text": [
      "[7, 7, 5, 8, 4, 1]\n",
      "775841\n"
     ]
    }
   ],
   "source": [
    "number = \"4177252841\"\n",
    "k = 4\n",
    "array = list(map(int, list(number)))\n",
    "result = [array[0]]\n",
    "for i in range(1, len(array)):\n",
    "    while len(result) > i-k:\n",
    "        if len(result) == 0 or result[-1] >= array[i] :\n",
    "            break\n",
    "        result.pop()\n",
    "    if len(result) < len(array)-k:\n",
    "        result.append(array[i])\n",
    "print(result)\n",
    "print(''.join(map(str, [i for i in result])))"
   ]
  },
  {
   "cell_type": "code",
   "execution_count": 65,
   "metadata": {},
   "outputs": [],
   "source": [
    "def solution(number, k):\n",
    "    array = list(map(int, list(number)))\n",
    "    result = [array[0]]\n",
    "    for i in range(1, len(array)):\n",
    "        while len(result) > i-k:\n",
    "            if len(result) == 0 or result[-1] >= array[i] :\n",
    "                break\n",
    "            result.pop()\n",
    "        if len(result) < len(array)-k:\n",
    "            result.append(array[i])\n",
    "    answer = ''.join(map(str, [j for j in result]))\n",
    "    return answer"
   ]
  },
  {
   "cell_type": "code",
   "execution_count": null,
   "metadata": {},
   "outputs": [],
   "source": [
    "# 오픈채팅방"
   ]
  },
  {
   "cell_type": "code",
   "execution_count": 90,
   "metadata": {},
   "outputs": [],
   "source": [
    "def solution(record):\n",
    "    nickname = dict()\n",
    "\n",
    "    for i in record:\n",
    "        i = i.split()\n",
    "        if i[0] == \"Enter\" or i[0] == \"Change\":\n",
    "            nickname[i[1]] = i[2]\n",
    "    \n",
    "    answer = []\n",
    "    \n",
    "    for i in record:\n",
    "        i = i.split()\n",
    "        if i[0] == \"Enter\":\n",
    "            answer.append(nickname[i[1]] + \"님이 들어왔습니다.\")\n",
    "        elif i[0] == \"Leave\":\n",
    "            answer.append(nickname[i[1]] + \"님이 나갔습니다.\")\n",
    "\n",
    "    return answer"
   ]
  },
  {
   "cell_type": "code",
   "execution_count": null,
   "metadata": {},
   "outputs": [],
   "source": [
    "record = \n",
    "[\"Enter uid1234 Muzi\", \"Enter uid4567 Prodo\",\"Leave uid1234\",\"Enter uid1234 Prodo\",\"Change uid4567 Ryan\"]\n",
    "[\"Enter 1 A\", \"Change 1 B\", \"Enter 2 B\"]\n",
    "[\"Enter 1 A\", \"Leave 1\", \"Enter 2 A\"]"
   ]
  },
  {
   "cell_type": "code",
   "execution_count": 93,
   "metadata": {},
   "outputs": [
    {
     "data": {
      "text/plain": [
       "['A님이 들어왔습니다.', 'A님이 나갔습니다.', 'A님이 들어왔습니다.']"
      ]
     },
     "execution_count": 93,
     "metadata": {},
     "output_type": "execute_result"
    }
   ],
   "source": [
    "solution([\"Enter 1 A\", \"Leave 1\", \"Enter 2 A\"])"
   ]
  },
  {
   "cell_type": "code",
   "execution_count": null,
   "metadata": {},
   "outputs": [],
   "source": []
  },
  {
   "cell_type": "code",
   "execution_count": null,
   "metadata": {},
   "outputs": [],
   "source": [
    "def solution(numbers):\n",
    "    array = list(map(str, numbers))\n",
    "    array.sort(reverse = True, key = lambda x: x*3)\n",
    "    answer = int(''.join(array))\n",
    "    return str(answer)"
   ]
  },
  {
   "cell_type": "code",
   "execution_count": null,
   "metadata": {},
   "outputs": [],
   "source": []
  },
  {
   "cell_type": "code",
   "execution_count": 161,
   "metadata": {},
   "outputs": [],
   "source": [
    "def solution(people, limit):\n",
    "    people.sort(reverse = True)\n",
    "    cnt = 0\n",
    "    visited = [0 for _ in range(len(people))]\n",
    "    for i, item in enumerate(people):\n",
    "        if visited[i] == 0:\n",
    "            cnt += 1\n",
    "            weight = item\n",
    "            visited[i] = 1\n",
    "            for j in range(i, len(people)):\n",
    "                if weight + people[j] <= limit and visited[j] == 0:\n",
    "                    weight += people[j]\n",
    "                    visited[j] = 1\n",
    "    return cnt"
   ]
  },
  {
   "cell_type": "code",
   "execution_count": 171,
   "metadata": {},
   "outputs": [
    {
     "name": "stdout",
     "output_type": "stream",
     "text": [
      "3\n"
     ]
    }
   ],
   "source": [
    "limit= 100\n",
    "people = [70,50,80]\n",
    "people.sort(reverse = True)\n",
    "answer = 0\n",
    "visited = [0 for _ in range(len(people))]\n",
    "for i, item in enumerate(people):\n",
    "    if visited[i] == 0:\n",
    "        answer += 1\n",
    "        cnt = 1 \n",
    "        weight = item\n",
    "        visited[i] = 1\n",
    "        for j in range(i+1, len(people)):\n",
    "            if cnt == 2:\n",
    "                break\n",
    "            if visited[j] == 0 and weight + people[j] <= limit:\n",
    "                weight += people[j]\n",
    "                visited[j] = 1\n",
    "                cnt += 1\n",
    "print(answer)"
   ]
  },
  {
   "cell_type": "code",
   "execution_count": null,
   "metadata": {},
   "outputs": [],
   "source": [
    "# 소수 찾기 (23분)"
   ]
  },
  {
   "cell_type": "code",
   "execution_count": 61,
   "metadata": {},
   "outputs": [],
   "source": [
    "from itertools import permutations\n",
    "\n",
    "def isPrime(n):\n",
    "    if n <= 1:\n",
    "        return False\n",
    "    for i in range(2, int(n/2)+1):\n",
    "        if n % i == 0:\n",
    "            return False\n",
    "    return True\n",
    "\n",
    "def solution(numbers):\n",
    "    stringArray = [i for i in numbers]\n",
    "    for i in range(2, len(numbers)+1):\n",
    "        stringArray.extend(permutations(numbers, i))\n",
    "    cnt = 0\n",
    "    intArray = []\n",
    "    for i in set(stringArray):\n",
    "        intArray.append(int(''.join(i)))\n",
    "    for i in set(intArray):\n",
    "        if isPrime(i):\n",
    "            cnt += 1\n",
    "    return cnt"
   ]
  },
  {
   "cell_type": "code",
   "execution_count": 58,
   "metadata": {
    "scrolled": true
   },
   "outputs": [
    {
     "data": {
      "text/plain": [
       "2"
      ]
     },
     "execution_count": 58,
     "metadata": {},
     "output_type": "execute_result"
    }
   ],
   "source": [
    "solution('011')"
   ]
  },
  {
   "cell_type": "code",
   "execution_count": null,
   "metadata": {},
   "outputs": [],
   "source": [
    "# 더맵게 (10분)"
   ]
  },
  {
   "cell_type": "code",
   "execution_count": 69,
   "metadata": {},
   "outputs": [],
   "source": [
    "import heapq\n",
    "def solution(scoville, k):\n",
    "    answer = 0\n",
    "    heapq.heapify(scoville)\n",
    "    while len(scoville) > 1:\n",
    "        a = heapq.heappop(scoville)\n",
    "        if a >= k:\n",
    "            return answer\n",
    "        b = heapq.heappop(scoville)\n",
    "        heapq.heappush(scoville, a+2*b)\n",
    "        answer += 1\n",
    "    if scoville[0]< k:\n",
    "        return -1"
   ]
  },
  {
   "cell_type": "code",
   "execution_count": null,
   "metadata": {},
   "outputs": [],
   "source": [
    "# h-index"
   ]
  },
  {
   "cell_type": "code",
   "execution_count": null,
   "metadata": {},
   "outputs": [],
   "source": [
    "citations = [3, 0, 6, 1, 5]"
   ]
  }
 ],
 "metadata": {
  "kernelspec": {
   "display_name": "Python 3",
   "language": "python",
   "name": "python3"
  },
  "language_info": {
   "codemirror_mode": {
    "name": "ipython",
    "version": 3
   },
   "file_extension": ".py",
   "mimetype": "text/x-python",
   "name": "python",
   "nbconvert_exporter": "python",
   "pygments_lexer": "ipython3",
   "version": "3.7.2"
  }
 },
 "nbformat": 4,
 "nbformat_minor": 2
}
