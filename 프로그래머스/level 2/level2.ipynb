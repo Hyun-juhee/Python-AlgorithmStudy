{
 "cells": [
  {
   "cell_type": "markdown",
   "metadata": {},
   "source": [
    "# *뉴스 클러스터링 (35분)"
   ]
  },
  {
   "cell_type": "code",
   "execution_count": null,
   "metadata": {},
   "outputs": [],
   "source": [
    "def solution(str1, str2):\n",
    "    answer = 0\n",
    "    str1 = str1.lower()\n",
    "    str2 = str2.lower()\n",
    "    list1, list2 = [], []\n",
    "    for i in range(1,len(str1)):\n",
    "        if 96<ord(str1[i])<123 and 96<ord(str1[i-1])<123:\n",
    "            list1.append(str1[i-1]+str1[i])\n",
    "    for i in range(1,len(str2)):\n",
    "        if 96<ord(str2[i])<123 and 96<ord(str2[i-1])<123:\n",
    "            list2.append(str2[i-1]+str2[i])\n",
    "    union = []\n",
    "    inter = []\n",
    "    for i in list1:\n",
    "        if list2.count(i) ==0:\n",
    "            union.append(i)\n",
    "    for i in list2:\n",
    "        if list1.count(i) > 0 and union.count(i)==0 and inter.count(i)==0:\n",
    "            union.extend([i for _ in range(max(list1.count(i),list2.count(i)))])\n",
    "            inter.extend([i for _ in range(min(list1.count(i),list2.count(i)))])\n",
    "        elif list1.count(i) == 0:\n",
    "            union.append(i)\n",
    "    if len(union) == 0:\n",
    "        return 65536\n",
    "    answer = int((len(inter)/len(union))*65536)\n",
    "    return answer"
   ]
  },
  {
   "cell_type": "code",
   "execution_count": 29,
   "metadata": {},
   "outputs": [
    {
     "data": {
      "text/plain": [
       "Counter({1: 1, 2: 1, 34: 2})"
      ]
     },
     "execution_count": 29,
     "metadata": {},
     "output_type": "execute_result"
    }
   ],
   "source": [
    "from collections import Counter\n",
    "Counter([1,2,34,34])"
   ]
  },
  {
   "cell_type": "markdown",
   "metadata": {},
   "source": [
    "# ***큰 수 만들기 (맞기는 했는데 한 2시간 걸릿듯 ,,,)"
   ]
  },
  {
   "cell_type": "code",
   "execution_count": 82,
   "metadata": {},
   "outputs": [
    {
     "name": "stdout",
     "output_type": "stream",
     "text": [
      "[7, 7, 5, 8, 4, 1]\n",
      "775841\n"
     ]
    }
   ],
   "source": [
    "number = \"4177252841\"\n",
    "k = 4\n",
    "array = list(map(int, list(number)))\n",
    "result = [array[0]]\n",
    "for i in range(1, len(array)):\n",
    "    while len(result) > i-k:\n",
    "        if len(result) == 0 or result[-1] >= array[i] :\n",
    "            break\n",
    "        result.pop()\n",
    "    if len(result) < len(array)-k:\n",
    "        result.append(array[i])\n",
    "print(result)\n",
    "print(''.join(map(str, [i for i in result])))"
   ]
  },
  {
   "cell_type": "code",
   "execution_count": 65,
   "metadata": {},
   "outputs": [],
   "source": [
    "def solution(number, k):\n",
    "    array = list(map(int, list(number)))\n",
    "    result = [array[0]]\n",
    "    for i in range(1, len(array)):\n",
    "        while len(result) > i-k:\n",
    "            if len(result) == 0 or result[-1] >= array[i] :\n",
    "                break\n",
    "            result.pop()\n",
    "        if len(result) < len(array)-k:\n",
    "            result.append(array[i])\n",
    "    answer = ''.join(map(str, [j for j in result]))\n",
    "    return answer"
   ]
  },
  {
   "cell_type": "markdown",
   "metadata": {},
   "source": [
    "# 오픈채팅방"
   ]
  },
  {
   "cell_type": "code",
   "execution_count": 90,
   "metadata": {},
   "outputs": [],
   "source": [
    "def solution(record):\n",
    "    nickname = dict()\n",
    "\n",
    "    for i in record:\n",
    "        i = i.split()\n",
    "        if i[0] == \"Enter\" or i[0] == \"Change\":\n",
    "            nickname[i[1]] = i[2]\n",
    "    \n",
    "    answer = []\n",
    "    \n",
    "    for i in record:\n",
    "        i = i.split()\n",
    "        if i[0] == \"Enter\":\n",
    "            answer.append(nickname[i[1]] + \"님이 들어왔습니다.\")\n",
    "        elif i[0] == \"Leave\":\n",
    "            answer.append(nickname[i[1]] + \"님이 나갔습니다.\")\n",
    "\n",
    "    return answer"
   ]
  },
  {
   "cell_type": "code",
   "execution_count": null,
   "metadata": {},
   "outputs": [],
   "source": [
    "record = \n",
    "[\"Enter uid1234 Muzi\", \"Enter uid4567 Prodo\",\"Leave uid1234\",\"Enter uid1234 Prodo\",\"Change uid4567 Ryan\"]\n",
    "[\"Enter 1 A\", \"Change 1 B\", \"Enter 2 B\"]\n",
    "[\"Enter 1 A\", \"Leave 1\", \"Enter 2 A\"]"
   ]
  },
  {
   "cell_type": "code",
   "execution_count": 93,
   "metadata": {},
   "outputs": [
    {
     "data": {
      "text/plain": [
       "['A님이 들어왔습니다.', 'A님이 나갔습니다.', 'A님이 들어왔습니다.']"
      ]
     },
     "execution_count": 93,
     "metadata": {},
     "output_type": "execute_result"
    }
   ],
   "source": [
    "solution([\"Enter 1 A\", \"Leave 1\", \"Enter 2 A\"])"
   ]
  },
  {
   "cell_type": "code",
   "execution_count": null,
   "metadata": {},
   "outputs": [],
   "source": [
    "def solution(numbers):\n",
    "    array = list(map(str, numbers))\n",
    "    array.sort(reverse = True, key = lambda x: x*3)\n",
    "    answer = int(''.join(array))\n",
    "    return str(answer)"
   ]
  },
  {
   "cell_type": "markdown",
   "metadata": {},
   "source": [
    "# 소수 찾기 (23분)"
   ]
  },
  {
   "cell_type": "code",
   "execution_count": 61,
   "metadata": {},
   "outputs": [],
   "source": [
    "from itertools import permutations\n",
    "\n",
    "def isPrime(n):\n",
    "    if n <= 1:\n",
    "        return False\n",
    "    for i in range(2, int(n/2)+1):\n",
    "        if n % i == 0:\n",
    "            return False\n",
    "    return True\n",
    "\n",
    "def solution(numbers):\n",
    "    stringArray = [i for i in numbers]\n",
    "    for i in range(2, len(numbers)+1):\n",
    "        stringArray.extend(permutations(numbers, i))\n",
    "    cnt = 0\n",
    "    intArray = []\n",
    "    for i in set(stringArray):\n",
    "        intArray.append(int(''.join(i)))\n",
    "    for i in set(intArray):\n",
    "        if isPrime(i):\n",
    "            cnt += 1\n",
    "    return cnt"
   ]
  },
  {
   "cell_type": "code",
   "execution_count": 58,
   "metadata": {
    "scrolled": true
   },
   "outputs": [
    {
     "data": {
      "text/plain": [
       "2"
      ]
     },
     "execution_count": 58,
     "metadata": {},
     "output_type": "execute_result"
    }
   ],
   "source": [
    "solution('011')"
   ]
  },
  {
   "cell_type": "markdown",
   "metadata": {},
   "source": [
    "# 더맵게 (10분)"
   ]
  },
  {
   "cell_type": "code",
   "execution_count": 69,
   "metadata": {},
   "outputs": [],
   "source": [
    "import heapq\n",
    "def solution(scoville, k):\n",
    "    answer = 0\n",
    "    heapq.heapify(scoville)\n",
    "    while len(scoville) > 1:\n",
    "        a = heapq.heappop(scoville)\n",
    "        if a >= k:\n",
    "            return answer\n",
    "        b = heapq.heappop(scoville)\n",
    "        heapq.heappush(scoville, a+2*b)\n",
    "        answer += 1\n",
    "    if scoville[0]< k:\n",
    "        return -1"
   ]
  },
  {
   "cell_type": "markdown",
   "metadata": {},
   "source": [
    "# h-index"
   ]
  },
  {
   "cell_type": "code",
   "execution_count": 29,
   "metadata": {},
   "outputs": [],
   "source": [
    "def solution(citations):\n",
    "    answer = 0\n",
    "    n = len(citations)\n",
    "    citations.sort()\n",
    "    for i in range(max(citations)):\n",
    "        sum([x >= i for x in citations])\n",
    "    return max(result)"
   ]
  },
  {
   "cell_type": "code",
   "execution_count": 30,
   "metadata": {},
   "outputs": [
    {
     "name": "stdout",
     "output_type": "stream",
     "text": [
      "5\n",
      "[0, 1, 3, 5, 6]\n"
     ]
    },
    {
     "data": {
      "text/plain": [
       "3"
      ]
     },
     "execution_count": 30,
     "metadata": {},
     "output_type": "execute_result"
    }
   ],
   "source": [
    "solution(citations)"
   ]
  },
  {
   "cell_type": "markdown",
   "metadata": {},
   "source": [
    "# *구명보트 (35분) - 그리디 "
   ]
  },
  {
   "cell_type": "code",
   "execution_count": null,
   "metadata": {},
   "outputs": [],
   "source": [
    "from collections import deque\n",
    "def solution(people, limit):\n",
    "    people.sort()\n",
    "    array= deque(people)\n",
    "    answer = 0\n",
    "    while array:\n",
    "        temp = array.pop()\n",
    "        if array and array[0] + temp <= limit:\n",
    "            array.popleft()\n",
    "        answer+= 1    \n",
    "    return answer"
   ]
  },
  {
   "cell_type": "code",
   "execution_count": 42,
   "metadata": {},
   "outputs": [
    {
     "data": {
      "text/plain": [
       "3"
      ]
     },
     "execution_count": 42,
     "metadata": {},
     "output_type": "execute_result"
    }
   ],
   "source": [
    "solution([70, 80, 50], 100)"
   ]
  },
  {
   "cell_type": "markdown",
   "metadata": {},
   "source": [
    "# 위장 (7분)"
   ]
  },
  {
   "cell_type": "code",
   "execution_count": null,
   "metadata": {},
   "outputs": [],
   "source": [
    "from collections import defaultdict\n",
    "def solution(clothes):\n",
    "    clothes_table = defaultdict(list)\n",
    "    for i, j in clothes:\n",
    "        clothes_table[j].append(i)\n",
    "    answer = 1\n",
    "    for key, values in clothes_table.items():\n",
    "        answer*= len(values)+1\n",
    "    return answer-1"
   ]
  },
  {
   "cell_type": "markdown",
   "metadata": {},
   "source": [
    "# 카펫 (5분~10분)"
   ]
  },
  {
   "cell_type": "code",
   "execution_count": 19,
   "metadata": {},
   "outputs": [
    {
     "name": "stdout",
     "output_type": "stream",
     "text": [
      "3\n",
      "[4, 3]\n"
     ]
    }
   ],
   "source": [
    "yellow = 2\n",
    "brown = 10\n",
    "z = int((brown-4)/2)\n",
    "print(z)\n",
    "answer = []\n",
    "for i in range(1, z//2 + 1):\n",
    "    temp = z-i\n",
    "    if temp*i == yellow:\n",
    "        answer = [temp+2, i+2]\n",
    "        break\n",
    "print(answer)"
   ]
  },
  {
   "cell_type": "code",
   "execution_count": null,
   "metadata": {},
   "outputs": [],
   "source": [
    "def solution(brown, yellow):\n",
    "    z = int((brown-4)/2)\n",
    "    answer = []\n",
    "    for i in range(1, z//2 + 1):\n",
    "        temp = z-i\n",
    "        if temp*i == yellow:\n",
    "            answer = [temp+2, i+2]\n",
    "            break\n",
    "    return answer"
   ]
  },
  {
   "cell_type": "markdown",
   "metadata": {},
   "source": [
    "# ***타겟넘버"
   ]
  },
  {
   "cell_type": "code",
   "execution_count": 154,
   "metadata": {},
   "outputs": [
    {
     "data": {
      "text/plain": [
       "5"
      ]
     },
     "execution_count": 154,
     "metadata": {},
     "output_type": "execute_result"
    }
   ],
   "source": [
    "from collections import deque\n",
    "def solution(numbers, target):\n",
    "    answer = 0\n",
    "    queue = deque()\n",
    "    n = len(numbers)\n",
    "    queue.append([numbers[0],0])\n",
    "    queue.append([-1*numbers[0],0])\n",
    "    while queue:\n",
    "        temp, idx = queue.popleft()\n",
    "        idx += 1\n",
    "        if idx < n:\n",
    "            queue.append([temp+numbers[idx], idx])\n",
    "            queue.append([temp-numbers[idx], idx])\n",
    "        else:\n",
    "            if temp == target:\n",
    "                answer += 1\n",
    "    return answer\n",
    "solution(numbers, target)"
   ]
  },
  {
   "cell_type": "code",
   "execution_count": 155,
   "metadata": {},
   "outputs": [
    {
     "data": {
      "text/plain": [
       "5"
      ]
     },
     "execution_count": 155,
     "metadata": {},
     "output_type": "execute_result"
    }
   ],
   "source": [
    "def solution(numbers, target):\n",
    "    answer = 0\n",
    "    queue = [[numbers[0],0], [-1*numbers[0],0]]\n",
    "    n = len(numbers)\n",
    "    while queue:\n",
    "        temp, idx = queue.pop()\n",
    "        idx += 1\n",
    "        if idx < n:\n",
    "            queue.append([temp+numbers[idx], idx])\n",
    "            queue.append([temp-numbers[idx], idx])\n",
    "        else:\n",
    "            if temp == target:\n",
    "                answer += 1\n",
    "    return answer\n",
    "solution(numbers, target)"
   ]
  },
  {
   "cell_type": "code",
   "execution_count": 156,
   "metadata": {},
   "outputs": [
    {
     "data": {
      "text/plain": [
       "5"
      ]
     },
     "execution_count": 156,
     "metadata": {},
     "output_type": "execute_result"
    }
   ],
   "source": [
    "def solution(numbers, target):\n",
    "    n = len(numbers)\n",
    "    cnt = 0\n",
    "    def dfs(idx, result):\n",
    "        if idx == n:\n",
    "            if result == target:\n",
    "                nonlocal cnt\n",
    "                cnt += 1\n",
    "            return\n",
    "        else:\n",
    "            dfs(idx+1, result+numbers[idx])\n",
    "            dfs(idx+1, result-numbers[idx])\n",
    "    dfs(0,0)\n",
    "    return cnt\n",
    "solution(numbers, target)"
   ]
  },
  {
   "cell_type": "code",
   "execution_count": null,
   "metadata": {},
   "outputs": [],
   "source": [
    "# dfs를 밖에다 정의하니까 numbers, target, cnt, n 다 못쓴다. solution 안에 있으면 \n",
    "# 사용가능하다.\n",
    "# 변수 선언의 scope를 사용하자\n",
    "# 변수 선언의 scope 내에만 있으면 함수 선언 내부에서도 get 사용이 가능하다\n",
    "# 그러나 해당 변수를 변경해주려면 꼭 nonlocal이나 global과 같은 변수 scope 변동을 해줘야 한다."
   ]
  },
  {
   "cell_type": "markdown",
   "metadata": {},
   "source": [
    "# ******** 가장 큰 정사각형 찾기 (dp)"
   ]
  },
  {
   "cell_type": "code",
   "execution_count": 85,
   "metadata": {},
   "outputs": [],
   "source": [
    "def solution(board):\n",
    "    n = len(board)\n",
    "    m = len(board[0])\n",
    "\n",
    "    # dp 준비\n",
    "    dp = [[0]*m for _ in range(n)]\n",
    "    dp[0] = board[0]\n",
    "    for i in range(1,n):\n",
    "        dp[i][0] = board[i][0]\n",
    "    \n",
    "    # 2중 포문으로 연산\n",
    "    for i in range(1, n):\n",
    "        for j in range(1, m):\n",
    "            if board[i][j] == 1:\n",
    "                dp[i][j] = min(dp[i-1][j-1], dp[i-1][j], dp[i][j-1]) + 1\n",
    "    \n",
    "    # 최대 넓이 구하기\n",
    "    answer = 0\n",
    "    for i in range(n):\n",
    "        temp = max(dp[i])\n",
    "        answer = max(answer, temp)\n",
    "    \n",
    "    return answer**2"
   ]
  },
  {
   "cell_type": "code",
   "execution_count": 86,
   "metadata": {},
   "outputs": [
    {
     "data": {
      "text/plain": [
       "4"
      ]
     },
     "execution_count": 86,
     "metadata": {},
     "output_type": "execute_result"
    }
   ],
   "source": [
    "solution([[0,0,1,1],[1,1,1,1]])"
   ]
  },
  {
   "cell_type": "code",
   "execution_count": 54,
   "metadata": {},
   "outputs": [],
   "source": [
    "def check(n, m, board):\n",
    "    temp = [[0]*(m-1) for _ in range(n-1)]\n",
    "    is_able = False\n",
    "    for i in range(n-1):\n",
    "        for j in range(m-1):\n",
    "            if board[i][j]*board[i+1][j]*board[i][j+1]*board[i+1][j+1] == 1:\n",
    "                temp[i][j] = 1\n",
    "                is_able = True\n",
    "    return [temp, is_able]\n",
    "\n",
    "def solution(board):\n",
    "    answer = 0\n",
    "    total = 0\n",
    "    \n",
    "    n = len(board)\n",
    "    m = len(board[0])\n",
    "    \n",
    "    for i in range(n):\n",
    "        total += sum(board[i])\n",
    "    if total > 0:\n",
    "        answer = 1\n",
    "    current = board\n",
    "    while n > 1 and m > 1:\n",
    "        temp, is_able = check(n, m, current)\n",
    "        current = temp\n",
    "        if not is_able:\n",
    "            break\n",
    "        answer += 1\n",
    "        n = len(temp)\n",
    "        m = len(temp[0])\n",
    "    return answer"
   ]
  },
  {
   "cell_type": "markdown",
   "metadata": {},
   "source": [
    "# 올바른 괄호 (3분)"
   ]
  },
  {
   "cell_type": "code",
   "execution_count": 3,
   "metadata": {
    "scrolled": true
   },
   "outputs": [
    {
     "data": {
      "text/plain": [
       "False"
      ]
     },
     "execution_count": 3,
     "metadata": {},
     "output_type": "execute_result"
    }
   ],
   "source": [
    "s = \"()(()\"\n",
    "def solution(s):\n",
    "    stack = []\n",
    "    for i in s:\n",
    "        if i == \"(\":\n",
    "            stack.append(i)\n",
    "        else:\n",
    "            if len(stack) > 0:\n",
    "                stack.pop()\n",
    "            else:\n",
    "                return False\n",
    "    if len(stack) != 0:\n",
    "        return False\n",
    "    return True\n",
    "solution(s)"
   ]
  },
  {
   "cell_type": "markdown",
   "metadata": {},
   "source": [
    "# 쿼드압축 후 개수 세기 (1시간)"
   ]
  },
  {
   "cell_type": "code",
   "execution_count": 63,
   "metadata": {},
   "outputs": [],
   "source": [
    "# [0의 개수, 1의 개수]를 원소로 갖는 이차원 배열을 만드는 재귀함수\n",
    "def check(s):\n",
    "    n = len(s)\n",
    "    if n == 1:\n",
    "        return s[0][0]\n",
    "    temp= [[] for _ in range(n//2)]\n",
    "    for i in range(1,n,2):\n",
    "        for j in range(1,n,2):\n",
    "            zero = s[i][j][0] + s[i][j-1][0] + s[i-1][j][0] + s[i-1][j-1][0]\n",
    "            one = s[i][j][1] + s[i][j-1][1] + s[i-1][j][1] + s[i-1][j-1][1]\n",
    "            # 압축\n",
    "            if one == 0: zero = 1\n",
    "            if zero == 0: one = 1\n",
    "            temp[i//2].append([zero, one])\n",
    "    return check(temp)\n",
    "            \n",
    "\n",
    "def solution(arr):\n",
    "    n = len(arr)\n",
    "    current = [[] for _ in range(n//2)]\n",
    "\n",
    "    # 초기 이차원 배열 만들기 \n",
    "    for i in range(1,n,2):\n",
    "        for j in range(1,n,2):\n",
    "            temp = [arr[i][j], arr[i][j-1], arr[i-1][j], arr[i-1][j-1]]\n",
    "            one = temp.count(1)\n",
    "            zero = temp.count(0)\n",
    "            if one == 0: zero = 1\n",
    "            if zero == 0: one = 1\n",
    "            current[i//2].append([zero, one])\n",
    "    \n",
    "    return check(current)"
   ]
  },
  {
   "cell_type": "markdown",
   "metadata": {},
   "source": [
    "# 튜플 (15분)"
   ]
  },
  {
   "cell_type": "code",
   "execution_count": 28,
   "metadata": {},
   "outputs": [
    {
     "name": "stdout",
     "output_type": "stream",
     "text": [
      "[[3], [2, 3], [4, 2, 3], [2, 3, 4, 1]]\n",
      "[3, 2, 4, 1]\n"
     ]
    }
   ],
   "source": [
    "s = \"{{4,2,3},{3},{2,3,4,1},{2,3}}\"\n",
    "def solution(s):\n",
    "    s = s[2:-2].split('},{')\n",
    "    arr = []\n",
    "    for i in s:\n",
    "        arr.append(list(map(int,i.split(','))))\n",
    "    arr.sort(key = lambda x: len(x))\n",
    "    result = []\n",
    "    for i in arr:\n",
    "        for j in i:\n",
    "            if result.count(j) == 0:\n",
    "                result.append(j)\n",
    "    return result"
   ]
  },
  {
   "cell_type": "markdown",
   "metadata": {},
   "source": [
    "# 다음 큰 숫자 (40분)"
   ]
  },
  {
   "cell_type": "code",
   "execution_count": 127,
   "metadata": {},
   "outputs": [],
   "source": [
    "def solution(n):\n",
    "    s = list(bin(n)[2:])\n",
    "    if s.count('1') == len(s):\n",
    "        s.insert(1,'0')\n",
    "        return int(''.join(s), 2)\n",
    "    for i in range(len(s)-1, 0, -1):\n",
    "        if s[i] == '0':\n",
    "            continue\n",
    "        if i > 1 and s[i-1] == '0':\n",
    "            s[i-1], s[i] = '1', '0'\n",
    "            break\n",
    "        else:\n",
    "            j = 1\n",
    "            while i + j < len(s) and s[i+j] == '0':\n",
    "                s[i+j-1], s[i+j] = s[i+j], s[i+j-1]\n",
    "                j += 1\n",
    "    if int(''.join(s), 2) <= n:\n",
    "        s.insert(1,'0')\n",
    "    return int(''.join(s), 2)"
   ]
  },
  {
   "cell_type": "markdown",
   "metadata": {},
   "source": [
    "# **땅 따먹기 (50분 - 블로그)"
   ]
  },
  {
   "cell_type": "code",
   "execution_count": 38,
   "metadata": {},
   "outputs": [
    {
     "name": "stdout",
     "output_type": "stream",
     "text": [
      "[[1, 2, 3, 5], [1, 2, 3, 8], [4, 3, 2, 1]]\n",
      "[15, 14, 13, 9]\n"
     ]
    }
   ],
   "source": [
    "def solution(land):\n",
    "    last = land[0]\n",
    "    for i in land[1:]:\n",
    "        temp = [0,0,0,0]\n",
    "        for idx, item in enumerate(i):\n",
    "            temp[idx] = item + max(last[:idx] + last[idx+1:])\n",
    "        last = temp\n",
    "    return max(last)"
   ]
  },
  {
   "cell_type": "markdown",
   "metadata": {},
   "source": [
    "# 포켓몬 (10분)\n",
    "- 훨씬 좋은 방법이 있었음\n",
    "- n/2보다 nums의 종류가 더 적으면(n/2 > set(nums)) 그 종류 만큼 return이고, \n",
    "- nums의 종류보다 n/2가 더 적으면 n/2만큼 return"
   ]
  },
  {
   "cell_type": "code",
   "execution_count": 48,
   "metadata": {},
   "outputs": [
    {
     "name": "stdout",
     "output_type": "stream",
     "text": [
      "2 1 2\n",
      "3 2 1\n",
      "3 3 0\n"
     ]
    },
    {
     "data": {
      "text/plain": [
       "3"
      ]
     },
     "execution_count": 48,
     "metadata": {},
     "output_type": "execute_result"
    }
   ],
   "source": [
    "nums = [3,1,2,3]\n",
    "def solution(nums):\n",
    "    n = len(nums)//2\n",
    "    nums.sort()\n",
    "    last = nums[0]\n",
    "    cnt = 1\n",
    "    for i in range(1, len(nums)):\n",
    "        if n < 1:\n",
    "            break\n",
    "        if nums[i] != last:\n",
    "            n -= 1\n",
    "            cnt += 1\n",
    "            last = nums[i]\n",
    "    return cnt\n",
    "solution(nums)"
   ]
  },
  {
   "cell_type": "code",
   "execution_count": 49,
   "metadata": {},
   "outputs": [
    {
     "data": {
      "text/plain": [
       "2"
      ]
     },
     "execution_count": 49,
     "metadata": {},
     "output_type": "execute_result"
    }
   ],
   "source": [
    "def solution(nums):\n",
    "    return min(len(set(nums)), len(nums)//2)    "
   ]
  },
  {
   "cell_type": "markdown",
   "metadata": {},
   "source": [
    "# 숫자의 표현 (7분)"
   ]
  },
  {
   "cell_type": "code",
   "execution_count": 71,
   "metadata": {},
   "outputs": [],
   "source": [
    "def solution(n):\n",
    "    answer = 1\n",
    "    for i in range(1, n):\n",
    "        temp = 0\n",
    "        for j in range(i, n):\n",
    "            temp += j\n",
    "            if temp == n:\n",
    "                answer += 1\n",
    "                break\n",
    "            if temp > n:\n",
    "                break\n",
    "    return answer"
   ]
  },
  {
   "cell_type": "markdown",
   "metadata": {},
   "source": [
    "# 이진 변환 반복하기 (8분)"
   ]
  },
  {
   "cell_type": "code",
   "execution_count": 83,
   "metadata": {},
   "outputs": [
    {
     "name": "stdout",
     "output_type": "stream",
     "text": [
      "3 3\n"
     ]
    }
   ],
   "source": [
    "def solution(s):\n",
    "    answer = 0\n",
    "    cnt = 0\n",
    "    while s != \"1\":\n",
    "        cnt += 1\n",
    "        answer += s.count(\"0\")\n",
    "        s = s.replace(\"0\", \"\")\n",
    "        s = bin(len(s))[2:]\n",
    "    return [cnt, answer]"
   ]
  },
  {
   "cell_type": "markdown",
   "metadata": {},
   "source": [
    "# 최댓값과 최솟값 (2분)"
   ]
  },
  {
   "cell_type": "code",
   "execution_count": 6,
   "metadata": {},
   "outputs": [],
   "source": [
    "def solution(s):\n",
    "    arr = list(map(int, s.split()))\n",
    "    return str(min(arr))+\" \"+str(max(arr))"
   ]
  },
  {
   "cell_type": "markdown",
   "metadata": {},
   "source": [
    "# 최솟값 만들기 (3분)"
   ]
  },
  {
   "cell_type": "code",
   "execution_count": 9,
   "metadata": {},
   "outputs": [],
   "source": [
    "def solution(A, B):\n",
    "    A.sort()\n",
    "    B.sort(reverse = True)\n",
    "    answer = 0\n",
    "    for i in range(len(A)):\n",
    "        answer += A[i]*B[i]\n",
    "    return answer"
   ]
  },
  {
   "cell_type": "markdown",
   "metadata": {},
   "source": [
    "# 피보나치 수 (3분)"
   ]
  },
  {
   "cell_type": "code",
   "execution_count": 17,
   "metadata": {},
   "outputs": [],
   "source": [
    "def solution(n):\n",
    "    arr = [0 for _ in range(n+1)]\n",
    "    arr[1] = 1\n",
    "    for i in range(2, n+1):\n",
    "        arr[i] = arr[i-2]+arr[i-1]\n",
    "    return arr[n]%1234567"
   ]
  },
  {
   "cell_type": "markdown",
   "metadata": {},
   "source": [
    "# 행렬의 곱셈 (25분)"
   ]
  },
  {
   "cell_type": "code",
   "execution_count": 29,
   "metadata": {},
   "outputs": [],
   "source": [
    "arr1 = [[1, 4], [3, 2], [4, 1]]\n",
    "arr2 = [[3, 3], [3, 3]]\n",
    "arr1 = [[2, 3, 2], [4, 2, 4], [3, 1, 4]]\n",
    "arr2 = [[5, 4, 3], [2, 4, 1], [3, 1, 1]]\n",
    "\n",
    "def solution(arr1, arr2):\n",
    "    answer = [[0]*len(arr2[0]) for _ in range(len(arr1))]\n",
    "    for i, row in enumerate(arr1):\n",
    "        result = [0,0]\n",
    "        for j in range(len(row)):\n",
    "            for k in range(len(arr2[0])):\n",
    "                answer[i][k] += row[j]*arr2[j][k]\n",
    "    return answer"
   ]
  },
  {
   "cell_type": "code",
   "execution_count": 1,
   "metadata": {},
   "outputs": [
    {
     "data": {
      "text/plain": [
       "matrix([[22, 22, 11],\n",
       "        [36, 28, 18],\n",
       "        [29, 20, 14]])"
      ]
     },
     "execution_count": 1,
     "metadata": {},
     "output_type": "execute_result"
    }
   ],
   "source": [
    "# numpy 이용하기! \n",
    "# numpy를 통해서 행렬 연산 할 수 있다 (단, pip install numpy 해야해서 코테에선 X)\n",
    "import numpy as np\n",
    "np.matrix(arr1) * np.matrix(arr2)"
   ]
  },
  {
   "cell_type": "markdown",
   "metadata": {},
   "source": [
    "# 수식 최대화 (약 1시간...)"
   ]
  },
  {
   "cell_type": "code",
   "execution_count": 40,
   "metadata": {},
   "outputs": [
    {
     "name": "stdout",
     "output_type": "stream",
     "text": [
      "-1\n",
      "50*(6-3)*(2-3)5(0*6)-(3*2)-3\n",
      "5(0*6)-(3*2)-350*(6-3)*(2-3)\n"
     ]
    }
   ],
   "source": [
    "from itertools import permutations\n",
    "\n",
    "def calculate(arr, oper):\n",
    "    i = 0\n",
    "    new = []\n",
    "    while i < len(arr):\n",
    "        if arr[i] == oper:\n",
    "            before = new.pop()\n",
    "            new.append(str(eval(before+arr[i]+arr[i+1])))\n",
    "            i += 2\n",
    "        else:\n",
    "            new.append(arr[i])\n",
    "            i+= 1\n",
    "    return new\n",
    "\n",
    "def solution(s):\n",
    "    # 연산자 후보\n",
    "    operations = []\n",
    "    if s.find('-') != -1: operations.append('-')\n",
    "    if s.find('+') != -1: operations.append('+')\n",
    "    if s.find('*') != -1: operations.append('*')\n",
    "    per = list(permutations(operations))\n",
    "\n",
    "    # arr\n",
    "    s = s.replace('*', ' * ').replace('+', ' + ').replace('-', ' - ')\n",
    "    arr = s.split(' ')\n",
    "\n",
    "    # 완전탐색\n",
    "    answer = []\n",
    "    for op in per:\n",
    "        temp = arr\n",
    "        for k in op:\n",
    "            temp = calculate(temp, k)\n",
    "        answer.append(abs(int(temp[0])))\n",
    "    return max(answer)"
   ]
  },
  {
   "cell_type": "markdown",
   "metadata": {},
   "source": [
    "# JadenCase 문자열 만들기 (12분)"
   ]
  },
  {
   "cell_type": "code",
   "execution_count": 35,
   "metadata": {},
   "outputs": [
    {
     "data": {
      "text/plain": [
       "'People A Unfollowed Me'"
      ]
     },
     "execution_count": 35,
     "metadata": {},
     "output_type": "execute_result"
    }
   ],
   "source": [
    "s = \"people a unFollowed me\"\n",
    "\n",
    "def solution(s):\n",
    "    arr = s.split(\" \")\n",
    "    result = ''\n",
    "    for i in arr:\n",
    "        result += i.capitalize() +' '\n",
    "    return result[:-1]\n",
    "solution(s)"
   ]
  },
  {
   "cell_type": "code",
   "execution_count": null,
   "metadata": {},
   "outputs": [],
   "source": [
    "# N개의 최소공배수"
   ]
  },
  {
   "cell_type": "code",
   "execution_count": 1,
   "metadata": {},
   "outputs": [],
   "source": [
    "arr=[2,6,8,14]\n",
    "def solution(arr):\n",
    "    m = 1\n",
    "    for i in arr: m *= i\n",
    "    for i in range(max(arr), m+1):\n",
    "        isLcm = True\n",
    "        for j in arr:\n",
    "            if i%j != 0:\n",
    "                isLcm = False\n",
    "        if isLcm:\n",
    "            return i"
   ]
  },
  {
   "cell_type": "code",
   "execution_count": 3,
   "metadata": {},
   "outputs": [
    {
     "data": {
      "text/plain": [
       "168"
      ]
     },
     "execution_count": 3,
     "metadata": {},
     "output_type": "execute_result"
    }
   ],
   "source": [
    "from math import gcd\n",
    "def solution(arr):\n",
    "    answer = arr[0]\n",
    "    for i in arr[1:]:\n",
    "        answer = answer*i//gcd(answer,i)\n",
    "    return answer\n",
    "solution([2,6,8,14])"
   ]
  },
  {
   "cell_type": "markdown",
   "metadata": {},
   "source": [
    "# 짝지어 제거하기 (1시간)"
   ]
  },
  {
   "cell_type": "code",
   "execution_count": 72,
   "metadata": {},
   "outputs": [
    {
     "data": {
      "text/plain": [
       "1"
      ]
     },
     "execution_count": 72,
     "metadata": {},
     "output_type": "execute_result"
    }
   ],
   "source": [
    "def solution(s):\n",
    "    answer = [s[0]]\n",
    "    for i in s[1:]:\n",
    "        if answer and answer[-1] == i:\n",
    "            answer.pop()\n",
    "        else:\n",
    "            answer.append(i)\n",
    "    return int(not answer)"
   ]
  },
  {
   "cell_type": "code",
   "execution_count": null,
   "metadata": {},
   "outputs": [],
   "source": []
  },
  {
   "cell_type": "code",
   "execution_count": 122,
   "metadata": {},
   "outputs": [
    {
     "name": "stdout",
     "output_type": "stream",
     "text": [
      "7\n",
      "9\n",
      "10\n",
      "11\n",
      "12\n",
      "14\n",
      "12\n",
      "13\n",
      "15\n",
      "17\n",
      "4\n"
     ]
    }
   ],
   "source": [
    "def isPrime(n):\n",
    "    for i in range(2, n//2+1):\n",
    "        if n % i == 0:\n",
    "            return False\n",
    "    return True\n",
    "\n",
    "from itertools import combinations\n",
    "\n",
    "def solution(nums):\n",
    "    arr = [sum(i) for i in list(combinations(nums,3))]\n",
    "    answer = 0\n",
    "    for i in arr:\n",
    "        if isPrime(i):\n",
    "            answer+= 1\n",
    "    return answer"
   ]
  },
  {
   "cell_type": "code",
   "execution_count": null,
   "metadata": {},
   "outputs": [],
   "source": []
  }
 ],
 "metadata": {
  "kernelspec": {
   "display_name": "Python 3",
   "language": "python",
   "name": "python3"
  },
  "language_info": {
   "codemirror_mode": {
    "name": "ipython",
    "version": 3
   },
   "file_extension": ".py",
   "mimetype": "text/x-python",
   "name": "python",
   "nbconvert_exporter": "python",
   "pygments_lexer": "ipython3",
   "version": "3.7.2"
  }
 },
 "nbformat": 4,
 "nbformat_minor": 2
}
