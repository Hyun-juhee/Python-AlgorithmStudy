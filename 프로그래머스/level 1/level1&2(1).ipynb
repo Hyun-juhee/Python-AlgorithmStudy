{
 "cells": [
  {
   "cell_type": "markdown",
   "metadata": {},
   "source": [
    "# 크레인 인형뽑기 게임"
   ]
  },
  {
   "cell_type": "code",
   "execution_count": null,
   "metadata": {},
   "outputs": [],
   "source": [
    "def solution(board, moves):\n",
    "    answer = 0\n",
    "    basket = [0]\n",
    "    for i in moves:\n",
    "        for j in range(len(board)):\n",
    "            if board[j][i-1] != 0:\n",
    "                if basket[-1] == board[j][i-1]:\n",
    "                    basket.pop()\n",
    "                    answer += 2\n",
    "                else: \n",
    "                    basket.append(board[j][i-1])\n",
    "                board[j][i-1] = 0\n",
    "                break\n",
    "    return answer"
   ]
  },
  {
   "cell_type": "markdown",
   "metadata": {},
   "source": [
    "# 두 개 뽑아서 더하기"
   ]
  },
  {
   "cell_type": "code",
   "execution_count": 19,
   "metadata": {},
   "outputs": [
    {
     "data": {
      "text/plain": [
       "[2, 3, 4, 5, 6, 7]"
      ]
     },
     "execution_count": 19,
     "metadata": {},
     "output_type": "execute_result"
    }
   ],
   "source": [
    "def solution(numbers):\n",
    "    answer = []\n",
    "    for i in range(len(numbers)):\n",
    "        for j in range(i+1, len(numbers)):\n",
    "            temp = numbers[i] + numbers[j]\n",
    "            if answer.count(temp) == 0:\n",
    "                answer.append(temp)\n",
    "    answer.sort()\n",
    "    return answer\n",
    "numbers = [2,1,3,4,1]\n",
    "solution(numbers)"
   ]
  },
  {
   "cell_type": "code",
   "execution_count": 23,
   "metadata": {},
   "outputs": [
    {
     "data": {
      "text/plain": [
       "[2, 3, 4, 5, 6, 7]"
      ]
     },
     "execution_count": 23,
     "metadata": {},
     "output_type": "execute_result"
    }
   ],
   "source": [
    "def solution(numbers):\n",
    "    answer = []\n",
    "    for i in range(len(numbers)):\n",
    "        for j in range(i+1, len(numbers)):\n",
    "            temp = numbers[i] + numbers[j]\n",
    "            answer.append(temp)\n",
    "    answer.sort()\n",
    "    return list(set(answer))\n",
    "numbers = [2,1,3,4,1]\n",
    "solution(numbers)"
   ]
  },
  {
   "cell_type": "markdown",
   "metadata": {},
   "source": [
    "# 모의고사"
   ]
  },
  {
   "cell_type": "code",
   "execution_count": 31,
   "metadata": {},
   "outputs": [
    {
     "data": {
      "text/plain": [
       "[1]"
      ]
     },
     "execution_count": 31,
     "metadata": {},
     "output_type": "execute_result"
    }
   ],
   "source": [
    "def solution(answers):\n",
    "    answer = []\n",
    "    rule = [[1,2,3,4,5], [2,1,2,3,2,4,2,5],[3,3,1,1,2,2,4,4,5,5]]\n",
    "    score = [0, 0, 0]\n",
    "    for i in range(len(answers)):\n",
    "        for j in range(3):\n",
    "            if answers[i] == rule[j][i%(len(rule[j]))]:\n",
    "                score[j] += 1\n",
    "    maxScore = max(score)\n",
    "    for i in range(3):\n",
    "        if score[i] == maxScore:\n",
    "            answer.append(i+1)\n",
    "    return answer\n",
    "solution([1,2,3,4,5])"
   ]
  },
  {
   "cell_type": "code",
   "execution_count": null,
   "metadata": {},
   "outputs": [],
   "source": []
  },
  {
   "cell_type": "code",
   "execution_count": 44,
   "metadata": {},
   "outputs": [
    {
     "name": "stdout",
     "output_type": "stream",
     "text": [
      "[5, 2, 6, 3]\n",
      "2 [2, 3, 5, 6]\n",
      "[6]\n",
      "0 [6]\n",
      "[1, 5, 2, 6, 3, 7, 4]\n",
      "2 [1, 2, 3, 4, 5, 6, 7]\n"
     ]
    },
    {
     "data": {
      "text/plain": [
       "[5, 6, 3]"
      ]
     },
     "execution_count": 44,
     "metadata": {},
     "output_type": "execute_result"
    }
   ],
   "source": [
    "def solution(array, commands):\n",
    "    answer = []\n",
    "    for i, j, k in commands:\n",
    "        temp = array[i-1:j]\n",
    "        temp.sort()\n",
    "        answer.append(temp[k-1])\n",
    "        \n",
    "    return answer\n",
    "solution([1, 5, 2, 6, 3, 7, 4], [[2, 5, 3], [4, 4, 1], [1, 7, 3]])"
   ]
  },
  {
   "cell_type": "markdown",
   "metadata": {},
   "source": [
    "# 체육복"
   ]
  },
  {
   "cell_type": "code",
   "execution_count": 98,
   "metadata": {},
   "outputs": [],
   "source": [
    "def solution(n, lost, reserve):\n",
    "    answer = n-len(lost)\n",
    "    forFind = [0 for _ in range(n+1)]\n",
    "    \n",
    "    for i in reserve:\n",
    "        forFind[i] = 1\n",
    "    for i in lost:\n",
    "        if forFind[i] == 1:\n",
    "            forFind[i] = 0\n",
    "            answer +=1\n",
    "        elif (i-1)>0 and forFind[i-1] == 1:\n",
    "            forFind[i-1] = 0\n",
    "            answer+= 1\n",
    "        elif (i+1)<=n and forFind[i+1] == 1:\n",
    "            forFind[i+1] = 0\n",
    "            answer+= 1\n",
    "    return answer"
   ]
  },
  {
   "cell_type": "code",
   "execution_count": null,
   "metadata": {},
   "outputs": [],
   "source": [
    "def solution(n, lost, reserve):\n",
    "    # 중복 제거는 무조건 set이용!!!!! \n",
    "    set_reserve = set(reserve)-set(lost)\n",
    "    set_lost = set(lost)-set(reserve)\n",
    "    \n",
    "    answer = n-len(set_lost)\n",
    "    forFind = [0 for _ in range(n+1)]\n",
    "    for i in set_reserve:\n",
    "        forFind[i] = 1\n",
    "        \n",
    "    for i in set_lost:\n",
    "        if (i-1)>0 and forFind[i-1] == 1:\n",
    "            forFind[i-1] = 0\n",
    "            answer+= 1\n",
    "        elif (i+1)<=n and forFind[i+1] == 1:\n",
    "            forFind[i+1] = 0\n",
    "            answer+= 1\n",
    "    return answer"
   ]
  },
  {
   "cell_type": "markdown",
   "metadata": {},
   "source": [
    "# 🔺🔺124 나라의 숫자"
   ]
  },
  {
   "cell_type": "code",
   "execution_count": 364,
   "metadata": {},
   "outputs": [
    {
     "name": "stdout",
     "output_type": "stream",
     "text": [
      "14\n"
     ]
    }
   ],
   "source": [
    "x = 4\n",
    "y = \"\"\n",
    "while x > 0:\n",
    "    x -= 1\n",
    "    y = '124'[x%3]+y\n",
    "    x //= 3\n",
    "print(y)"
   ]
  },
  {
   "cell_type": "code",
   "execution_count": 384,
   "metadata": {},
   "outputs": [
    {
     "name": "stdout",
     "output_type": "stream",
     "text": [
      "-1\n",
      "0\n",
      "14\n"
     ]
    }
   ],
   "source": [
    "x = 3\n",
    "y = \"\"\n",
    "while x > 0:\n",
    "    y = '124'[x%3-1]+y\n",
    "    print(x%3-1)\n",
    "    x = x//3\n",
    "print(y)"
   ]
  },
  {
   "cell_type": "markdown",
   "metadata": {},
   "source": [
    "# 2016 년"
   ]
  },
  {
   "cell_type": "code",
   "execution_count": 378,
   "metadata": {},
   "outputs": [],
   "source": [
    "def solution(a, b):\n",
    "    lastDay = [0,31,29,31,30,31,30,31,31,30,31,30,31]\n",
    "    cnt = 0\n",
    "    for i in range(1,a):\n",
    "        cnt += lastDay[i]\n",
    "    cnt += b\n",
    "    week = ['FRI','SAT','SUN','MON','TUE','WED','THU']\n",
    "    return week[cnt%7-1]\n"
   ]
  },
  {
   "cell_type": "markdown",
   "metadata": {},
   "source": [
    "# 🔺 다리를 지나는 트럭 (문제 자체는 쉬운데 구현하는데 좀 오래걸림)"
   ]
  },
  {
   "cell_type": "code",
   "execution_count": null,
   "metadata": {},
   "outputs": [],
   "source": [
    "from collections import deque\n",
    "\n",
    "def solution(bridge_length, weight, truck_weights):\n",
    "    cnt = 1\n",
    "    move_truck = [0 for _ in range(len(truck_weights))]\n",
    "    queue = deque()\n",
    "    queue.append(0)\n",
    "    while queue:\n",
    "        cnt +=1\n",
    "        # 트럭 이동 \n",
    "        for i in queue:\n",
    "            move_truck[i] += 1\n",
    "\n",
    "        # 다가면 빼 \n",
    "        while queue and move_truck[queue[0]] == bridge_length:\n",
    "            queue.popleft()\n",
    "\n",
    "        # 넣기 위한 다음거 인덱싱\n",
    "        if queue:\n",
    "            current = queue[-1] + 1\n",
    "\n",
    "        if current < len(truck_weights):\n",
    "            s = 0 \n",
    "            for i in queue:\n",
    "                s +=truck_weights[i]\n",
    "            if s + truck_weights[current] <= weight:\n",
    "                queue.append(current)\n",
    "    return cnt"
   ]
  },
  {
   "cell_type": "markdown",
   "metadata": {},
   "source": [
    "# 멀쩡한 사각형 ... (해결 XXXXX)"
   ]
  },
  {
   "cell_type": "code",
   "execution_count": 599,
   "metadata": {},
   "outputs": [],
   "source": [
    "def f(h,w,x):\n",
    "    return (h/w)*x\n",
    "\n",
    "def solution(w,h):\n",
    "    answer = 0\n",
    "    if w == h:\n",
    "        return w*h - w\n",
    "    if w > h:\n",
    "        w,h = h,w\n",
    "    for i in range(1, w):\n",
    "        answer += int(f(h,w,i))\n",
    "    return 2*answer"
   ]
  },
  {
   "cell_type": "code",
   "execution_count": 601,
   "metadata": {},
   "outputs": [],
   "source": [
    "def f(h,w,x):\n",
    "    return (h/w)*x\n",
    "\n",
    "def solution(w,h):\n",
    "    answer = 0\n",
    "    if w == h:\n",
    "        return w*h - w\n",
    "    if w > h:\n",
    "        w,h = h,w\n",
    "    for i in range(0, w):\n",
    "        answer += int(f(h,w,i))\n",
    "    return 2*answer"
   ]
  },
  {
   "cell_type": "code",
   "execution_count": 602,
   "metadata": {},
   "outputs": [
    {
     "data": {
      "text/plain": [
       "80"
      ]
     },
     "execution_count": 602,
     "metadata": {},
     "output_type": "execute_result"
    }
   ],
   "source": [
    "solution(8,12)"
   ]
  },
  {
   "cell_type": "markdown",
   "metadata": {},
   "source": [
    "# 스킬트리 (20분)"
   ]
  },
  {
   "cell_type": "code",
   "execution_count": 23,
   "metadata": {},
   "outputs": [],
   "source": [
    "from collections import defaultdict\n",
    "    \n",
    "def is_possible(dictionary, skill_tree):\n",
    "    for i in range(len(skill_tree)):\n",
    "        if dictionary[skill_tree[i]] >= 0:\n",
    "            for j in range(dictionary[skill_tree[i]]):\n",
    "                if skill_tree.find(skill[j]) == -1 or skill_tree.find(skill[j]) > i:\n",
    "                    return False\n",
    "    return True\n",
    "\n",
    "def solution(skill, skill_trees):\n",
    "    dictionary = defaultdict(lambda: -1) ## \n",
    "    for i in range(len(skill)):\n",
    "        dictionary[skill[i]] = i\n",
    "        \n",
    "    answer = 0\n",
    "    for x in skill_trees:\n",
    "        if is_possible(dictionary, x):\n",
    "            answer+= 1\n",
    "    return answer\n",
    "                \n"
   ]
  },
  {
   "cell_type": "code",
   "execution_count": 33,
   "metadata": {},
   "outputs": [
    {
     "data": {
      "text/plain": [
       "2"
      ]
     },
     "execution_count": 33,
     "metadata": {},
     "output_type": "execute_result"
    }
   ],
   "source": [
    "solution(\"CBD\", [\"BACDE\", \"CBADF\", \"AECB\", \"BDA\"])"
   ]
  },
  {
   "cell_type": "code",
   "execution_count": 32,
   "metadata": {},
   "outputs": [],
   "source": [
    "def solution(skill, skill_trees):\n",
    "    answer = 0\n",
    "\n",
    "    for skills in skill_trees:\n",
    "        \n",
    "        skill_list = list(skill)\n",
    "        for s in skills:\n",
    "            if s in skill_list:\n",
    "                if s != skill_list.pop(0):\n",
    "                    break\n",
    "        else:\n",
    "            answer += 1\n",
    "\n",
    "    return answer"
   ]
  },
  {
   "cell_type": "markdown",
   "metadata": {},
   "source": [
    "# 주식가격 (10분이하)"
   ]
  },
  {
   "cell_type": "code",
   "execution_count": 41,
   "metadata": {},
   "outputs": [
    {
     "name": "stdout",
     "output_type": "stream",
     "text": [
      "[4, 3, 1, 1, 0]\n"
     ]
    }
   ],
   "source": [
    "def solution(prices):\n",
    "    n = len(prices)\n",
    "    answer = []\n",
    "    for i in range(n):\n",
    "        cnt = 0\n",
    "        for j in range(i+1, n):\n",
    "            cnt += 1\n",
    "            if prices[j] < prices[i]:\n",
    "                break\n",
    "        answer.append(cnt)\n",
    "    return answer"
   ]
  },
  {
   "cell_type": "markdown",
   "metadata": {},
   "source": [
    "# 프린터 (13분)"
   ]
  },
  {
   "cell_type": "code",
   "execution_count": 54,
   "metadata": {},
   "outputs": [
    {
     "name": "stdout",
     "output_type": "stream",
     "text": [
      "deque([[1, 1], [1, 3], [1, 4], [1, 5], [1, 0]])\n"
     ]
    },
    {
     "data": {
      "text/plain": [
       "[1, 1]"
      ]
     },
     "execution_count": 54,
     "metadata": {},
     "output_type": "execute_result"
    }
   ],
   "source": [
    "from collections import deque\n",
    "def solution(priorities, location):\n",
    "    array = deque()\n",
    "    for i in range(len(priorities)):\n",
    "        array.append([priorities[i], i])\n",
    "    answer = 0\n",
    "    while array:\n",
    "        max_item = max(array, key= lambda x: x[0])[0]\n",
    "        if array[0][0] < max_item:\n",
    "            array.append(array.popleft())\n",
    "        else:\n",
    "            temp = array.popleft()\n",
    "            answer += 1\n",
    "            if temp[1] == location:\n",
    "                break\n",
    "    return answer"
   ]
  },
  {
   "cell_type": "code",
   "execution_count": 57,
   "metadata": {},
   "outputs": [
    {
     "data": {
      "text/plain": [
       "[False, True, True, True]"
      ]
     },
     "execution_count": 57,
     "metadata": {},
     "output_type": "execute_result"
    }
   ],
   "source": [
    "[1<i for i in [1,2,3,4]]"
   ]
  },
  {
   "cell_type": "markdown",
   "metadata": {},
   "source": [
    "# 기능개발 (15분)"
   ]
  },
  {
   "cell_type": "code",
   "execution_count": 77,
   "metadata": {},
   "outputs": [
    {
     "name": "stdout",
     "output_type": "stream",
     "text": [
      "[1, 3, 2]\n"
     ]
    }
   ],
   "source": [
    "import math\n",
    "from collections import deque\n",
    "\n",
    "def solution(progresses, speeds):\n",
    "    queue = deque()\n",
    "    for i in range(len(progresses)):\n",
    "        queue.append(math.ceil((100-progresses[i])/speeds[i]))\n",
    "\n",
    "    answer=[]\n",
    "    while queue:\n",
    "        cnt = 1\n",
    "        temp = queue.popleft()\n",
    "        while queue:\n",
    "            if queue[0] <= temp:\n",
    "                queue.popleft()\n",
    "                cnt += 1\n",
    "            else:\n",
    "                break\n",
    "        answer.append(cnt)\n",
    "    return answer"
   ]
  },
  {
   "cell_type": "markdown",
   "metadata": {},
   "source": [
    "# 문자열 압축 (27분)"
   ]
  },
  {
   "cell_type": "code",
   "execution_count": 217,
   "metadata": {},
   "outputs": [],
   "source": [
    "def solution(s):\n",
    "    answer = len(s)\n",
    "    for i in range(1, int(len(s)/2)+1):\n",
    "        j = 0\n",
    "        result = ''\n",
    "        while j < len(s):\n",
    "            cnt = 1\n",
    "            temp = s[j:j+i]\n",
    "            for k in range(1, len(s)):\n",
    "                if s[j+(k-1)*i:j+k*i]== s[j+k*i:j+(k+1)*i]:\n",
    "                    cnt += 1\n",
    "                else:\n",
    "                    j = j+k*i\n",
    "                    break\n",
    "            if cnt == 1:\n",
    "                result += temp\n",
    "            else:\n",
    "                result += (str(cnt)+temp) \n",
    "        \n",
    "        answer = min(answer, len(result))\n",
    "    return answer"
   ]
  },
  {
   "cell_type": "code",
   "execution_count": 218,
   "metadata": {},
   "outputs": [
    {
     "data": {
      "text/plain": [
       "7"
      ]
     },
     "execution_count": 218,
     "metadata": {},
     "output_type": "execute_result"
    }
   ],
   "source": [
    "s = \"aabbaccc\"\n",
    "solution(s)     \n",
    "                "
   ]
  },
  {
   "cell_type": "markdown",
   "metadata": {},
   "source": [
    "# 삼각 달팽이 (1시간) - 다시 풀어보자!!!"
   ]
  },
  {
   "cell_type": "code",
   "execution_count": 327,
   "metadata": {},
   "outputs": [],
   "source": [
    "def solution(n):\n",
    "    result = [[] for _ in range(n)]\n",
    "    for i in range(1, n):\n",
    "        result[i-1].append(i)\n",
    "    result[n-1].extend([i for i in range(n, 2*n)])\n",
    "\n",
    "    # 맨밑줄은 다 채우고 시작 (아니면 처음에 root[0]==0일때 맨뒤에 값을 넣어야하는데 그걸 insert로 해줄 수가 없음)\n",
    "    root = [[-1, 1], [1, -1], [0, -1]]\n",
    "    k = 0\n",
    "    j = n-1\n",
    "    for i in range(2*n, int(n*(n+1)/2) + 1):  \n",
    "        while len(result[j + root[k%3][0]]) >= j + root[k%3][0] + 1:\n",
    "            if root[k%3][0] >= 0:\n",
    "                root[k%3][1] -= 1\n",
    "            elif root[k%3][0] == -1:\n",
    "                root[k%3][1] += 1\n",
    "            k+= 1\n",
    "        j += root[k%3][0]\n",
    "        result[j].insert(root[k%3][1],i)\n",
    "    answer = []\n",
    "    for array in result:\n",
    "        answer.extend(array)\n",
    "    return answer"
   ]
  },
  {
   "cell_type": "code",
   "execution_count": 375,
   "metadata": {},
   "outputs": [],
   "source": [
    "def solution(n):\n",
    "    dx=[0,1,-1]\n",
    "    dy=[1,0,-1]\n",
    "    b=[[0]*i for i in range(1,n+1)]\n",
    "    x,y=0,0\n",
    "    num=1\n",
    "    d=0\n",
    "    while num<=(n+1)*n//2:\n",
    "        b[y][x]=num\n",
    "        ny=y+dy[d]\n",
    "        nx=x+dx[d]\n",
    "        num+=1\n",
    "        if 0<=ny<n and 0<=nx<=ny and b[ny][nx]==0:\n",
    "            y,x=ny,nx\n",
    "        else:\n",
    "            d=(d+1)%3\n",
    "            y+=dy[d]\n",
    "            x+=dx[d]\n",
    "    return sum(b,[])"
   ]
  },
  {
   "cell_type": "code",
   "execution_count": 376,
   "metadata": {},
   "outputs": [
    {
     "name": "stdout",
     "output_type": "stream",
     "text": [
      "[1, 2, 27, 3, 28, 26, 4, 29, 45, 25, 5, 30, 46, 44, 24, 6, 31, 47, 54, 43, 23, 7, 32, 48, 55, 53, 42, 22, 8, 33, 49, 50, 51, 52, 41, 21, 9, 34, 35, 36, 37, 38, 39, 40, 20, 10, 11, 12, 13, 14, 15, 16, 17, 18, 19]\n"
     ]
    }
   ],
   "source": [
    "print(solution(10))"
   ]
  },
  {
   "cell_type": "markdown",
   "metadata": {},
   "source": [
    "# 같은 숫자는 싫어"
   ]
  },
  {
   "cell_type": "code",
   "execution_count": 383,
   "metadata": {},
   "outputs": [
    {
     "name": "stdout",
     "output_type": "stream",
     "text": [
      "[4, 3]\n"
     ]
    }
   ],
   "source": [
    "def solution(array):\n",
    "    result = [array[0]]\n",
    "    for i in range(1, len(array)):\n",
    "        if array[i-1] != array[i]:\n",
    "            result.append(array[i])\n",
    "    return result"
   ]
  },
  {
   "cell_type": "markdown",
   "metadata": {},
   "source": [
    "# 가운데 글자 가져오기"
   ]
  },
  {
   "cell_type": "code",
   "execution_count": 388,
   "metadata": {},
   "outputs": [
    {
     "name": "stdout",
     "output_type": "stream",
     "text": [
      "bc\n"
     ]
    }
   ],
   "source": [
    "def solution(s):\n",
    "    answer = ''\n",
    "    if len(s)%2 == 1:\n",
    "        answer = s[int(len(s)/2)]\n",
    "    else:\n",
    "        answer = s[int(len(s)/2)-1:int(len(s)/2)+1]\n",
    "    return answer"
   ]
  },
  {
   "cell_type": "code",
   "execution_count": null,
   "metadata": {},
   "outputs": [],
   "source": [
    "# 두 정수 사이의 합"
   ]
  },
  {
   "cell_type": "code",
   "execution_count": 5,
   "metadata": {},
   "outputs": [],
   "source": [
    "def solution(a, b):\n",
    "    answer = 0\n",
    "    for i in range(min(a,b), max(a,b)+1):\n",
    "        answer += i\n",
    "    return answer"
   ]
  },
  {
   "cell_type": "code",
   "execution_count": 6,
   "metadata": {},
   "outputs": [
    {
     "data": {
      "text/plain": [
       "12"
      ]
     },
     "execution_count": 6,
     "metadata": {},
     "output_type": "execute_result"
    }
   ],
   "source": [
    "solution(5,3)"
   ]
  },
  {
   "cell_type": "markdown",
   "metadata": {},
   "source": [
    "# 나누어 떨어지는 숫자 배열"
   ]
  },
  {
   "cell_type": "code",
   "execution_count": 5,
   "metadata": {},
   "outputs": [],
   "source": [
    "def solution(arr, divisor):\n",
    "    answer = []\n",
    "    for i in arr:\n",
    "        if i % divisor == 0:\n",
    "            answer.append(i)\n",
    "    answer.sort()\n",
    "    if len(answer) == 0:\n",
    "        anwer.append(-1)\n",
    "    return answer"
   ]
  },
  {
   "cell_type": "code",
   "execution_count": 6,
   "metadata": {},
   "outputs": [
    {
     "data": {
      "text/plain": [
       "[5]"
      ]
     },
     "execution_count": 6,
     "metadata": {},
     "output_type": "execute_result"
    }
   ],
   "source": [
    "solution([5,3,2,1], 5)"
   ]
  },
  {
   "cell_type": "markdown",
   "metadata": {},
   "source": [
    "# 🔺 조이스틱"
   ]
  },
  {
   "cell_type": "code",
   "execution_count": 113,
   "metadata": {},
   "outputs": [],
   "source": [
    "def solution(name):\n",
    "    cnt = 0\n",
    "\n",
    "    visit = []\n",
    "    for i in range(len(name)):\n",
    "        if name[i] != 'A':\n",
    "            visit.append(i)\n",
    "    visit.sort()\n",
    "\n",
    "    if visit[0]!= 0:\n",
    "        cnt += min(visit[0], abs(visit[0]-len(name)))\n",
    "    i = 0\n",
    "    while visit:\n",
    "        temp = visit.pop(i)\n",
    "        x = ord(name[temp])\n",
    "\n",
    "        if x-65 <= 91-x:\n",
    "            cnt += x-65\n",
    "        else:\n",
    "            cnt += 91-x\n",
    "\n",
    "        find = [i, float('inf')]\n",
    "        for j in range(len(visit)):\n",
    "            if find[1] > min(abs(temp-visit[j]), abs(temp-(visit[j]-len(name)))): \n",
    "                find = [j, min(abs(temp-visit[j]), abs(temp-(visit[j]-len(name))))]\n",
    "        if find[1] == float('inf'):\n",
    "            break\n",
    "        cnt += find[1]\n",
    "        i = find[0]\n",
    "    return cnt"
   ]
  },
  {
   "cell_type": "code",
   "execution_count": 125,
   "metadata": {},
   "outputs": [
    {
     "name": "stdout",
     "output_type": "stream",
     "text": [
      "2\n"
     ]
    }
   ],
   "source": [
    "name = \"AAAAB\"\n",
    "cnt = 0\n",
    "\n",
    "visit = []\n",
    "for i in range(len(name)):\n",
    "    if name[i] != 'A':\n",
    "        visit.append(i)\n",
    "visit.sort()\n",
    "\n",
    "i = 0\n",
    "if visit[0]!= 0:\n",
    "    cnt += min(visit[0], abs(visit[0]-len(name)))\n",
    "while visit:\n",
    "    temp = visit.pop(i)\n",
    "    x = ord(name[temp])\n",
    "    if x-65 <= 91-x:\n",
    "        cnt += x-65\n",
    "    else:\n",
    "        cnt += 91-x\n",
    "    \n",
    "    find = [i, float('inf')]\n",
    "    for j in range(len(visit)):\n",
    "        if find[1] > min(abs(temp-visit[j]), abs(temp-(visit[j]-len(name)))): \n",
    "            find = [j, min(abs(temp-visit[j]), abs(temp-(visit[j]-len(name))))]\n",
    "    if find[1] == float('inf'):\n",
    "        break\n",
    "    cnt += find[1]\n",
    "    i = find[0]\n",
    "print(cnt)"
   ]
  },
  {
   "cell_type": "code",
   "execution_count": 118,
   "metadata": {},
   "outputs": [
    {
     "name": "stdout",
     "output_type": "stream",
     "text": [
      "3\n"
     ]
    }
   ],
   "source": [
    "print(cnt)"
   ]
  },
  {
   "cell_type": "markdown",
   "metadata": {},
   "source": [
    "# 문자열 내 마음대로 정렬하기 (4분)"
   ]
  },
  {
   "cell_type": "code",
   "execution_count": 135,
   "metadata": {},
   "outputs": [
    {
     "name": "stdout",
     "output_type": "stream",
     "text": [
      "['car', 'bed', 'sun']\n"
     ]
    }
   ],
   "source": [
    "strings = ['sun', 'bed', 'car']\n",
    "# strings = ['abce', 'abcd', 'cdx']\n",
    "def solution(strings, n):\n",
    "    strings.sort()\n",
    "    strings.sort(key = lambda x:x[n])\n",
    "    return strings"
   ]
  }
 ],
 "metadata": {
  "kernelspec": {
   "display_name": "Python 3",
   "language": "python",
   "name": "python3"
  },
  "language_info": {
   "codemirror_mode": {
    "name": "ipython",
    "version": 3
   },
   "file_extension": ".py",
   "mimetype": "text/x-python",
   "name": "python",
   "nbconvert_exporter": "python",
   "pygments_lexer": "ipython3",
   "version": "3.7.2"
  }
 },
 "nbformat": 4,
 "nbformat_minor": 2
}
