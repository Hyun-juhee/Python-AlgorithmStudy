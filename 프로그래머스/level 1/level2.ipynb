{
 "cells": [
  {
   "cell_type": "code",
   "execution_count": null,
   "metadata": {},
   "outputs": [],
   "source": [
    "# 뉴스 클러스터링 (35분)"
   ]
  },
  {
   "cell_type": "code",
   "execution_count": null,
   "metadata": {},
   "outputs": [],
   "source": [
    "def solution(str1, str2):\n",
    "    answer = 0\n",
    "    str1 = str1.lower()\n",
    "    str2 = str2.lower()\n",
    "    list1, list2 = [], []\n",
    "    for i in range(1,len(str1)):\n",
    "        if 96<ord(str1[i])<123 and 96<ord(str1[i-1])<123:\n",
    "            list1.append(str1[i-1]+str1[i])\n",
    "    for i in range(1,len(str2)):\n",
    "        if 96<ord(str2[i])<123 and 96<ord(str2[i-1])<123:\n",
    "            list2.append(str2[i-1]+str2[i])\n",
    "    union = []\n",
    "    inter = []\n",
    "    for i in list1:\n",
    "        if list2.count(i) ==0:\n",
    "            union.append(i)\n",
    "    for i in list2:\n",
    "        if list1.count(i) > 0 and union.count(i)==0 and inter.count(i)==0:\n",
    "            union.extend([i for _ in range(max(list1.count(i),list2.count(i)))])\n",
    "            inter.extend([i for _ in range(min(list1.count(i),list2.count(i)))])\n",
    "        elif list1.count(i) == 0:\n",
    "            union.append(i)\n",
    "    if len(union) == 0:\n",
    "        return 65536\n",
    "    answer = int((len(inter)/len(union))*65536)\n",
    "    return answer"
   ]
  },
  {
   "cell_type": "code",
   "execution_count": 16,
   "metadata": {},
   "outputs": [
    {
     "name": "stdout",
     "output_type": "stream",
     "text": [
      "False\n"
     ]
    }
   ],
   "source": [
    "print('2^2'.isnumeric())"
   ]
  },
  {
   "cell_type": "code",
   "execution_count": 29,
   "metadata": {},
   "outputs": [
    {
     "data": {
      "text/plain": [
       "Counter({1: 1, 2: 1, 34: 2})"
      ]
     },
     "execution_count": 29,
     "metadata": {},
     "output_type": "execute_result"
    }
   ],
   "source": [
    "from collections import Counter\n",
    "Counter([1,2,34,34])"
   ]
  }
 ],
 "metadata": {
  "kernelspec": {
   "display_name": "Python 3",
   "language": "python",
   "name": "python3"
  },
  "language_info": {
   "codemirror_mode": {
    "name": "ipython",
    "version": 3
   },
   "file_extension": ".py",
   "mimetype": "text/x-python",
   "name": "python",
   "nbconvert_exporter": "python",
   "pygments_lexer": "ipython3",
   "version": "3.7.2"
  }
 },
 "nbformat": 4,
 "nbformat_minor": 2
}
