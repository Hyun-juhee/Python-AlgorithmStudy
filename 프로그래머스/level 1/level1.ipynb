{
 "cells": [
  {
   "cell_type": "code",
   "execution_count": null,
   "metadata": {},
   "outputs": [],
   "source": [
    "# 문자열 내 p와 y의 개수"
   ]
  },
  {
   "cell_type": "code",
   "execution_count": null,
   "metadata": {},
   "outputs": [],
   "source": [
    "def solution(s):\n",
    "    countP = 0\n",
    "    countY = 0\n",
    "    for i in s:\n",
    "        if i == 'p' or i == 'P':\n",
    "            countP += 1\n",
    "        if i == 'y' or i == 'Y':\n",
    "            countY += 1\n",
    "    if countP == countY:\n",
    "        return True\n",
    "    else:\n",
    "        return False"
   ]
  },
  {
   "cell_type": "code",
   "execution_count": null,
   "metadata": {},
   "outputs": [],
   "source": [
    "# 문자열 내림차순으로 배치하기"
   ]
  },
  {
   "cell_type": "code",
   "execution_count": 10,
   "metadata": {},
   "outputs": [
    {
     "name": "stdout",
     "output_type": "stream",
     "text": [
      "gfedcbZ\n"
     ]
    }
   ],
   "source": [
    "def solution(s):\n",
    "    s = sorted(s, reverse = True)\n",
    "    answer = ''.join(s)\n",
    "    return answer"
   ]
  },
  {
   "cell_type": "code",
   "execution_count": null,
   "metadata": {},
   "outputs": [],
   "source": [
    "# 문자열 다루기 기본"
   ]
  },
  {
   "cell_type": "code",
   "execution_count": 19,
   "metadata": {},
   "outputs": [],
   "source": [
    "def solution(s):\n",
    "    if len(s)!=4 and len(s)!=6:\n",
    "        return False\n",
    "    for i in s:\n",
    "        if ord(i) > 57:\n",
    "            return False\n",
    "    return True"
   ]
  },
  {
   "cell_type": "code",
   "execution_count": 20,
   "metadata": {},
   "outputs": [
    {
     "data": {
      "text/plain": [
       "True"
      ]
     },
     "execution_count": 20,
     "metadata": {},
     "output_type": "execute_result"
    }
   ],
   "source": [
    "solution('1234')"
   ]
  },
  {
   "cell_type": "code",
   "execution_count": 23,
   "metadata": {},
   "outputs": [],
   "source": [
    "# 서울에서 김서방 찾기 "
   ]
  },
  {
   "cell_type": "code",
   "execution_count": null,
   "metadata": {},
   "outputs": [],
   "source": [
    "def solution(seoul):\n",
    "    answer = \"김서방은 %s에 있다\"%seoul.index(\"Kim\")\n",
    "    return answer"
   ]
  },
  {
   "cell_type": "code",
   "execution_count": 84,
   "metadata": {},
   "outputs": [],
   "source": [
    "# 소수 찾기"
   ]
  },
  {
   "cell_type": "code",
   "execution_count": 83,
   "metadata": {},
   "outputs": [
    {
     "name": "stdout",
     "output_type": "stream",
     "text": [
      "3\n"
     ]
    }
   ],
   "source": [
    "n = 5\n",
    "result = [1 for _ in range(n+1)]\n",
    "for i in range(2,n):\n",
    "    if result[i] == 1:\n",
    "        j = 2\n",
    "        while j*i <= n:\n",
    "            result[j*i] = 0\n",
    "            j += 1\n",
    "print(sum(result[2:]))"
   ]
  },
  {
   "cell_type": "code",
   "execution_count": 66,
   "metadata": {},
   "outputs": [],
   "source": [
    "# 이렇게 하면 시간초과!! \n",
    "def isPrime(n):\n",
    "    for i in range(2, int(n/2)):\n",
    "        if n % i == 0:\n",
    "            return False\n",
    "    return True\n",
    "\n",
    "\n",
    "def solution(n):\n",
    "    answer = 1\n",
    "    for i in range(3, n+1, 2):\n",
    "        if isPrime(i):\n",
    "            answer += 1\n",
    "    return answer"
   ]
  },
  {
   "cell_type": "code",
   "execution_count": null,
   "metadata": {},
   "outputs": [],
   "source": [
    "# 시저암호"
   ]
  },
  {
   "cell_type": "code",
   "execution_count": 102,
   "metadata": {},
   "outputs": [
    {
     "name": "stdout",
     "output_type": "stream",
     "text": [
      "e F d\n"
     ]
    }
   ],
   "source": [
    "def solution(s, n):\n",
    "    answer = ''\n",
    "    for i in s:\n",
    "        if ord(i) == 32:\n",
    "            answer += i\n",
    "        elif ord(i) > 96 and ord(i)+n > 122:\n",
    "            answer += chr((ord(i)+n)-123 + 97)\n",
    "        elif ord(i) < 91 and ord(i) + n > 90:\n",
    "            answer += chr((ord(i)+n)-91 + 65)\n",
    "        else: \n",
    "            answer += chr(ord(i)+n)\n",
    "    return answer"
   ]
  },
  {
   "cell_type": "code",
   "execution_count": null,
   "metadata": {},
   "outputs": [],
   "source": [
    "# 약수의 합"
   ]
  },
  {
   "cell_type": "code",
   "execution_count": 109,
   "metadata": {},
   "outputs": [
    {
     "name": "stdout",
     "output_type": "stream",
     "text": [
      "1\n",
      "6\n"
     ]
    }
   ],
   "source": [
    "def solution(n):\n",
    "    cnt = n\n",
    "    for i in range(1, int(n/2)+1):\n",
    "        if n % i == 0:\n",
    "            cnt += i\n",
    "    return cnt"
   ]
  },
  {
   "cell_type": "code",
   "execution_count": null,
   "metadata": {},
   "outputs": [],
   "source": [
    "# 이상한 문자 만들기 "
   ]
  },
  {
   "cell_type": "code",
   "execution_count": 194,
   "metadata": {},
   "outputs": [],
   "source": [
    "def solution(s):\n",
    "    array = s.split(' ')\n",
    "    answer = ''\n",
    "    for item in array:\n",
    "        for i, spell in enumerate(item):\n",
    "            if i%2 == 0:\n",
    "                answer += spell.upper()\n",
    "            else:\n",
    "                answer += spell.lower()\n",
    "        answer += ' '\n",
    "    return answer[:len(answer)-1]"
   ]
  },
  {
   "cell_type": "code",
   "execution_count": null,
   "metadata": {},
   "outputs": [],
   "source": [
    "# 자연수 뒤집어 배열로 만들기"
   ]
  },
  {
   "cell_type": "code",
   "execution_count": 162,
   "metadata": {},
   "outputs": [
    {
     "name": "stdout",
     "output_type": "stream",
     "text": [
      "[5, 4, 3, 2, 1]\n"
     ]
    }
   ],
   "source": [
    "n = 12345\n",
    "answer = list(str(n))\n",
    "answer = list(map(int, answer))\n",
    "answer.reverse()\n",
    "print(answer)"
   ]
  },
  {
   "cell_type": "code",
   "execution_count": null,
   "metadata": {},
   "outputs": [],
   "source": [
    "# 정수 내림차순으로 배치하기"
   ]
  },
  {
   "cell_type": "code",
   "execution_count": 168,
   "metadata": {},
   "outputs": [
    {
     "name": "stdout",
     "output_type": "stream",
     "text": [
      "[5, 4, 3, 2, 1]\n",
      "54321\n"
     ]
    }
   ],
   "source": [
    "def solution(n):\n",
    "    answer = list(str(n))\n",
    "    answer = list(map(int, answer))\n",
    "    answer.sort(reverse = True)\n",
    "    answer = ''.join(map(str, answer))\n",
    "    return int(answer)"
   ]
  },
  {
   "cell_type": "code",
   "execution_count": null,
   "metadata": {},
   "outputs": [],
   "source": [
    "# 제곱근 판별"
   ]
  },
  {
   "cell_type": "code",
   "execution_count": 177,
   "metadata": {},
   "outputs": [],
   "source": [
    "import math\n",
    "def solution(n):\n",
    "    answer = int(math.sqrt(n))\n",
    "    if answer - math.sqrt(n) == 0:\n",
    "        return (answer+1)**2\n",
    "    else:\n",
    "        return -1"
   ]
  },
  {
   "cell_type": "code",
   "execution_count": 178,
   "metadata": {},
   "outputs": [
    {
     "data": {
      "text/plain": [
       "144"
      ]
     },
     "execution_count": 178,
     "metadata": {},
     "output_type": "execute_result"
    }
   ],
   "source": [
    "solution(121)"
   ]
  },
  {
   "cell_type": "code",
   "execution_count": null,
   "metadata": {},
   "outputs": [],
   "source": [
    "# 제일 작은 수 제거하기"
   ]
  },
  {
   "cell_type": "code",
   "execution_count": 182,
   "metadata": {},
   "outputs": [],
   "source": [
    "def solution(arr):\n",
    "    arr.remove(min(arr))\n",
    "    if len(arr) == 0:\n",
    "        return [-1]\n",
    "    return arr"
   ]
  },
  {
   "cell_type": "code",
   "execution_count": 184,
   "metadata": {},
   "outputs": [
    {
     "data": {
      "text/plain": [
       "[-1]"
      ]
     },
     "execution_count": 184,
     "metadata": {},
     "output_type": "execute_result"
    }
   ],
   "source": [
    "solution([4])"
   ]
  },
  {
   "cell_type": "code",
   "execution_count": null,
   "metadata": {},
   "outputs": [],
   "source": [
    "# 짝수와 홀수"
   ]
  },
  {
   "cell_type": "code",
   "execution_count": null,
   "metadata": {},
   "outputs": [],
   "source": [
    "def solution(num):\n",
    "    if num%2 == 0:\n",
    "        return \"Even\"\n",
    "    else:\n",
    "        return \"Odd\""
   ]
  },
  {
   "cell_type": "code",
   "execution_count": null,
   "metadata": {},
   "outputs": [],
   "source": [
    "# 키패드 누르기"
   ]
  },
  {
   "cell_type": "code",
   "execution_count": 228,
   "metadata": {},
   "outputs": [
    {
     "name": "stdout",
     "output_type": "stream",
     "text": [
      "0 7 # 2 1\n",
      "8 7 0 1 1\n",
      "2 7 8 3 2\n",
      "8 7 2 1 2\n",
      "5 1 3 2 2\n",
      "2 7 6 3 2\n",
      "LRRRLRLRLRR\n"
     ]
    }
   ],
   "source": [
    "num = [7, 0, 8, 2, 8, 3, 1, 5, 7, 6, 2]\n",
    "answer = ''\n",
    "hand = 'left'\n",
    "key = {\n",
    "    1: (0,0),\n",
    "    2: (0,1),\n",
    "    3: (0,2),\n",
    "    4: (1,0),\n",
    "    5: (1,1),\n",
    "    6: (1,2),\n",
    "    7: (2,0),\n",
    "    8: (2,1),\n",
    "    9: (2,2),\n",
    "    \"*\": (3,0),\n",
    "    0: (3,1),\n",
    "    \"#\": (3,2),\n",
    "}\n",
    "left = \"*\"\n",
    "right =  \"#\"\n",
    "for i in num:\n",
    "    if i in [1,4,7]:\n",
    "        answer +='L'\n",
    "        left = i\n",
    "    elif i in [3,6,9]:\n",
    "        answer +='R'\n",
    "        right = i\n",
    "    else:\n",
    "        x, y = key[i]\n",
    "        leftX, leftY = key[left]\n",
    "        rightX, rightY = key[right]\n",
    "        leftGap = abs(x-leftX) + abs(y-leftY)\n",
    "        rightGap = abs(x-rightX) + abs(y-rightY)\n",
    "        if leftGap < rightGap:\n",
    "            left = i\n",
    "            answer += 'L'\n",
    "        elif leftGap > rightGap:\n",
    "            right = i\n",
    "            answer += 'R'\n",
    "        else:\n",
    "            if hand == 'left':\n",
    "                left = i\n",
    "                answer += 'L'\n",
    "            else:\n",
    "                right = i\n",
    "                answer += 'R'\n",
    "print(answer)"
   ]
  },
  {
   "cell_type": "code",
   "execution_count": null,
   "metadata": {},
   "outputs": [],
   "source": [
    "# 최대공약수와 최소공배수"
   ]
  },
  {
   "cell_type": "code",
   "execution_count": 234,
   "metadata": {},
   "outputs": [
    {
     "data": {
      "text/plain": [
       "[3, 12]"
      ]
     },
     "execution_count": 234,
     "metadata": {},
     "output_type": "execute_result"
    }
   ],
   "source": [
    "import math\n",
    "def solution(n, m):\n",
    "    answer = []\n",
    "    answer.append(math.gcd(n,m))\n",
    "    answer.append(int((n*m)/math.gcd(n,m)))\n",
    "    return answer\n",
    "solution(3,12)"
   ]
  },
  {
   "cell_type": "code",
   "execution_count": null,
   "metadata": {},
   "outputs": [],
   "source": [
    "# 콜라츠 추측"
   ]
  },
  {
   "cell_type": "code",
   "execution_count": 265,
   "metadata": {},
   "outputs": [],
   "source": [
    "def solution(num):\n",
    "    answer = 0\n",
    "    result = num\n",
    "    while result !=1:\n",
    "        answer += 1\n",
    "        if result%2 == 0:\n",
    "            result //= 2\n",
    "        else:\n",
    "            result = result*3 + 1\n",
    "        if answer > 500:\n",
    "            return -1\n",
    "    return answer"
   ]
  },
  {
   "cell_type": "code",
   "execution_count": 266,
   "metadata": {},
   "outputs": [
    {
     "data": {
      "text/plain": [
       "8"
      ]
     },
     "execution_count": 266,
     "metadata": {},
     "output_type": "execute_result"
    }
   ],
   "source": [
    "solution(6)"
   ]
  },
  {
   "cell_type": "code",
   "execution_count": null,
   "metadata": {},
   "outputs": [],
   "source": [
    "# 하샤드 수"
   ]
  },
  {
   "cell_type": "code",
   "execution_count": 276,
   "metadata": {},
   "outputs": [],
   "source": [
    "def solution(x):\n",
    "    y = sum(list(map(int, list(str(x)))))\n",
    "    if x%y == 0:\n",
    "        return True\n",
    "    return False"
   ]
  },
  {
   "cell_type": "code",
   "execution_count": 277,
   "metadata": {},
   "outputs": [
    {
     "data": {
      "text/plain": [
       "True"
      ]
     },
     "execution_count": 277,
     "metadata": {},
     "output_type": "execute_result"
    }
   ],
   "source": [
    "solution(12)"
   ]
  },
  {
   "cell_type": "code",
   "execution_count": null,
   "metadata": {},
   "outputs": [],
   "source": [
    "# 핸드폰 번호 가리기"
   ]
  },
  {
   "cell_type": "code",
   "execution_count": 282,
   "metadata": {},
   "outputs": [
    {
     "name": "stdout",
     "output_type": "stream",
     "text": [
      "*******4444\n"
     ]
    }
   ],
   "source": [
    "def solution(p):\n",
    "    answer = '*'*(len(p)-4) + p[-4:]\n",
    "    return answer"
   ]
  },
  {
   "cell_type": "code",
   "execution_count": null,
   "metadata": {},
   "outputs": [],
   "source": [
    "# 행렬의 덧셈"
   ]
  },
  {
   "cell_type": "code",
   "execution_count": 304,
   "metadata": {},
   "outputs": [],
   "source": [
    "def solution(arr1, arr2):\n",
    "    answer = [[0] * len(arr1[0]) for _ in range(len(arr1))]\n",
    "    for i in range(len(arr1)):\n",
    "        for j in range(len(arr1[0])):\n",
    "            answer[i][j] = arr1[i][j] + arr2[i][j]\n",
    "    return answer"
   ]
  },
  {
   "cell_type": "code",
   "execution_count": null,
   "metadata": {},
   "outputs": [],
   "source": [
    "# x만큼 간격이 있는 n개의 숫자"
   ]
  },
  {
   "cell_type": "code",
   "execution_count": 305,
   "metadata": {},
   "outputs": [],
   "source": [
    "def solution(x, n):\n",
    "    answer = []\n",
    "    for i in range(1, n+1):\n",
    "        answer.append(i*x)\n",
    "        \n",
    "    return answer"
   ]
  },
  {
   "cell_type": "code",
   "execution_count": 307,
   "metadata": {},
   "outputs": [
    {
     "data": {
      "text/plain": [
       "[2, 4, 6, 8, 10]"
      ]
     },
     "execution_count": 307,
     "metadata": {},
     "output_type": "execute_result"
    }
   ],
   "source": [
    "solution(2, 5)"
   ]
  },
  {
   "cell_type": "code",
   "execution_count": null,
   "metadata": {},
   "outputs": [],
   "source": [
    "# 직사각형 별찍기"
   ]
  },
  {
   "cell_type": "code",
   "execution_count": 311,
   "metadata": {},
   "outputs": [
    {
     "name": "stdout",
     "output_type": "stream",
     "text": [
      "5 3\n",
      "*****\n",
      "*****\n",
      "*****\n"
     ]
    }
   ],
   "source": [
    "a, b = map(int, input().strip().split(' '))\n",
    "for i in range(b):\n",
    "    for j in range(a):\n",
    "        print('*', end='')\n",
    "    print()"
   ]
  },
  {
   "cell_type": "code",
   "execution_count": null,
   "metadata": {},
   "outputs": [],
   "source": [
    "# 예산"
   ]
  },
  {
   "cell_type": "code",
   "execution_count": 316,
   "metadata": {},
   "outputs": [
    {
     "name": "stdout",
     "output_type": "stream",
     "text": [
      "4\n"
     ]
    }
   ],
   "source": [
    "d= [2,2,3,3]\n",
    "budget = 9\n",
    "d.sort()\n",
    "cnt = 0\n",
    "for i in d:  \n",
    "    budget -= i\n",
    "    if budget < 0:\n",
    "        break\n",
    "    cnt += 1\n",
    "print(cnt)"
   ]
  },
  {
   "cell_type": "code",
   "execution_count": null,
   "metadata": {},
   "outputs": [],
   "source": [
    "# 비밀지도 "
   ]
  },
  {
   "cell_type": "code",
   "execution_count": null,
   "metadata": {},
   "outputs": [],
   "source": [
    "def solution(n, arr1, arr2):\n",
    "    result1 = []\n",
    "    result2 = []\n",
    "    for i in range(n):\n",
    "        result1.append(bin(arr1[i])[2:].zfill(n))\n",
    "        result2.append(bin(arr2[i])[2:].zfill(n))\n",
    "\n",
    "    answer = ['' for _ in range(n)]\n",
    "    for i in range(n):\n",
    "        for j in range(n):\n",
    "            if result1[i][j] == '1' or result2[i][j] == '1':\n",
    "                answer[i]+='#'\n",
    "            else:\n",
    "                answer[i]+=' '\n",
    "    return answer"
   ]
  },
  {
   "cell_type": "code",
   "execution_count": 355,
   "metadata": {},
   "outputs": [],
   "source": [
    "def solution(n, arr1, arr2):\n",
    "    result = []\n",
    "    for i in range(n):\n",
    "        result.append((bin(arr1[i]|arr2[i])[2:].zfill(n)).replace('1', '#').replace('0',' '))\n",
    "   \n",
    "    return result"
   ]
  },
  {
   "cell_type": "code",
   "execution_count": null,
   "metadata": {},
   "outputs": [],
   "source": []
  },
  {
   "cell_type": "code",
   "execution_count": 391,
   "metadata": {},
   "outputs": [],
   "source": [
    "def solution(n, stages):\n",
    "    result = []\n",
    "\n",
    "    for i in range(1, n+1):\n",
    "        temp = [j==i for j in temp]\n",
    "        for j in stages:\n",
    "            if j >= i:\n",
    "                temp.append(j)\n",
    "        if len(temp) == 0:\n",
    "            result.append([0,i])\n",
    "        else:\n",
    "            result.append([sum([j==i for j in temp])/len(temp),i])\n",
    "    result.sort(reverse = True, key = lambda x: x[0])\n",
    "    return [j for i,j in result]"
   ]
  },
  {
   "cell_type": "code",
   "execution_count": 392,
   "metadata": {},
   "outputs": [
    {
     "name": "stdout",
     "output_type": "stream",
     "text": [
      "[1, 1]\n",
      "[]\n",
      "[]\n",
      "[]\n"
     ]
    },
    {
     "data": {
      "text/plain": [
       "[1, 2, 3, 4]"
      ]
     },
     "execution_count": 392,
     "metadata": {},
     "output_type": "execute_result"
    }
   ],
   "source": [
    "solution(4, [1,1])"
   ]
  },
  {
   "cell_type": "code",
   "execution_count": null,
   "metadata": {},
   "outputs": [],
   "source": [
    "# 다트게임"
   ]
  },
  {
   "cell_type": "code",
   "execution_count": 452,
   "metadata": {},
   "outputs": [],
   "source": [
    "def solution(dart):\n",
    "    score = [0, 0, 0]\n",
    "    T = -1\n",
    "    for idx, i in enumerate(dart):\n",
    "        if i == '*':\n",
    "            if T > 1:\n",
    "                score[T-1:T+1] = [k*2 for k in score[T-1:T+1]]\n",
    "            else:\n",
    "                score[0] *= 2\n",
    "        elif i == '#':\n",
    "            score[T] *= -1\n",
    "        elif i == 'S':\n",
    "            continue\n",
    "        elif i == 'D':\n",
    "            score[T] = score[T]**2\n",
    "        elif i == 'T':\n",
    "            score[T] = score[T]**3\n",
    "        else: \n",
    "            if i == '0' and idx>0 and dart[idx-1]=='1':\n",
    "                score[T] = 10\n",
    "                continue\n",
    "            T += 1\n",
    "            if T>2:\n",
    "                break\n",
    "            else:\n",
    "                score[T] = int(i)\n",
    "    return sum(score)"
   ]
  },
  {
   "cell_type": "code",
   "execution_count": 505,
   "metadata": {},
   "outputs": [
    {
     "data": {
      "text/plain": [
       "122"
      ]
     },
     "execution_count": 505,
     "metadata": {},
     "output_type": "execute_result"
    }
   ],
   "source": [
    "ord('z')"
   ]
  }
 ],
 "metadata": {
  "kernelspec": {
   "display_name": "Python 3",
   "language": "python",
   "name": "python3"
  },
  "language_info": {
   "codemirror_mode": {
    "name": "ipython",
    "version": 3
   },
   "file_extension": ".py",
   "mimetype": "text/x-python",
   "name": "python",
   "nbconvert_exporter": "python",
   "pygments_lexer": "ipython3",
   "version": "3.7.2"
  }
 },
 "nbformat": 4,
 "nbformat_minor": 2
}
