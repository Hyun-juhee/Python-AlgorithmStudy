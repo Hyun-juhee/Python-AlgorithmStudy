{
 "cells": [
  {
   "cell_type": "code",
   "execution_count": 50,
   "metadata": {},
   "outputs": [],
   "source": [
    "## 얘가 답이야 !!! \n",
    "\n",
    "def solution(s):\n",
    "    len_list = []\n",
    "    \n",
    "    for k in range(1,len(s)+1):\n",
    "        i = 0\n",
    "        arr = []\n",
    "        while i < len(s):\n",
    "            arr.append(s[i:i+k])\n",
    "            cnt = 0\n",
    "            j = i \n",
    "            while j < len(s):\n",
    "                if s[i:i+k] == s[j:j+k]:\n",
    "                    cnt += 1\n",
    "                else:\n",
    "                    break\n",
    "                j += k\n",
    "            if cnt > 1:\n",
    "                arr.append(str(cnt))\n",
    "            i = j\n",
    "            \n",
    "        str_list = \"\"\n",
    "        str_list = ''.join(arr)\n",
    "        len_list.append(len(str_list))\n",
    "        \n",
    "    answer = min(len_list)\n",
    "    return answer\n"
   ]
  },
  {
   "cell_type": "code",
   "execution_count": 51,
   "metadata": {},
   "outputs": [
    {
     "name": "stdout",
     "output_type": "stream",
     "text": [
      "1\n",
      "a2b2ac3\n",
      "2\n",
      "aabbaccc\n",
      "3\n",
      "aabbaccc\n",
      "4\n",
      "aabbaccc\n",
      "5\n",
      "aabbaccc\n",
      "6\n",
      "aabbaccc\n",
      "7\n",
      "aabbaccc\n",
      "8\n",
      "aabbaccc\n"
     ]
    },
    {
     "data": {
      "text/plain": [
       "7"
      ]
     },
     "execution_count": 51,
     "metadata": {},
     "output_type": "execute_result"
    }
   ],
   "source": [
    "solution(\"aabbaccc\")"
   ]
  },
  {
   "cell_type": "markdown",
   "metadata": {},
   "source": [
    "### 개선방안\n",
    "\n",
    "최악의 상황: 문자열 압축을 하지 않는 것\n",
    "\n",
    "최대로 문자열을 자르는것: 반으로 자르기\n",
    "\n",
    "\n",
    "-> k를 len(a)까지 돌릴 필요없고 반만 하자 !\n",
    "\n",
    "-> str_list에 원 문자열의 길이를 삽입\n",
    "\n",
    "for i in range()라는 for문 안에서 i값을 변동해도 i는 그냥 순차대로 i++이다! -> while문 사용\n"
   ]
  },
  {
   "cell_type": "code",
   "execution_count": 52,
   "metadata": {},
   "outputs": [],
   "source": [
    "def solution(s):\n",
    "    len_list = []\n",
    "    len_list.append(len(s))\n",
    "    \n",
    "    for k in range(1,int(len(s)/2)+1):  # 이부분 수정! \n",
    "        i = 0\n",
    "        arr = []\n",
    "        while i < len(s):\n",
    "            arr.append(s[i:i+k])\n",
    "            cnt = 0\n",
    "            j = i \n",
    "            while j < len(s):\n",
    "                if s[i:i+k] == s[j:j+k]:\n",
    "                    cnt += 1\n",
    "                else:\n",
    "                    break\n",
    "                j += k\n",
    "            if cnt > 1:\n",
    "                arr.append(str(cnt))\n",
    "            i = j\n",
    "            \n",
    "        str_list = \"\"\n",
    "        str_list = ''.join(arr)\n",
    "        len_list.append(len(str_list))\n",
    "\n",
    "    answer = min(len_list)\n",
    "    return answer"
   ]
  }
 ],
 "metadata": {
  "kernelspec": {
   "display_name": "Python 3",
   "language": "python",
   "name": "python3"
  },
  "language_info": {
   "codemirror_mode": {
    "name": "ipython",
    "version": 3
   },
   "file_extension": ".py",
   "mimetype": "text/x-python",
   "name": "python",
   "nbconvert_exporter": "python",
   "pygments_lexer": "ipython3",
   "version": "3.7.2"
  }
 },
 "nbformat": 4,
 "nbformat_minor": 2
}
