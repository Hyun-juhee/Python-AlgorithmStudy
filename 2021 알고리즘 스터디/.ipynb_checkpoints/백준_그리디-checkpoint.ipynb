{
 "cells": [
  {
   "cell_type": "code",
   "execution_count": null,
   "metadata": {},
   "outputs": [],
   "source": [
    "# 1339. 단어 수학"
   ]
  },
  {
   "cell_type": "code",
   "execution_count": 8,
   "metadata": {},
   "outputs": [
    {
     "name": "stdout",
     "output_type": "stream",
     "text": [
      "2\n",
      "ACDEB\n",
      "GCF\n",
      "defaultdict(<class 'int'>, {'A': 5, 'C': 4, 'D': 3, 'E': 2, 'B': 1, 'G': 3, 'F': 1})\n"
     ]
    }
   ],
   "source": [
    "from collections import defaultdict\n",
    "n = int(input())\n",
    "table = defaultdict(int)\n",
    "word = []\n",
    "for i in range(n):\n",
    "    temp = input()\n",
    "    word.append(temp)\n",
    "    for idx, j in enumerate(temp):\n",
    "        table[j] = max(table[j],len(temp)-idx)\n",
    "print(table)"
   ]
  },
  {
   "cell_type": "code",
   "execution_count": 11,
   "metadata": {},
   "outputs": [
    {
     "name": "stdout",
     "output_type": "stream",
     "text": [
      "{'A': 9, 'C': 8, 'D': 7, 'G': 6, 'E': 5, 'B': 4, 'F': 3}\n",
      "98754\n",
      "683\n",
      "99437\n"
     ]
    }
   ],
   "source": [
    "arr = list(table.items())\n",
    "arr.sort(key=lambda x: x[1], reverse=True)\n",
    "number = dict()\n",
    "for idx, i in enumerate(arr):\n",
    "    number[i[0]] = 9-idx\n",
    "print(number)\n",
    "answer = 0\n",
    "for i in word:\n",
    "    temp = ''\n",
    "    for j in i:\n",
    "        temp+=str(number[j])\n",
    "    print(temp)\n",
    "    answer += int(temp)\n",
    "print(answer)"
   ]
  },
  {
   "cell_type": "code",
   "execution_count": null,
   "metadata": {},
   "outputs": [],
   "source": [
    "from collections import defaultdict\n",
    "\n",
    "n = int(input())\n",
    "table = defaultdict(int)\n",
    "word = []\n",
    "for i in range(n):\n",
    "    temp = input()\n",
    "    word.append(temp)\n",
    "    for idx, j in enumerate(temp):\n",
    "        table[j] = max(table[j],len(temp)-idx)\n",
    "\n",
    "arr = list(table.items())\n",
    "arr.sort(key=lambda x: x[1], reverse=True)\n",
    "number = dict()\n",
    "\n",
    "for idx, i in enumerate(arr):\n",
    "    number[i[0]] = 9-idx\n",
    "answer = 0\n",
    "for i in word:\n",
    "    \n",
    "    for j in i:\n",
    "        temp += str(number[j])\n",
    "    answer += int(temp)"
   ]
  },
  {
   "cell_type": "code",
   "execution_count": 28,
   "metadata": {},
   "outputs": [
    {
     "data": {
      "text/plain": [
       "defaultdict(int, {'a': 5, 'b': 4, 'c': 3, 'd': 2, 'f': 1, 'e': 2, 'r': 1})"
      ]
     },
     "execution_count": 28,
     "metadata": {},
     "output_type": "execute_result"
    }
   ],
   "source": [
    "table"
   ]
  },
  {
   "cell_type": "code",
   "execution_count": 5,
   "metadata": {},
   "outputs": [
    {
     "name": "stdout",
     "output_type": "stream",
     "text": [
      "10\n",
      "A\n",
      "B\n",
      "C\n",
      "D\n",
      "E\n",
      "F\n",
      "G\n",
      "H\n",
      "I\n",
      "J\n",
      "45\n"
     ]
    }
   ],
   "source": [
    "from collections import defaultdict\n",
    "\n",
    "n = int(input())\n",
    "table = defaultdict(int)\n",
    "word = []\n",
    "for i in range(n):\n",
    "    temp = input()\n",
    "    word.append(temp)\n",
    "    for idx, j in enumerate(temp):\n",
    "        table[j] += 10**(len(temp)-idx-1)\n",
    "arr = list(table.items())\n",
    "arr.sort(key=lambda x: x[1], reverse=True)\n",
    "answer = 0\n",
    "for idx, i in enumerate(arr):\n",
    "    answer += (9-idx)*i[1]\n",
    "print(answer)"
   ]
  },
  {
   "cell_type": "code",
   "execution_count": null,
   "metadata": {},
   "outputs": [],
   "source": []
  },
  {
   "cell_type": "code",
   "execution_count": 29,
   "metadata": {},
   "outputs": [
    {
     "name": "stdout",
     "output_type": "stream",
     "text": [
      "2\n",
      "ACDEB\n",
      "GCF\n",
      "99437\n"
     ]
    }
   ],
   "source": [
    "wordNum = input()\n",
    "word = []\n",
    "for i in range(int(wordNum)):\n",
    "    temp = input()\n",
    "    word.append(list(temp))\n",
    "number = [9, 8, 7, 6, 5, 4, 3, 2, 1, 0]\n",
    " \n",
    "charDic = {}\n",
    "for i in range(len(word)):\n",
    "    for j in range(len(word[i])):\n",
    "        if word[i][j] not in charDic:\n",
    "            charDic[word[i][j]] = pow(10, len(word[i])-j-1)\n",
    "        else:\n",
    "            charDic[word[i][j]] += pow(10, len(word[i])-j-1)\n",
    "keyList = list(charDic.keys())\n",
    "for i in range(len(keyList)-1):\n",
    "    big = i\n",
    "    for j in range(len(keyList)-i-1):\n",
    "        if charDic[keyList[j]] < charDic[keyList[j+1]]:\n",
    "            keyList[j], keyList[j+1] = keyList[j+1], keyList[j]\n",
    "result = 0\n",
    "for i in keyList:\n",
    "    result += number.pop(0) * charDic[i]\n",
    "print(result)\n"
   ]
  },
  {
   "cell_type": "code",
   "execution_count": 32,
   "metadata": {},
   "outputs": [
    {
     "name": "stdout",
     "output_type": "stream",
     "text": [
      "{'A': 10000, 'C': 1010, 'D': 100, 'E': 10, 'B': 1, 'G': 100, 'F': 1}\n",
      "['A', 'C', 'D', 'G', 'E', 'B', 'F']\n"
     ]
    }
   ],
   "source": [
    "print(charDic)\n",
    "print(keyList)"
   ]
  },
  {
   "cell_type": "code",
   "execution_count": 18,
   "metadata": {},
   "outputs": [
    {
     "name": "stdout",
     "output_type": "stream",
     "text": [
      "{'a': 9, 'c': 8, 'g': 7, 'd': 6, 'e': 5, 'f': 4, 'b': 3}\n",
      "defaultdict(<class 'int'>, {'g': 3, 'c': 4, 'f': 1, 'a': 5, 'd': 3, 'e': 2, 'b': 1})\n"
     ]
    },
    {
     "data": {
      "text/plain": [
       "[('a', 5), ('c', 4), ('g', 3), ('d', 3), ('e', 2), ('f', 1), ('b', 1)]"
      ]
     },
     "execution_count": 18,
     "metadata": {},
     "output_type": "execute_result"
    }
   ],
   "source": [
    "print(number)\n",
    "print(table)\n",
    "arr\n"
   ]
  }
 ],
 "metadata": {
  "kernelspec": {
   "display_name": "Python 3",
   "language": "python",
   "name": "python3"
  },
  "language_info": {
   "codemirror_mode": {
    "name": "ipython",
    "version": 3
   },
   "file_extension": ".py",
   "mimetype": "text/x-python",
   "name": "python",
   "nbconvert_exporter": "python",
   "pygments_lexer": "ipython3",
   "version": "3.7.2"
  }
 },
 "nbformat": 4,
 "nbformat_minor": 2
}
