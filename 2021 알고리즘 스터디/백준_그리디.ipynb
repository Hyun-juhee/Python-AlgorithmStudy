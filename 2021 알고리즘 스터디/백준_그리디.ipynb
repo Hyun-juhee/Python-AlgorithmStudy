{
 "cells": [
  {
   "cell_type": "code",
   "execution_count": null,
   "metadata": {},
   "outputs": [],
   "source": [
    "# 1339. 단어 수학 (** 반례를 찾지 못함, 50분)"
   ]
  },
  {
   "cell_type": "code",
   "execution_count": null,
   "metadata": {},
   "outputs": [],
   "source": [
    "from collections import defaultdict\n",
    "\n",
    "n = int(input())\n",
    "table = defaultdict(int)\n",
    "word = []\n",
    "for i in range(n):\n",
    "    temp = input()\n",
    "    word.append(temp)\n",
    "    for idx, j in enumerate(temp):\n",
    "        table[j] += 10**(len(temp)-idx-1)\n",
    "arr = list(table.items())\n",
    "arr.sort(key=lambda x: x[1], reverse=True)\n",
    "answer = 0\n",
    "for idx, i in enumerate(arr):\n",
    "    answer += (9-idx)*i[1]\n",
    "print(answer)"
   ]
  },
  {
   "cell_type": "code",
   "execution_count": 9,
   "metadata": {
    "scrolled": true
   },
   "outputs": [
    {
     "name": "stdout",
     "output_type": "stream",
     "text": [
      "3\n",
      "ef\n",
      "abcd\n",
      "cf\n",
      "defaultdict(<class 'int'>, {'e': 2, 'f': 1, 'a': 4, 'b': 3, 'c': 2, 'd': 1})\n",
      "[('a', 4), ('b', 3), ('e', 2), ('c', 2), ('f', 1), ('d', 1)]\n",
      "{'a': 9, 'b': 8, 'e': 7, 'c': 6, 'f': 5, 'd': 4}\n",
      "10004\n"
     ]
    }
   ],
   "source": [
    "# 아래코드가 틀린 이유\n",
    "# 반례 : 3 ef abcd cf\n",
    "\n",
    "from collections import defaultdict\n",
    "n = int(input())\n",
    "table = defaultdict(int)\n",
    "word = []\n",
    "for i in range(n):\n",
    "    temp = input()\n",
    "    word.append(temp)\n",
    "    for idx, j in enumerate(temp):\n",
    "        table[j] = max(table[j],len(temp)-idx)\n",
    "print(table)\n",
    "arr = list(table.items())\n",
    "arr.sort(key=lambda x: x[1], reverse=True)\n",
    "print(arr)\n",
    "number = dict()\n",
    "for idx, i in enumerate(arr):\n",
    "    number[i[0]] = 9-idx\n",
    "print(number)\n",
    "answer = 0\n",
    "for i in word:\n",
    "    temp = ''\n",
    "    for j in i:\n",
    "        temp+=str(number[j])\n",
    "    answer += int(temp)\n",
    "print(answer)"
   ]
  },
  {
   "cell_type": "code",
   "execution_count": null,
   "metadata": {},
   "outputs": [],
   "source": [
    "# 1080. 행렬 (25분, 이전에 풀었던 것)"
   ]
  },
  {
   "cell_type": "code",
   "execution_count": 42,
   "metadata": {},
   "outputs": [
    {
     "name": "stdout",
     "output_type": "stream",
     "text": [
      "3 4\n",
      "0000\n",
      "0000\n",
      "0000\n",
      "0000\n",
      "0001\n",
      "0000\n",
      "-1\n"
     ]
    }
   ],
   "source": [
    "n, m = map(int, input().split())\n",
    "a, b = [], []\n",
    "for i in range(n):\n",
    "    a.append(list(map(int, list(input()))))\n",
    "for i in range(n):\n",
    "    b.append(list(map(int, list(input()))))\n",
    "\n",
    "def change(x,y,a):\n",
    "    for i in range(x, x+3):\n",
    "        for j in range(y, y+3):\n",
    "            a[i][j] = int(not a[i][j])\n",
    "cnt = 0\n",
    "for i in range(n):\n",
    "    for j in range(m):\n",
    "        if a[i][j] != b[i][j] and i+2 < n and j+2 < m:\n",
    "            change(i,j,a)\n",
    "            cnt += 1\n",
    "    if a == b:\n",
    "        print(cnt)\n",
    "        break\n",
    "if a!=b:\n",
    "    print(-1)"
   ]
  },
  {
   "cell_type": "code",
   "execution_count": null,
   "metadata": {},
   "outputs": [],
   "source": [
    "# 4796 캠핑 (13분)"
   ]
  },
  {
   "cell_type": "code",
   "execution_count": 55,
   "metadata": {},
   "outputs": [
    {
     "name": "stdout",
     "output_type": "stream",
     "text": [
      "Case 1: 14\n",
      "Case 2: 11\n"
     ]
    }
   ],
   "source": [
    "case = []\n",
    "while True:\n",
    "    temp = list(map(int,input().split()))\n",
    "    if sum(temp)== 0:\n",
    "        break\n",
    "    else:\n",
    "        case.append(temp)\n",
    "        \n",
    "for idx, item in enumerate(case):\n",
    "    l, p, v = item\n",
    "    x = v//p\n",
    "    answer = x*l + min(l, v%p)\n",
    "    print(\"Case %d:\"%(idx+1),answer)"
   ]
  }
 ],
 "metadata": {
  "kernelspec": {
   "display_name": "Python 3",
   "language": "python",
   "name": "python3"
  },
  "language_info": {
   "codemirror_mode": {
    "name": "ipython",
    "version": 3
   },
   "file_extension": ".py",
   "mimetype": "text/x-python",
   "name": "python",
   "nbconvert_exporter": "python",
   "pygments_lexer": "ipython3",
   "version": "3.7.2"
  }
 },
 "nbformat": 4,
 "nbformat_minor": 2
}
