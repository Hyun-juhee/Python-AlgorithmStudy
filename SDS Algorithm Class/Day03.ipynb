{
 "cells": [
  {
   "cell_type": "code",
   "execution_count": null,
   "metadata": {},
   "outputs": [],
   "source": [
    "# 10828 스택 (sys.stdin.readline 안쓰면 시간초과!)"
   ]
  },
  {
   "cell_type": "code",
   "execution_count": 5,
   "metadata": {},
   "outputs": [
    {
     "name": "stdout",
     "output_type": "stream",
     "text": [
      "3\n",
      "push 3\n",
      "push []\n",
      "top\n",
      "top ['3']\n",
      "3\n",
      "pop\n",
      "pop ['3']\n",
      "3\n"
     ]
    }
   ],
   "source": [
    "import sys\n",
    "input = sys.stdin.readline\n",
    "\n",
    "n = int(input())\n",
    "stack = []\n",
    "def operate(s):\n",
    "    order = s[0]\n",
    "    global stack\n",
    "    if order == 'push':\n",
    "        stack.append(s[1])\n",
    "    elif order == 'top':\n",
    "        if len(stack)>0:\n",
    "            print(stack[-1])\n",
    "        else:\n",
    "            print(-1)\n",
    "    elif order == 'pop':\n",
    "        if len(stack)>0:\n",
    "            print(stack.pop())\n",
    "        else:\n",
    "            print(-1)\n",
    "    elif order == 'size':\n",
    "        print(len(stack))\n",
    "    elif order == 'empty':\n",
    "        if len(stack) > 0:\n",
    "            print(0)\n",
    "        else:\n",
    "            print(1)\n",
    "for i in range(n):\n",
    "    operate(input().split())\n",
    "\n"
   ]
  },
  {
   "cell_type": "code",
   "execution_count": null,
   "metadata": {},
   "outputs": [],
   "source": [
    "# 10845 큐"
   ]
  },
  {
   "cell_type": "code",
   "execution_count": 6,
   "metadata": {},
   "outputs": [
    {
     "name": "stdout",
     "output_type": "stream",
     "text": [
      "15\n",
      "push 1\n",
      "push 2\n",
      "fronr\n",
      "front\n",
      "1\n",
      "back\n",
      "2\n",
      "size\n",
      "size\n",
      "empty\n",
      "0\n",
      "pop\n",
      "1\n",
      "pop\n",
      "2\n",
      "pop\n",
      "-1\n",
      "size\n",
      "empty\n",
      "1\n",
      "front\n",
      "-1\n",
      "back\n",
      "-1\n"
     ]
    }
   ],
   "source": [
    "import sys\n",
    "from collections import deque\n",
    "input = sys.stdin.readline\n",
    "\n",
    "n = int(input())\n",
    "queue = deque()\n",
    "def operate(s):\n",
    "    order = s[0]\n",
    "    global stack\n",
    "    if order == 'push':\n",
    "        queue.append(s[1])\n",
    "    elif order == 'back':\n",
    "        if len(queue)>0:\n",
    "            print(queue[-1])\n",
    "        else:\n",
    "            print(-1)\n",
    "    elif order == 'front':\n",
    "        if len(queue)>0:\n",
    "            print(queue[0])\n",
    "        else:\n",
    "            print(-1)\n",
    "    elif order == 'pop':\n",
    "        if len(queue)>0:\n",
    "            print(queue.popleft())\n",
    "        else:\n",
    "            print(-1)\n",
    "    elif order == 'size':\n",
    "        print(len(queue))\n",
    "    elif order == 'empty':\n",
    "        if len(queue) > 0:\n",
    "            print(0)\n",
    "        else:\n",
    "            print(1)\n",
    "for i in range(n):\n",
    "    operate(input().split())\n",
    "\n"
   ]
  },
  {
   "cell_type": "code",
   "execution_count": null,
   "metadata": {},
   "outputs": [],
   "source": [
    "# 1991 트리 순회"
   ]
  },
  {
   "cell_type": "code",
   "execution_count": 66,
   "metadata": {},
   "outputs": [
    {
     "name": "stdout",
     "output_type": "stream",
     "text": [
      "ABDCEFG\n",
      "DBAECFG\n",
      "DBEGFCA"
     ]
    }
   ],
   "source": [
    "tree = dict()\n",
    "n = int(input())\n",
    "for i in range(n):\n",
    "    a,b,c = input().split()\n",
    "    tree[a] = [b,c]\n",
    "    \n",
    "def inorder(root):\n",
    "    if root == '.':\n",
    "        return\n",
    "    inorder(tree[root][0])\n",
    "    print(root, end='')\n",
    "    inorder(tree[root][1])\n",
    "def preorder(root):\n",
    "    if root == '.':\n",
    "        return\n",
    "    print(root, end='')\n",
    "    preorder(tree[root][0])\n",
    "    preorder(tree[root][1])\n",
    "def postorder(root):\n",
    "    if root == '.':\n",
    "        return\n",
    "    postorder(tree[root][0])\n",
    "    postorder(tree[root][1])\n",
    "    print(root, end='')\n",
    "preorder('A')\n",
    "print()\n",
    "inorder('A')\n",
    "print()\n",
    "postorder('A')"
   ]
  },
  {
   "cell_type": "code",
   "execution_count": 98,
   "metadata": {},
   "outputs": [
    {
     "data": {
      "text/plain": [
       "{'A': ['B', 'C'],\n",
       " 'B': ['D', '.'],\n",
       " 'C': ['E', 'F'],\n",
       " 'E': ['.', '.'],\n",
       " 'F': ['.', 'G'],\n",
       " 'D': ['.', '.'],\n",
       " 'G': ['.', '.']}"
      ]
     },
     "execution_count": 98,
     "metadata": {},
     "output_type": "execute_result"
    }
   ],
   "source": [
    "tree"
   ]
  },
  {
   "cell_type": "code",
   "execution_count": null,
   "metadata": {},
   "outputs": [],
   "source": [
    "# *** 2014 소수의 곱 (힙큐, 아이디어, 메모리 초과)"
   ]
  },
  {
   "cell_type": "code",
   "execution_count": 49,
   "metadata": {},
   "outputs": [
    {
     "name": "stdout",
     "output_type": "stream",
     "text": [
      "4 19\n",
      "2 3 5 7\n",
      "27\n"
     ]
    }
   ],
   "source": [
    "import heapq\n",
    "from collections import defaultdict\n",
    "k,n = map(int, input().split())\n",
    "primes = list(map(int, input().split()))\n",
    "check = defaultdict(int)\n",
    "heap = []\n",
    "heapq.heappush(heap, 1)\n",
    "for j in range(n+1):\n",
    "    temp = heapq.heappop(heap)\n",
    "    for i in primes:\n",
    "        x = temp*i\n",
    "        if check[x] == 0:\n",
    "            heapq.heappush(heap, x)\n",
    "            check[x] = 1\n",
    "print(temp)"
   ]
  },
  {
   "cell_type": "code",
   "execution_count": 42,
   "metadata": {},
   "outputs": [
    {
     "name": "stdout",
     "output_type": "stream",
     "text": [
      "4 19\n",
      "2 3 5 7\n",
      "27\n"
     ]
    }
   ],
   "source": [
    "import heapq\n",
    "k,n = map(int, input().split())\n",
    "primes = list(map(int, input().split()))\n",
    "heap = []\n",
    "heapq.heappush(heap, 1)\n",
    "for j in range(n+1):\n",
    "    temp = heapq.heappop(heap)\n",
    "    while heap and temp == heap[0]:\n",
    "        heapq.heappop(heap)\n",
    "    for i in primes:\n",
    "        heapq.heappush(heap, temp*i)\n",
    "print(temp)"
   ]
  },
  {
   "cell_type": "code",
   "execution_count": 60,
   "metadata": {},
   "outputs": [
    {
     "name": "stdout",
     "output_type": "stream",
     "text": [
      "4 19\n",
      "2 3 5 7\n",
      "27\n"
     ]
    }
   ],
   "source": [
    "import heapq\n",
    "k,n = map(int, input().split())\n",
    "primes = list(map(int, input().split()))\n",
    "heap = []\n",
    "heapq.heappush(heap, 1)\n",
    "for j in range(n+1):\n",
    "    temp = heapq.heappop(heap)\n",
    "    for i in primes:\n",
    "        x = temp*i\n",
    "        heapq.heappush(heap, x)\n",
    "        if temp%i == 0:\n",
    "            break\n",
    "print(temp)"
   ]
  },
  {
   "cell_type": "code",
   "execution_count": null,
   "metadata": {},
   "outputs": [],
   "source": [
    "# 2504 괄호의 합"
   ]
  },
  {
   "cell_type": "code",
   "execution_count": 97,
   "metadata": {},
   "outputs": [
    {
     "name": "stdout",
     "output_type": "stream",
     "text": [
      "((((]\n",
      "0\n"
     ]
    }
   ],
   "source": [
    "string = input()\n",
    "stack = []\n",
    "def closeSmall():\n",
    "    x = 0 \n",
    "    temp = ''\n",
    "    while stack:\n",
    "        temp = stack.pop()\n",
    "        if type(temp) == int:\n",
    "            x += int(temp)\n",
    "        elif temp == '(':\n",
    "            break\n",
    "        else:\n",
    "            return False\n",
    "    if temp != '(':\n",
    "        return False\n",
    "    if x != 0:\n",
    "        x*=2\n",
    "    else:\n",
    "        x=2\n",
    "    stack.append(x)\n",
    "    return True\n",
    "def closeBig():\n",
    "    x = 0 \n",
    "    temp = ''\n",
    "    while stack:\n",
    "        temp = stack.pop()\n",
    "        if type(temp) == int:\n",
    "            x += int(temp)\n",
    "        elif temp == '[':\n",
    "            break\n",
    "        else:\n",
    "            return False\n",
    "    if temp != '[':\n",
    "        return False\n",
    "    if x != 0:\n",
    "            x*=3\n",
    "    else:\n",
    "        x=3\n",
    "    stack.append(x)\n",
    "    return True\n",
    "\n",
    "for i in string:\n",
    "    if i == '(' or i == '[':\n",
    "        stack.append(i)\n",
    "    elif i == ')':\n",
    "        if not closeSmall():\n",
    "            print(0)\n",
    "            break\n",
    "    elif i == ']':\n",
    "        if not closeBig():\n",
    "            print(0)\n",
    "            break\n",
    "else:\n",
    "    if '(' in stack or '[' in stack:\n",
    "        print(0)\n",
    "    else:\n",
    "        print(sum(stack))\n",
    "\n"
   ]
  },
  {
   "cell_type": "code",
   "execution_count": 99,
   "metadata": {},
   "outputs": [],
   "source": [
    "# 5639. 이진 검색 트리.. 진짜 c++로 갈아타야지 -> recursion err / 시간초과"
   ]
  },
  {
   "cell_type": "code",
   "execution_count": 11,
   "metadata": {},
   "outputs": [
    {
     "name": "stdout",
     "output_type": "stream",
     "text": [
      "50\n",
      "30\n",
      "24\n",
      "5\n",
      "28\n",
      "45\n",
      "98\n",
      "52\n",
      "60\n",
      "\n",
      "5\n",
      "28\n",
      "24\n",
      "45\n",
      "30\n",
      "60\n",
      "52\n",
      "98\n",
      "50\n"
     ]
    }
   ],
   "source": [
    "nos = []\n",
    "while True:\n",
    "    try:\n",
    "        nos.append(int(input()))\n",
    "    except:\n",
    "        break\n",
    "\n",
    "ans = [0]*len(nos)\n",
    "def search(srcF, srcT, ansF, ansT):\n",
    "    ans[ansT] = nos[srcF]\n",
    "    i = srcF + 1\n",
    "    while i <= srcT and nos[i] < nos[srcF]:\n",
    "        i+=1\n",
    "    i-=1\n",
    "    if i > srcF:\n",
    "        search(srcF+1, i, ansF, ansF+i-srcF-1);\n",
    "    if i < srcT:\n",
    "        search(i+1, srcT, ansF+i-srcF, ansT-1)\n",
    "search(0,len(nos)-1,0,len(nos)-1)\n",
    "for i in ans:\n",
    "    print(i)"
   ]
  },
  {
   "cell_type": "code",
   "execution_count": null,
   "metadata": {},
   "outputs": [],
   "source": [
    "# 4358 생태학 (파이썬 문법 정리하기!!)\n",
    "# 입력 값이 많고, 입력의 끝이 안정해져 있을 때는 read로 입력 받는게 좋다\n",
    "# 그러고 개행문자로 잘라주기\n",
    "# read이용해서 '\\n'으로 자르면 맨 앞 뒤에 ''가 생긴다.\n",
    "# 왜 인지 모르겠으나 round로 하면 틀리고 문자열 포매팅을 해야 맞다.."
   ]
  },
  {
   "cell_type": "code",
   "execution_count": 7,
   "metadata": {},
   "outputs": [
    {
     "data": {
      "text/plain": [
       "['', 'abd', 'dfsdf', 'asdf', '']"
      ]
     },
     "execution_count": 7,
     "metadata": {},
     "output_type": "execute_result"
    }
   ],
   "source": [
    "'''\n",
    "abd\n",
    "dfsdf\n",
    "asdf\n",
    "'''.split('\\n')"
   ]
  },
  {
   "cell_type": "code",
   "execution_count": 3,
   "metadata": {},
   "outputs": [
    {
     "name": "stdout",
     "output_type": "stream",
     "text": [
      "Ash 13.7931\n",
      "Aspen 3.4483\n",
      "Basswood 3.4483\n",
      "Beech 3.4483\n",
      "Black Walnut 3.4483\n",
      "Cherry 3.4483\n",
      "Cottonwood 3.4483\n",
      "Cypress 3.4483\n",
      "Gum 3.4483\n",
      "Hackberry 3.4483\n",
      "Hard Maple 3.4483\n",
      "Hickory 3.4483\n",
      "Pecan 3.4483\n",
      "Poplan 3.4483\n",
      "Red Alder 3.4483\n",
      "Red Elm 3.4483\n",
      "Red Oak 6.8966\n",
      "Sassafras 3.4483\n",
      "Soft Maple 3.4483\n",
      "Sycamore 3.4483\n",
      "White Oak 10.3448\n",
      "Willow 3.4483\n",
      "Yellow Birch 3.4483\n"
     ]
    }
   ],
   "source": [
    "from collections import defaultdict\n",
    "import sys\n",
    "words = defaultdict(int)\n",
    "total = 0\n",
    "\n",
    "data = sys.stdin.read() # 입력 받는 부분\n",
    "data = data.split('\\n') # 개행문자로 잘라준다\n",
    "for temp in data:\n",
    "    if temp != '':\n",
    "        words[temp] += 1\n",
    "        total += 1\n",
    "res = list(words.keys())\n",
    "res.sort()\n",
    "for key in res:\n",
    "    print(\"%s %.4f\" % (key, words[key]/total*100))"
   ]
  },
  {
   "cell_type": "code",
   "execution_count": null,
   "metadata": {},
   "outputs": [],
   "source": [
    "# ****** 1655 가운데를 말해요"
   ]
  },
  {
   "cell_type": "code",
   "execution_count": 44,
   "metadata": {},
   "outputs": [
    {
     "name": "stdout",
     "output_type": "stream",
     "text": [
      "3\n",
      "1\n",
      "1\n",
      "5\n",
      "1\n",
      "2\n",
      "2\n"
     ]
    }
   ],
   "source": [
    "import heapq\n",
    "import sys\n",
    "# input = sys.stdin.readline\n",
    "n = int(input())\n",
    "low = []\n",
    "high = []\n",
    "heapq.heappush(low, -int(input()))\n",
    "print(-low[0])\n",
    "for i in range(n-1):\n",
    "    x = int(input())\n",
    "    if x < -low[0]:\n",
    "        heapq.heappush(low, -x)\n",
    "    else:\n",
    "        heapq.heappush(high, x)\n",
    "    if len(low) > len(high):\n",
    "        heapq.heappush(high, -heapq.heappop(low))\n",
    "    elif len(high)-len(low) > 1:\n",
    "        heapq.heappush(low, -heapq.heappop(high))\n",
    "    if (len(low)+len(high)) % 2 == 1:\n",
    "        print(high[0])\n",
    "    else:\n",
    "        print(-low[0]) "
   ]
  },
  {
   "cell_type": "code",
   "execution_count": null,
   "metadata": {},
   "outputs": [],
   "source": []
  },
  {
   "cell_type": "code",
   "execution_count": 34,
   "metadata": {},
   "outputs": [],
   "source": [
    "# ****** 1202 보석 도둑 (그리디, 힙큐)"
   ]
  },
  {
   "cell_type": "code",
   "execution_count": 32,
   "metadata": {},
   "outputs": [
    {
     "name": "stdout",
     "output_type": "stream",
     "text": [
      "2 2\n",
      "1 4\n",
      "3 6\n",
      "2\n",
      "2\n",
      "4\n"
     ]
    }
   ],
   "source": [
    "import heapq\n",
    "n, k = map(int, input().split())\n",
    "bag = []\n",
    "boseok = []\n",
    "for i in range(n):\n",
    "    boseok.append(list(map(int, input().split())))\n",
    "for i in range(k):\n",
    "    bag.append(int(input()))\n",
    "    \n",
    "bag.sort()\n",
    "boseok.sort(reverse=True)\n",
    "answer = 0\n",
    "temp = []\n",
    "for i in bag:\n",
    "    while boseok and i >= boseok[-1][0] :\n",
    "        heapq.heappush(temp, -(boseok.pop()[1]))\n",
    "    if temp:\n",
    "        answer += abs(heapq.heappop(temp))\n",
    "print(answer)"
   ]
  },
  {
   "cell_type": "code",
   "execution_count": null,
   "metadata": {},
   "outputs": [],
   "source": [
    "# *** 2042 구간 합 구하기 (인덱스 트리, 세그먼트 트리 꼭 복습하자)"
   ]
  },
  {
   "cell_type": "code",
   "execution_count": 5,
   "metadata": {},
   "outputs": [
    {
     "ename": "ValueError",
     "evalue": "not enough values to unpack (expected 3, got 0)",
     "output_type": "error",
     "traceback": [
      "\u001b[1;31m---------------------------------------------------------------------------\u001b[0m",
      "\u001b[1;31mValueError\u001b[0m                                Traceback (most recent call last)",
      "\u001b[1;32m<ipython-input-5-e14e115708e0>\u001b[0m in \u001b[0;36m<module>\u001b[1;34m\u001b[0m\n\u001b[0;32m     28\u001b[0m \u001b[1;33m\u001b[0m\u001b[0m\n\u001b[0;32m     29\u001b[0m \u001b[1;31m# 입력값 받기\u001b[0m\u001b[1;33m\u001b[0m\u001b[1;33m\u001b[0m\u001b[1;33m\u001b[0m\u001b[0m\n\u001b[1;32m---> 30\u001b[1;33m \u001b[0mn\u001b[0m\u001b[1;33m,\u001b[0m\u001b[0mm\u001b[0m\u001b[1;33m,\u001b[0m\u001b[0mk\u001b[0m \u001b[1;33m=\u001b[0m \u001b[0mmap\u001b[0m\u001b[1;33m(\u001b[0m\u001b[0mint\u001b[0m\u001b[1;33m,\u001b[0m \u001b[0minput\u001b[0m\u001b[1;33m(\u001b[0m\u001b[1;33m)\u001b[0m\u001b[1;33m.\u001b[0m\u001b[0msplit\u001b[0m\u001b[1;33m(\u001b[0m\u001b[1;33m)\u001b[0m\u001b[1;33m)\u001b[0m\u001b[1;33m\u001b[0m\u001b[1;33m\u001b[0m\u001b[0m\n\u001b[0m\u001b[0;32m     31\u001b[0m \u001b[0marr\u001b[0m \u001b[1;33m=\u001b[0m \u001b[1;33m[\u001b[0m\u001b[1;33m]\u001b[0m\u001b[1;33m\u001b[0m\u001b[1;33m\u001b[0m\u001b[0m\n\u001b[0;32m     32\u001b[0m \u001b[1;32mfor\u001b[0m \u001b[0mi\u001b[0m \u001b[1;32min\u001b[0m \u001b[0mrange\u001b[0m\u001b[1;33m(\u001b[0m\u001b[0mn\u001b[0m\u001b[1;33m)\u001b[0m\u001b[1;33m:\u001b[0m\u001b[1;33m\u001b[0m\u001b[1;33m\u001b[0m\u001b[0m\n",
      "\u001b[1;31mValueError\u001b[0m: not enough values to unpack (expected 3, got 0)"
     ]
    }
   ],
   "source": [
    "import sys\n",
    "# input = sys.stdin.readline\n",
    "\n",
    "tree = [0] * 3000000\n",
    "def init(idx, start, end):\n",
    "    if start == end:\n",
    "        tree[idx] = arr[start]\n",
    "        return tree[idx]\n",
    "    tree[idx] = init(idx*2, start, (start+end)//2) + init(idx*2+1, (start+end)//2+1, end)\n",
    "    return tree[idx]\n",
    "\n",
    "def subSum(idx, start, end, left, right):\n",
    "    # start, end : 해당 구간\n",
    "    # left, right : 구해야 하는 구간\n",
    "    if left > end or right < start:\n",
    "        return 0\n",
    "    if start >= left and end <= right:\n",
    "        return tree[idx]\n",
    "    return subSum(idx*2, start, (start+end)//2, left, right) + subSum(idx*2+1, (start+end)//2+1, end, left, right)\n",
    "\n",
    "def update(idx, start, end, changeIdx, diff):\n",
    "    if changeIdx > end or changeIdx < start:\n",
    "        return\n",
    "    tree[idx] += diff\n",
    "    if start != end:\n",
    "        update(idx*2, start, (start+end)//2, changeIdx, diff) \n",
    "        update(idx*2+1, (start+end)//2+1, end, changeIdx, diff)\n",
    "\n",
    "# 입력값 받기\n",
    "n,m,k = map(int, input().split())\n",
    "arr = []\n",
    "for i in range(n):\n",
    "    arr.append(int(input()))\n",
    "# 초기 값 설정\n",
    "# tree의 idx 초기값은 1이다 == root는 tree[1]에 들어간다. \n",
    "init(1, 0, n-1)\n",
    "i = 0\n",
    "while i < m:\n",
    "    a, b, c = map(int, input().split())\n",
    "    if a == 1:\n",
    "        update(1, 0, n-1, b-1, c-arr[b-1])\n",
    "        arr[b-1] = c\n",
    "    elif a == 2:\n",
    "        print(subSum(1, 0, n-1, b-1, c-1))\n",
    "        i += 1"
   ]
  },
  {
   "cell_type": "code",
   "execution_count": 3,
   "metadata": {},
   "outputs": [],
   "source": [
    "# 6416 트리인가? - 파이썬이 문젠지, input이 문젠지.. 일단 파이참"
   ]
  },
  {
   "cell_type": "code",
   "execution_count": 2,
   "metadata": {},
   "outputs": [
    {
     "name": "stdout",
     "output_type": "stream",
     "text": [
      "6 5 5 3 3 2 2 5\n",
      "0 0\n",
      "Case 1 is not a tree\n",
      "-1 -1\n"
     ]
    }
   ],
   "source": [
    "# 이 방법 생각 못했는데, 이게 더 쉽다! (트리의 조건)\n",
    "# 그래프 순회할 거 없이 a->b입력에서 \n",
    "# a로 들어오는 애 체크 (dict)\n",
    "# b로 들어오는 애 체크 (위와 다른 dict) - indegree\n",
    "# b 자리로 들어왔던 애가 또 들어와 = 들어오는 간선이 2개 이상 => False\n",
    "# node 개수 - edge 개수 = 1 이어야 해\n",
    "from collections import defaultdict\n",
    "def inputCase():\n",
    "    t = 1\n",
    "    while True:\n",
    "        node = defaultdict(list)\n",
    "        indegree = defaultdict(list)\n",
    "        edgeCnt = 0\n",
    "        nodeCnt = 0\n",
    "        isTree = True\n",
    "        stop = False\n",
    "        while not stop:\n",
    "            temp = list(map(int, input().split()))\n",
    "            for i in range(0, len(temp), 2):\n",
    "                a, b= temp[i], temp[i+1]\n",
    "                if temp[i]==0 and temp[i+1]==0:\n",
    "                    stop = True\n",
    "                    break\n",
    "                elif temp[i]==-1 and temp[i+1]==-1:\n",
    "                    return\n",
    "                if not node[a]:\n",
    "                    nodeCnt += 1\n",
    "                    node[a] = nodeCnt\n",
    "                if not node[b]:\n",
    "                    nodeCnt +=1\n",
    "                    node[b] = nodeCnt\n",
    "                if not indegree[b]:\n",
    "                    indegree[b] = 1\n",
    "                else:\n",
    "                    isTree = False\n",
    "        if edgeCnt > 0 and edgeCnt+1 != len(node):\n",
    "            isTree = False\n",
    "        if isTree:\n",
    "            print(\"Case %d is a tree\"%t)\n",
    "        else:\n",
    "            print(\"Case %d is not a tree\"%t)\n",
    "        t+=1\n",
    "inputCase()"
   ]
  },
  {
   "cell_type": "code",
   "execution_count": 3,
   "metadata": {},
   "outputs": [
    {
     "name": "stdout",
     "output_type": "stream",
     "text": [
      "6 8  5 3  5 2  6 4\n",
      "5 6 0 0\n",
      "Case 1 is a tree\n",
      "-1 -1\n"
     ]
    }
   ],
   "source": [
    "from collections import defaultdict\n",
    "def inputCase():\n",
    "    def isTree():\n",
    "        # 다들 간선이 하나만\n",
    "        for i in parent.values():\n",
    "            if len(i) > 1: \n",
    "                return False\n",
    "\n",
    "        # 루트는 하나 있어야해 \n",
    "        root = 0\n",
    "        for node in child.keys():\n",
    "            if not parent[node]:\n",
    "                if root!=0:\n",
    "                    return False\n",
    "                root = node\n",
    "        if root==0:\n",
    "            return False\n",
    "\n",
    "        # 방문 한 번 씩만 해야해 (순환X)\n",
    "        queue=[]\n",
    "        queue.append(root)\n",
    "        totalNode = 1\n",
    "        for i in child.values():\n",
    "            totalNode += len(i)\n",
    "        cnt = 0\n",
    "        while queue:\n",
    "            temp = queue.pop()\n",
    "            cnt += 1\n",
    "            if cnt > totalNode:\n",
    "                return False\n",
    "            for i in child[temp]:\n",
    "                queue.append(i)\n",
    "        return True\n",
    "    t = 1\n",
    "    while True:\n",
    "        child = defaultdict(list)\n",
    "        parent = defaultdict(list)\n",
    "        stop = False\n",
    "        while not stop:\n",
    "            temp = list(map(int, input().split()))\n",
    "            for i in range(0, len(temp), 2):\n",
    "                if temp[i]==0 and temp[i+1]==0:\n",
    "                    stop = True\n",
    "                    break\n",
    "                elif temp[i]==-1 and temp[i+1]==-1:\n",
    "                    return\n",
    "                child[temp[i]].append(temp[i+1])\n",
    "                parent[temp[i+1]].append(temp[i])\n",
    "        if isTree():\n",
    "            print(\"Case %d is a tree\"%t)\n",
    "        else:\n",
    "            print(\"Case %d is not a tree\"%t)\n",
    "        t+=1\n",
    "inputCase()"
   ]
  }
 ],
 "metadata": {
  "kernelspec": {
   "display_name": "Python 3",
   "language": "python",
   "name": "python3"
  },
  "language_info": {
   "codemirror_mode": {
    "name": "ipython",
    "version": 3
   },
   "file_extension": ".py",
   "mimetype": "text/x-python",
   "name": "python",
   "nbconvert_exporter": "python",
   "pygments_lexer": "ipython3",
   "version": "3.7.2"
  }
 },
 "nbformat": 4,
 "nbformat_minor": 2
}
