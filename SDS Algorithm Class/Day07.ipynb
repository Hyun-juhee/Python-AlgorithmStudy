{
 "cells": [
  {
   "cell_type": "code",
   "execution_count": null,
   "metadata": {},
   "outputs": [],
   "source": [
    "# 11266 단절점\n",
    "# 왜인지 모르겠는데 pypy3는 메모리초과, 시간은 여유있어서 python으로 돌리면 ok"
   ]
  },
  {
   "cell_type": "code",
   "execution_count": null,
   "metadata": {},
   "outputs": [],
   "source": [
    "import sys\n",
    "input = sys.stdin.readline\n",
    "sys.setrecursionlimit(10**6)"
   ]
  },
  {
   "cell_type": "code",
   "execution_count": 13,
   "metadata": {
    "scrolled": true
   },
   "outputs": [
    {
     "name": "stdout",
     "output_type": "stream",
     "text": [
      "7 7\n",
      "1 4\n",
      "4 5\n",
      "5 1\n",
      "1 6\n",
      "6 7\n",
      "2 7\n",
      "7 3\n",
      "3\n",
      "1 6 7 "
     ]
    }
   ],
   "source": [
    "V, E = map(int, input().split())\n",
    "graph = [[] for _ in range(V+1)]\n",
    "visited = [0]*(V+1) # 방문 순서 저장\n",
    "isCutVertex = [0]*(V+1) # 단절점인지 여부\n",
    "cnt = 0 # 방문 순서를 세기 위한 cnt\n",
    "\n",
    "def dfs(node, isRoot):\n",
    "    global cnt, isCutVertex\n",
    "    cnt += 1\n",
    "    visited[node] = cnt\n",
    "    result = visited[node] # node자신과 자식 중에 가장 작은 방문 순서\n",
    "    child = 0 # root노드 일 때만 필요한 자식의 수\n",
    "    for i in graph[node]:\n",
    "        if not visited[i]:\n",
    "            child += 1\n",
    "            prev = dfs(i, False)\n",
    "            if not isRoot and prev >= visited[node]:\n",
    "                isCutVertex[node] = True\n",
    "            result = min(result, prev)\n",
    "        else:\n",
    "            result = min(result, visited[i])\n",
    "    if isRoot and child > 1:\n",
    "        isCutVertex[node] = True\n",
    "    return result\n",
    "\n",
    "for i in range(E):\n",
    "    a, b = map(int, input().split())\n",
    "    graph[a].append(b)\n",
    "    graph[b].append(a)\n",
    "    \n",
    "# 모든 정점을 root라고 두고 한 번씩 방문\n",
    "for i in range(1, V+1):\n",
    "    if not visited[i]:\n",
    "        dfs(i, True)\n",
    "        \n",
    "# 출력\n",
    "print(sum(isCutVertex))\n",
    "for i in range(1, V+1):\n",
    "    if isCutVertex[i]:\n",
    "        print(i, end = ' ')"
   ]
  },
  {
   "cell_type": "code",
   "execution_count": 9,
   "metadata": {},
   "outputs": [
    {
     "data": {
      "text/plain": [
       "[[], [], [], [], [], [], [], []]"
      ]
     },
     "execution_count": 9,
     "metadata": {},
     "output_type": "execute_result"
    }
   ],
   "source": [
    "graph"
   ]
  },
  {
   "cell_type": "code",
   "execution_count": 27,
   "metadata": {},
   "outputs": [
    {
     "name": "stdout",
     "output_type": "stream",
     "text": [
      "2\n",
      "1 6\n",
      "6 7\n"
     ]
    }
   ],
   "source": [
    "V, E = map(int, input().split())\n",
    "graph = [[] for _ in range(V+1)]\n",
    "visited = [0]*(V+1) \n",
    "cnt = 0\n",
    "cutEdge = []\n",
    "\n",
    "def dfs(node, parent):\n",
    "    global cnt\n",
    "    cnt += 1\n",
    "    visited[node] = result = cnt\n",
    "    for i in graph[node]:\n",
    "        if parent == i:\n",
    "            continue\n",
    "        if not visited[i]:\n",
    "            prev = dfs(i, node)\n",
    "            if prev > visited[node]:\n",
    "                # 순서대로 출력하기 위해 min,max 사용\n",
    "                cutEdge.append((min(node,i), max(node,i)))\n",
    "            result = min(result, prev)\n",
    "        else:\n",
    "            result = min(result, visited[i])\n",
    "    # 현재 간선(parent->node)과 모든 자식 간선(node->next) 중에 가장 작은 방문 순서 반환\n",
    "    return result\n",
    "       \n",
    "for i in range(E):\n",
    "    a, b = map(int, input().split())\n",
    "    graph[a].append(b)\n",
    "    graph[b].append(a)\n",
    "\n",
    "# 단절점이 아니라 단절선이기 때문에 root노드가 중요하지 않다\n",
    "# 시작점이 중요 X\n",
    "dfs(1, 0)\n",
    "\n",
    "# 출력\n",
    "print(len(cutEdge))\n",
    "cutEdge.sort()\n",
    "for a, b in cutEdge:\n",
    "    print(a, b)"
   ]
  },
  {
   "cell_type": "code",
   "execution_count": 28,
   "metadata": {},
   "outputs": [],
   "source": [
    "# 1753 최단경로"
   ]
  },
  {
   "cell_type": "code",
   "execution_count": 36,
   "metadata": {},
   "outputs": [
    {
     "name": "stdout",
     "output_type": "stream",
     "text": [
      "0\n",
      "2\n",
      "3\n",
      "7\n",
      "INF\n"
     ]
    }
   ],
   "source": [
    "import heapq\n",
    "import sys\n",
    "# input = sys.stdin.readline\n",
    "\n",
    "V, E = map(int, input().split())\n",
    "K = int(input())\n",
    "adjList = [[] for _ in range(V+1)]\n",
    "for i in range(E):\n",
    "    u, v, w = map(int, input().split())\n",
    "    adjList[u].append((v,w))\n",
    "\n",
    "hq = []\n",
    "visited = [0]*(V+1)\n",
    "heapq.heappush(hq, (0, K))\n",
    "dist = [float('inf')]*(V+1) # 도착점 i에 대한 최단 경로\n",
    "dist[K] = 0\n",
    "while hq:\n",
    "    distance, temp = heapq.heappop(hq)\n",
    "    if visited[temp]: continue\n",
    "    visited[temp] = 1\n",
    "    for to, cost in adjList[temp]:\n",
    "        if distance+cost < dist[to]:\n",
    "            dist[to] = distance+cost\n",
    "            heapq.heappush(hq, [distance+cost, to])\n",
    "\n",
    "for i in range(1, V+1):\n",
    "    if dist[i] == float('inf'):\n",
    "        print('INF')\n",
    "    else:\n",
    "        print(dist[i])"
   ]
  },
  {
   "cell_type": "code",
   "execution_count": null,
   "metadata": {},
   "outputs": [],
   "source": [
    "# 5719. 거의 최단 경로"
   ]
  },
  {
   "cell_type": "code",
   "execution_count": null,
   "metadata": {},
   "outputs": [],
   "source": [
    "from collections import deque\n",
    "import heapq\n",
    "import sys\n",
    "# input = sys.stdin.readline\n",
    "def dijkstra(start):\n",
    "    hq = []\n",
    "    heapq.heappush(hq, (0, start))\n",
    "    dist = [float('inf')]*N \n",
    "    dist[start] = 0\n",
    "    while hq:\n",
    "        distance, temp = heapq.heappop(hq)\n",
    "        if dist[temp] < distance: \n",
    "            continue\n",
    "        for i in adjList[temp]:\n",
    "            cost = distance + adjList[temp][i]\n",
    "            if cost < dist[i]:\n",
    "                dist[i] = cost\n",
    "                heapq.heappush(hq, (cost, i))\n",
    "    return dist\n",
    "\n",
    "def bfs():\n",
    "    queue = deque()\n",
    "    queue.append(D)\n",
    "    remove = [] # 지울 간선\n",
    "    while queue:\n",
    "        temp = queue.popleft()\n",
    "        if temp == S:\n",
    "            continue\n",
    "        for i, w in adjReverse[temp]:\n",
    "            if dist[temp]-w == dist[i] and (i,temp) not in remove:\n",
    "                remove.append((i, temp))\n",
    "                queue.append(i)\n",
    "    return move\n",
    "\n",
    "while True:\n",
    "    N, M = map(int, input().split())\n",
    "    if N ==0 and M == 0: \n",
    "        break\n",
    "    S, D = map(int, input().split())\n",
    "    adjList = [dict() for _ in range(N)]\n",
    "    adjReverse = [[] for _ in range(N)]\n",
    "    for i in range(M):\n",
    "        u, v, w = map(int, input().split())\n",
    "        adjList[u][v] = w\n",
    "        adjReverse[v].append((u,w)) # 역추적을 위해 필요한 거꾸로 간선\n",
    "        \n",
    "    # 첫 다익스트라 (최단 경로 구하기)\n",
    "    dist = dijkstra(S)\n",
    "    # 사용된 경로 지우기 (역추적)\n",
    "    remove = bfs()\n",
    "    for u, v in remove:\n",
    "        del adjList[u][v]\n",
    "    # 두번째 다익스트라 (거의 최단 경로 구하기)\n",
    "    answer = dijkstra(S)\n",
    "    if answer[D] == float('inf'):\n",
    "        print(-1)\n",
    "    else:\n",
    "        print(answer[D])"
   ]
  },
  {
   "cell_type": "code",
   "execution_count": 48,
   "metadata": {},
   "outputs": [
    {
     "name": "stdout",
     "output_type": "stream",
     "text": [
      "6 8\n",
      "0 1\n",
      "0 1 1\n",
      "0 2 2\n",
      "0 3 3\n",
      "2 5 3\n",
      "3 4 2\n",
      "4 1 1\n",
      "5 1 1\n",
      "3 0 1\n",
      "6\n",
      "0 0\n"
     ]
    }
   ],
   "source": [
    "from collections import deque\n",
    "import heapq\n",
    "import sys\n",
    "# input = sys.stdin.readline\n",
    "def dijkstra(start):\n",
    "    hq = []\n",
    "    heapq.heappush(hq, (0, start))\n",
    "    dist = [float('inf')]*N \n",
    "    dist[start] = 0\n",
    "    while hq:\n",
    "        distance, temp = heapq.heappop(hq)\n",
    "        if dist[temp] < distance: \n",
    "            continue\n",
    "        visited[temp] = 1\n",
    "        for to, cost in adjList[temp]:\n",
    "            if distance+cost < dist[to] and isMin[temp][to] == False:\n",
    "                dist[to] = distance+cost\n",
    "                heapq.heappush(hq, [distance+cost, to])\n",
    "    return dist\n",
    "\n",
    "while True:\n",
    "    N, M = map(int, input().split())\n",
    "    if N ==0 and M == 0: \n",
    "        break\n",
    "    \n",
    "    S, D = map(int, input().split())\n",
    "    adjList = [[] for _ in range(N)]\n",
    "    adjReverse = [[] for _ in range(N)]\n",
    "    for i in range(M):\n",
    "        u, v, w = map(int, input().split())\n",
    "        adjList[u].append((v,w))\n",
    "        adjReverse[v].append((u,w))\n",
    "\n",
    "    isMin = [[False]*N for _ in range(N)]    \n",
    "\n",
    "    dist = dijkstra(S)\n",
    "\n",
    "    # 최단 경로 지우기\n",
    "    queue = deque()\n",
    "    queue.append(D)\n",
    "    while queue:\n",
    "        temp = queue.popleft()\n",
    "        if temp == S:\n",
    "            continue\n",
    "        for i, w in adjReverse[temp]:\n",
    "            if dist[temp]-w == dist[i]:\n",
    "                isMin[i][temp] = True\n",
    "                queue.append(i)\n",
    "\n",
    "    answer = dijkstra(S)\n",
    "    if answer[D] == float('inf'):\n",
    "        print(-1)\n",
    "    else:\n",
    "        print(answer[D])"
   ]
  },
  {
   "cell_type": "code",
   "execution_count": 4,
   "metadata": {},
   "outputs": [],
   "source": [
    "# 1854 K번째 최단경로 찾기"
   ]
  },
  {
   "cell_type": "code",
   "execution_count": 28,
   "metadata": {},
   "outputs": [
    {
     "name": "stdout",
     "output_type": "stream",
     "text": [
      "-1\n",
      "10\n",
      "7\n",
      "5\n",
      "14\n"
     ]
    }
   ],
   "source": [
    "import heapq\n",
    "import sys\n",
    "# input = sys.stdin.readline\n",
    "def dijkstra():\n",
    "    hq = []\n",
    "    heapq.heappush(hq, (0, 1))\n",
    "    dist = [[float('inf')]*k for _ in range(n+1)] \n",
    "    dist[1][0] = 0\n",
    "    while hq:\n",
    "        distance, temp = heapq.heappop(hq)\n",
    "        for to, cost in adjList[temp]:\n",
    "            # k번째 값보다 작으면 저장!\n",
    "            if dist[to][k-1] > cost+distance:\n",
    "                dist[to][k-1] = cost+distance\n",
    "                dist[to].sort()\n",
    "                heapq.heappush(hq, [distance+cost, to])\n",
    "    return dist\n",
    "\n",
    "n, m, k = map(int, input().split())\n",
    "adjList = [[] for _ in range(n+1)]\n",
    "for i in range(m):\n",
    "    u, v, w = map(int, input().split())\n",
    "    adjList[u].append((v,w))\n",
    "answer = dijkstra()\n",
    "for i in range(1, n+1):\n",
    "    if answer[i][k-1] == float('inf'):\n",
    "        print(-1)\n",
    "    else:\n",
    "        print(answer[i][k-1])"
   ]
  },
  {
   "cell_type": "code",
   "execution_count": null,
   "metadata": {},
   "outputs": [],
   "source": [
    "# 11657 타임머신"
   ]
  },
  {
   "cell_type": "code",
   "execution_count": 49,
   "metadata": {},
   "outputs": [
    {
     "name": "stdout",
     "output_type": "stream",
     "text": [
      "3 4\n",
      "1 2 4\n",
      "1 3 3\n",
      "2 3 -4\n",
      "3 1 -2\n",
      "-1\n"
     ]
    }
   ],
   "source": [
    "import sys\n",
    "input = sys.stdin.readline\n",
    "INF = float('inf')\n",
    "n, m = map(int, input().split())\n",
    "graph = [[] for _ in range(n+1)]\n",
    "for i in range(m):\n",
    "    u, v, w = map(int, input().split())\n",
    "    graph[u].append((v,w))\n",
    "\n",
    "def bellmanFord():\n",
    "    # distance 배열은 무한대로\n",
    "    dist = [INF]*(n+1)\n",
    "    dist[1] = 0\n",
    "    # 간선의 수 만큼 반복 -> 매번 반복할 때마다 채울 수 있는 dist[v]가 늘어난다.\n",
    "    for i in range(m-1):\n",
    "        for node in range(1, n+1):\n",
    "            if dist[node] == INF:\n",
    "                continue\n",
    "            for next, cost in graph[node]:\n",
    "                if dist[next] > dist[node] + cost:\n",
    "                    dist[next] = dist[node]+cost\n",
    "    # 음수 cycle 확인 : 간선수 - 1 번 반목 이후에도 갱신할 거리 값이 존재 = 음수 사이클 존재\n",
    "    for u in range(1, n+1):\n",
    "        for v,w in graph[u]:\n",
    "            if dist[v] > dist[u]+w:\n",
    "                return -1\n",
    "    return dist\n",
    "answer = bellmanFord()\n",
    "if answer == -1:\n",
    "    print(-1)\n",
    "else:\n",
    "    for i in range(2, n+1):\n",
    "        if answer[i] == INF:\n",
    "            print(-1)\n",
    "        else:\n",
    "            print(answer[i])"
   ]
  },
  {
   "cell_type": "code",
   "execution_count": 50,
   "metadata": {},
   "outputs": [],
   "source": [
    "# 3860 할로윈 묘지"
   ]
  },
  {
   "cell_type": "code",
   "execution_count": 134,
   "metadata": {},
   "outputs": [
    {
     "name": "stdout",
     "output_type": "stream",
     "text": [
      "3 3\n",
      "2\n",
      "2 1\n",
      "1 2\n",
      "0\n",
      "Impossible\n",
      "4 3\n",
      "2\n",
      "2 1\n",
      "3 1\n",
      "1\n",
      "3 0 2 2 0\n",
      "4\n",
      "4 2\n",
      "0\n",
      "1\n",
      "2 0 1 0 -3\n",
      "Never\n",
      "0 0\n"
     ]
    }
   ],
   "source": [
    "import sys\n",
    "INF = float('inf')\n",
    "# input = sys.stdin.readline\n",
    "\n",
    "while True:\n",
    "    W,H = map(int, input().split())\n",
    "    if W == 0 and H == 0:\n",
    "        break\n",
    "    G = int(input())\n",
    "\n",
    "    ## node[y][x]\n",
    "    node = [[0] * W for _ in range(H)]\n",
    "    cnt = 1\n",
    "    for i in range(H):\n",
    "        for j in range(W):\n",
    "            node[i][j] = cnt\n",
    "            cnt += 1\n",
    "\n",
    "    cannot = [[False]*W for _ in range(H)]\n",
    "    for i in range(G):\n",
    "        x, y = map(int, input().split())\n",
    "        cannot[y][x] = True\n",
    "\n",
    "    E = int(input())\n",
    "    hole = [[False]*W for _ in range(H)]\n",
    "    adj = [[] for _ in range(cnt+1)]\n",
    "    for i in range(E):\n",
    "        x1,y1,x2,y2,t = map(int, input().split())\n",
    "        hole[y1][x1] = True\n",
    "        adj[node[y1][x1]].append((node[y2][x2], t))\n",
    "\n",
    "    move = [(1,0), (-1,0), (0,1),(0,-1)]\n",
    "    for i in range(W):\n",
    "        for j in range(H):\n",
    "            if cannot[j][i]: continue\n",
    "            if hole[j][i]: continue\n",
    "            if i==W-1 and j==H-1: continue\n",
    "            for x, y in move:\n",
    "                cx = i+x\n",
    "                cy = j+y \n",
    "                if 0<=cx<W and 0<=cy<H and not cannot[cy][cx]:\n",
    "                    adj[node[j][i]].append((node[cy][cx],1))\n",
    "    dist = [INF]*(cnt+1)\n",
    "    dist[1] = 0\n",
    "    cycle = False\n",
    "    for i in range(1, cnt+1):\n",
    "        for j in range(1, cnt+1):\n",
    "            for k in adj[j]:\n",
    "                next, cost = k\n",
    "                if dist[j] != INF and dist[next] > dist[j] + cost:\n",
    "                    dist[next] = dist[j] + cost\n",
    "                    if i == cnt:\n",
    "                        cycle = True\n",
    "    if cycle:\n",
    "        print('Never')\n",
    "    else:\n",
    "        if dist[cnt-1] == INF:\n",
    "            print('Impossible')\n",
    "        else:\n",
    "            print(dist[cnt-1])"
   ]
  },
  {
   "cell_type": "code",
   "execution_count": 102,
   "metadata": {},
   "outputs": [],
   "source": [
    "# 11404 플로이드"
   ]
  },
  {
   "cell_type": "code",
   "execution_count": 108,
   "metadata": {},
   "outputs": [
    {
     "name": "stdout",
     "output_type": "stream",
     "text": [
      "0 2 3 1 4 \n",
      "12 0 15 2 5 \n",
      "8 5 0 1 1 \n",
      "10 7 13 0 3 \n",
      "7 4 10 6 0 \n"
     ]
    }
   ],
   "source": [
    "import heapq\n",
    "import sys\n",
    "input = sys.stdin.readline\n",
    "\n",
    "V = int(input())\n",
    "E = int(input())\n",
    "adjList = [[] for _ in range(V+1)]\n",
    "for i in range(E):\n",
    "    u, v, w = map(int, input().split())\n",
    "    adjList[u].append((v,w))\n",
    "\n",
    "\n",
    "def dijkstra(start):\n",
    "    hq = []\n",
    "    visited = [0]*(V+1)\n",
    "    heapq.heappush(hq, (0, start))\n",
    "    dist = [float('inf')]*(V+1) # 도착점 i에 대한 최단 경로\n",
    "    dist[start] = 0\n",
    "    while hq:\n",
    "        distance, temp = heapq.heappop(hq)\n",
    "        if visited[temp]: continue\n",
    "        visited[temp] = 1\n",
    "        for to, cost in adjList[temp]:\n",
    "            if distance+cost < dist[to]:\n",
    "                dist[to] = distance+cost\n",
    "                heapq.heappush(hq, [distance+cost, to])\n",
    "\n",
    "    for i in range(1, V+1):\n",
    "        if dist[i] == float('inf'):\n",
    "            print(0, end=' ')\n",
    "        else:\n",
    "            print(dist[i], end=' ')\n",
    "for i in range(1, V+1):\n",
    "    dijkstra(i)\n",
    "    print()"
   ]
  }
 ],
 "metadata": {
  "kernelspec": {
   "display_name": "Python 3",
   "language": "python",
   "name": "python3"
  },
  "language_info": {
   "codemirror_mode": {
    "name": "ipython",
    "version": 3
   },
   "file_extension": ".py",
   "mimetype": "text/x-python",
   "name": "python",
   "nbconvert_exporter": "python",
   "pygments_lexer": "ipython3",
   "version": "3.7.2"
  }
 },
 "nbformat": 4,
 "nbformat_minor": 2
}
