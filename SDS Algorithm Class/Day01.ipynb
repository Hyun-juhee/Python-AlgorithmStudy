{
 "cells": [
  {
   "cell_type": "code",
   "execution_count": null,
   "metadata": {},
   "outputs": [],
   "source": [
    "# 3425 고스택 와 진짜루.. 왜틀린지 모르겠다."
   ]
  },
  {
   "cell_type": "code",
   "execution_count": 64,
   "metadata": {},
   "outputs": [],
   "source": [
    "# 한 턴의 입력값이 끝나고 내가 enter를 출력해야 하는건지, 엔터를 입력하면 한턴이 끝나는건지 모르겠엄\n",
    "# 구현은 잘했고 예외처리 문제도 아닌 것 같아보여.. 이제는 정말 포기할 때가 됐다..\n",
    "# isdemical이 음수는 인식못한다는 거 알았으니 됐다. 패스"
   ]
  },
  {
   "cell_type": "code",
   "execution_count": 63,
   "metadata": {},
   "outputs": [
    {
     "name": "stdout",
     "output_type": "stream",
     "text": [
      "DUP\n",
      "NUM 3\n",
      "MOD\n",
      "ADD\n",
      "NUM 3\n",
      "END\n",
      "4\n",
      "1\n",
      "2\n",
      "3\n",
      "4\n",
      "\n",
      "QUIT\n",
      "ERROR\n",
      "ERROR\n",
      "ERROR\n",
      "ERROR\n"
     ]
    }
   ],
   "source": [
    "def operate(operation, temp):\n",
    "    stack = []\n",
    "    stack.append(temp)\n",
    "    for i in operation:\n",
    "        answer = 'no'\n",
    "        if i == 'POP':\n",
    "            if len(stack) == 0:\n",
    "                return 'ERROR'\n",
    "            stack.pop()\n",
    "        elif i == 'INV':\n",
    "            if len(stack) == 0:\n",
    "                return 'ERROR'\n",
    "            x = stack.pop()\n",
    "            answer = -x\n",
    "        elif i == 'DUP':\n",
    "            if len(stack) == 0:\n",
    "                return 'ERROR'\n",
    "            answer = stack[-1]\n",
    "        elif i == 'SWP':\n",
    "            if len(stack) < 2:\n",
    "                return 'ERROR'\n",
    "            one = stack.pop()\n",
    "            two = stack.pop()\n",
    "            stack.append(one)\n",
    "            stack.append(two)\n",
    "        elif i == 'ADD':\n",
    "            if len(stack) < 2:\n",
    "                return 'ERROR'\n",
    "            one = stack.pop()\n",
    "            two = stack.pop()\n",
    "            answer = one+two\n",
    "        elif i == 'SUB':\n",
    "            if len(stack) < 2:\n",
    "                return 'ERROR'\n",
    "            one = stack.pop()\n",
    "            two = stack.pop()\n",
    "            answer = two-one\n",
    "        elif i == 'MUL':\n",
    "            if len(stack) < 2:\n",
    "                return 'ERROR'\n",
    "            one = stack.pop()\n",
    "            two = stack.pop()\n",
    "            answer = one*two\n",
    "        elif i == 'DIV':\n",
    "            if len(stack) < 2:\n",
    "                return 'ERROR'\n",
    "            one = stack.pop()\n",
    "            two = stack.pop()\n",
    "            if one == 0:\n",
    "                return 'ERROR'\n",
    "            if one*two < 0:\n",
    "                answer = (-(abs(two)//abs(one)))\n",
    "            else:\n",
    "                answer = (abs(two)//abs(one))\n",
    "        elif i == 'MOD':\n",
    "            if len(stack) < 2:\n",
    "                return 'ERROR'\n",
    "            one = stack.pop()\n",
    "            two = stack.pop()\n",
    "            if one == 0:\n",
    "                return 'ERROR'\n",
    "            if one*two < 0:\n",
    "                answer = (-(abs(two)%abs(one)))\n",
    "            else:\n",
    "                answer = (abs(two)%abs(one))\n",
    "        elif 'NUM' in i:\n",
    "            x = i[4:]\n",
    "            answer = int(x)\n",
    "        \n",
    "        # append\n",
    "        if answer != 'no':\n",
    "            if abs(answer) > 10**9:\n",
    "                return 'ERROR'\n",
    "            else:\n",
    "                stack.append(answer)\n",
    "    if len(stack) != 1:\n",
    "        return 'ERROR'\n",
    "    answer = stack.pop()\n",
    "    if abs(answer) > 10**9:\n",
    "        return 'ERROR'\n",
    "    return answer\n",
    "\n",
    "\n",
    "operations = []\n",
    "numbers = []\n",
    "while True:\n",
    "    temp = input()\n",
    "    if temp == \"QUIT\":\n",
    "        break\n",
    "    operation = []\n",
    "    number = []\n",
    "    numberStart = False\n",
    "    n = -1\n",
    "    while temp:\n",
    "        if temp == 'END':\n",
    "            break\n",
    "        operation.append(temp)\n",
    "        temp = input()\n",
    "    \n",
    "    n = int(input())\n",
    "    for i in range(n):\n",
    "        number.append(int(input()))\n",
    "    operations.append(operation)\n",
    "    numbers.append(number)\n",
    "    print()\n",
    "    \n",
    "for idx, op in enumerate(operations):\n",
    "    if idx != 0:\n",
    "        print()\n",
    "    for n in numbers[idx]:\n",
    "        print(operate(op, n))"
   ]
  },
  {
   "cell_type": "code",
   "execution_count": 25,
   "metadata": {},
   "outputs": [],
   "source": [
    "# 3055 탈출"
   ]
  },
  {
   "cell_type": "code",
   "execution_count": 34,
   "metadata": {},
   "outputs": [
    {
     "name": "stdout",
     "output_type": "stream",
     "text": [
      "3 3\n",
      "D.*\n",
      "...\n",
      ".S.\n",
      "3\n"
     ]
    }
   ],
   "source": [
    "from collections import deque\n",
    "\n",
    "def bfs():\n",
    "    cnt = 0\n",
    "    while goQ:\n",
    "        cnt += 1\n",
    "        for _ in range(len(waterQ)):\n",
    "            i, j = waterQ.popleft()\n",
    "            for x, y in move:\n",
    "                nx, ny = i+x, j+y\n",
    "                if 0<=nx<r and 0<=ny<c and table[nx][ny] == '.':\n",
    "                    table[nx][ny] = '*'\n",
    "                    waterQ.append([nx,ny])\n",
    "        for _ in range(len(goQ)):\n",
    "            k, p = goQ.popleft()\n",
    "            for x, y in move:\n",
    "                nx, ny = k+x, p+y\n",
    "                if 0<=nx<r and 0<=ny<c:\n",
    "                    if table[nx][ny] == 'D':\n",
    "                        return cnt\n",
    "                    if table[nx][ny] == '.':\n",
    "                        table[nx][ny] = 'S'\n",
    "                        goQ.append([nx,ny])\n",
    "    return 'KAKTUS'\n",
    "\n",
    "r,c = map(int, input().split())\n",
    "table = []\n",
    "for i in range(r):\n",
    "    table.append(list(input()))\n",
    "move = [(0,1), (0,-1), (1,0), (-1,0)]\n",
    "goQ = deque()\n",
    "waterQ = deque()\n",
    "for i in range(r):\n",
    "    for j in range(c):\n",
    "        if table[i][j] == 'S':\n",
    "            goQ.append([i,j])\n",
    "        elif table[i][j] == '*':\n",
    "            waterQ.append([i,j])\n",
    "print(bfs())"
   ]
  },
  {
   "cell_type": "code",
   "execution_count": null,
   "metadata": {},
   "outputs": [],
   "source": [
    "# 9663 N-Queen"
   ]
  },
  {
   "cell_type": "code",
   "execution_count": 6,
   "metadata": {},
   "outputs": [
    {
     "name": "stdout",
     "output_type": "stream",
     "text": [
      "8\n",
      "92\n"
     ]
    }
   ],
   "source": [
    "n = int(input())\n",
    "locs = [-1 for _ in range(n)]\n",
    "answer = 0\n",
    "def backtracking(idx):\n",
    "    global answer\n",
    "    if idx == n:\n",
    "        answer += 1\n",
    "        return\n",
    "    check = [True for _ in range(n)]\n",
    "    for i in range(idx):\n",
    "        check[locs[i]] = False;\n",
    "        leftDiag= locs[i] - (idx-i)\n",
    "        rightDiag= locs[i] + (idx-i)\n",
    "        if leftDiag >= 0:\n",
    "            check[leftDiag] = False\n",
    "        if rightDiag < n:\n",
    "            check[rightDiag] = False\n",
    "    for i in range(n):\n",
    "        if check[i]:\n",
    "            locs[idx] = i\n",
    "            backtracking(idx+1)\n",
    "backtracking(0)\n",
    "print(answer)"
   ]
  },
  {
   "cell_type": "code",
   "execution_count": 2,
   "metadata": {},
   "outputs": [
    {
     "data": {
      "text/plain": [
       "[7, 5, 3, 6, 4, 4, 2, 4]"
      ]
     },
     "execution_count": 2,
     "metadata": {},
     "output_type": "execute_result"
    }
   ],
   "source": [
    "locs"
   ]
  },
  {
   "cell_type": "code",
   "execution_count": 124,
   "metadata": {},
   "outputs": [],
   "source": [
    "# 1759 암호 만들기"
   ]
  },
  {
   "cell_type": "code",
   "execution_count": 121,
   "metadata": {},
   "outputs": [
    {
     "name": "stdout",
     "output_type": "stream",
     "text": [
      "4 6\n",
      "a t c i s w\n",
      "acis\n",
      "acit\n",
      "aciw\n",
      "acst\n",
      "acsw\n",
      "actw\n",
      "aist\n",
      "aisw\n",
      "aitw\n",
      "astw\n",
      "cist\n",
      "cisw\n",
      "citw\n",
      "cstw\n",
      "istw\n"
     ]
    }
   ],
   "source": [
    "l, c = map(int, input().split())\n",
    "string = list(input().split())\n",
    "mo = ['a','e','i','o','u']\n",
    "def backtracking(loc, answer, cnt1, cnt2):\n",
    "    if len(answer) == l:\n",
    "        if cnt1>=1 and cnt2>=2:\n",
    "            print(answer)\n",
    "        return\n",
    "    for i in range(loc,c):\n",
    "        if string[i] in mo:\n",
    "            backtracking(i+1, answer+string[i], cnt1+1, cnt2)\n",
    "        else:\n",
    "            backtracking(i+1, answer+string[i], cnt1, cnt2+1)\n",
    "    return\n",
    "string.sort()\n",
    "backtracking(0,'',0,0)"
   ]
  },
  {
   "cell_type": "code",
   "execution_count": 125,
   "metadata": {},
   "outputs": [],
   "source": [
    "# 15686 치킨배달"
   ]
  },
  {
   "cell_type": "code",
   "execution_count": 151,
   "metadata": {},
   "outputs": [
    {
     "name": "stdout",
     "output_type": "stream",
     "text": [
      "5 3\n",
      "0 0 1 0 0\n",
      "0 0 2 0 1\n",
      "0 1 2 0 0\n",
      "0 0 1 0 0\n",
      "0 0 0 0 2\n",
      "5\n"
     ]
    }
   ],
   "source": [
    "n, m = map(int, input().split())\n",
    "town = []\n",
    "for i in range(n):\n",
    "    town.append(list(map(int, input().split())))\n",
    "home = []\n",
    "chicken = []\n",
    "for i in range(n):\n",
    "    for j in range(n):\n",
    "        if town[i][j] == 1:\n",
    "            home.append((i,j))\n",
    "        elif town[i][j] == 2:\n",
    "            chicken.append((i,j))\n",
    "\n",
    "answer = float('inf')\n",
    "def backtracking(loc, cnt, distance):\n",
    "    global answer\n",
    "    if cnt == m:\n",
    "        answer = min(answer, sum(distance))\n",
    "        return\n",
    "    for i in range(loc, len(chicken)):\n",
    "        c_distance = []\n",
    "        c_distance.extend(distance)\n",
    "        for idx, h in enumerate(home):\n",
    "            x, y = h\n",
    "            c_distance[idx] = min(distance[idx], abs(x-chicken[i][0])+abs(y-chicken[i][1]))\n",
    "        backtracking(i+1, cnt+1, c_distance)\n",
    "    return\n",
    "backtracking(0, 0, [float('inf') for _ in range(len(home))])\n",
    "print(answer)"
   ]
  },
  {
   "cell_type": "code",
   "execution_count": null,
   "metadata": {},
   "outputs": [],
   "source": [
    "# 2580 스도쿠"
   ]
  },
  {
   "cell_type": "code",
   "execution_count": null,
   "metadata": {},
   "outputs": [],
   "source": [
    "import sys\n",
    "def backtracking(loc, board):\n",
    "    global ans\n",
    "    if loc == len(blank):\n",
    "        for row in board:\n",
    "            for n in row:\n",
    "                print(n, end=\" \")\n",
    "            print()\n",
    "        sys.exit(0)\n",
    "    x, y = blank[loc]\n",
    "    for num in range(1, 10):\n",
    "        isPossible = True\n",
    "        if num in board[x]:\n",
    "            isPossible = False\n",
    "        for i in range(0, 9):\n",
    "            if board[i][y] == num:\n",
    "                isPossible = False\n",
    "        nx = x//3 * 3\n",
    "        ny = y//3 * 3\n",
    "        for i in range(3):\n",
    "            for j in range(3):\n",
    "                if board[nx+i][ny+j] == num:\n",
    "                    isPossible = False\n",
    "        if isPossible:\n",
    "            board[x][y] = num\n",
    "            backtracking(loc+1, board)\n",
    "            board[x][y] = 0\n",
    "\n",
    "table = []\n",
    "for i in range(9):\n",
    "    table.append(list(map(int, input().split())))\n",
    "blank = []\n",
    "for i in range(9):\n",
    "    for j in range(9):\n",
    "        if table[i][j] == 0:\n",
    "            blank.append((i,j))\n",
    "backtracking(0, table) "
   ]
  },
  {
   "cell_type": "code",
   "execution_count": 42,
   "metadata": {},
   "outputs": [],
   "source": [
    "# 1062 가르침"
   ]
  },
  {
   "cell_type": "code",
   "execution_count": 41,
   "metadata": {},
   "outputs": [
    {
     "name": "stdout",
     "output_type": "stream",
     "text": [
      "2\n"
     ]
    }
   ],
   "source": [
    "n, k = map(int, input().split())\n",
    "word = []\n",
    "for i in range(n):\n",
    "    temp = list(input())\n",
    "    word.append(temp)\n",
    "\n",
    "learn = [False for _ in range(26)]\n",
    "for i in ('a', 'c', 'i', 'n', 't'):\n",
    "    learn[ord(i)-ord('a')] = True\n",
    "    \n",
    "answer = 0\n",
    "def backtracking(loc, cnt):\n",
    "    global answer\n",
    "    if cnt == k-5:\n",
    "        check = 0\n",
    "        for string in word:\n",
    "            for s in string:\n",
    "                if not learn[ord(s)-ord('a')]:\n",
    "                    break\n",
    "            else:\n",
    "                check += 1\n",
    "        answer = max(answer , check)     \n",
    "        return\n",
    "    for i in range(loc, 26):\n",
    "        if not learn[i]:\n",
    "            learn[i] = True\n",
    "            backtracking(i, cnt+1)\n",
    "            learn[i] = False\n",
    "            \n",
    "\n",
    "if k < 5:\n",
    "    print(0)\n",
    "elif k == 26:\n",
    "    print(n)\n",
    "else:\n",
    "    backtracking(0, 0)\n",
    "    print(answer)"
   ]
  }
 ],
 "metadata": {
  "kernelspec": {
   "display_name": "Python 3",
   "language": "python",
   "name": "python3"
  },
  "language_info": {
   "codemirror_mode": {
    "name": "ipython",
    "version": 3
   },
   "file_extension": ".py",
   "mimetype": "text/x-python",
   "name": "python",
   "nbconvert_exporter": "python",
   "pygments_lexer": "ipython3",
   "version": "3.7.2"
  }
 },
 "nbformat": 4,
 "nbformat_minor": 2
}
