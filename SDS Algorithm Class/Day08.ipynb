{
 "cells": [
  {
   "cell_type": "code",
   "execution_count": null,
   "metadata": {},
   "outputs": [],
   "source": [
    "import sys\n",
    "input = sys.stdin.readline\n",
    "sys.setrecursionlimit(10**6)"
   ]
  },
  {
   "cell_type": "code",
   "execution_count": null,
   "metadata": {},
   "outputs": [],
   "source": [
    "# 1832 정수 삼각형"
   ]
  },
  {
   "cell_type": "code",
   "execution_count": 13,
   "metadata": {},
   "outputs": [
    {
     "name": "stdout",
     "output_type": "stream",
     "text": [
      "5\n",
      "7\n",
      "3 8\n",
      "8 1 0\n",
      "2 7 4 4\n",
      "4 5 2 6 5\n",
      "30\n"
     ]
    }
   ],
   "source": [
    "n = int(input())\n",
    "dp = [[0]*n for _ in range(n)]\n",
    "arr = []\n",
    "for i in range(n):\n",
    "    arr.append(list(map(int, input().split())))\n",
    "dp[0][0] = arr[0][0]\n",
    "for i in range(1, n):\n",
    "    for j in range(i+1):\n",
    "        if j == 0:\n",
    "            dp[i][j] = dp[i-1][j] + arr[i][j]\n",
    "        if j == i:\n",
    "            dp[i][j] = dp[i-1][j-1] + arr[i][j]\n",
    "        else:\n",
    "            dp[i][j] = max(dp[i-1][j-1], dp[i-1][j]) + arr[i][j]\n",
    "print(max(dp[n-1]))"
   ]
  },
  {
   "cell_type": "code",
   "execution_count": null,
   "metadata": {},
   "outputs": [],
   "source": [
    "# 11659 구간 합 구하기 4"
   ]
  },
  {
   "cell_type": "code",
   "execution_count": 34,
   "metadata": {},
   "outputs": [
    {
     "name": "stdout",
     "output_type": "stream",
     "text": [
      "5 3\n",
      "5 4 3 2 1\n",
      "1 3\n",
      "12\n",
      "2 4\n",
      "9\n",
      "5 5\n",
      "1\n"
     ]
    }
   ],
   "source": [
    "import sys\n",
    "input = sys.stdin.readline\n",
    "n,m = map(int, input().split())\n",
    "arr = list(map(int, input().split()))\n",
    "sumArr = [0]*(n+1)\n",
    "sumArr[1] = arr[0]\n",
    "for i in range(1, n+1):\n",
    "    sumArr[i] = sumArr[i-1] + arr[i-1]\n",
    "for i in range(m):\n",
    "    a, b = map(int, input().split())\n",
    "    print(sumArr[b]-sumArr[a-1])"
   ]
  },
  {
   "cell_type": "code",
   "execution_count": 35,
   "metadata": {},
   "outputs": [],
   "source": [
    "# 11660 구간 합 구하기 5"
   ]
  },
  {
   "cell_type": "code",
   "execution_count": 42,
   "metadata": {},
   "outputs": [
    {
     "name": "stdout",
     "output_type": "stream",
     "text": [
      "2 2 3 4\n",
      "27\n",
      "3 4 3 4\n",
      "6\n",
      "1 1 4 4\n",
      "64\n"
     ]
    }
   ],
   "source": [
    "import sys\n",
    "input = sys.stdin.readline\n",
    "n, m = map(int, input().split())\n",
    "arr = []\n",
    "for i in range(n):\n",
    "    arr.append(list(map(int, input().split())))\n",
    "\n",
    "sumArr = [[0]*(n+1) for i in range(n+1)]\n",
    "sumArr[1][1] = arr[0][0]\n",
    "for i in range(1, n+1):\n",
    "    for j in range(1, n+1):\n",
    "        sumArr[i][j] = sumArr[i][j-1]+sumArr[i-1][j]-sumArr[i-1][j-1] + arr[i-1][j-1]\n",
    "\n",
    "for i in range(m):\n",
    "    x1, y1, x2, y2 = map(int, input().split())\n",
    "    answer = sumArr[x2][y2] - sumArr[x2][y1-1] - sumArr[x1-1][y2] + sumArr[x1-1][y1-1]\n",
    "    print(answer)"
   ]
  },
  {
   "cell_type": "code",
   "execution_count": null,
   "metadata": {},
   "outputs": [],
   "source": [
    "# ** 2579. 계단 오르기 처음에 아이디어 못떠올렸어.."
   ]
  },
  {
   "cell_type": "code",
   "execution_count": 50,
   "metadata": {},
   "outputs": [
    {
     "name": "stdout",
     "output_type": "stream",
     "text": [
      "[[10, 10], [30, 20], [35, 25], [50, 55], [65, 45], [65, 75]]\n",
      "75\n"
     ]
    }
   ],
   "source": [
    "n = int(input())\n",
    "arr = []\n",
    "for i in range(n):\n",
    "    arr.append(int(input()))\n",
    "dp = [[0,0] for _ in range(n)]\n",
    "dp[0][0] = arr[0]\n",
    "dp[0][1] = arr[0]\n",
    "for i in range(1, n):\n",
    "    dp[i][0] = dp[i-1][1] + arr[i]\n",
    "    if i == 1:\n",
    "        dp[i][1] = arr[i]\n",
    "    else:\n",
    "        dp[i][1] = max(dp[i-2]) + arr[i]\n",
    "print(max(dp[n-1]))"
   ]
  },
  {
   "cell_type": "code",
   "execution_count": null,
   "metadata": {},
   "outputs": [],
   "source": [
    "# 1915 가장 큰 정사각형"
   ]
  },
  {
   "cell_type": "code",
   "execution_count": 58,
   "metadata": {},
   "outputs": [
    {
     "name": "stdout",
     "output_type": "stream",
     "text": [
      "4\n"
     ]
    }
   ],
   "source": [
    "n, m = map(int, input().split())\n",
    "arr = []\n",
    "for i in range(n):\n",
    "    arr.append(list(map(int, list(input()))))\n",
    "dp = [[0]*(m+1) for _ in range((n+1))]\n",
    "maxWidth = 0\n",
    "for i in range(1, n+1):\n",
    "    for j in range(1, m+1):\n",
    "        if arr[i-1][j-1] !=0:\n",
    "            dp[i][j] = min(dp[i-1][j], dp[i][j-1], dp[i-1][j-1])+arr[i-1][j-1]\n",
    "            maxWidth = max(maxWidth, dp[i][j])\n",
    "print(maxWidth**2)"
   ]
  },
  {
   "cell_type": "code",
   "execution_count": null,
   "metadata": {},
   "outputs": [],
   "source": [
    "# 11049 행렬 곱셈 순서"
   ]
  },
  {
   "cell_type": "code",
   "execution_count": null,
   "metadata": {},
   "outputs": [],
   "source": [
    "N = int(input())\n",
    "matrix = []\n",
    "for _ in range(N):\n",
    "    matrix.append(list(map(int, input().split())))\n",
    "dp =[[0 for _ in range(N)] for _ in range(N)] \n",
    "for i in range(1, N):\n",
    "    for j in range(0, N-i):\n",
    "        if i == 1:\n",
    "            dp[j][j+i] = matrix[j][0]*matrix[j][1]*matrix[j+i][1]\n",
    "            continue\n",
    "        dp[j][j+i] = 2**32\n",
    "        for k in range(j, j+i):\n",
    "            dp[j][j+i] = min(dp[j][j+i], dp[j][k]+dp[k+1][j+i] + matrix[j][0]*matrix[k][1]*matrix[i+j][1])\n",
    "print(dp[0][N-1])"
   ]
  },
  {
   "cell_type": "code",
   "execution_count": null,
   "metadata": {},
   "outputs": [],
   "source": [
    "# 14003 가장 긴 증가하는 수열 5"
   ]
  },
  {
   "cell_type": "code",
   "execution_count": 84,
   "metadata": {},
   "outputs": [
    {
     "name": "stdout",
     "output_type": "stream",
     "text": [
      "6\n",
      "10 20 10 30 20 50\n",
      "[1, 1, 1, 1, 1, 1] 1 0\n",
      "[1, 2, 1, 1, 1, 1] 2 0\n",
      "[1, 2, 1, 1, 1, 1] 2 1\n",
      "[1, 2, 1, 1, 1, 1] 3 0\n",
      "[1, 2, 1, 2, 1, 1] 3 1\n",
      "[1, 2, 1, 3, 1, 1] 3 2\n",
      "[1, 2, 1, 3, 1, 1] 4 0\n",
      "[1, 2, 1, 3, 2, 1] 4 1\n",
      "[1, 2, 1, 3, 2, 1] 4 2\n",
      "[1, 2, 1, 3, 2, 1] 4 3\n",
      "[1, 2, 1, 3, 2, 1] 5 0\n",
      "[1, 2, 1, 3, 2, 2] 5 1\n",
      "[1, 2, 1, 3, 2, 3] 5 2\n",
      "[1, 2, 1, 3, 2, 3] 5 3\n",
      "[1, 2, 1, 3, 2, 4] 5 4\n",
      "[1, 2, 1, 3, 2, 4]\n"
     ]
    }
   ],
   "source": [
    "n = int(input())\n",
    "array = list(map(int, input().split()))\n",
    "dp = [1 for _ in range(n)]\n",
    "for i in range(1,n):\n",
    "    for j in range(i):\n",
    "        print(dp, i, j)\n",
    "        if array[j] < array[i]:\n",
    "            dp[i] = max(dp[i], dp[j]+1)\n",
    "print(max(dp))"
   ]
  },
  {
   "cell_type": "code",
   "execution_count": 144,
   "metadata": {},
   "outputs": [
    {
     "name": "stdout",
     "output_type": "stream",
     "text": [
      "6\n",
      "10 20 10 30 20 50\n",
      "4\n"
     ]
    }
   ],
   "source": [
    "import bisect\n",
    "n = int(input())\n",
    "arr = list(map(int, input().split()))\n",
    "dp = [arr[0]]\n",
    "for i in range(1, n):\n",
    "    idx = bisect.bisect_left(dp, arr[i])\n",
    "    if idx == len(dp):\n",
    "        dp.append(arr[i])\n",
    "    else:\n",
    "        dp[idx] = arr[i]\n",
    "print(len(dp))"
   ]
  },
  {
   "cell_type": "code",
   "execution_count": 143,
   "metadata": {},
   "outputs": [
    {
     "name": "stdout",
     "output_type": "stream",
     "text": [
      "6\n",
      "10 20 10 30 20 50\n",
      "4\n",
      "10 20 30 50 "
     ]
    }
   ],
   "source": [
    "n = int(input())\n",
    "arr = list(map(int, input().split()))\n",
    "import bisect\n",
    "\n",
    "def binarySearch(x):\n",
    "    start, end = 0, len(lis)\n",
    "    while start < end:\n",
    "        mid = (start+end)//2\n",
    "        if lis[mid] < x:\n",
    "            start = mid + 1\n",
    "        else:\n",
    "            end = mid # end = mid 했으니까 return이 end여야해\n",
    "    return end\n",
    "\n",
    "dp = [0]*n\n",
    "lis = []\n",
    "start = 0\n",
    "for i in range(0, n):\n",
    "#     idx = bisect.bisect_left(lis, arr[i])\n",
    "    idx = binarySearch(arr[i])\n",
    "    if idx == len(lis):\n",
    "        lis.append(arr[i])\n",
    "    else:\n",
    "        lis[idx] = arr[i]\n",
    "    dp[i] = idx\n",
    "\n",
    "print(len(lis))\n",
    "answer = []\n",
    "now = max(dp)\n",
    "for i in range(n - 1, -1, -1):\n",
    "    if dp[i] == now:\n",
    "        answer.append(arr[i])\n",
    "        now -= 1\n",
    "for i in range(len(answer)-1,-1,-1):\n",
    "    print(answer[i], end = ' ')"
   ]
  }
 ],
 "metadata": {
  "kernelspec": {
   "display_name": "Python 3",
   "language": "python",
   "name": "python3"
  },
  "language_info": {
   "codemirror_mode": {
    "name": "ipython",
    "version": 3
   },
   "file_extension": ".py",
   "mimetype": "text/x-python",
   "name": "python",
   "nbconvert_exporter": "python",
   "pygments_lexer": "ipython3",
   "version": "3.7.2"
  }
 },
 "nbformat": 4,
 "nbformat_minor": 2
}
