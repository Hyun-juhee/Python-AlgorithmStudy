{
 "cells": [
  {
   "cell_type": "code",
   "execution_count": null,
   "metadata": {},
   "outputs": [],
   "source": [
    "# 1717. 집합의 표현\n",
    "# 노드가 다 숫자일 때 parent랑 rank 배열로 하자 "
   ]
  },
  {
   "cell_type": "code",
   "execution_count": 7,
   "metadata": {},
   "outputs": [
    {
     "name": "stdout",
     "output_type": "stream",
     "text": [
      "d\n"
     ]
    },
    {
     "ename": "ValueError",
     "evalue": "invalid literal for int() with base 10: 'd'",
     "output_type": "error",
     "traceback": [
      "\u001b[1;31m---------------------------------------------------------------------------\u001b[0m",
      "\u001b[1;31mValueError\u001b[0m                                Traceback (most recent call last)",
      "\u001b[1;32m<ipython-input-7-0cd589181f3e>\u001b[0m in \u001b[0;36m<module>\u001b[1;34m\u001b[0m\n\u001b[0;32m      2\u001b[0m \u001b[1;31m# input = sys.stdin.readline\u001b[0m\u001b[1;33m\u001b[0m\u001b[1;33m\u001b[0m\u001b[1;33m\u001b[0m\u001b[0m\n\u001b[0;32m      3\u001b[0m \u001b[1;33m\u001b[0m\u001b[0m\n\u001b[1;32m----> 4\u001b[1;33m \u001b[0mn\u001b[0m\u001b[1;33m,\u001b[0m \u001b[0mm\u001b[0m \u001b[1;33m=\u001b[0m \u001b[0mmap\u001b[0m\u001b[1;33m(\u001b[0m\u001b[0mint\u001b[0m\u001b[1;33m,\u001b[0m \u001b[0minput\u001b[0m\u001b[1;33m(\u001b[0m\u001b[1;33m)\u001b[0m\u001b[1;33m.\u001b[0m\u001b[0msplit\u001b[0m\u001b[1;33m(\u001b[0m\u001b[1;33m)\u001b[0m\u001b[1;33m)\u001b[0m\u001b[1;33m\u001b[0m\u001b[1;33m\u001b[0m\u001b[0m\n\u001b[0m\u001b[0;32m      5\u001b[0m \u001b[0mparent\u001b[0m \u001b[1;33m=\u001b[0m \u001b[1;33m[\u001b[0m\u001b[0mi\u001b[0m \u001b[1;32mfor\u001b[0m \u001b[0mi\u001b[0m \u001b[1;32min\u001b[0m \u001b[0mrange\u001b[0m\u001b[1;33m(\u001b[0m\u001b[0mn\u001b[0m\u001b[1;33m+\u001b[0m\u001b[1;36m1\u001b[0m\u001b[1;33m)\u001b[0m\u001b[1;33m]\u001b[0m\u001b[1;33m\u001b[0m\u001b[1;33m\u001b[0m\u001b[0m\n\u001b[0;32m      6\u001b[0m \u001b[0mrank\u001b[0m \u001b[1;33m=\u001b[0m \u001b[0mdict\u001b[0m\u001b[1;33m(\u001b[0m\u001b[1;33m)\u001b[0m\u001b[1;33m\u001b[0m\u001b[1;33m\u001b[0m\u001b[0m\n",
      "\u001b[1;31mValueError\u001b[0m: invalid literal for int() with base 10: 'd'"
     ]
    }
   ],
   "source": [
    "# rank 까지\n",
    "import sys\n",
    "input = sys.stdin.readline\n",
    "\n",
    "n, m = map(int, input().split())\n",
    "parent = [i for i in range(n+1)]\n",
    "rank = [0 for i in range(n+1)]\n",
    "\n",
    "def find(node):\n",
    "    if node != parent[node]:\n",
    "        parent[node] = find(parent[node])\n",
    "    return parent[node]\n",
    "\n",
    "def union(v,u):\n",
    "    root1 = find(v)\n",
    "    root2 = find(u)\n",
    "    if rank[root1] > rank[root2]:\n",
    "        parent[root2] = root1\n",
    "    else:\n",
    "        if rank[root1] == rank[root2]:\n",
    "            rank[root2] += 1\n",
    "        parent[root1] = root2\n",
    "    \n",
    "for i in range(m):\n",
    "    a,b,c = map(int, input().split())\n",
    "    if a == 0:\n",
    "        if find(b) != find(c):\n",
    "            union(b,c)\n",
    "    else:\n",
    "        if find(b) == find(c):\n",
    "            print(\"YES\")\n",
    "        else:\n",
    "            print(\"NO\")"
   ]
  },
  {
   "cell_type": "code",
   "execution_count": 6,
   "metadata": {},
   "outputs": [
    {
     "name": "stdout",
     "output_type": "stream",
     "text": [
      "7 8\n",
      "0 1 3\n",
      "1 1 7\n",
      "NO\n",
      "0 7 6\n",
      "1 7 1\n",
      "NO\n",
      "1 1 1\n",
      "YES\n",
      "1 1 3\n",
      "YES\n",
      "d\n"
     ]
    },
    {
     "ename": "ValueError",
     "evalue": "invalid literal for int() with base 10: 'd'",
     "output_type": "error",
     "traceback": [
      "\u001b[1;31m---------------------------------------------------------------------------\u001b[0m",
      "\u001b[1;31mValueError\u001b[0m                                Traceback (most recent call last)",
      "\u001b[1;32m<ipython-input-6-64559edc923d>\u001b[0m in \u001b[0;36m<module>\u001b[1;34m\u001b[0m\n\u001b[0;32m     16\u001b[0m \u001b[1;33m\u001b[0m\u001b[0m\n\u001b[0;32m     17\u001b[0m \u001b[1;32mfor\u001b[0m \u001b[0mi\u001b[0m \u001b[1;32min\u001b[0m \u001b[0mrange\u001b[0m\u001b[1;33m(\u001b[0m\u001b[0mm\u001b[0m\u001b[1;33m)\u001b[0m\u001b[1;33m:\u001b[0m\u001b[1;33m\u001b[0m\u001b[1;33m\u001b[0m\u001b[0m\n\u001b[1;32m---> 18\u001b[1;33m     \u001b[0ma\u001b[0m\u001b[1;33m,\u001b[0m\u001b[0mb\u001b[0m\u001b[1;33m,\u001b[0m\u001b[0mc\u001b[0m \u001b[1;33m=\u001b[0m \u001b[0mmap\u001b[0m\u001b[1;33m(\u001b[0m\u001b[0mint\u001b[0m\u001b[1;33m,\u001b[0m \u001b[0minput\u001b[0m\u001b[1;33m(\u001b[0m\u001b[1;33m)\u001b[0m\u001b[1;33m.\u001b[0m\u001b[0msplit\u001b[0m\u001b[1;33m(\u001b[0m\u001b[1;33m)\u001b[0m\u001b[1;33m)\u001b[0m\u001b[1;33m\u001b[0m\u001b[1;33m\u001b[0m\u001b[0m\n\u001b[0m\u001b[0;32m     19\u001b[0m     \u001b[1;32mif\u001b[0m \u001b[0ma\u001b[0m \u001b[1;33m==\u001b[0m \u001b[1;36m0\u001b[0m\u001b[1;33m:\u001b[0m\u001b[1;33m\u001b[0m\u001b[1;33m\u001b[0m\u001b[0m\n\u001b[0;32m     20\u001b[0m         \u001b[1;32mif\u001b[0m \u001b[0mfind\u001b[0m\u001b[1;33m(\u001b[0m\u001b[0mb\u001b[0m\u001b[1;33m)\u001b[0m \u001b[1;33m!=\u001b[0m \u001b[0mfind\u001b[0m\u001b[1;33m(\u001b[0m\u001b[0mc\u001b[0m\u001b[1;33m)\u001b[0m\u001b[1;33m:\u001b[0m\u001b[1;33m\u001b[0m\u001b[1;33m\u001b[0m\u001b[0m\n",
      "\u001b[1;31mValueError\u001b[0m: invalid literal for int() with base 10: 'd'"
     ]
    }
   ],
   "source": [
    "# rank 없이\n",
    "n, m = map(int, input().split())\n",
    "parent = [i for i in range(n+1)]\n",
    "\n",
    "def find(node):\n",
    "    if parent[node] == node:\n",
    "        return node\n",
    "    parent[node] = find(parent[node])\n",
    "    return parent[node]\n",
    "\n",
    "def union(v,u):\n",
    "    root1 = find(v)\n",
    "    root2 = find(u)\n",
    "    if root1 != root2:\n",
    "        parent[root2] = root1\n",
    "           \n",
    "for i in range(m):\n",
    "    a,b,c = map(int, input().split())\n",
    "    if a == 0:\n",
    "        union(b,c)\n",
    "    else:\n",
    "        if find(b) == find(c):\n",
    "            print(\"YES\")\n",
    "        else:\n",
    "            print(\"NO\")"
   ]
  },
  {
   "cell_type": "code",
   "execution_count": null,
   "metadata": {},
   "outputs": [],
   "source": [
    "# 1922 네트워크 연결"
   ]
  },
  {
   "cell_type": "code",
   "execution_count": 20,
   "metadata": {},
   "outputs": [
    {
     "name": "stdout",
     "output_type": "stream",
     "text": [
      "4 3 [(5, 2)]\n",
      "5 2 [(6, 4), (11, 5)]\n",
      "6 4 [(7, 4), (11, 5)]\n",
      "3 5 [(7, 4), (8, 6), (11, 5)]\n",
      "8 6 [(8, 6), (11, 5)]\n",
      "26\n"
     ]
    }
   ],
   "source": [
    "import heapq\n",
    "\n",
    "n = int(input())\n",
    "m = int(input())\n",
    "adj = [[] for _ in range(n+1)]\n",
    "for i in range(m):\n",
    "    a,b,c = map(int, input().split())\n",
    "    adj[a].append((c, b))\n",
    "    adj[b].append((c, a))\n",
    "    \n",
    "queue = []\n",
    "visited = [0]*(n+1)\n",
    "visited[1] = 1\n",
    "cnt = 1\n",
    "answer = 0\n",
    "for i in adj[1]:\n",
    "    heapq.heappush(queue, i)\n",
    "    \n",
    "while queue:\n",
    "    c, b = heapq.heappop(queue)\n",
    "    if visited[b] == 0:\n",
    "        visited[b] = 1\n",
    "        cnt += 1\n",
    "        answer += c\n",
    "        for i in adj[b]:\n",
    "            heapq.heappush(queue, i)\n",
    "    if cnt == n:\n",
    "        break\n",
    "print(answer)"
   ]
  },
  {
   "cell_type": "code",
   "execution_count": null,
   "metadata": {},
   "outputs": [],
   "source": [
    "# 3830 교수님은 기다려주지 않는다. "
   ]
  },
  {
   "cell_type": "code",
   "execution_count": 2,
   "metadata": {},
   "outputs": [
    {
     "ename": "SyntaxError",
     "evalue": "invalid syntax (<ipython-input-2-6cfe92c54c59>, line 15)",
     "output_type": "error",
     "traceback": [
      "\u001b[1;36m  File \u001b[1;32m\"<ipython-input-2-6cfe92c54c59>\"\u001b[1;36m, line \u001b[1;32m15\u001b[0m\n\u001b[1;33m    root1 != root2:\u001b[0m\n\u001b[1;37m                   ^\u001b[0m\n\u001b[1;31mSyntaxError\u001b[0m\u001b[1;31m:\u001b[0m invalid syntax\n"
     ]
    }
   ],
   "source": [
    "import sys\n",
    "# input = sys.stdin.readline\n",
    "# sys.setrecursionlimit(10**6)\n",
    "\n",
    "def find(node):\n",
    "    if node != parent[node]:\n",
    "        root = find(parent[node])\n",
    "        diff[node] += diff[parent[node]]\n",
    "        parent[node] = root\n",
    "    return parent[node]\n",
    "\n",
    "def union(v,u,w):\n",
    "    root1 = find(v)\n",
    "    root2 = find(u)\n",
    "    if root1 != root2:\n",
    "        parent[root2] = root1\n",
    "        diff[root2] = diff[v]+w-diff[u] \n",
    "    \n",
    "while True:\n",
    "    n, m = map(int, input().split())\n",
    "    if n ==0 and m == 0:\n",
    "        break\n",
    "    parent = [i for i in range(n+1)]\n",
    "    diff = [0]*(n+1)\n",
    "    for i in range(m):\n",
    "        temp = input().split()\n",
    "        if temp[0] == '!':\n",
    "            a, b, w = map(int, temp[1:])\n",
    "            if find(a) != find(b):\n",
    "                union(a,b,w)   \n",
    "        else:\n",
    "            a, b = map(int, temp[1:])\n",
    "            if find(a) == find(b):\n",
    "                print(diff[b]-diff[a])\n",
    "            else:\n",
    "                print(\"UNKNOWN\")"
   ]
  },
  {
   "cell_type": "code",
   "execution_count": 41,
   "metadata": {},
   "outputs": [],
   "source": [
    "# 2252 줄세우기 \n",
    "# BFS 되는데 테스트케이스 해보면, 순서가 DFS순서임 (pop)\n",
    "# 배열은 [[]]*(N+1) 하면 adj[0].append(1) 했을 때 다 1 복사 돼 (단일 숫자만 가능)"
   ]
  },
  {
   "cell_type": "code",
   "execution_count": 44,
   "metadata": {},
   "outputs": [
    {
     "name": "stdout",
     "output_type": "stream",
     "text": [
      "4 2\n",
      "4 2\n",
      "3 2\n",
      "4 3 2 1 "
     ]
    }
   ],
   "source": [
    "n, m = map(int, input().split())\n",
    "adj = [[] for _ in range(n+1)]\n",
    "indegree = [0]*(n+1)\n",
    "for i in range(m):\n",
    "    a, b = map(int, input().split())\n",
    "    adj[a].append(b)\n",
    "    indegree[b] += 1\n",
    "    \n",
    "stack = []\n",
    "for i in range(1, n+1):\n",
    "    if indegree[i] == 0:\n",
    "        stack.append(i)\n",
    "while stack:\n",
    "    temp = stack.pop()\n",
    "    print(temp, end=' ')\n",
    "    for i in adj[temp]:\n",
    "        indegree[i] -= 1\n",
    "        if indegree[i] == 0:\n",
    "            stack.append(i)"
   ]
  },
  {
   "cell_type": "code",
   "execution_count": 45,
   "metadata": {},
   "outputs": [],
   "source": [
    "# 1516 게임개발"
   ]
  },
  {
   "cell_type": "code",
   "execution_count": 70,
   "metadata": {},
   "outputs": [
    {
     "name": "stdout",
     "output_type": "stream",
     "text": [
      "3\n",
      "10 -1\n",
      "20 -1\n",
      "5 1 2 -1\n",
      "10\n",
      "20\n",
      "25\n"
     ]
    }
   ],
   "source": [
    "n = int(input())\n",
    "indegree = [0]*(n+1)\n",
    "adj = [[] for _ in range(n+1)]\n",
    "time = [0]*(n+1)\n",
    "\n",
    "for i in range(1, n+1):\n",
    "    temp = list(map(int, input().split()))\n",
    "    time[i] = temp[0]\n",
    "    for j in range(1, len(temp)-1):\n",
    "        adj[temp[j]].append(i)\n",
    "        indegree[i] += 1\n",
    "        \n",
    "stack = []\n",
    "answer = [0]*(n+1)\n",
    "for i in range(1, n+1):\n",
    "    if indegree[i] == 0:\n",
    "        stack.append(i)\n",
    "        answer[i] = time[i]\n",
    "\n",
    "while stack:\n",
    "    item = stack.pop()\n",
    "    for i in adj[item]:\n",
    "        indegree[i] -= 1\n",
    "        answer[i] = max(answer[item]+time[i], answer[i])\n",
    "        if indegree[i] == 0:\n",
    "            stack.append(i)\n",
    "for i in answer[1:]:\n",
    "    print(i)"
   ]
  },
  {
   "cell_type": "code",
   "execution_count": 86,
   "metadata": {},
   "outputs": [],
   "source": [
    "# 11438 LCA"
   ]
  },
  {
   "cell_type": "code",
   "execution_count": null,
   "metadata": {},
   "outputs": [],
   "source": [
    "import math\n",
    "import sys\n",
    "from collections import deque\n",
    "input = sys.stdin.readline\n",
    "n = int(input())\n",
    "k = int(math.log2(n))+1\n",
    "graph = [[] for _ in range(n + 1)]\n",
    "dp = [[0] * (n + 1)]\n",
    "for i in range(n - 1):\n",
    "    a, b = map(int, input().split())\n",
    "    graph[a].append(b)\n",
    "    graph[b].append(a)\n",
    "\n",
    "# depth 배열을 채우기 위한 BFS\n",
    "queue = deque([(1, 1)])\n",
    "depth = [0] * (n + 1)\n",
    "depth[1] = 1\n",
    "while queue:\n",
    "    i, d = queue.popleft()\n",
    "    for j in graph[i]:\n",
    "        if not depth[j]:\n",
    "            queue.append((j, d + 1))\n",
    "            # 2^0번째 조상 채우기\n",
    "            dp[0][j] = i\n",
    "            depth[j] = d + 1\n",
    "\n",
    "# dp\n",
    "for i in range(1, k + 1):\n",
    "    temp = [0] * (n + 1)\n",
    "    for j in range(1, n + 1):\n",
    "        temp[j] = dp[i - 1][dp[i - 1][j]]\n",
    "    dp.append(temp)\n",
    "\n",
    "for _ in range(int(input())):\n",
    "    a, b = map(int, input().split())\n",
    "    # depth 맞춰주기\n",
    "    # 항상 b depth가 더 크도록\n",
    "    if depth[a] > depth[b]:\n",
    "        a, b = b, a\n",
    "    for i in range(k, -1, -1):\n",
    "        # 1<<i: 2^20, 2^19, 2^18, ... 2^0 역순으로\n",
    "        if depth[b] - depth[a] >= (1<<i):\n",
    "            b = dp[i][b]\n",
    "            \n",
    "    if a == b:\n",
    "        print(a)\n",
    "        continue\n",
    "    # 부모가 같아질 때까지 거슬러 올라가기\n",
    "    for i in range(k, -1, -1):\n",
    "        if dp[i][a] != dp[i][b]:\n",
    "            a = dp[i][a]\n",
    "            b = dp[i][b]\n",
    "\n",
    "    print(dp[0][a])"
   ]
  },
  {
   "cell_type": "code",
   "execution_count": null,
   "metadata": {},
   "outputs": [],
   "source": [
    "# 3176 도로 네트워크"
   ]
  },
  {
   "cell_type": "code",
   "execution_count": 134,
   "metadata": {},
   "outputs": [
    {
     "name": "stdout",
     "output_type": "stream",
     "text": [
      "5\n",
      "2 3 100\n",
      "4 3 200\n",
      "1 5 150\n",
      "1 3 50\n",
      "3\n",
      "2 4\n",
      "100 200\n",
      "3 5\n",
      "50 150\n",
      "1 2\n",
      "50 100\n"
     ]
    }
   ],
   "source": [
    "import math\n",
    "import sys\n",
    "from collections import deque\n",
    "# input = sys.stdin.readline\n",
    "n = int(input())\n",
    "k = int(math.log2(n))+1\n",
    "graph = [[] for _ in range(n + 1)]\n",
    "for i in range(n - 1):\n",
    "    a, b, w = map(int, input().split())\n",
    "    graph[a].append((b,w))\n",
    "    graph[b].append((a,w))\n",
    "    \n",
    "queue = deque([(1, 1)])\n",
    "depth = [0] * (n + 1)\n",
    "depth[1] = 1\n",
    "dp = [[[0,0,0] for _ in range(k)] for _ in range(n+1)]\n",
    "\n",
    "while queue:\n",
    "    i, d = queue.popleft()\n",
    "    for j, w in graph[i]:\n",
    "        if not depth[j]:\n",
    "            queue.append((j, d + 1))\n",
    "            depth[j] = d + 1\n",
    "            dp[j][0] = [i,w,w]\n",
    "\n",
    "for j in range(1, k):\n",
    "    for i in range(1, n + 1):\n",
    "        dp[i][j][0] = dp[dp[i][j-1][0]][j-1][0]\n",
    "        dp[i][j][1] = min(dp[i][j-1][1], dp[dp[i][j-1][0]][j-1][1])\n",
    "        dp[i][j][2] = max(dp[i][j-1][2], dp[dp[i][j-1][0]][j-1][2])\n",
    "\n",
    "for _ in range(int(input())):\n",
    "    a, b = map(int, input().split())\n",
    "    maxLength = 0\n",
    "    minLength = float('inf')\n",
    "        \n",
    "    if depth[a] > depth[b]:\n",
    "        a, b = b, a\n",
    "    for i in range(k, -1, -1):\n",
    "        if depth[b] - depth[a] >= (1<<i):\n",
    "            minLength = min(dp[b][i][1], minLength)\n",
    "            maxLength = max(dp[b][i][2], maxLength)\n",
    "            b = dp[b][i][0]\n",
    "    if a == b:\n",
    "        print(minLength, maxLength)\n",
    "        continue\n",
    "        \n",
    "    for i in range(k-1, -1, -1):\n",
    "        if dp[a][i][0] != dp[b][i][0]:\n",
    "            minLength = min(dp[a][i][1],dp[b][i][1], minLength)\n",
    "            maxLength = max(dp[a][i][2],dp[b][i][2], maxLength)\n",
    "            a = dp[a][i][0]\n",
    "            b = dp[b][i][0]\n",
    "    minLength = min(dp[a][0][1],dp[b][0][1], minLength)\n",
    "    maxLength = max(dp[a][0][2],dp[b][0][2], maxLength)\n",
    "    print(minLength, maxLength)"
   ]
  },
  {
   "cell_type": "code",
   "execution_count": 112,
   "metadata": {},
   "outputs": [
    {
     "data": {
      "text/plain": [
       "[[0, 0], [0, 0], [3, 100], [1, 50], [3, 100], [1, 150]]"
      ]
     },
     "execution_count": 112,
     "metadata": {},
     "output_type": "execute_result"
    }
   ],
   "source": [
    "parent"
   ]
  },
  {
   "cell_type": "code",
   "execution_count": 127,
   "metadata": {},
   "outputs": [
    {
     "name": "stdout",
     "output_type": "stream",
     "text": [
      "3\n",
      "2 4\n",
      "inf 0\n",
      "[3, 100, 100] [3, 100, 100]\n",
      "100 100\n",
      "d\n"
     ]
    },
    {
     "ename": "ValueError",
     "evalue": "invalid literal for int() with base 10: 'd'",
     "output_type": "error",
     "traceback": [
      "\u001b[1;31m---------------------------------------------------------------------------\u001b[0m",
      "\u001b[1;31mValueError\u001b[0m                                Traceback (most recent call last)",
      "\u001b[1;32m<ipython-input-127-aa9ad2dbf48c>\u001b[0m in \u001b[0;36m<module>\u001b[1;34m\u001b[0m\n\u001b[0;32m      1\u001b[0m \u001b[1;33m\u001b[0m\u001b[0m\n\u001b[0;32m      2\u001b[0m \u001b[1;32mfor\u001b[0m \u001b[0m_\u001b[0m \u001b[1;32min\u001b[0m \u001b[0mrange\u001b[0m\u001b[1;33m(\u001b[0m\u001b[0mint\u001b[0m\u001b[1;33m(\u001b[0m\u001b[0minput\u001b[0m\u001b[1;33m(\u001b[0m\u001b[1;33m)\u001b[0m\u001b[1;33m)\u001b[0m\u001b[1;33m)\u001b[0m\u001b[1;33m:\u001b[0m\u001b[1;33m\u001b[0m\u001b[1;33m\u001b[0m\u001b[0m\n\u001b[1;32m----> 3\u001b[1;33m     \u001b[0ma\u001b[0m\u001b[1;33m,\u001b[0m \u001b[0mb\u001b[0m \u001b[1;33m=\u001b[0m \u001b[0mmap\u001b[0m\u001b[1;33m(\u001b[0m\u001b[0mint\u001b[0m\u001b[1;33m,\u001b[0m \u001b[0minput\u001b[0m\u001b[1;33m(\u001b[0m\u001b[1;33m)\u001b[0m\u001b[1;33m.\u001b[0m\u001b[0msplit\u001b[0m\u001b[1;33m(\u001b[0m\u001b[1;33m)\u001b[0m\u001b[1;33m)\u001b[0m\u001b[1;33m\u001b[0m\u001b[1;33m\u001b[0m\u001b[0m\n\u001b[0m\u001b[0;32m      4\u001b[0m     \u001b[0mmaxLength\u001b[0m \u001b[1;33m=\u001b[0m \u001b[1;36m0\u001b[0m\u001b[1;33m\u001b[0m\u001b[1;33m\u001b[0m\u001b[0m\n\u001b[0;32m      5\u001b[0m     \u001b[0mminLength\u001b[0m \u001b[1;33m=\u001b[0m \u001b[0mfloat\u001b[0m\u001b[1;33m(\u001b[0m\u001b[1;34m'inf'\u001b[0m\u001b[1;33m)\u001b[0m\u001b[1;33m\u001b[0m\u001b[1;33m\u001b[0m\u001b[0m\n",
      "\u001b[1;31mValueError\u001b[0m: invalid literal for int() with base 10: 'd'"
     ]
    }
   ],
   "source": [
    "\n",
    "for _ in range(int(input())):\n",
    "    a, b = map(int, input().split())\n",
    "    maxLength = 0\n",
    "    minLength = float('inf')\n",
    "        \n",
    "    if depth[a] > depth[b]:\n",
    "        a, b = b, a\n",
    "    for i in range(k, -1, -1):\n",
    "        if depth[b] - depth[a] >= (1<<i):\n",
    "            minLength = min(dp[b][i][1], minLength)\n",
    "            maxLength = max(dp[b][i][2], maxLength)\n",
    "            b = dp[b][i][0]\n",
    "    print(minLength, maxLength)\n",
    "    if a == b:\n",
    "        print(minLength, maxLength)\n",
    "        continue\n",
    "    # 부모가 같아질 때까지 거슬러 올라가기\n",
    "    for i in range(k-1, -1, -1):\n",
    "        if dp[a][i][0] != dp[b][i][0]:\n",
    "            minLength = min(dp[a][i][1],dp[b][i][1], minLength)\n",
    "            maxLength = max(dp[a][i][2],dp[b][i][2], maxLength)\n",
    "            a = dp[a][i][0]\n",
    "            b = dp[b][i][0]\n",
    "    print(dp[a][0], dp[b][0])\n",
    "    minLength = min(dp[a][0][1],dp[b][0][1], minLength)\n",
    "    maxLength = max(dp[a][0][2],dp[b][0][2], maxLength)\n",
    "    print(minLength, maxLength)"
   ]
  },
  {
   "cell_type": "code",
   "execution_count": 119,
   "metadata": {},
   "outputs": [
    {
     "data": {
      "text/plain": [
       "[[3, 100, 100], [0, 0, 0], [0, 0, 0]]"
      ]
     },
     "execution_count": 119,
     "metadata": {},
     "output_type": "execute_result"
    }
   ],
   "source": [
    "dp[4]"
   ]
  },
  {
   "cell_type": "code",
   "execution_count": 109,
   "metadata": {},
   "outputs": [
    {
     "data": {
      "text/plain": [
       "[[[0, 0, 0], [0, 0, 0], [0, 0, 0]],\n",
       " [[0, 0, 0], [0, 0, 0], [0, 0, 0]],\n",
       " [[0, 0, 0], [0, 0, 0], [0, 0, 0]],\n",
       " [[0, 0, 0], [0, 0, 0], [0, 0, 0]],\n",
       " [[0, 0, 0], [0, 0, 0], [0, 0, 0]],\n",
       " [[0, 0, 0], [0, 0, 0], [0, 0, 0]]]"
      ]
     },
     "execution_count": 109,
     "metadata": {},
     "output_type": "execute_result"
    }
   ],
   "source": [
    "\n",
    "dp = [[[0,0,0] for _ in range(k)] for _ in range(n+1)]\n",
    "dp"
   ]
  }
 ],
 "metadata": {
  "kernelspec": {
   "display_name": "Python 3",
   "language": "python",
   "name": "python3"
  },
  "language_info": {
   "codemirror_mode": {
    "name": "ipython",
    "version": 3
   },
   "file_extension": ".py",
   "mimetype": "text/x-python",
   "name": "python",
   "nbconvert_exporter": "python",
   "pygments_lexer": "ipython3",
   "version": "3.7.2"
  }
 },
 "nbformat": 4,
 "nbformat_minor": 2
}
