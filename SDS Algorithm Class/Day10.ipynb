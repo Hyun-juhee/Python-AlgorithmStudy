{
 "cells": [
  {
   "cell_type": "code",
   "execution_count": null,
   "metadata": {},
   "outputs": [],
   "source": [
    "# **** 외판원 순회 - 비트 연산..\n",
    "# 시작지점은 상관이 없다 어디서 출발하든 같은 결과가 나온다 "
   ]
  },
  {
   "cell_type": "code",
   "execution_count": 25,
   "metadata": {},
   "outputs": [
    {
     "name": "stdout",
     "output_type": "stream",
     "text": [
      "35\n",
      "[[0, 35, 0, 0, 0, 0, 0, 0, 0, 0, 0, 0, 0, 0, 0, 0, 0, 0, 0, 0, 0, 0, 0, 0, 0, 0, 0, 0, 0, 0, 0, 0], [0, 0, 0, 25, 0, 0, 0, 18, 0, 0, 0, 15, 0, 0, 0, 0, 0, 0, 0, 0, 0, 0, 0, 0, 0, 0, 0, 0, 0, 0, 0, 0], [0, 0, 0, 0, 0, 25, 0, 20, 0, 0, 0, 0, 0, 18, 0, 0, 0, 0, 0, 0, 0, 0, 0, 0, 0, 0, 0, 0, 0, 0, 0, 0], [0, 0, 0, 0, 0, 0, 0, 0, 0, 23, 0, 15, 0, 13, 0, 0, 0, 0, 0, 0, 0, 0, 0, 0, 0, 0, 0, 0, 0, 0, 0, 0]]\n"
     ]
    }
   ],
   "source": [
    "n = int(input())\n",
    "w = []\n",
    "for i in range(n):\n",
    "    w.append(list(map(int, input().split())))\n",
    "    \n",
    "dp = [[0]*(1<<(n+1)) for _ in range(n)]\n",
    "INF = float('inf')\n",
    "def dfs(here, visit):\n",
    "    # 모두 방문\n",
    "    if visit == (1<<n) -1:\n",
    "        if w[here][0] == 0:\n",
    "            return INF\n",
    "        else:\n",
    "            return w[here][0]\n",
    "    # 이미 방문\n",
    "    if dp[here][visit] != 0:\n",
    "        return dp[here][visit]\n",
    "    ret = INF\n",
    "    for i in range(n):\n",
    "        # here에서 갈 수 있는 도시 중 이후 비용이 가장 작은 도시 찾아서 방문 \n",
    "        if w[here][i] == 0: continue # 갈 수 없는 길\n",
    "        if (visit&(1<<i)) != 0: continue # 이미 방문\n",
    "        ret = min(ret, dfs(i, visit|(1<<i))+w[here][i])\n",
    "    dp[here][visit] = ret\n",
    "    return ret\n",
    "\n",
    "print(dfs(0, 1<<0))"
   ]
  },
  {
   "cell_type": "code",
   "execution_count": 27,
   "metadata": {},
   "outputs": [],
   "source": [
    "# 1102 발전소"
   ]
  },
  {
   "cell_type": "code",
   "execution_count": null,
   "metadata": {},
   "outputs": [],
   "source": [
    "n = int(input())\n",
    "w = []\n",
    "for i in range(n):\n",
    "    w.append(list(map(int, input().split())))\n",
    "# 지금 y가 몇개있는제 \n",
    "cnt = 0\n",
    "s = input()\n",
    "p = int(input())\n",
    "visit = 0\n",
    "# dp 초기화\n",
    "dp[1<<16 + 3]\n",
    "for i in range(n):\n",
    "    if s[i] == 'Y':\n",
    "        cnt += \n",
    "        visit|= (1<<i)\n",
    "if cnt == 0: # 지금 켜져있는게 없으면 이용해서 다른 것도 못킴 \n",
    "    if p == 0:\n",
    "        print(0)\n",
    "    else:\n",
    "        print(-1)\n",
    "if cnt > p:\n",
    "    print(0)\n",
    "\n",
    "def dfs(cnt, visit):\n",
    "    if cnt == p:\n",
    "        return 0\n",
    "    if dp[visit] != -1: # 이미 방문한적이 있음\n",
    "        return dp[visit]\n",
    "    \n",
    "    # 뭘로 뭐를 켤지 검사해야해 -> 2중 포문\n",
    "    # i를 이용해 j를 키자\n",
    "    ret = INF\n",
    "    for i in range(n):\n",
    "        if (visit&1 <<i) == 0: continue # i번째가 꺼져있어 -> 이용 못해\n",
    "        for j in range(n): \n",
    "            if i == j: continue\n",
    "            if (visit&1<<j)!=0: continue # j가 이미 켜져있어\n",
    "            ret = min(ret, dfs(cnt+1, (visit|1<<j))+w[i][j])\n",
    "    dp[visit] = ret\n",
    "           "
   ]
  },
  {
   "cell_type": "code",
   "execution_count": 1,
   "metadata": {},
   "outputs": [
    {
     "name": "stdout",
     "output_type": "stream",
     "text": [
      "3\n",
      "0 10 11\n",
      "10 0 12\n",
      "12 13 0\n",
      "YNN\n",
      "3\n"
     ]
    },
    {
     "ename": "NameError",
     "evalue": "name 'INF' is not defined",
     "output_type": "error",
     "traceback": [
      "\u001b[1;31m---------------------------------------------------------------------------\u001b[0m",
      "\u001b[1;31mNameError\u001b[0m                                 Traceback (most recent call last)",
      "\u001b[1;32m<ipython-input-1-2aadb36fc20c>\u001b[0m in \u001b[0;36m<module>\u001b[1;34m\u001b[0m\n\u001b[0;32m     35\u001b[0m     \u001b[0mprint\u001b[0m\u001b[1;33m(\u001b[0m\u001b[1;36m0\u001b[0m\u001b[1;33m)\u001b[0m\u001b[1;33m\u001b[0m\u001b[1;33m\u001b[0m\u001b[0m\n\u001b[0;32m     36\u001b[0m \u001b[1;32melse\u001b[0m\u001b[1;33m:\u001b[0m\u001b[1;33m\u001b[0m\u001b[1;33m\u001b[0m\u001b[0m\n\u001b[1;32m---> 37\u001b[1;33m     \u001b[0mprint\u001b[0m\u001b[1;33m(\u001b[0m\u001b[0mdfs\u001b[0m\u001b[1;33m(\u001b[0m\u001b[0mcnt\u001b[0m\u001b[1;33m,\u001b[0m \u001b[0mturn\u001b[0m\u001b[1;33m)\u001b[0m\u001b[1;33m)\u001b[0m\u001b[1;33m\u001b[0m\u001b[1;33m\u001b[0m\u001b[0m\n\u001b[0m",
      "\u001b[1;32m<ipython-input-1-2aadb36fc20c>\u001b[0m in \u001b[0;36mdfs\u001b[1;34m(cnt, turn)\u001b[0m\n\u001b[0;32m     13\u001b[0m     \u001b[1;32mif\u001b[0m \u001b[0mdp\u001b[0m\u001b[1;33m[\u001b[0m\u001b[0mturn\u001b[0m\u001b[1;33m]\u001b[0m \u001b[1;33m!=\u001b[0m \u001b[1;33m-\u001b[0m\u001b[1;36m1\u001b[0m\u001b[1;33m:\u001b[0m\u001b[1;33m\u001b[0m\u001b[1;33m\u001b[0m\u001b[0m\n\u001b[0;32m     14\u001b[0m         \u001b[1;32mreturn\u001b[0m \u001b[0mdp\u001b[0m\u001b[1;33m[\u001b[0m\u001b[0mturn\u001b[0m\u001b[1;33m]\u001b[0m\u001b[1;33m\u001b[0m\u001b[1;33m\u001b[0m\u001b[0m\n\u001b[1;32m---> 15\u001b[1;33m     \u001b[0mret\u001b[0m \u001b[1;33m=\u001b[0m \u001b[0mINF\u001b[0m\u001b[1;33m\u001b[0m\u001b[1;33m\u001b[0m\u001b[0m\n\u001b[0m\u001b[0;32m     16\u001b[0m     \u001b[1;32mfor\u001b[0m \u001b[0mi\u001b[0m \u001b[1;32min\u001b[0m \u001b[0mrange\u001b[0m\u001b[1;33m(\u001b[0m\u001b[0mn\u001b[0m\u001b[1;33m)\u001b[0m\u001b[1;33m:\u001b[0m\u001b[1;33m\u001b[0m\u001b[1;33m\u001b[0m\u001b[0m\n\u001b[0;32m     17\u001b[0m         \u001b[1;32mif\u001b[0m \u001b[0mturn\u001b[0m\u001b[1;33m&\u001b[0m\u001b[1;33m(\u001b[0m\u001b[1;36m1\u001b[0m\u001b[1;33m<<\u001b[0m\u001b[0mi\u001b[0m\u001b[1;33m)\u001b[0m \u001b[1;33m==\u001b[0m \u001b[1;36m0\u001b[0m\u001b[1;33m:\u001b[0m \u001b[1;32mcontinue\u001b[0m\u001b[1;33m\u001b[0m\u001b[1;33m\u001b[0m\u001b[0m\n",
      "\u001b[1;31mNameError\u001b[0m: name 'INF' is not defined"
     ]
    }
   ],
   "source": [
    "INF = float('inf')\n",
    "n = int(input())\n",
    "w = []\n",
    "for i in range(n):\n",
    "    w.append(list(map(int, input().split())))\n",
    "cnt = 0 # 현재 켜져있는 발전소의 개수 \n",
    "s = input()\n",
    "p = int(input())\n",
    "turn = 0 # 0이면 꺼져있음, 켜져있으면 1\n",
    "dp = [-1]*(1<<17)\n",
    "def dfs(cnt, turn):\n",
    "    if cnt >= p:\n",
    "        return 0\n",
    "    if dp[turn] != -1:\n",
    "        return dp[turn]\n",
    "    ret = INF\n",
    "    for i in range(n):\n",
    "        if turn&(1<<i) == 0: continue\n",
    "        for j in range(n):\n",
    "            if i == j: continue\n",
    "            if (turn&1<<j) !=0: continue\n",
    "            ret = min(ret, dfs(cnt+1, turn|1<<j)+w[i][j])\n",
    "    dp[turn] = ret\n",
    "    return ret\n",
    "\n",
    "for i in range(n):\n",
    "    if s[i] == 'Y':\n",
    "        cnt += 1\n",
    "        turn = turn|(1<<i) # 켜기\n",
    "answer = dfs(cnt, turn)\n",
    "if answer == INF:\n",
    "    print(-1)\n",
    "else:\n",
    "    print(answer)"
   ]
  },
  {
   "cell_type": "code",
   "execution_count": null,
   "metadata": {},
   "outputs": [],
   "source": [
    "# 2449. 전구"
   ]
  },
  {
   "cell_type": "code",
   "execution_count": 17,
   "metadata": {},
   "outputs": [
    {
     "data": {
      "text/plain": [
       "2"
      ]
     },
     "execution_count": 17,
     "metadata": {},
     "output_type": "execute_result"
    }
   ],
   "source": [
    "n, k = map(int, input().split())\n",
    "arr = list(map(int, input().split()))\n",
    "dp = [[-1]*n for _ in range(n)]\n",
    "def dfs(start, end):\n",
    "    if dp[start][end] != -1:\n",
    "        return dp[start][end]\n",
    "    if start == end:\n",
    "        dp[start][end] = 0\n",
    "        return 0\n",
    "    ret = float('inf')\n",
    "    for i in range(start, end):\n",
    "        l = dfs(start, i)\n",
    "        r = dfs(i+1, end)\n",
    "        if arr[start] == arr[i+1]:\n",
    "            temp = 0\n",
    "        else:\n",
    "            temp = 1\n",
    "        ret = min(ret, l+r+temp)\n",
    "    dp[start][end] = ret\n",
    "    return dp[start][end]\n",
    "print(dfs(0, n-1))"
   ]
  },
  {
   "cell_type": "code",
   "execution_count": 14,
   "metadata": {},
   "outputs": [
    {
     "data": {
      "text/plain": [
       "[[0, 1, 1, 1, 1, 1, 1, 1, 1, 1],\n",
       " [-1, 0, 0, 0, 0, 0, 0, 0, 0, 0],\n",
       " [-1, -1, 0, 0, 0, 0, 0, 0, 0, 0],\n",
       " [-1, -1, -1, 0, 1, 2, 2, 2, 2, 2],\n",
       " [-1, -1, -1, -1, 0, 1, 1, 1, 1, 1],\n",
       " [-1, -1, -1, -1, -1, 0, 0, 0, 0, 0],\n",
       " [-1, -1, -1, -1, -1, -1, 0, 1, 1, 1],\n",
       " [-1, -1, -1, -1, -1, -1, -1, 0, 0, 0],\n",
       " [-1, -1, -1, -1, -1, -1, -1, -1, 0, 1],\n",
       " [-1, -1, -1, -1, -1, -1, -1, -1, -1, 0]]"
      ]
     },
     "execution_count": 14,
     "metadata": {},
     "output_type": "execute_result"
    }
   ],
   "source": [
    "dp"
   ]
  }
 ],
 "metadata": {
  "kernelspec": {
   "display_name": "Python 3",
   "language": "python",
   "name": "python3"
  },
  "language_info": {
   "codemirror_mode": {
    "name": "ipython",
    "version": 3
   },
   "file_extension": ".py",
   "mimetype": "text/x-python",
   "name": "python",
   "nbconvert_exporter": "python",
   "pygments_lexer": "ipython3",
   "version": "3.7.2"
  }
 },
 "nbformat": 4,
 "nbformat_minor": 2
}
