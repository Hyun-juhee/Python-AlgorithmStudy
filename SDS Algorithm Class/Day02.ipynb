{
 "cells": [
  {
   "cell_type": "code",
   "execution_count": 14,
   "metadata": {},
   "outputs": [],
   "source": [
    "# 2805 나무 자르기 (이진탐색)"
   ]
  },
  {
   "cell_type": "code",
   "execution_count": 13,
   "metadata": {},
   "outputs": [
    {
     "name": "stdout",
     "output_type": "stream",
     "text": [
      "15\n",
      "15\n"
     ]
    }
   ],
   "source": [
    "n, m = map(int, input().split())\n",
    "trees = list(map(int, input().split()))\n",
    "high = max(trees)\n",
    "low = high - m\n",
    "answer = 0\n",
    "while high >= low:\n",
    "    mid = (high+low)//2\n",
    "    x = 0\n",
    "    for i in trees:\n",
    "        if i > mid:\n",
    "            x += (i-mid)\n",
    "    if x < m:\n",
    "        high = mid-1\n",
    "    else:\n",
    "        answer = mid\n",
    "        low = mid+1\n",
    "print(answer)"
   ]
  },
  {
   "cell_type": "code",
   "execution_count": null,
   "metadata": {},
   "outputs": [],
   "source": [
    "# 1072 게임 (이분탐색)"
   ]
  },
  {
   "cell_type": "code",
   "execution_count": null,
   "metadata": {},
   "outputs": [],
   "source": [
    "# 만약에 z가 99면 아무리 더 이겨도 바뀌지 않는다 (-1)\n",
    "# 왜냐면 99면 이미 100은 아니니까 100이 될 수 없는데, 버림을 하기 때문에 99.9까지 가도\n",
    "# 100이될 수 없다."
   ]
  },
  {
   "cell_type": "code",
   "execution_count": 44,
   "metadata": {},
   "outputs": [
    {
     "name": "stdout",
     "output_type": "stream",
     "text": [
      "100 80\n",
      "5\n"
     ]
    }
   ],
   "source": [
    "x, y = map(int, input().split())\n",
    "low, high = 0, 1000000000\n",
    "z = int(100*y/x)\n",
    "answer = 0\n",
    "while low <= high:\n",
    "    mid = (low+high)//2\n",
    "    tx, ty = x + mid, y + mid\n",
    "    if int(100*ty/tx) > z:\n",
    "        answer = mid\n",
    "        high = mid-1\n",
    "    else:\n",
    "        low = mid+1\n",
    "if answer == 0:\n",
    "    print(-1)\n",
    "else:\n",
    "    print(answer)"
   ]
  },
  {
   "cell_type": "code",
   "execution_count": 46,
   "metadata": {},
   "outputs": [],
   "source": [
    "# 피보나치 수"
   ]
  },
  {
   "cell_type": "code",
   "execution_count": 48,
   "metadata": {},
   "outputs": [
    {
     "name": "stdout",
     "output_type": "stream",
     "text": [
      "10\n",
      "55\n"
     ]
    }
   ],
   "source": [
    "x = int(input())\n",
    "arr = [0 for _ in range(x+1)]\n",
    "arr[1] = 1\n",
    "for i in range(2, x+1):\n",
    "    arr[i] = arr[i-2]+arr[i-1]\n",
    "print(arr[x])"
   ]
  },
  {
   "cell_type": "code",
   "execution_count": null,
   "metadata": {},
   "outputs": [],
   "source": [
    "# 2003 수들의 합 (투 포인터)"
   ]
  },
  {
   "cell_type": "code",
   "execution_count": 49,
   "metadata": {},
   "outputs": [
    {
     "name": "stdout",
     "output_type": "stream",
     "text": [
      "10 15\n",
      "5 1 3 5 10 7 4 9 2 8\n",
      "2\n"
     ]
    }
   ],
   "source": [
    "n , m = map(int, input().split())\n",
    "arr = list(map(int,input().split()))\n",
    "i = 0\n",
    "j = 0\n",
    "answer = 0\n",
    "x = 0\n",
    "while j < n:\n",
    "    x = sum(arr[i:j+1])\n",
    "    if x == m:\n",
    "        answer += 1\n",
    "        x = 0\n",
    "        i += 1\n",
    "        j = i+1\n",
    "    elif x < m:\n",
    "        j += 1\n",
    "    elif x > m:\n",
    "        i += 1\n",
    "print(answer)"
   ]
  },
  {
   "cell_type": "code",
   "execution_count": null,
   "metadata": {},
   "outputs": [],
   "source": [
    "# 1806 부분합 (투 포인터, dp)"
   ]
  },
  {
   "cell_type": "code",
   "execution_count": 60,
   "metadata": {},
   "outputs": [
    {
     "name": "stdout",
     "output_type": "stream",
     "text": [
      "10 15\n",
      "5 1 3 5 10 7 4 9 2 8\n",
      "[0, 5, 6, 9, 14, 24, 31, 35, 44, 46, 54]\n",
      "2\n"
     ]
    }
   ],
   "source": [
    "n , m = map(int, input().split())\n",
    "arr = list(map(int,input().split()))\n",
    "start = 0\n",
    "end = 1\n",
    "answer = 100000\n",
    "\n",
    "sumarr = [0]*(n+1)\n",
    "for i in range(1, n+1):\n",
    "    sumarr[i] = sumarr[i-1] + arr[i-1]\n",
    "\n",
    "while end <= n and start < n:\n",
    "    x = sumarr[end]-sumarr[start]\n",
    "    if x >= m:\n",
    "        answer = min(answer, end-start)\n",
    "        start += 1\n",
    "    else:\n",
    "        end += 1\n",
    "if answer == 100000:\n",
    "    print(0)\n",
    "else:\n",
    "    print(answer)"
   ]
  },
  {
   "cell_type": "code",
   "execution_count": null,
   "metadata": {},
   "outputs": [],
   "source": [
    "# 11003 최소값 찾기 (deque문제, 도움 많이 받음)"
   ]
  },
  {
   "cell_type": "code",
   "execution_count": 75,
   "metadata": {},
   "outputs": [
    {
     "name": "stdout",
     "output_type": "stream",
     "text": [
      "1 1 1 2 2 2 2 2 3 3 2 2 "
     ]
    }
   ],
   "source": [
    "from collections import deque\n",
    "queue = deque()\n",
    "n, l = map(int, input().split())\n",
    "nums = list(map(int, input().split()))\n",
    "\n",
    "for i in range(0, n):\n",
    "    # 맨 앞값 인덱스 벗어남\n",
    "    if queue and queue[0][1] <= i-l:\n",
    "        queue.popleft()\n",
    "    # nums[i]가 더 작으면 앞에 애들 지우기\n",
    "    while queue and queue[-1][0] >= nums[i]:\n",
    "        queue.pop()\n",
    "    queue.append([nums[i], i])\n",
    "    print(queue[0][0], end = ' ')"
   ]
  },
  {
   "cell_type": "code",
   "execution_count": 77,
   "metadata": {},
   "outputs": [],
   "source": [
    "# 2096 내려가기 (dp)"
   ]
  },
  {
   "cell_type": "code",
   "execution_count": null,
   "metadata": {},
   "outputs": [],
   "source": [
    "import sys\n",
    "input = sys.stdin.readline\n",
    "n = int(input())\n",
    "minD = [0,0,0]\n",
    "maxD = [0,0,0]\n",
    "for i in range(0, n):\n",
    "    temp = list(map(int, input().split()))\n",
    "    minD[0], minD[1], minD[2] = min(minD[0], minD[1]) + temp[0], min(minD) + temp[1], min(minD[1], minD[2]) + temp[2]\n",
    "    maxD[0], maxD[1], maxD[2] = max(maxD[0], maxD[1]) + temp[0], max(maxD) + temp[1], max(maxD[1], maxD[2]) + temp[2]\n",
    "print(max(maxD), min(minD))"
   ]
  },
  {
   "cell_type": "code",
   "execution_count": 78,
   "metadata": {},
   "outputs": [
    {
     "name": "stdout",
     "output_type": "stream",
     "text": [
      "3\n",
      "1 2 3\n",
      "4 5 6\n",
      "4 9 0\n",
      "[[1, 2, 3], [4, 5, 6], [4, 9, 0]]\n"
     ]
    }
   ],
   "source": [
    "# 메모리 초과\n",
    "n = int(input())\n",
    "table = []\n",
    "for i in range(n):\n",
    "    table.append(list(map(int, input().split())))\n",
    "    \n",
    "minD = [[0]*3 for _ in range(n)]\n",
    "maxD = [[0]*3 for _ in range(n)]\n",
    "minD[0] = table[0]\n",
    "maxD[0] = table[0]\n",
    "for i in range(1, n):\n",
    "    for j in range(3):\n",
    "        x = j\n",
    "        y = j\n",
    "        if j-1 >= 0:\n",
    "            x = j-1\n",
    "        if j+1 < n:\n",
    "            y = j+1\n",
    "        minD[i][j] = min(minD[i-1][x:y+1]) + table[i][j]\n",
    "        maxD[i][j] = max(maxD[i-1][x:y+1]) + table[i][j]\n",
    "print(min(minD[n-1]), max(maxD[n-1]))"
   ]
  },
  {
   "cell_type": "code",
   "execution_count": null,
   "metadata": {},
   "outputs": [],
   "source": [
    "# ** 두 배열의 합 (시간 초과 안나게 구현)"
   ]
  },
  {
   "cell_type": "code",
   "execution_count": 165,
   "metadata": {},
   "outputs": [
    {
     "name": "stdout",
     "output_type": "stream",
     "text": [
      "7\n"
     ]
    }
   ],
   "source": [
    "from collections import defaultdict\n",
    "T = int(input())\n",
    "n = int(input())\n",
    "a = list(map(int, input().split()))\n",
    "m = int(input())\n",
    "b = list(map(int, input().split()))\n",
    "\n",
    "a_part = defaultdict(int)\n",
    "b_part = defaultdict(int)\n",
    "for i in range(n):\n",
    "    x = 0\n",
    "    for j in range(i,-1,-1):\n",
    "        x += a[j]\n",
    "        a_part[x] += 1\n",
    "for i in range(m):\n",
    "    x = 0\n",
    "    for j in range(i,-1,-1):\n",
    "        x += b[j]\n",
    "        b_part[x] += 1\n",
    "answer = 0\n",
    "for i in a_part:\n",
    "    answer += a_part[i]*b_part[T-i]\n",
    "print(answer)"
   ]
  },
  {
   "cell_type": "code",
   "execution_count": null,
   "metadata": {},
   "outputs": [],
   "source": [
    "# 합이 0인 네 정수 (투포인터)"
   ]
  },
  {
   "cell_type": "code",
   "execution_count": null,
   "metadata": {},
   "outputs": [],
   "source": []
  },
  {
   "cell_type": "code",
   "execution_count": null,
   "metadata": {},
   "outputs": [],
   "source": [
    "# *** 집배원 한상덕\n",
    "# 만약 가장 큰 고도를 구하라고 했다면 이분탐색으로 구할 수 있다. (해가 1개)\n",
    "# 그러나 구해야 할 해가 2개 이다. -> 가장 큰 고도, 가장 작은 고도\n",
    "# 때문에 투 포인터로 구해야 한다. "
   ]
  },
  {
   "cell_type": "code",
   "execution_count": null,
   "metadata": {},
   "outputs": [],
   "source": []
  }
 ],
 "metadata": {
  "kernelspec": {
   "display_name": "Python 3",
   "language": "python",
   "name": "python3"
  },
  "language_info": {
   "codemirror_mode": {
    "name": "ipython",
    "version": 3
   },
   "file_extension": ".py",
   "mimetype": "text/x-python",
   "name": "python",
   "nbconvert_exporter": "python",
   "pygments_lexer": "ipython3",
   "version": "3.7.2"
  }
 },
 "nbformat": 4,
 "nbformat_minor": 2
}
