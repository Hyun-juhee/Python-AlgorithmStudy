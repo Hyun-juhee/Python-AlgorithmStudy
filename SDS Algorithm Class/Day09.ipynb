{
 "cells": [
  {
   "cell_type": "code",
   "execution_count": null,
   "metadata": {},
   "outputs": [],
   "source": [
    "# 11062 카드 게임"
   ]
  },
  {
   "cell_type": "code",
   "execution_count": null,
   "metadata": {},
   "outputs": [],
   "source": [
    "import sys\n",
    "input = sys.stdin.readline\n",
    "sys.setrecursionlimit(10**6)"
   ]
  },
  {
   "cell_type": "code",
   "execution_count": 90,
   "metadata": {},
   "outputs": [
    {
     "name": "stdout",
     "output_type": "stream",
     "text": [
      "1\n",
      "6\n",
      "1 2 3 4 5 6\n",
      "12\n"
     ]
    }
   ],
   "source": [
    "import sys\n",
    "# input = sys.stdin.readline\n",
    "def start(i):\n",
    "    return (i+1)%n\n",
    "def end(j):\n",
    "    return (j+n-1)%n\n",
    "\n",
    "def ioi(i, j):\n",
    "    if i == j:\n",
    "        return 0\n",
    "    if cakes[i] > cakes[j]:\n",
    "        return joi(start(i), j)\n",
    "    else:\n",
    "        return joi(i, end(j))\n",
    "    \n",
    "def joi(i, j):\n",
    "    if i == j:\n",
    "        return cakes[i]\n",
    "    return max(cakes[i] + ioi(start(i), j), cakes[j] + ioi(i, end(j)))\n",
    "    \n",
    "def backtracking(turn, start, end):\n",
    "    if start > end:\n",
    "        return 0\n",
    "    if dp[start][end]: return dp[start][end] # 이 부분 없으면 시간 초과 \n",
    "   \n",
    "    if turn:\n",
    "        score = max(cards[start] + backtracking(False, start+1, end), cards[end]+backtracking(False, start, end-1))\n",
    "        dp[start][end] = score\n",
    "        return score\n",
    "    else:\n",
    "        # 명우의 경우도 최선을 다할거니까 min!!!\n",
    "        score = min(backtracking(True, start+1, end), backtracking(True, start, end-1))\n",
    "        dp[start][end] = score\n",
    "        return score\n",
    "    \n",
    "T = int(input())\n",
    "for i in range(T):\n",
    "    N = int(input())\n",
    "    cards = list(map(int,input().split()))\n",
    "    dp = [[0]*N for _ in range(N)]\n",
    "    backtracking(True, 0, N-1)\n",
    "    print(dp[0][N-1])"
   ]
  },
  {
   "cell_type": "code",
   "execution_count": null,
   "metadata": {},
   "outputs": [],
   "source": [
    "# 10714 케이크 자르기 2"
   ]
  },
  {
   "cell_type": "code",
   "execution_count": 88,
   "metadata": {},
   "outputs": [
    {
     "name": "stdout",
     "output_type": "stream",
     "text": [
      "18\n"
     ]
    }
   ],
   "source": [
    "import sys\n",
    "input = sys.stdin.readline\n",
    "sys.setrecursionlimit(100000)\n",
    "\n",
    "def start(i):\n",
    "    return (i+1)%n\n",
    "def end(j):\n",
    "    return (j-1)%n\n",
    "\n",
    "def ioi(i, j):\n",
    "    # 안 남았다\n",
    "    if start(i) ==  j or end(j) == i:\n",
    "        return 0\n",
    "    if cakes[start(i)] > cakes[end(j)]:\n",
    "        return joi(start(i), j)\n",
    "    return joi(i, end(j))\n",
    "    \n",
    "def joi(i, j):\n",
    "    if dp[i][j] != -1:\n",
    "        return dp[i][j]\n",
    "    if start(i) == j or end(j) == i:\n",
    "        return 0\n",
    "    dp[i][j] = max(cakes[start(i)] + ioi(start(i), j), cakes[end(j)] + ioi(i, end(j)))\n",
    "    return dp[i][j]\n",
    "\n",
    "n = int(input())\n",
    "cakes = []\n",
    "for i in range(n):\n",
    "    cakes.append(int(input()))\n",
    "\n",
    "dp = [[-1]*n for _ in range(n)]    \n",
    "answer = 0\n",
    "for i in range(n):\n",
    "    answer = max(answer, cakes[i] + ioi(i,i))\n",
    "print(answer)"
   ]
  },
  {
   "cell_type": "code",
   "execution_count": null,
   "metadata": {},
   "outputs": [],
   "source": [
    "# 7579 앱"
   ]
  },
  {
   "cell_type": "code",
   "execution_count": null,
   "metadata": {},
   "outputs": [],
   "source": [
    "# dp[i][j] = i번째 앱까지 봤을 때, j 만큼의 비용을 써서 얻을 수 있는 최대 메모리\n",
    "# i-1번째까지 봤을 때, i 번째 앱을 비활성화 / 그냥 냅둠을 선택할 수 있다.\n",
    "# 비활성화 선택 )\n",
    "# j < c[i] 인경우 -> dp[i-1][j]\n",
    "\n",
    "# i,j 상태가 되기 위해서\n",
    "# 1. i-1,j 상태에서 걍 아무것도 안함\n",
    "# 2. i-1, j-c[i]상태에서 (i번째 비활성화)c[i]의 비용을 더 들이며 m[i]의 메모리를 추가로 얻음"
   ]
  },
  {
   "cell_type": "code",
   "execution_count": 118,
   "metadata": {},
   "outputs": [
    {
     "name": "stdout",
     "output_type": "stream",
     "text": [
      "6\n"
     ]
    }
   ],
   "source": [
    "n,m = map(int,input().split())\n",
    "a = list(map(int, input().split()))\n",
    "c = list(map(int, input().split()))\n",
    "\n",
    "dp = [[-1]*(sum(c)+1) for _ in range(n)]\n",
    "\n",
    "dp[0][c[0]] = a[0]\n",
    "dp[0][0] = 0\n",
    "result=sum(c)\n",
    "for i in range(1, n):\n",
    "    for j in range(0, len(dp[i])):\n",
    "        if j < c[i]:\n",
    "            dp[i][j] = dp[i-1][j]\n",
    "        else:\n",
    "            dp[i][j] = max(dp[i-1][j-c[i]] + a[i], dp[i-1][j])\n",
    "        if dp[i][j] >= m:\n",
    "            result = min(result, j)\n",
    "print(result)"
   ]
  },
  {
   "cell_type": "code",
   "execution_count": null,
   "metadata": {},
   "outputs": [],
   "source": [
    "# 2342 Dance Dance Revolution"
   ]
  },
  {
   "cell_type": "code",
   "execution_count": 4,
   "metadata": {
    "scrolled": true
   },
   "outputs": [
    {
     "name": "stdout",
     "output_type": "stream",
     "text": [
      "1 2 2 4 0\n",
      "inf\n",
      "inf\n",
      "inf\n",
      "inf\n",
      "inf\n",
      "inf\n",
      "inf\n",
      "inf\n",
      "inf\n",
      "inf\n",
      "inf\n",
      "inf\n",
      "inf\n",
      "inf\n",
      "inf\n",
      "inf\n",
      "inf\n",
      "inf\n",
      "inf\n",
      "inf\n",
      "inf\n",
      "inf\n",
      "inf\n",
      "inf\n",
      "inf\n",
      "inf\n",
      "inf\n",
      "inf\n",
      "inf\n",
      "inf\n",
      "inf\n",
      "inf\n",
      "inf\n",
      "inf\n",
      "inf\n",
      "inf\n",
      "inf\n",
      "inf\n",
      "inf\n",
      "inf\n",
      "inf\n",
      "inf\n",
      "inf\n",
      "inf\n",
      "inf\n",
      "inf\n",
      "inf\n",
      "inf\n",
      "inf\n",
      "inf\n",
      "inf\n",
      "inf\n",
      "inf\n",
      "inf\n",
      "inf\n",
      "inf\n",
      "inf\n",
      "inf\n",
      "inf\n",
      "inf\n",
      "inf\n",
      "inf\n",
      "inf\n",
      "inf\n",
      "inf\n",
      "inf\n",
      "inf\n",
      "inf\n",
      "inf\n",
      "inf\n",
      "inf\n",
      "inf\n",
      "inf\n",
      "inf\n",
      "inf\n",
      "inf\n",
      "inf\n",
      "inf\n",
      "inf\n",
      "inf\n",
      "inf\n",
      "inf\n",
      "inf\n",
      "inf\n",
      "inf\n",
      "inf\n",
      "inf\n",
      "inf\n",
      "inf\n",
      "inf\n",
      "inf\n",
      "inf\n",
      "inf\n",
      "inf\n",
      "inf\n",
      "inf\n",
      "inf\n",
      "inf\n",
      "inf\n",
      "inf\n",
      "8\n"
     ]
    }
   ],
   "source": [
    "INF = float('inf')\n",
    "arr = [0]\n",
    "arr.extend(list(map(int,input().split())))\n",
    "arr.pop()\n",
    "N = len(arr)\n",
    "\n",
    "dp = [[[INF]* 5 for l in range(5)] for i in range(N)]\n",
    "dp[0][0][0]=0\n",
    "\n",
    "def cal(a,b):\n",
    "    if a==b:\n",
    "        return 1\n",
    "    elif a==0 or b==0:\n",
    "        return 2\n",
    "    elif abs(a-b) == 2:\n",
    "        return 4\n",
    "    else:\n",
    "        return 3\n",
    "\n",
    "# N번 반복\n",
    "for i in range(1, N):\n",
    "#     print(arr[i])\n",
    "    for l in range(5):\n",
    "        for r in range(5):\n",
    "            print(dp[i][l][r])\n",
    "            if l==r:\n",
    "                continue\n",
    "            if arr[i] != l and arr[i] != r:\n",
    "                continue\n",
    "            for z in range(5):\n",
    "                if l== arr[i]:\n",
    "                    dp[i][l][r] = min(dp[i][l][r], dp[i-1][z][r]+cal(z,l))\n",
    "                else:\n",
    "                    dp[i][l][r] = min(dp[i][l][r], dp[i-1][l][z]+cal(z,r))\n",
    "#             print(i, l, r, dp[i][l][r]);\n",
    "\n",
    "answer = INF\n",
    "last = arr[N-1]\n",
    "for i in range(5):\n",
    "    if i == last:\n",
    "        continue\n",
    "    answer = min(answer, dp[N-1][last][i])\n",
    "    answer = min(answer, dp[N-1][i][last])\n",
    "print(answer)"
   ]
  },
  {
   "cell_type": "code",
   "execution_count": 16,
   "metadata": {},
   "outputs": [
    {
     "name": "stdout",
     "output_type": "stream",
     "text": [
      "1 2 2 4 0\n",
      "8\n"
     ]
    }
   ],
   "source": [
    "# pypy3는 메모리 초과 \n",
    "def cal(a,b):\n",
    "    if a==b:\n",
    "        return 1\n",
    "    if a==0 or b==0:\n",
    "        return 2\n",
    "    if abs(a-b) == 2:\n",
    "        return 4\n",
    "    if abs(a-b)%2 == 1:\n",
    "        return 3\n",
    "def dfs(idx, left, right):\n",
    "    if idx == N-1:\n",
    "        return 0\n",
    "    if dp[idx][left][right] != -1:\n",
    "        return dp[idx][left][right]\n",
    "    \n",
    "    ret = float('inf')\n",
    "    if arr[idx] != right:\n",
    "        ret = dfs(idx+1, arr[idx], right) + cal(arr[idx], left)\n",
    "    if arr[idx] != left:\n",
    "        ret = min(ret, dfs(idx+1, left, arr[idx]) + cal(arr[idx], right))\n",
    "    dp[idx][left][right] = ret\n",
    "    return ret\n",
    "\n",
    "arr = list(map(int, input().split()))\n",
    "N = len(arr)\n",
    "dp = [[[-1 for _ in range(5)] for _ in range(5)] for _ in range(100001)]\n",
    "print(dfs(0,0,0))"
   ]
  },
  {
   "cell_type": "code",
   "execution_count": null,
   "metadata": {},
   "outputs": [],
   "source": [
    "# 5282 공통 부분 문자열"
   ]
  },
  {
   "cell_type": "code",
   "execution_count": 32,
   "metadata": {},
   "outputs": [
    {
     "name": "stdout",
     "output_type": "stream",
     "text": [
      "ABRACADABRA\n",
      "ECADADABRBCRDARA\n",
      "5\n"
     ]
    }
   ],
   "source": [
    "A = input()\n",
    "B = input()\n",
    "dp = [[0]*(len(A)+1) for _ in range(len(B)+1)]\n",
    "answer = 0\n",
    "for i in range(1, len(B)+1):\n",
    "    for j in range(1, len(A)+1):\n",
    "        if B[i-1]== A[j-1]:\n",
    "            dp[i][j] = dp[i-1][j-1] + 1\n",
    "            answer = max(answer, dp[i][j])\n",
    "print(answer)"
   ]
  },
  {
   "cell_type": "code",
   "execution_count": null,
   "metadata": {},
   "outputs": [],
   "source": [
    "# 9252 LCS 2 "
   ]
  },
  {
   "cell_type": "code",
   "execution_count": 39,
   "metadata": {},
   "outputs": [
    {
     "name": "stdout",
     "output_type": "stream",
     "text": [
      "4\n"
     ]
    }
   ],
   "source": [
    "# 그냥 LCS\n",
    "A = input()\n",
    "B = input()\n",
    "dp = [[0]*(len(A)+1) for _ in range(len(B)+1)]\n",
    "answer = [0, []]\n",
    "for i in range(1, len(B)+1):\n",
    "    for j in range(1, len(A)+1):\n",
    "        if B[i-1]== A[j-1]:\n",
    "            dp[i][j] = dp[i-1][j-1] + 1\n",
    "        else:\n",
    "            dp[i][j] = max(dp[i-1][j], dp[i][j-1])\n",
    "print(max(dp[len(B)]))"
   ]
  },
  {
   "cell_type": "code",
   "execution_count": null,
   "metadata": {},
   "outputs": [],
   "source": [
    "# LCS2 -> 그냥 따라가면서 역추적 "
   ]
  },
  {
   "cell_type": "code",
   "execution_count": 50,
   "metadata": {},
   "outputs": [
    {
     "name": "stdout",
     "output_type": "stream",
     "text": [
      "CAPCAK\n",
      "ACAYKP\n",
      "4\n",
      "ACAK"
     ]
    }
   ],
   "source": [
    "A = input()\n",
    "B = input()\n",
    "dp = [[0]*(len(A)+1) for _ in range(len(B)+1)]\n",
    "answer = [0, []]\n",
    "for i in range(1, len(B)+1):\n",
    "    for j in range(1, len(A)+1):\n",
    "        if B[i-1]== A[j-1]:\n",
    "            dp[i][j] = dp[i-1][j-1] + 1\n",
    "        else:\n",
    "            dp[i][j] = max(dp[i-1][j], dp[i][j-1])\n",
    "print(max(dp[len(B)]))\n",
    "\n",
    "i = len(B)\n",
    "j = len(A)\n",
    "answer = []\n",
    "while dp[i][j] != 0:\n",
    "    if dp[i][j] == dp[i][j-1]:\n",
    "        j -= 1\n",
    "    elif dp[i][j] == dp[i-1][j]:\n",
    "        i -= 1\n",
    "    elif dp[i][j]-dp[i-1][j-1] == 1:\n",
    "        answer.append(A[j-1])\n",
    "        i -= 1\n",
    "        j -= 1\n",
    "for i in range(len(answer)-1, -1, -1):\n",
    "    print(answer[i], end='')"
   ]
  },
  {
   "cell_type": "code",
   "execution_count": null,
   "metadata": {},
   "outputs": [],
   "source": [
    "n = int(input())\n"
   ]
  }
 ],
 "metadata": {
  "kernelspec": {
   "display_name": "Python 3",
   "language": "python",
   "name": "python3"
  },
  "language_info": {
   "codemirror_mode": {
    "name": "ipython",
    "version": 3
   },
   "file_extension": ".py",
   "mimetype": "text/x-python",
   "name": "python",
   "nbconvert_exporter": "python",
   "pygments_lexer": "ipython3",
   "version": "3.7.2"
  }
 },
 "nbformat": 4,
 "nbformat_minor": 2
}
