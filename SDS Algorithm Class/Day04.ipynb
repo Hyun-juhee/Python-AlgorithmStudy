{
 "cells": [
  {
   "cell_type": "code",
   "execution_count": null,
   "metadata": {},
   "outputs": [],
   "source": [
    "# 1735 분수 합"
   ]
  },
  {
   "cell_type": "code",
   "execution_count": 6,
   "metadata": {
    "scrolled": false
   },
   "outputs": [
    {
     "name": "stdout",
     "output_type": "stream",
     "text": [
      "2 7\n",
      "3 5\n",
      "31 35\n"
     ]
    }
   ],
   "source": [
    "import math\n",
    "a, b = map(int, input().split())\n",
    "c, d = map(int, input().split())\n",
    "x = a*d + c*b\n",
    "y = b*d\n",
    "gcd = math.gcd(x,y)\n",
    "x //= gcd\n",
    "y //= gcd\n",
    "print(x,y)"
   ]
  },
  {
   "cell_type": "code",
   "execution_count": 7,
   "metadata": {},
   "outputs": [],
   "source": [
    "# 에라토스테네스의 체"
   ]
  },
  {
   "cell_type": "code",
   "execution_count": 26,
   "metadata": {},
   "outputs": [
    {
     "name": "stdout",
     "output_type": "stream",
     "text": [
      "10 7\n",
      "9\n"
     ]
    }
   ],
   "source": [
    "n, k = map(int, input().split())\n",
    "\n",
    "def solution(n, k):\n",
    "    arr = [True for _ in range(n+1)]\n",
    "    cnt = 0\n",
    "    for i in range(2, n+1):\n",
    "        if arr[i]:\n",
    "            for j in range(i, n+1, i):\n",
    "                if arr[j]:\n",
    "                    arr[j] = False\n",
    "                    cnt += 1\n",
    "                    if cnt == k:\n",
    "                        print(j)\n",
    "solution(n,k)\n"
   ]
  },
  {
   "cell_type": "code",
   "execution_count": null,
   "metadata": {},
   "outputs": [],
   "source": []
  },
  {
   "cell_type": "code",
   "execution_count": 27,
   "metadata": {},
   "outputs": [],
   "source": [
    "# 4375 1\n",
    "# 그냥 다 돌려"
   ]
  },
  {
   "cell_type": "code",
   "execution_count": null,
   "metadata": {},
   "outputs": [
    {
     "name": "stdout",
     "output_type": "stream",
     "text": [
      "341\n",
      "30\n",
      "3\n",
      "3\n",
      "1\n",
      "1\n",
      "2\n"
     ]
    }
   ],
   "source": [
    "# 끝이 정해져 있지 않은 입력값! -> 기억해둘것!!\n",
    "import sys\n",
    "# imput = sys.stdin.readline\n",
    "try:\n",
    "    while True:\n",
    "        t, cnt = 1,1\n",
    "        n = int(input())\n",
    "        while t%n !=0:\n",
    "            t = t*10 + 1\n",
    "            cnt += 1\n",
    "        print(cnt)\n",
    "except:\n",
    "    pass"
   ]
  },
  {
   "cell_type": "code",
   "execution_count": null,
   "metadata": {},
   "outputs": [],
   "source": [
    "# ** 10610 30 (아이디어 개쩐다)"
   ]
  },
  {
   "cell_type": "code",
   "execution_count": 48,
   "metadata": {},
   "outputs": [
    {
     "name": "stdout",
     "output_type": "stream",
     "text": [
      "80875542\n",
      "88755420\n"
     ]
    }
   ],
   "source": [
    "s = input()\n",
    "\n",
    "def solution(s):\n",
    "    arr = sorted(s, reverse = True)\n",
    "    if '0' not in arr:\n",
    "        return -1\n",
    "    if sum(map(int, arr)) % 3 == 0:\n",
    "        return ''.join(arr)\n",
    "    return -1\n",
    "print(solution(s))"
   ]
  },
  {
   "cell_type": "code",
   "execution_count": 49,
   "metadata": {},
   "outputs": [],
   "source": [
    "# 11653 소인수분해"
   ]
  },
  {
   "cell_type": "code",
   "execution_count": null,
   "metadata": {},
   "outputs": [
    {
     "name": "stdout",
     "output_type": "stream",
     "text": [
      "3\n",
      "3\n"
     ]
    }
   ],
   "source": [
    "n = int(input())\n",
    "i = 2\n",
    "while n != 1:\n",
    "    if n%i == 0:\n",
    "        print(i)\n",
    "        n //= i\n",
    "    else:\n",
    "        i += 1"
   ]
  },
  {
   "cell_type": "code",
   "execution_count": null,
   "metadata": {},
   "outputs": [],
   "source": [
    "# 1837 암호제작\n",
    "# Good인 경우 즉, x > k 인경우 x를 구할 필요 없다!"
   ]
  },
  {
   "cell_type": "code",
   "execution_count": 19,
   "metadata": {},
   "outputs": [
    {
     "name": "stdout",
     "output_type": "stream",
     "text": [
      "77 10\n",
      "BAD 7\n"
     ]
    }
   ],
   "source": [
    "p, k = map(int, input().split())\n",
    "x = 0\n",
    "for i in range(2, k):\n",
    "    if p%i == 0:\n",
    "        x = i\n",
    "        break\n",
    "if x == 0:\n",
    "    print('GOOD')\n",
    "else:\n",
    "    print('BAD %d'%x)"
   ]
  },
  {
   "cell_type": "code",
   "execution_count": null,
   "metadata": {},
   "outputs": [],
   "source": [
    "# primes 구해서 하기\n",
    "p, k = map(int, input().split())\n",
    "arr = [True for _ in range(k)]\n",
    "primes = []\n",
    "for i in range(2, k):\n",
    "    if arr[i]:\n",
    "        primes.append(i)\n",
    "        for j in range(i, k, i):\n",
    "            if arr[j]:\n",
    "                arr[j] = False\n",
    "x = 0\n",
    "for i in primes:\n",
    "    if p%i == 0:\n",
    "        x = i\n",
    "        break\n",
    "if x == 0 :\n",
    "    print('GOOD')\n",
    "else:\n",
    "    print('BAD %d'%x)"
   ]
  },
  {
   "cell_type": "code",
   "execution_count": null,
   "metadata": {},
   "outputs": [],
   "source": [
    "# 2824 최대 공약수\n",
    "# sum(리스트) 처럼 리스트에 대한 전체 곱을 구하고 싶을 땐\n",
    "# '*'.join(리스트) 하고 eval() 처리 해준다."
   ]
  },
  {
   "cell_type": "code",
   "execution_count": 34,
   "metadata": {},
   "outputs": [
    {
     "name": "stdout",
     "output_type": "stream",
     "text": [
      "2\n",
      "2 3 5\n",
      "2\n",
      "4 5\n",
      "10\n"
     ]
    }
   ],
   "source": [
    "n = int(input())\n",
    "s1 = '*'.join(list(input().split()))\n",
    "m = int(input())\n",
    "s2 = '*'.join(list(input().split()))\n",
    "def gcd(a, b):\n",
    "    while b!=0:\n",
    "        r = a%b\n",
    "        a = b\n",
    "        b = r\n",
    "    return a    \n",
    "g = str(gcd(eval(s1), eval(s2)))\n",
    "if len(g) > 9:\n",
    "    print(g[-9:])\n",
    "else:\n",
    "    print(g)"
   ]
  },
  {
   "cell_type": "code",
   "execution_count": null,
   "metadata": {},
   "outputs": [],
   "source": [
    "# 14476 최대공약수 하나 빼기 (dp)"
   ]
  },
  {
   "cell_type": "code",
   "execution_count": 37,
   "metadata": {},
   "outputs": [
    {
     "name": "stdout",
     "output_type": "stream",
     "text": [
      "5\n",
      "8 12 24 36 48\n",
      "[8, 4, 4, 4, 4] [4, 12, 12, 12, 48]\n",
      "12 8\n"
     ]
    }
   ],
   "source": [
    "import math\n",
    "n = int(input())\n",
    "nums = list(map(int, input().split()))\n",
    "lgcd = [0]*n\n",
    "rgcd = [0]*n\n",
    "lgcd[0] = nums[0]\n",
    "for i in range(1,n):\n",
    "    lgcd[i] = math.gcd(lgcd[i-1], nums[i])\n",
    "rgcd[n-1] = nums[-1]\n",
    "for i in range(n-2, -1, -1):\n",
    "    rgcd[i] = math.gcd(rgcd[i+1], nums[i])\n",
    "ans = -1\n",
    "k = 0\n",
    "# rgcd의 [1]이랑 nums[0] 비교\n",
    "if nums[0] % rgcd[1] != 0:\n",
    "    ans = rgcd[1]\n",
    "    k = nums[0]\n",
    "# lgcd의 [n-2]랑 nums[n-1] 비교\n",
    "if nums[n-1] % lgcd[n-2] != 0:\n",
    "    ans = lgcd[n-2]\n",
    "    k = nums[n-1]\n",
    "# 중간 비교\n",
    "for i in range(1, n-1):\n",
    "    g = math.gcd(lgcd[i-1], rgcd[i+1])\n",
    "    if nums[i] % g != 0:\n",
    "        k = nums[i]\n",
    "        ans = g\n",
    "if ans == -1:\n",
    "    print(-1)\n",
    "else:\n",
    "    print(ans, k)"
   ]
  },
  {
   "cell_type": "code",
   "execution_count": null,
   "metadata": {},
   "outputs": [],
   "source": [
    "# **** 3955 캔디 분배 "
   ]
  },
  {
   "cell_type": "code",
   "execution_count": 10,
   "metadata": {
    "scrolled": false
   },
   "outputs": [
    {
     "name": "stdout",
     "output_type": "stream",
     "text": [
      "3\n",
      "1 1\n",
      "1\n",
      "3 3\n",
      "IMPOSSIBLE\n",
      "2 2\n",
      "IMPOSSIBLE\n"
     ]
    }
   ],
   "source": [
    "# 확장 유클리드 호제법 구현\n",
    "def ee(a, b, K):\n",
    "    s0 = 1\n",
    "    s1 = 0\n",
    "    t0 = 0\n",
    "    t1 = 1\n",
    "    while b!= 0: \n",
    "        q = a//b\n",
    "        r = a%b;\n",
    "        a = b\n",
    "        b = r\n",
    "        s = s0 - q*s1\n",
    "        t = t0 - q*t1\n",
    "        s0 = s1\n",
    "        s1 = s\n",
    "        t0 = t1\n",
    "        t1 = t\n",
    "    # (t0 % K + K) % K : t0가 음수 임을 방지\n",
    "    # if t0 < 0: t0 += K 와 같은 값이다.\n",
    "    # 유클리드 호제법에서 b==0 일 때 a는 gcd\n",
    "    t0 = (t0 % K + K) % K\n",
    "    if a != 1 or t0 > 10**9:\n",
    "        return 'IMPOSSIBLE'\n",
    "    return t0\n",
    "\n",
    "t = int(input())\n",
    "for i in range(t):\n",
    "    K, C = map(int, input().split())\n",
    "    # K, C가 1일 때 예외 처리\n",
    "    if C == 1:\n",
    "        if K+1 > 10**9:\n",
    "            print('IMPOSSIBLE')\n",
    "        else:\n",
    "            print(K+1)\n",
    "        continue\n",
    "    if K == 1:\n",
    "        print(1)\n",
    "        continue\n",
    "    answer = ee(K, C, K)\n",
    "    print(answer)"
   ]
  },
  {
   "cell_type": "code",
   "execution_count": null,
   "metadata": {},
   "outputs": [],
   "source": [
    "# 6588 콜드바흐의 추측"
   ]
  },
  {
   "cell_type": "code",
   "execution_count": 8,
   "metadata": {},
   "outputs": [
    {
     "name": "stdout",
     "output_type": "stream",
     "text": [
      "60\n",
      "[3, 4, 5, 6, 7, 8, 9, 10, 11, 12, 13, 14, 15, 16, 17, 18, 19, 20, 21, 22, 23, 24, 25, 26, 27, 28, 29, 30, 31, 32, 33, 34, 35, 36, 37, 38, 39, 40, 41, 42, 43, 44, 45, 46, 47, 48, 49, 50, 51, 52, 53, 54, 55, 56, 57, 58, 59]\n",
      "60 = 3 + 57\n"
     ]
    }
   ],
   "source": [
    "# 에라토스테네스의 체 를 이용해서 소스를 찾아서 primes 배열을 구해놓고\n",
    "# 그 배열을 이용해서 반복하면서 값 찾기\n",
    "# 끝이 정해져 있지 않은 입력값! -> 기억해둘것!!\n",
    "# 매번 n을 받아서 n의 크기 만큼 소수를 구하면 시간초과!\n",
    "# n의 최대인 1000000에 대한 primes를 먼저 구해두자!\n",
    "import sys\n",
    "input = sys.stdin.readline\n",
    "MAX = 1000000\n",
    "check = [True]*MAX\n",
    "primes = []\n",
    "for i in range(3, MAX//2 + 1):\n",
    "    if check[i]:\n",
    "        primes.append(i)\n",
    "        for j in range(i+i, MAX, i):\n",
    "            if check[j]:\n",
    "                check[j] = False\n",
    "while(True): \n",
    "    N = int(input()) \n",
    "    if N == 0: break \n",
    "    for i in range(N // 2): \n",
    "        if check[N-primes[i]] == True: \n",
    "            print(\"%d = %d + %d\" % (N, primes[i], N-primes[i]))\n",
    "            break"
   ]
  },
  {
   "cell_type": "code",
   "execution_count": 22,
   "metadata": {},
   "outputs": [],
   "source": [
    "del input"
   ]
  },
  {
   "cell_type": "code",
   "execution_count": null,
   "metadata": {},
   "outputs": [],
   "source": [
    "# 6588 보이는 점의 개수 "
   ]
  },
  {
   "cell_type": "code",
   "execution_count": null,
   "metadata": {},
   "outputs": [],
   "source": [
    "# 순서대로 방문하면서 가려지는 부분 체크"
   ]
  },
  {
   "cell_type": "code",
   "execution_count": null,
   "metadata": {},
   "outputs": [],
   "source": [
    "# 2904 수학은 너무 쉬워"
   ]
  }
 ],
 "metadata": {
  "kernelspec": {
   "display_name": "Python 3",
   "language": "python",
   "name": "python3"
  },
  "language_info": {
   "codemirror_mode": {
    "name": "ipython",
    "version": 3
   },
   "file_extension": ".py",
   "mimetype": "text/x-python",
   "name": "python",
   "nbconvert_exporter": "python",
   "pygments_lexer": "ipython3",
   "version": "3.7.2"
  }
 },
 "nbformat": 4,
 "nbformat_minor": 2
}
