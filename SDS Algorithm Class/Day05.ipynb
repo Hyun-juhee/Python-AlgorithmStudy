{
 "cells": [
  {
   "cell_type": "code",
   "execution_count": null,
   "metadata": {},
   "outputs": [],
   "source": [
    "# *** 1256 사전 \n",
    "# n : a 개수\n",
    "# m : z개수\n",
    "# k : 몇 번째"
   ]
  },
  {
   "cell_type": "code",
   "execution_count": 24,
   "metadata": {},
   "outputs": [
    {
     "name": "stdout",
     "output_type": "stream",
     "text": [
      "2 3 11\n",
      "-1\n"
     ]
    }
   ],
   "source": [
    "def calcCombi(l):\n",
    "    for n in range(l+1):\n",
    "        combi[n][0] = combi[n][n] = 1\n",
    "        for k in range(1, n):\n",
    "            combi[n][k] = combi[n-1][k-1] + combi[n-1][k]\n",
    "        combi[n][n] = 1\n",
    "n, m, k = map(int, input().split())\n",
    "l = n+m\n",
    "combi = [[0]*(l+1) for _ in range(l+1)]\n",
    "calcCombi(l)\n",
    "answer = ''\n",
    "aCnt = 0\n",
    "zCnt = 0\n",
    "if k > combi[l][m]:\n",
    "    print(-1)\n",
    "else:\n",
    "    for i in range(l):\n",
    "        a = combi[l-i-1][n-aCnt-1]\n",
    "        z = combi[l-i-1][n-zCnt-1]\n",
    "        if a < k:\n",
    "            zCnt += 1\n",
    "            answer += 'z'\n",
    "            k -= a\n",
    "        else:\n",
    "            aCnt += 1\n",
    "            answer += 'a'\n",
    "    print(answer)\n"
   ]
  },
  {
   "cell_type": "code",
   "execution_count": 25,
   "metadata": {},
   "outputs": [],
   "source": [
    "# 11050 이항계수 1"
   ]
  },
  {
   "cell_type": "code",
   "execution_count": 33,
   "metadata": {},
   "outputs": [
    {
     "name": "stdout",
     "output_type": "stream",
     "text": [
      "5 2\n",
      "10\n"
     ]
    }
   ],
   "source": [
    "n, k = map(int, input().split())\n",
    "ns = 1\n",
    "ks = 1\n",
    "for i in range(k):\n",
    "    ns *= (n-i)\n",
    "    ks *= (k-i)\n",
    "print((ns//ks))"
   ]
  },
  {
   "cell_type": "code",
   "execution_count": null,
   "metadata": {},
   "outputs": [],
   "source": [
    "# 11051 이항계수 2"
   ]
  },
  {
   "cell_type": "code",
   "execution_count": null,
   "metadata": {},
   "outputs": [],
   "source": [
    "n, k = map(int, input().split())\n",
    "ns = 1\n",
    "ks = 1\n",
    "for i in range(k):\n",
    "    ns *= (n-i)\n",
    "    ks *= (k-i)\n",
    "print((ns//ks)%10007)"
   ]
  },
  {
   "cell_type": "code",
   "execution_count": null,
   "metadata": {},
   "outputs": [],
   "source": [
    "# *** 15663 N과 M(9)"
   ]
  },
  {
   "cell_type": "code",
   "execution_count": 154,
   "metadata": {},
   "outputs": [
    {
     "name": "stdout",
     "output_type": "stream",
     "text": [
      "4 2\n",
      "1 2 3 4\n",
      "[1, 2]\n",
      "[1, 3]\n",
      "[1, 4]\n",
      "[2, 1]\n",
      "[2, 3]\n",
      "[2, 4]\n",
      "[3, 2]\n",
      "[3, 1]\n",
      "[3, 4]\n",
      "[4, 2]\n",
      "[4, 3]\n",
      "[4, 1]\n"
     ]
    }
   ],
   "source": [
    "# 순열 구하는 함수 \n",
    "def permutation(arr, loc):\n",
    "    if loc == len(arr):\n",
    "        print(arr)\n",
    "        return\n",
    "    for i in range(loc, n):\n",
    "        arr[loc], arr[i] = arr[i], arr[loc]\n",
    "        permutation(arr, loc+1, k)\n",
    "        arr[i], arr[loc] = arr[loc], arr[i]"
   ]
  },
  {
   "cell_type": "code",
   "execution_count": 16,
   "metadata": {},
   "outputs": [
    {
     "name": "stdout",
     "output_type": "stream",
     "text": [
      "4 2\n",
      "7 9 9 1\n",
      "1 7 \n",
      "1 9 \n",
      "7 1 \n",
      "7 9 \n",
      "9 1 \n",
      "9 7 \n",
      "9 9 \n"
     ]
    }
   ],
   "source": [
    "N, M = map(int, input().split())\n",
    "L = list(map(int, input().split()))\n",
    "perms = []\n",
    "def backtracking(loc, arr, m):\n",
    "    if loc == m:\n",
    "        perms.append(tuple(arr[:m]))\n",
    "        return\n",
    "    for i in range(loc, N):\n",
    "        arr[loc], arr[i] = arr[i], arr[loc]\n",
    "        backtracking(loc+1, arr, m)\n",
    "        arr[i], arr[loc] = arr[loc], arr[i]\n",
    "backtracking(0, L, M)\n",
    "perms = list(set(perms))\n",
    "perms.sort()\n",
    "for i in perms:\n",
    "    for j in i:\n",
    "        print(j, end=' ')\n",
    "    print()"
   ]
  },
  {
   "cell_type": "code",
   "execution_count": 6,
   "metadata": {},
   "outputs": [
    {
     "name": "stdout",
     "output_type": "stream",
     "text": [
      "2 3 \n",
      "2 4 \n",
      "3 2 \n",
      "3 4 \n",
      "4 2 \n",
      "4 3 \n",
      "4 4 \n"
     ]
    }
   ],
   "source": [
    "from itertools import permutations\n",
    "N, M = map(int, input().split())\n",
    "L = list(map(int, input().split()))\n",
    "L.sort()\n",
    "perms = list(permutations(L, M))\n",
    "perms = list(set(perms))\n",
    "perms.sort()\n",
    "for i in perms:\n",
    "    for j in i:\n",
    "        print(j, end=' ')\n",
    "    print()"
   ]
  },
  {
   "cell_type": "code",
   "execution_count": null,
   "metadata": {},
   "outputs": [],
   "source": [
    "# 15664 N과 M (10)"
   ]
  },
  {
   "cell_type": "code",
   "execution_count": 32,
   "metadata": {},
   "outputs": [
    {
     "name": "stdout",
     "output_type": "stream",
     "text": [
      "[(1, 7), (1, 9), (7, 9), (9, 9)]\n",
      "1 7 \n",
      "1 9 \n",
      "7 9 \n",
      "9 9 \n"
     ]
    }
   ],
   "source": [
    "N, M = map(int, input().split())\n",
    "L = list(map(int, input().split()))\n",
    "perms = []\n",
    "def backtracking(loc, arr, m):\n",
    "    if loc == m:\n",
    "        perms.append(tuple(arr[:m]))\n",
    "        return\n",
    "    for i in range(loc, N):\n",
    "        arr[loc], arr[i] = arr[i], arr[loc]\n",
    "        backtracking(loc+1, arr, m)\n",
    "        arr[i], arr[loc] = arr[loc], arr[i]\n",
    "backtracking(0, L, M)\n",
    "perms = list(set(perms))\n",
    "perms.sort()\n",
    "lastPerms = []\n",
    "for i in perms:\n",
    "    before = 0\n",
    "    for j in i:\n",
    "        if before > j:\n",
    "            break\n",
    "        before = j\n",
    "    else:\n",
    "        lastPerms.append(i)\n",
    "for i in lastPerms:\n",
    "    for j in i:\n",
    "        print(j, end=' ')\n",
    "    print()"
   ]
  },
  {
   "cell_type": "code",
   "execution_count": 33,
   "metadata": {},
   "outputs": [],
   "source": [
    "# ** 1학년"
   ]
  },
  {
   "cell_type": "code",
   "execution_count": 4,
   "metadata": {},
   "outputs": [
    {
     "name": "stdout",
     "output_type": "stream",
     "text": [
      "11\n",
      "8 3 2 4 8 7 2 4 0 8 8\n",
      "10\n"
     ]
    }
   ],
   "source": [
    "# dp로 풀자! \n",
    "n = int(input())\n",
    "arr = list(map(int, input().split()))\n",
    "\n",
    "cnt = [[0]*21 for _ in range(n)]\n",
    "cnt[0][arr[0]] = 1\n",
    "for i in range(1, n-1):\n",
    "    for j in range(21):\n",
    "        if j - arr[i] >= 0:\n",
    "            cnt[i][j-arr[i]] += cnt[i-1][j]\n",
    "        if j + arr[i] <= 20:\n",
    "            cnt[i][j+arr[i]] += cnt[i-1][j]\n",
    "print(cnt[n-2][arr[n-1]])\n"
   ]
  },
  {
   "cell_type": "code",
   "execution_count": 47,
   "metadata": {},
   "outputs": [
    {
     "name": "stdout",
     "output_type": "stream",
     "text": [
      "10\n"
     ]
    }
   ],
   "source": [
    "# 그래프로 풀었을 때 = 메모리 초과! \n",
    "from collections import deque\n",
    "n = int(input())\n",
    "arr = list(map(int, input().split()))\n",
    "queue = deque()\n",
    "queue.append([0, arr[0]])\n",
    "cnt = 0\n",
    "while queue:\n",
    "    idx, ans = queue.popleft()\n",
    "    if idx == n-2:\n",
    "        if ans == arr[n-1]:\n",
    "            cnt += 1\n",
    "        continue\n",
    "    a = ans + arr[idx+1]\n",
    "    if a <= 20:\n",
    "        queue.append([idx+1, a])\n",
    "    b = ans - arr[idx+1]\n",
    "    if b >= 0:\n",
    "        queue.append([idx+1, b])\n",
    "print(cnt)"
   ]
  },
  {
   "cell_type": "code",
   "execution_count": 5,
   "metadata": {},
   "outputs": [],
   "source": [
    "# ** 5569 출근 경로"
   ]
  },
  {
   "cell_type": "code",
   "execution_count": 12,
   "metadata": {},
   "outputs": [],
   "source": [
    "# **** 산책"
   ]
  }
 ],
 "metadata": {
  "kernelspec": {
   "display_name": "Python 3",
   "language": "python",
   "name": "python3"
  },
  "language_info": {
   "codemirror_mode": {
    "name": "ipython",
    "version": 3
   },
   "file_extension": ".py",
   "mimetype": "text/x-python",
   "name": "python",
   "nbconvert_exporter": "python",
   "pygments_lexer": "ipython3",
   "version": "3.7.2"
  }
 },
 "nbformat": 4,
 "nbformat_minor": 2
}
