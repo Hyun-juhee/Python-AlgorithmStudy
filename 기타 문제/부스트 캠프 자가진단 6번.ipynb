{
 "cells": [
  {
   "cell_type": "markdown",
   "metadata": {},
   "source": [
    "## 부스트 캠프 자가진단 6번"
   ]
  },
  {
   "cell_type": "code",
   "execution_count": 18,
   "metadata": {},
   "outputs": [
    {
     "name": "stdout",
     "output_type": "stream",
     "text": [
      "[3, 2, 3]\n"
     ]
    }
   ],
   "source": [
    "arr1 = [3,2,4,4,2,5,2,5,5]\n",
    "\n",
    "def solution(arr):\n",
    "    result = []\n",
    "    for i in arr:\n",
    "        if arr.count(i)>1:\n",
    "            result.append(arr.count(i))\n",
    "            for j in range(0, arr.count(i)):\n",
    "                arr.remove(i)\n",
    "    if len(result) == 0:\n",
    "        result.append(-1)\n",
    "    return result\n",
    "\n",
    "print(solution(arr1))"
   ]
  },
  {
   "cell_type": "code",
   "execution_count": null,
   "metadata": {},
   "outputs": [],
   "source": []
  }
 ],
 "metadata": {
  "kernelspec": {
   "display_name": "Python 3",
   "language": "python",
   "name": "python3"
  },
  "language_info": {
   "codemirror_mode": {
    "name": "ipython",
    "version": 3
   },
   "file_extension": ".py",
   "mimetype": "text/x-python",
   "name": "python",
   "nbconvert_exporter": "python",
   "pygments_lexer": "ipython3",
   "version": "3.7.2"
  }
 },
 "nbformat": 4,
 "nbformat_minor": 2
}
