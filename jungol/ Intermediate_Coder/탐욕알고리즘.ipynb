{
 "cells": [
  {
   "cell_type": "code",
   "execution_count": null,
   "metadata": {},
   "outputs": [],
   "source": [
    "# 3521 : Tutorial : 그리디(Greedy - 탐욕, 욕심쟁이) 알고리즘 (20분)"
   ]
  },
  {
   "cell_type": "code",
   "execution_count": 62,
   "metadata": {},
   "outputs": [
    {
     "name": "stdout",
     "output_type": "stream",
     "text": [
      "10 10 10 0 10 89\n",
      "8\n"
     ]
    }
   ],
   "source": [
    "arr = list(map(int, input().split()))\n",
    "x = arr.pop()\n",
    "arr.reverse()\n",
    "gram = [16,8,4,2,1]\n",
    "cnt = 0\n",
    "for idx, i in enumerate(gram):\n",
    "    if x//i <= arr[idx]:\n",
    "        cnt += x//i\n",
    "        x %= i\n",
    "    else:\n",
    "        cnt += arr[idx]\n",
    "        x -= i*arr[idx]\n",
    "if x != 0:\n",
    "    print('impossible')\n",
    "else:\n",
    "    print(cnt)"
   ]
  },
  {
   "cell_type": "code",
   "execution_count": null,
   "metadata": {},
   "outputs": [],
   "source": []
  },
  {
   "cell_type": "code",
   "execution_count": null,
   "metadata": {},
   "outputs": [],
   "source": []
  }
 ],
 "metadata": {
  "kernelspec": {
   "display_name": "Python 3",
   "language": "python",
   "name": "python3"
  },
  "language_info": {
   "codemirror_mode": {
    "name": "ipython",
    "version": 3
   },
   "file_extension": ".py",
   "mimetype": "text/x-python",
   "name": "python",
   "nbconvert_exporter": "python",
   "pygments_lexer": "ipython3",
   "version": "3.7.2"
  }
 },
 "nbformat": 4,
 "nbformat_minor": 2
}
