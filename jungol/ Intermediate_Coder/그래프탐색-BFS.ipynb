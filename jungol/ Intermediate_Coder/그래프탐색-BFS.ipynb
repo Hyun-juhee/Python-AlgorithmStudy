{
 "cells": [
  {
   "cell_type": "code",
   "execution_count": null,
   "metadata": {},
   "outputs": [],
   "source": [
    "# 4189 : 장기 2"
   ]
  },
  {
   "cell_type": "code",
   "execution_count": 22,
   "metadata": {},
   "outputs": [
    {
     "name": "stdout",
     "output_type": "stream",
     "text": [
      "9 9 \n",
      "3 5 2 8\n",
      "2\n"
     ]
    }
   ],
   "source": [
    "from collections import deque\n",
    "go = [(1,2), (2,1), (2,-1), (1,-2), (-1,-2), (-2,-1), (-2,1), (-1,2)]\n",
    "n, m = map(int, input().split())\n",
    "r,c,s,k = map(int, input().split())\n",
    "\n",
    "queue = deque()\n",
    "queue.append([r,c,0])\n",
    "\n",
    "visited = [[False]*m for _ in range(n)]\n",
    "while queue:\n",
    "    x,y,cnt = queue.popleft()\n",
    "    visited[x-1][y-1] = True\n",
    "    if x==s and y==k:\n",
    "        print(cnt)\n",
    "        break\n",
    "    cnt += 1\n",
    "    for moveX, moveY in go:\n",
    "        if 1<=x+moveX<=n and 1<=y+moveY<=m and visited[x+moveX-1][y+moveY-1]== False:\n",
    "            queue.append([x+moveX, y+moveY, cnt])\n"
   ]
  }
 ],
 "metadata": {
  "kernelspec": {
   "display_name": "Python 3",
   "language": "python",
   "name": "python3"
  },
  "language_info": {
   "codemirror_mode": {
    "name": "ipython",
    "version": 3
   },
   "file_extension": ".py",
   "mimetype": "text/x-python",
   "name": "python",
   "nbconvert_exporter": "python",
   "pygments_lexer": "ipython3",
   "version": "3.7.2"
  }
 },
 "nbformat": 4,
 "nbformat_minor": 2
}
