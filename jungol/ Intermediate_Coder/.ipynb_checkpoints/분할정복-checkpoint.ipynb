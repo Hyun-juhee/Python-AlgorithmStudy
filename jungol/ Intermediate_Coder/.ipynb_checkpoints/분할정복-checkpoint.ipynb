{
 "cells": [
  {
   "cell_type": "code",
   "execution_count": null,
   "metadata": {},
   "outputs": [],
   "source": [
    "# 3517 : Tutorial : 이진탐색(Binary Search-이진검색)"
   ]
  },
  {
   "cell_type": "code",
   "execution_count": 71,
   "metadata": {},
   "outputs": [
    {
     "name": "stdout",
     "output_type": "stream",
     "text": [
      "5\n",
      "1 2 3 4 5\n",
      "3\n",
      "-5 5 2\n",
      "['-1', '4', '1']\n",
      "-1 4 1\n"
     ]
    }
   ],
   "source": [
    "n = int(input())\n",
    "a = list(map(int, input().split()))\n",
    "q = int(input())\n",
    "b = list(map(int, input().split()))\n",
    "\n",
    "def binarySearch(low, high, arr, x):\n",
    "    global answer\n",
    "    if low > high:\n",
    "        return -1\n",
    "    mid = (high+low)//2\n",
    "    if arr[mid] == x:\n",
    "        return mid\n",
    "    if arr[mid] > x:\n",
    "        high = mid-1\n",
    "    else:\n",
    "        low = mid + 1\n",
    "    return binarySearch(low, high, arr, x)\n",
    "result = []\n",
    "for i in b:\n",
    "    result.append(str(binarySearch(0,n-1,a,i)))\n",
    "print(' '.join(result))"
   ]
  },
  {
   "cell_type": "code",
   "execution_count": 84,
   "metadata": {},
   "outputs": [
    {
     "name": "stdout",
     "output_type": "stream",
     "text": [
      "0 4 0\n",
      "0 1 0\n",
      "0 4 5\n",
      "3 4 5\n",
      "4 4 5\n",
      "0 4 2\n",
      "0 1 2\n",
      "1 1 2\n",
      "-1 4 1\n"
     ]
    }
   ],
   "source": [
    "n = int(input())\n",
    "a = list(map(int, input().split()))\n",
    "q = int(input())\n",
    "b = list(map(int, input().split()))\n",
    "def binarySearch(a, low, high, x):\n",
    "    while(low<= high):\n",
    "        mid = (high+low)//2\n",
    "        if a[mid] == i:\n",
    "            return mid\n",
    "        if a[mid] > i:\n",
    "            high = mid-1\n",
    "        else:\n",
    "            low = mid + 1\n",
    "    return -1\n",
    "\n",
    "result = []\n",
    "for i in b:\n",
    "    low = 0\n",
    "    high = n-1\n",
    "    print(binarySearch(a, low, high, i), end = ' ')"
   ]
  },
  {
   "cell_type": "code",
   "execution_count": null,
   "metadata": {},
   "outputs": [],
   "source": [
    "# 1240 : 제곱근 (10분)"
   ]
  },
  {
   "cell_type": "code",
   "execution_count": 98,
   "metadata": {},
   "outputs": [
    {
     "name": "stdout",
     "output_type": "stream",
     "text": [
      "4\n",
      "2\n"
     ]
    }
   ],
   "source": [
    "n = int(input())\n",
    "answer= 0\n",
    "low = 1\n",
    "high = n\n",
    "while(low<=high):\n",
    "    mid = (low+high)//2\n",
    "    if mid**2 > n:\n",
    "        high = mid-1\n",
    "    else:\n",
    "        answer = mid\n",
    "        low = mid + 1\n",
    "print(answer)"
   ]
  }
 ],
 "metadata": {
  "kernelspec": {
   "display_name": "Python 3",
   "language": "python",
   "name": "python3"
  },
  "language_info": {
   "codemirror_mode": {
    "name": "ipython",
    "version": 3
   },
   "file_extension": ".py",
   "mimetype": "text/x-python",
   "name": "python",
   "nbconvert_exporter": "python",
   "pygments_lexer": "ipython3",
   "version": "3.7.2"
  }
 },
 "nbformat": 4,
 "nbformat_minor": 2
}
