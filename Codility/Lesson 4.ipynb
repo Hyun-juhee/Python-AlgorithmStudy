{
 "cells": [
  {
   "cell_type": "markdown",
   "metadata": {},
   "source": [
    "# Lesson4. FrogRiverOne (18분)\n",
    "- 문제 이해하는데 좀 오래 걸림\n",
    "- N >= 100,000 이면 O(N^2) 절대 안돼!\n",
    "- in, not in, sum, .index, .find, .count, ... 다 각각 O(N)"
   ]
  },
  {
   "cell_type": "code",
   "execution_count": null,
   "metadata": {},
   "outputs": [],
   "source": [
    "def solution(X, A):\n",
    "    bridge = [0]*(X+1)\n",
    "    bridge[0] = 1\n",
    "    cnt = 1\n",
    "    for i in range(len(A)):\n",
    "        if bridge[A[i]] == 0:\n",
    "            bridge[A[i]] = 1\n",
    "            cnt += 1\n",
    "        if cnt == X+1:\n",
    "            return i\n",
    "    return -1\n",
    "solution(5,[1,3,1,4,2,3,5,4])"
   ]
  },
  {
   "cell_type": "markdown",
   "metadata": {},
   "source": [
    "# ⭐ Lesson4. MaxCounters [Respectable] (1시간)\n",
    "\n",
    "- 확실히 Respectable가 어렵다..\n",
    "- 그냥 구현은 쉬운데 시간초과 해결이 관건임.. \n",
    "- * 아이디어\n",
    "- i == N+1 일 때의 max값을 checkPoint에 기록\n",
    "- i <= N 일 때 기록한 checkPoint보다 answer[i-1] 값이 작으면 answer[i-1] = checkPoint + 1\n",
    "- 마지막에 checkPoint보다 작은 값은 checkPoint으로 변경-\n",
    "- N이 클때 \n",
    "    \n",
    "    (1) `answer = [term]*N`\n",
    "    \n",
    "    (2)\n",
    " `if answer[i-1] < checkPoint:\n",
    "     answer[i-1] = checkPoint+1\n",
    " else:\n",
    "     answer[i-1] += 1`\n",
    "- (1) 보다 (2) 가 빠르다.. 신기해"
   ]
  },
  {
   "cell_type": "code",
   "execution_count": null,
   "metadata": {},
   "outputs": [],
   "source": [
    "# 60%\n",
    "def solution(N, A):\n",
    "    answer = [0]*N\n",
    "    for idx, i in enumerate(A):\n",
    "        if i <= N:\n",
    "            answer[i-1] += 1\n",
    "        else:\n",
    "            answer = [max(answer)]*N"
   ]
  },
  {
   "cell_type": "code",
   "execution_count": null,
   "metadata": {},
   "outputs": [],
   "source": [
    "# 88%\n",
    "def solution(N, A):\n",
    "    answer = [0]*N\n",
    "    term = 0\n",
    "    for idx, i in enumerate(A):\n",
    "        if i <= N:\n",
    "            answer[i-1] += 1\n",
    "            term = max(answer[i-1], term)\n",
    "        else:\n",
    "            answer = [term]*N # 매번 answer에 배열을 넣어주는 게 시간이 좀 걸리는 듯..\n",
    "    return answer"
   ]
  },
  {
   "cell_type": "code",
   "execution_count": null,
   "metadata": {},
   "outputs": [],
   "source": [
    "# 100%\n",
    "def solution(N, A):\n",
    "    answer = [0]*N\n",
    "    term = 0\n",
    "    checkPoint = 0\n",
    "    for idx, i in enumerate(A):\n",
    "        if i <= N:\n",
    "            if answer[i-1] < checkPoint:\n",
    "                answer[i-1] = checkPoint+1\n",
    "            else:\n",
    "                answer[i-1] += 1\n",
    "            term = max(answer[i-1], term)\n",
    "        else:\n",
    "            checkPoint = term\n",
    "    for i in range(N):\n",
    "        if answer[i] < checkPoint:\n",
    "            answer[i] = checkPoint\n",
    "    return answer"
   ]
  }
 ],
 "metadata": {
  "kernelspec": {
   "display_name": "Python 3",
   "language": "python",
   "name": "python3"
  },
  "language_info": {
   "codemirror_mode": {
    "name": "ipython",
    "version": 3
   },
   "file_extension": ".py",
   "mimetype": "text/x-python",
   "name": "python",
   "nbconvert_exporter": "python",
   "pygments_lexer": "ipython3",
   "version": "3.7.2"
  }
 },
 "nbformat": 4,
 "nbformat_minor": 2
}
