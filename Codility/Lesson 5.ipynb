{
 "cells": [
  {
   "cell_type": "markdown",
   "metadata": {},
   "source": [
    "# Lesson5. CountDiv (5분)"
   ]
  },
  {
   "cell_type": "code",
   "execution_count": null,
   "metadata": {},
   "outputs": [],
   "source": [
    "def solution(A, B, K):\n",
    "    return B//K - (A-1)//K\n",
    "solution(6,11,2)"
   ]
  },
  {
   "cell_type": "markdown",
   "metadata": {},
   "source": [
    "# ⭐ Lesson5. GenomicRangeQuery - [Respectable]\n",
    "- 야심차게 인덱스 트리까지 가지고 왔지만 실패!\n",
    "- 이건 그냥 아예 O(N)이 돼야하기 때문에 인덱스 트리로 보다 효율 적인 방법이 필요하다\n",
    "- (이건 비교하는 값이 AGCT로 1,2,3,4로 제한 되어 있기 때문에 prefix가 가능)\n",
    "- 그리 어려운 알고리즘은 아니지만 접근 방식이 좀 특이했다.\n",
    "- Lesson5의 제목인 pre fix 자체를 사용 해야했다.\n",
    "- prefix는 미리 값을 지정 해놓고 구하는 누적합 과 같은 알고리즘이다.\n",
    "- 누적 합은 해봤지만 min에 대해서 적용하는 건 처음!\n",
    "- 기억해두자!\n",
    "\n",
    "### 누적합 풀이 방법\n",
    "- for문을 두 번 사용한다.\n",
    "- 위 for문에서 답을 구하기 위해 필요한 것들을 준비한다.\n",
    "- 구하는 문제가 합이라면 인덱스 별로 누적합을 구해 놓고\n",
    "- 최대, 최소라면 각각 인덱스마다 어떤 값들이 추가됐는지 구해 놓는다.\n",
    "- 아래 for문에서 O(N)만에 답을 구할 수 있다.\n",
    "\n",
    "### 이 문제 해결 방법\n",
    "- A,C,G,T를 key값으로 갖고 N크기의 배열을 value값으로 갖는 dictionary를 준비한다.\n",
    "- S의 각 index를 돌면서 해당 인덱스에 A가 나왔다면 dictinary[A][idx] += 1을 한다.\n",
    "- 최소값을 구하기 위한 구간 P[i], Q[i] 에서 A,C,G,T의 dictionary값이 변했는지 확인한다. \n",
    "- prefix[A][0]과 prefix[A][1]이 다르다면 0번은 A인 것!!"
   ]
  },
  {
   "cell_type": "code",
   "execution_count": null,
   "metadata": {},
   "outputs": [],
   "source": [
    "def solution(S, P, Q):\n",
    "    N = len(S)\n",
    "    prefix = {\n",
    "    'A': [0]*(N+1),\n",
    "    'C': [0]*(N+1),\n",
    "    'G': [0]*(N+1),\n",
    "    'T': [0]*(N+1)\n",
    "    }\n",
    "    for idx, item in enumerate(S):\n",
    "        prefix[item][idx+1] = prefix[item][idx]+1\n",
    "        for i in ['A','C','G','T']:\n",
    "            if i != item:\n",
    "                prefix[i][idx+1] = prefix[i][idx]\n",
    "    result = []\n",
    "    for i in range(len(P)):\n",
    "        answer = 4\n",
    "        if prefix['A'][P[i]] != prefix['A'][Q[i]+1]:\n",
    "            answer = 1\n",
    "        if prefix['C'][P[i]] != prefix['C'][Q[i]+1]:\n",
    "            answer = min(answer, 2)\n",
    "        if prefix['G'][P[i]] != prefix['G'][Q[i]+1]:\n",
    "            answer = min(answer, 3)\n",
    "        if prefix['T'][P[i]] != prefix['T'][Q[i]+1]:\n",
    "            answer = min(answer, 4)\n",
    "        result.append(answer)\n",
    "    return result\n",
    "solution('CAGCCTA', [2,5,0], [4,5,0])"
   ]
  },
  {
   "cell_type": "code",
   "execution_count": null,
   "metadata": {},
   "outputs": [],
   "source": [
    "def solution(S, P, Q):\n",
    "    def init(idx, start, end):\n",
    "        if start == end:\n",
    "            tree[idx] = arr[start]\n",
    "            return tree[idx]\n",
    "        tree[idx] = min(init(idx*2, start, (start+end)//2), init(idx*2+1, (start+end)//2+1, end))\n",
    "        return tree[idx]\n",
    "\n",
    "    def findMin(idx, start, end, left, right):\n",
    "        # start, end : 해당 구간\n",
    "        # left, right : 구해야 하는 구간\n",
    "        if left > end or right < start:\n",
    "            return 4\n",
    "        if start >= left and end <= right:\n",
    "            return tree[idx]\n",
    "        return min(findMin(idx*2, start, (start+end)//2, left, right),findMin(idx*2+1, (start+end)//2+1, end, left, right))\n",
    "\n",
    "    nums = {\n",
    "    'A': 1,\n",
    "    'C': 2,\n",
    "    'G': 3,\n",
    "    'T': 4\n",
    "    }\n",
    "    N = len(S)\n",
    "    arr = []\n",
    "    tree = [0]*(N*4)\n",
    "    for i in S:\n",
    "        arr.append(nums[i])\n",
    "    init(1,0,N-1)\n",
    "    answer = []\n",
    "    for i in range(len(P)):\n",
    "        answer.append(findMin(1, 0, N-1,P[i],Q[i]))\n",
    "    return answer"
   ]
  }
 ],
 "metadata": {
  "kernelspec": {
   "display_name": "Python 3",
   "language": "python",
   "name": "python3"
  },
  "language_info": {
   "codemirror_mode": {
    "name": "ipython",
    "version": 3
   },
   "file_extension": ".py",
   "mimetype": "text/x-python",
   "name": "python",
   "nbconvert_exporter": "python",
   "pygments_lexer": "ipython3",
   "version": "3.7.2"
  }
 },
 "nbformat": 4,
 "nbformat_minor": 2
}
