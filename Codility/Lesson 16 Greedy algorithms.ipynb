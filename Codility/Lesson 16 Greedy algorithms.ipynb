{
 "cells": [
  {
   "cell_type": "markdown",
   "metadata": {},
   "source": [
    "# ⭐ [Painless] Max Nonoverlapping Segments\n",
    "- 아까 푼 디스크 문제랑 비슷해서 더 헷갈린거 같다...\n",
    "- 알고리즘 아이디어는 맞았는데 혼자 함정 빠진게, 직전 인덱스의 B값과 A를 비교했다. (B[i-1] < A[i])\n",
    "- 직전 인덱스의 세그먼트를 사용 안 했을 수도 있으니 사용한 세그먼트의 B값을 변수 b에 따로 저장해두고 사용해야 한다."
   ]
  },
  {
   "cell_type": "code",
   "execution_count": 9,
   "metadata": {},
   "outputs": [
    {
     "data": {
      "text/plain": [
       "3"
      ]
     },
     "execution_count": 9,
     "metadata": {},
     "output_type": "execute_result"
    }
   ],
   "source": [
    "# you can write to stdout for debugging purposes, e.g.\n",
    "# print(\"this is a debug message\")\n",
    "\n",
    "def solution(A, B):\n",
    "    cnt = 1\n",
    "    N = len(A)\n",
    "    if N == 0 :\n",
    "        return 0\n",
    "    b = B[0]\n",
    "    for i in range(1, N):\n",
    "        if b < A[i]:\n",
    "            cnt += 1\n",
    "            b = B[i]\n",
    "    return cnt\n",
    "solution([1,3,7,9,9],[5,6,8,9,10])"
   ]
  },
  {
   "cell_type": "markdown",
   "metadata": {},
   "source": [
    "# [Painless] TieRopes\n",
    "(8분)"
   ]
  },
  {
   "cell_type": "code",
   "execution_count": 13,
   "metadata": {},
   "outputs": [
    {
     "data": {
      "text/plain": [
       "2"
      ]
     },
     "execution_count": 13,
     "metadata": {},
     "output_type": "execute_result"
    }
   ],
   "source": [
    "def solution(K, A):\n",
    "    length = 0\n",
    "    answer = 0\n",
    "    for i in A:\n",
    "        length += i\n",
    "        if length >= K:\n",
    "            answer += 1\n",
    "            length = 0\n",
    "    return answer\n",
    "A = [1,2,3,4,1,1,3]\n",
    "solution(5,A)"
   ]
  }
 ],
 "metadata": {
  "kernelspec": {
   "display_name": "Python 3",
   "language": "python",
   "name": "python3"
  },
  "language_info": {
   "codemirror_mode": {
    "name": "ipython",
    "version": 3
   },
   "file_extension": ".py",
   "mimetype": "text/x-python",
   "name": "python",
   "nbconvert_exporter": "python",
   "pygments_lexer": "ipython3",
   "version": "3.7.2"
  }
 },
 "nbformat": 4,
 "nbformat_minor": 2
}
