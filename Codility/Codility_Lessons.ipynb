{
 "cells": [
  {
   "cell_type": "markdown",
   "metadata": {},
   "source": [
    "# Lesson3. FrogJmp (4분)"
   ]
  },
  {
   "cell_type": "code",
   "execution_count": null,
   "metadata": {},
   "outputs": [],
   "source": [
    "import math\n",
    "def solution(X,Y,D):\n",
    "    return math.ceil((Y-X)/D)"
   ]
  },
  {
   "cell_type": "markdown",
   "metadata": {},
   "source": [
    "# Lesson3. TapeEquilibrium (18분)\n",
    "- 시간 복잡도 문제, 한 번에 100%\n",
    "- 맨 아래 처럼 for문 안에 sum을 넣어서 구하면 안된다\n",
    "- 누적합을 이용할 것\n",
    "- sum() 자체가 O(N)"
   ]
  },
  {
   "cell_type": "code",
   "execution_count": 107,
   "metadata": {},
   "outputs": [
    {
     "data": {
      "text/plain": [
       "1"
      ]
     },
     "execution_count": 107,
     "metadata": {},
     "output_type": "execute_result"
    }
   ],
   "source": [
    "def solution(A):\n",
    "    n = len(A)\n",
    "    sumA = [0]*n\n",
    "    sumA[0] = A[0]\n",
    "    sumAR = [0]*n\n",
    "    sumAR[-1] = A[-1]\n",
    "    for i in range(1,n):\n",
    "        sumA[i] = sumA[i-1]+A[i]\n",
    "        sumAR[n-i-1] = sumAR[n-i]+A[n-i-1]\n",
    "    answer = float('inf')\n",
    "    for p in range(1,n):\n",
    "        answer = min(abs(sumAR[p]-sumA[p-1]), answer)\n",
    "    return answer"
   ]
  },
  {
   "cell_type": "code",
   "execution_count": null,
   "metadata": {},
   "outputs": [],
   "source": [
    "def solution(A):\n",
    "    n = len(A)\n",
    "    answer = float('inf')\n",
    "    for p in range(1,n):\n",
    "        answer = min(answer , abs(sum(A[:p])-sum(A[p:])))\n",
    "    return answer"
   ]
  },
  {
   "cell_type": "markdown",
   "metadata": {},
   "source": [
    "# Lesson4. FrogRiverOne (18분)\n",
    "- 문제 이해하는데 좀 오래 걸림\n",
    "- N >= 100,000 이면 O(N^2) 절대 안돼!\n",
    "- in, not in, sum, .index, .find, .count, ... 다 각각 O(N)"
   ]
  },
  {
   "cell_type": "code",
   "execution_count": 113,
   "metadata": {},
   "outputs": [
    {
     "data": {
      "text/plain": [
       "6"
      ]
     },
     "execution_count": 113,
     "metadata": {},
     "output_type": "execute_result"
    }
   ],
   "source": [
    "def solution(X, A):\n",
    "    bridge = [0]*(X+1)\n",
    "    bridge[0] = 1\n",
    "    cnt = 1\n",
    "    for i in range(len(A)):\n",
    "        if bridge[A[i]] == 0:\n",
    "            bridge[A[i]] = 1\n",
    "            cnt += 1\n",
    "        if cnt == X+1:\n",
    "            return i\n",
    "    return -1\n",
    "solution(5,[1,3,1,4,2,3,5,4])"
   ]
  },
  {
   "cell_type": "markdown",
   "metadata": {},
   "source": [
    "# ⭐ Lesson4. MaxCounters [Respectable] (1시간)\n",
    "\n",
    "- 확실히 Respectable가 어렵다..\n",
    "- 그냥 구현은 쉬운데 시간초과 해결이 관건임.. \n",
    "- * 아이디어\n",
    "- i == N+1 일 때의 max값을 checkPoint에 기록\n",
    "- i <= N 일 때 기록한 checkPoint보다 answer[i-1] 값이 작으면 answer[i-1] = checkPoint + 1\n",
    "- 마지막에 checkPoint보다 작은 값은 checkPoint으로 변경-\n",
    "- N이 클때 \n",
    "    \n",
    "    (1) `answer = [term]*N`\n",
    "    \n",
    "    (2)\n",
    " `if answer[i-1] < checkPoint:\n",
    "     answer[i-1] = checkPoint+1\n",
    " else:\n",
    "     answer[i-1] += 1`\n",
    "- (1) 보다 (2) 가 빠르다.. 신기해"
   ]
  },
  {
   "cell_type": "code",
   "execution_count": null,
   "metadata": {},
   "outputs": [],
   "source": [
    "# 60%\n",
    "def solution(N, A):\n",
    "    answer = [0]*N\n",
    "    for idx, i in enumerate(A):\n",
    "        if i <= N:\n",
    "            answer[i-1] += 1\n",
    "        else:\n",
    "            answer = [max(answer)]*N"
   ]
  },
  {
   "cell_type": "code",
   "execution_count": 182,
   "metadata": {},
   "outputs": [
    {
     "data": {
      "text/plain": [
       "[1, 1, 1, 1, 1]"
      ]
     },
     "execution_count": 182,
     "metadata": {},
     "output_type": "execute_result"
    }
   ],
   "source": [
    "# 88%\n",
    "def solution(N, A):\n",
    "    answer = [0]*N\n",
    "    term = 0\n",
    "    for idx, i in enumerate(A):\n",
    "        if i <= N:\n",
    "            answer[i-1] += 1\n",
    "            term = max(answer[i-1], term)\n",
    "        else:\n",
    "            answer = [term]*N # 매번 answer에 배열을 넣어주는 게 시간이 좀 걸리는 듯..\n",
    "    return answer"
   ]
  },
  {
   "cell_type": "code",
   "execution_count": 192,
   "metadata": {},
   "outputs": [],
   "source": [
    "# 100%\n",
    "def solution(N, A):\n",
    "    answer = [0]*N\n",
    "    term = 0\n",
    "    checkPoint = 0\n",
    "    for idx, i in enumerate(A):\n",
    "        if i <= N:\n",
    "            if answer[i-1] < checkPoint:\n",
    "                answer[i-1] = checkPoint+1\n",
    "            else:\n",
    "                answer[i-1] += 1\n",
    "            term = max(answer[i-1], term)\n",
    "        else:\n",
    "            checkPoint = term\n",
    "    for i in range(N):\n",
    "        if answer[i] < checkPoint:\n",
    "            answer[i] = checkPoint\n",
    "    return answer"
   ]
  },
  {
   "cell_type": "code",
   "execution_count": null,
   "metadata": {},
   "outputs": [],
   "source": [
    "# Lesson5. CountDiv<Respectable> (5분)\n",
    "# 왜 Respectable 지?"
   ]
  },
  {
   "cell_type": "code",
   "execution_count": 193,
   "metadata": {},
   "outputs": [
    {
     "data": {
      "text/plain": [
       "3"
      ]
     },
     "execution_count": 193,
     "metadata": {},
     "output_type": "execute_result"
    }
   ],
   "source": [
    "def solution(A, B, K):\n",
    "    return B//K - (A-1)//K\n",
    "solution(6,11,2)"
   ]
  },
  {
   "cell_type": "markdown",
   "metadata": {},
   "source": [
    "# ⭐ Lesson5. GenomicRangeQuery - [Respectable]\n",
    "- 야심차게 인덱스 트리까지 가지고 왔지만 실패!\n",
    "- 이건 그냥 아예 O(N)이 돼야하기 때문에 인덱스 트리로 보다 효율 적인 방법이 필요하다\n",
    "- (이건 비교하는 값이 AGCT로 1,2,3,4로 제한 되어 있기 때문에 prefix가 가능)\n",
    "- 그리 어려운 알고리즘은 아니지만 접근 방식이 좀 특이했다.\n",
    "- Lesson5의 제목인 pre fix 자체를 사용 해야했다.\n",
    "- prefix는 미리 값을 지정 해놓고 구하는 누적합 과 같은 알고리즘이다.\n",
    "- 누적 합은 해봤지만 min에 대해서 적용하는 건 처음!\n",
    "- 기억해두자!\n",
    "\n",
    "### 누적합 풀이 방법\n",
    "- for문을 두 번 사용한다.\n",
    "- 위 for문에서 답을 구하기 위해 필요한 것들을 준비한다.\n",
    "- 구하는 문제가 합이라면 인덱스 별로 누적합을 구해 놓고\n",
    "- 최대, 최소라면 각각 인덱스마다 어떤 값들이 추가됐는지 구해 놓는다.\n",
    "- 아래 for문에서 O(N)만에 답을 구할 수 있다.\n",
    "\n",
    "### 이 문제 해결 방법\n",
    "- A,C,G,T를 key값으로 갖고 N크기의 배열을 value값으로 갖는 dictionary를 준비한다.\n",
    "- S의 각 index를 돌면서 해당 인덱스에 A가 나왔다면 dictinary[A][idx] += 1을 한다.\n",
    "- 최소값을 구하기 위한 구간 P[i], Q[i] 에서 A,C,G,T의 dictionary값이 변했는지 확인한다. \n",
    "- prefix[A][0]과 prefix[A][1]이 다르다면 0번은 A인 것!!"
   ]
  },
  {
   "cell_type": "code",
   "execution_count": 247,
   "metadata": {},
   "outputs": [
    {
     "data": {
      "text/plain": [
       "[2, 4, 2]"
      ]
     },
     "execution_count": 247,
     "metadata": {},
     "output_type": "execute_result"
    }
   ],
   "source": [
    "def solution(S, P, Q):\n",
    "    N = len(S)\n",
    "    prefix = {\n",
    "    'A': [0]*(N+1),\n",
    "    'C': [0]*(N+1),\n",
    "    'G': [0]*(N+1),\n",
    "    'T': [0]*(N+1)\n",
    "    }\n",
    "    for idx, item in enumerate(S):\n",
    "        prefix[item][idx+1] = prefix[item][idx]+1\n",
    "        for i in ['A','C','G','T']:\n",
    "            if i != item:\n",
    "                prefix[i][idx+1] = prefix[i][idx]\n",
    "    result = []\n",
    "    for i in range(len(P)):\n",
    "        answer = 4\n",
    "        if prefix['A'][P[i]] != prefix['A'][Q[i]+1]:\n",
    "            answer = 1\n",
    "        if prefix['C'][P[i]] != prefix['C'][Q[i]+1]:\n",
    "            answer = min(answer, 2)\n",
    "        if prefix['G'][P[i]] != prefix['G'][Q[i]+1]:\n",
    "            answer = min(answer, 3)\n",
    "        if prefix['T'][P[i]] != prefix['T'][Q[i]+1]:\n",
    "            answer = min(answer, 4)\n",
    "        result.append(answer)\n",
    "    return result\n",
    "solution('CAGCCTA', [2,5,0], [4,5,0])"
   ]
  },
  {
   "cell_type": "code",
   "execution_count": 226,
   "metadata": {},
   "outputs": [
    {
     "data": {
      "text/plain": [
       "[2, 4, 1]"
      ]
     },
     "execution_count": 226,
     "metadata": {},
     "output_type": "execute_result"
    }
   ],
   "source": [
    "def solution(S, P, Q):\n",
    "    def init(idx, start, end):\n",
    "        if start == end:\n",
    "            tree[idx] = arr[start]\n",
    "            return tree[idx]\n",
    "        tree[idx] = min(init(idx*2, start, (start+end)//2), init(idx*2+1, (start+end)//2+1, end))\n",
    "        return tree[idx]\n",
    "\n",
    "    def findMin(idx, start, end, left, right):\n",
    "        # start, end : 해당 구간\n",
    "        # left, right : 구해야 하는 구간\n",
    "        if left > end or right < start:\n",
    "            return 4\n",
    "        if start >= left and end <= right:\n",
    "            return tree[idx]\n",
    "        return min(findMin(idx*2, start, (start+end)//2, left, right),findMin(idx*2+1, (start+end)//2+1, end, left, right))\n",
    "\n",
    "    nums = {\n",
    "    'A': 1,\n",
    "    'C': 2,\n",
    "    'G': 3,\n",
    "    'T': 4\n",
    "    }\n",
    "    N = len(S)\n",
    "    arr = []\n",
    "    tree = [0]*(N*4)\n",
    "    for i in S:\n",
    "        arr.append(nums[i])\n",
    "    init(1,0,N-1)\n",
    "    answer = []\n",
    "    for i in range(len(P)):\n",
    "        answer.append(findMin(1, 0, N-1,P[i],Q[i]))\n",
    "    return answer"
   ]
  },
  {
   "cell_type": "markdown",
   "metadata": {},
   "source": [
    "# Lesson6. Distinct (1분)"
   ]
  },
  {
   "cell_type": "code",
   "execution_count": 248,
   "metadata": {},
   "outputs": [
    {
     "data": {
      "text/plain": [
       "3"
      ]
     },
     "execution_count": 248,
     "metadata": {},
     "output_type": "execute_result"
    }
   ],
   "source": [
    "def solution(A):\n",
    "    return len(set(A))"
   ]
  },
  {
   "cell_type": "code",
   "execution_count": null,
   "metadata": {},
   "outputs": [],
   "source": []
  }
 ],
 "metadata": {
  "kernelspec": {
   "display_name": "Python 3",
   "language": "python",
   "name": "python3"
  },
  "language_info": {
   "codemirror_mode": {
    "name": "ipython",
    "version": 3
   },
   "file_extension": ".py",
   "mimetype": "text/x-python",
   "name": "python",
   "nbconvert_exporter": "python",
   "pygments_lexer": "ipython3",
   "version": "3.7.2"
  }
 },
 "nbformat": 4,
 "nbformat_minor": 2
}
