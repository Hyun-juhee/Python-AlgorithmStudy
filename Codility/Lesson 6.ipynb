{
 "cells": [
  {
   "cell_type": "markdown",
   "metadata": {},
   "source": [
    "# Lesson6. Distinct \n",
    "(1분)"
   ]
  },
  {
   "cell_type": "code",
   "execution_count": null,
   "metadata": {},
   "outputs": [],
   "source": [
    "def solution(A):\n",
    "    return len(set(A))"
   ]
  },
  {
   "cell_type": "markdown",
   "metadata": {},
   "source": [
    "# ⭐ Lesson6. NumberOfDiscIntersections \n",
    "(1시간 고민하고 실패)\n",
    "\n",
    "- 정렬을 하면, low지점과 high지점 비교(한 번의 비교)로 구간이 겹치는지 아닌지를 판단할 수 있다.\n",
    "- 각 구간마다 존재하는 디스크의 개수를 배열에 저장해야 하나 했는데, 저장하는 자체가 O(N*구간길이)가 돼서 시간 초과이다.\n",
    "- 특히나 구간의 길이는 최대 2억이 넘어가기 때문에 구간의 길이로 무언갈 해주면 무조건 시간초과!\n",
    "- 구간을 같이 저장하는 것이 아니라 low 부분과 high부분을 따로 저장한다.\n",
    "- 두 배열 다 정렬하고 low를 기준으로 반복문을 돈다.\n",
    "- low보다 큰 high가 있다면 cnt+=1하고 cnt만큼 겹치는 개수를 저장한 answer에서 빼준다.\n",
    "- 만약 low[i] < high[j]라면 low와 high는 정렬되어 있기 때문에 low[i+1] < high[j]이다.\n",
    "- 따라서 겹치지 않는 개수를 cnt로 저장하고 값을 공유할 수 있다. low[i] < high[j]였다면 low[i+1] < high[j]인 건 분명하므로 high[j+1]부터 검사하면 된다.\n",
    "- 보든 반복문에서 cnt와 idx값을 공유한다."
   ]
  },
  {
   "cell_type": "code",
   "execution_count": null,
   "metadata": {},
   "outputs": [],
   "source": [
    "def solution(A):\n",
    "    N = len(A)\n",
    "    low = []\n",
    "    high = []\n",
    "    for idx, i in enumerate(A):\n",
    "        low.append(idx-i)\n",
    "        high.append(idx+i)\n",
    "    low.sort()\n",
    "    high.sort()\n",
    "    answer = 0\n",
    "    cnt = 0\n",
    "    idx = 0\n",
    "    for i, item in enumerate(low):\n",
    "        while high[idx] < item:\n",
    "            cnt += 1\n",
    "            idx += 1\n",
    "        answer += (i-cnt)\n",
    "    if answer > 10000000:\n",
    "        return -1\n",
    "    return answer\n",
    "solution(A)"
   ]
  }
 ],
 "metadata": {
  "kernelspec": {
   "display_name": "Python 3",
   "language": "python",
   "name": "python3"
  },
  "language_info": {
   "codemirror_mode": {
    "name": "ipython",
    "version": 3
   },
   "file_extension": ".py",
   "mimetype": "text/x-python",
   "name": "python",
   "nbconvert_exporter": "python",
   "pygments_lexer": "ipython3",
   "version": "3.7.2"
  }
 },
 "nbformat": 4,
 "nbformat_minor": 2
}
