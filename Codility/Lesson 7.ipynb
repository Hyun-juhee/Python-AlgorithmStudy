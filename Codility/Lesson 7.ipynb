{
 "cells": [
  {
   "cell_type": "markdown",
   "metadata": {},
   "source": [
    "# [Painless] Brackets\n",
    "(7분)\n",
    "- pop해주기 전에 stack에 값이 있는지 먼저 검사하는 거 잊지마!"
   ]
  },
  {
   "cell_type": "code",
   "execution_count": 8,
   "metadata": {},
   "outputs": [],
   "source": [
    "def solution(S):\n",
    "    N = len(S)\n",
    "    if N == 0:\n",
    "        return 1\n",
    "    stack = []\n",
    "    for i in S:\n",
    "        if i == ']' or i == ')' or i =='}':\n",
    "            if len(stack) == 0:\n",
    "                return 0\n",
    "        if i == ']':\n",
    "            if stack.pop() != '[':\n",
    "                return 0\n",
    "        elif i == '}':\n",
    "            if stack.pop() != '{':\n",
    "                return 0\n",
    "        elif i == ')':\n",
    "            if stack.pop() != '(':\n",
    "                return 0\n",
    "        else:\n",
    "            stack.append(i)\n",
    "    if len(stack) > 0:\n",
    "        return 0\n",
    "    return 1\n"
   ]
  },
  {
   "cell_type": "markdown",
   "metadata": {},
   "source": [
    "# ✔ [Painless] Fish \n",
    "(40분)\n",
    "- 문제를 잘못 이해해서 시간이 오래 걸렸다.\n",
    "- 문제 꼼꼼하게 읽자!\n",
    "- 배열에서 index가 의미를 갖는 경우가 있다. 여기서는 인덱스가 위치다!\n",
    "- 나오는 수식을 빼먹지 않고 보자 \n",
    "- P < Q, B[P] = 1, B[Q] = 0 일 때, A[P] > A[Q]면 P가 Q먹음 : 여기서 뒤에 방향이 다를 때, 크기가 큰애가 작은 애를 먹는다는 것만 집중해서 보고 맨앞 P < Q를 대충 봤다!\n",
    "- 여기서 P와 Q는 인덱스 = 위치로, 위치가 높은애(=인덱스가 작은애)가 하류로 내려오면서 상류로 올라가는 위치가 낮은애(=인덱스가 큰애)를 만날 때 크기를 비교한다는 뜻이다!\n",
    "- \"P와 Q가 두 물고기이고 P <Q이면 물고기 P는 처음에 물고기 Q의 상류에 있습니다.\" = 이말도 P가 처음에 물고기 Q보다 상류에 위차한다는 뜻이다.\n",
    "- 영어인 만큼 빠트리지 않도록 꼼꼼하게 읽고 체크하자.\n",
    "- 값이 하나일 때, 값이 비었을 때, 리스트가 비었을 때 등의 예외처리도 빼먹지 말 것"
   ]
  },
  {
   "cell_type": "code",
   "execution_count": 28,
   "metadata": {},
   "outputs": [
    {
     "data": {
      "text/plain": [
       "1"
      ]
     },
     "execution_count": 28,
     "metadata": {},
     "output_type": "execute_result"
    }
   ],
   "source": [
    "# you can write to stdout for debugging purposes, e.g.\n",
    "# print(\"this is a debug message\")\n",
    "# 0 상류, 1 하류\n",
    "from collections import deque\n",
    "def solution(A, B):\n",
    "    N = len(A)\n",
    "    fish = deque()\n",
    "    for i in range(N):\n",
    "        fish.append((A[i], B[i]))\n",
    "    answer = 0\n",
    "    left = deque()\n",
    "    while fish:\n",
    "        size, direction = fish[0]\n",
    "        if direction == 1:\n",
    "            left.append(fish.popleft())\n",
    "        else:\n",
    "            if len(left) == 0:\n",
    "                answer += 1\n",
    "                fish.popleft()\n",
    "            else:\n",
    "                if left[-1][0] > size:\n",
    "                    fish.popleft()\n",
    "                else:\n",
    "                    left.pop()\n",
    "    return answer + len(left)\n",
    "                    \n",
    "solution([4], [0])"
   ]
  }
 ],
 "metadata": {
  "kernelspec": {
   "display_name": "Python 3",
   "language": "python",
   "name": "python3"
  },
  "language_info": {
   "codemirror_mode": {
    "name": "ipython",
    "version": 3
   },
   "file_extension": ".py",
   "mimetype": "text/x-python",
   "name": "python",
   "nbconvert_exporter": "python",
   "pygments_lexer": "ipython3",
   "version": "3.7.2"
  }
 },
 "nbformat": 4,
 "nbformat_minor": 2
}
