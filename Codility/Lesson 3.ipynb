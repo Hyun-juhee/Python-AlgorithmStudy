{
 "cells": [
  {
   "cell_type": "markdown",
   "metadata": {},
   "source": [
    "# Lesson3. FrogJmp (4분)"
   ]
  },
  {
   "cell_type": "code",
   "execution_count": null,
   "metadata": {},
   "outputs": [],
   "source": [
    "import math\n",
    "def solution(X,Y,D):\n",
    "    return math.ceil((Y-X)/D)"
   ]
  },
  {
   "cell_type": "markdown",
   "metadata": {},
   "source": [
    "# Lesson3. TapeEquilibrium (18분)\n",
    "- 시간 복잡도 문제, 한 번에 100%\n",
    "- 맨 아래 처럼 for문 안에 sum을 넣어서 구하면 안된다\n",
    "- 누적합을 이용할 것\n",
    "- sum() 자체가 O(N)"
   ]
  },
  {
   "cell_type": "code",
   "execution_count": null,
   "metadata": {},
   "outputs": [],
   "source": [
    "def solution(A):\n",
    "    n = len(A)\n",
    "    sumA = [0]*n\n",
    "    sumA[0] = A[0]\n",
    "    sumAR = [0]*n\n",
    "    sumAR[-1] = A[-1]\n",
    "    for i in range(1,n):\n",
    "        sumA[i] = sumA[i-1]+A[i]\n",
    "        sumAR[n-i-1] = sumAR[n-i]+A[n-i-1]\n",
    "    answer = float('inf')\n",
    "    for p in range(1,n):\n",
    "        answer = min(abs(sumAR[p]-sumA[p-1]), answer)\n",
    "    return answer"
   ]
  },
  {
   "cell_type": "code",
   "execution_count": null,
   "metadata": {},
   "outputs": [],
   "source": [
    "def solution(A):\n",
    "    n = len(A)\n",
    "    answer = float('inf')\n",
    "    for p in range(1,n):\n",
    "        answer = min(answer , abs(sum(A[:p])-sum(A[p:])))\n",
    "    return answer"
   ]
  }
 ],
 "metadata": {
  "kernelspec": {
   "display_name": "Python 3",
   "language": "python",
   "name": "python3"
  },
  "language_info": {
   "codemirror_mode": {
    "name": "ipython",
    "version": 3
   },
   "file_extension": ".py",
   "mimetype": "text/x-python",
   "name": "python",
   "nbconvert_exporter": "python",
   "pygments_lexer": "ipython3",
   "version": "3.7.2"
  }
 },
 "nbformat": 4,
 "nbformat_minor": 2
}
