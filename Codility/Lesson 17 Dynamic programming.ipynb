{
 "cells": [
  {
   "cell_type": "markdown",
   "metadata": {},
   "source": [
    "# ⭐ NumberSolitaire\n",
    "- 이런 기본 dp에서 헤매다니... \n",
    "- 계속 현재 값 까지 포함해서 최댓값을 구해서 저장했다.\n",
    "- 현재 인덱스-6 부터 현재 인덱스-1 까지 중의 최댓값에 현재 값을 더한 것을 dp에 저장한다.\n",
    "- dp[i]에 저장하는 값은 이전 값 중 i위치로 올 수 있는 값중에 최댓값 + A[i] 값이다.\n",
    "- 한가지 트릭으로 dp[i-6:i]로 하면 i-6>0인지 검사가 필요하기 때문에 dp의 크기를 N+6으로 해놓고 N[7]부터 채우기 시작한다.\n",
    "- dp.. 다음주면 주구장창 연습하긴 하겠지만 부족하다 부족해!!"
   ]
  },
  {
   "cell_type": "code",
   "execution_count": 41,
   "metadata": {},
   "outputs": [
    {
     "data": {
      "text/plain": [
       "8"
      ]
     },
     "execution_count": 41,
     "metadata": {},
     "output_type": "execute_result"
    }
   ],
   "source": [
    "def solution(A):\n",
    "    N = len(A)\n",
    "    dp = [A[0]]*(N+6)\n",
    "    for i in range(1, N):\n",
    "        dp[i+6] = max(dp[i:i+6])+A[i] \n",
    "    return dp[-1]\n",
    "solution([1,-2,0,9,-1,-2])"
   ]
  }
 ],
 "metadata": {
  "kernelspec": {
   "display_name": "Python 3",
   "language": "python",
   "name": "python3"
  },
  "language_info": {
   "codemirror_mode": {
    "name": "ipython",
    "version": 3
   },
   "file_extension": ".py",
   "mimetype": "text/x-python",
   "name": "python",
   "nbconvert_exporter": "python",
   "pygments_lexer": "ipython3",
   "version": "3.7.2"
  }
 },
 "nbformat": 4,
 "nbformat_minor": 2
}
