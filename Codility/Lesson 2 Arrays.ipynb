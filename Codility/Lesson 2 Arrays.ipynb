{
 "cells": [
  {
   "cell_type": "markdown",
   "metadata": {},
   "source": [
    "# Lesson2. CyclicRotation\n",
    "- 예외 처리\n",
    "\n",
    "- 처음에 인덱스 범위가 넘어갈 때 n을 빼줬다!\n",
    "- 이렇하면 k > n 일 때 무조건 인덱스 에러!\n",
    "- 빼기가 아니라 % 연산을 해줘야 한다.\n",
    "- 예외 처리가 관건이다!!\n",
    "- 생각해야할 예외 \n",
    "- 1. 입력 값이 가장 작을 때\n",
    "- 2. 입력 값이 가장 클 때\n",
    "- 3. 입력 값 중에 하나가 0일 때\n",
    "- 4. 입력 값 N, K라면 N > K 일 때 + N < K 일 때, N==K 일 때!"
   ]
  },
  {
   "cell_type": "code",
   "execution_count": null,
   "metadata": {},
   "outputs": [],
   "source": [
    "def solution(A, K):\n",
    "    n = len(A)\n",
    "    answer = [0]*n\n",
    "\n",
    "    for idx, item in enumerate(A):\n",
    "        print(idx, K)\n",
    "        if idx + K > n-1:\n",
    "            answer[(idx+K)%n] = item\n",
    "        else:\n",
    "            answer[idx+K] = item\n",
    "    return answer\n",
    "solution([1], 4)"
   ]
  },
  {
   "cell_type": "markdown",
   "metadata": {},
   "source": [
    "# Lesson2. OddOccurrenceslnArray (14분)\n",
    "- 시간 초과\n",
    "\n",
    "- time limit도 생각해야 한다.\n",
    "- N <= 1,000,000 이니까 for문 안에서 count를 쓰면 O(N^2)\n",
    "- 생각한 예외 : \n",
    "- 1. N == 1\n",
    "- 2. 다른 한 값이 맨 뒤에 있을 때, 맨 앞에 있을 때\n",
    "\n",
    "- ** 비트 연산으로 해결할 수 있다.\n",
    "- XOR(^) 연산은 항상 같은 수끼리의 짝수 번 연산은 0으로 상쇄된다.\n",
    "- A^A = 0, A^A^B = B"
   ]
  },
  {
   "cell_type": "code",
   "execution_count": null,
   "metadata": {},
   "outputs": [],
   "source": [
    "A = [9,3,9,3,9,7,9]\n",
    "def solution(A):\n",
    "    N = len(A)\n",
    "    if N == 1:\n",
    "        return A[0]\n",
    "    A.sort()\n",
    "    before = A[0]\n",
    "    for i in A[1:]:\n",
    "        if before == i:\n",
    "            before = 0\n",
    "        else:\n",
    "            if before == 0:\n",
    "                before = i\n",
    "            else:\n",
    "                return before\n",
    "    return before\n",
    "\n",
    "def solution(A):\n",
    "    answer = 0\n",
    "    for i in A:\n",
    "        answer ^= i\n",
    "    return answer\n",
    "\n",
    "solution(A)"
   ]
  }
 ],
 "metadata": {
  "kernelspec": {
   "display_name": "Python 3",
   "language": "python",
   "name": "python3"
  },
  "language_info": {
   "codemirror_mode": {
    "name": "ipython",
    "version": 3
   },
   "file_extension": ".py",
   "mimetype": "text/x-python",
   "name": "python",
   "nbconvert_exporter": "python",
   "pygments_lexer": "ipython3",
   "version": "3.7.2"
  }
 },
 "nbformat": 4,
 "nbformat_minor": 2
}
