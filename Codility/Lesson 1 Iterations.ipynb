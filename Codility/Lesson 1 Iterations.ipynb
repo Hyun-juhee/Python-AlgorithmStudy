{
 "cells": [
  {
   "cell_type": "markdown",
   "metadata": {},
   "source": [
    "# Lesson1. BinaryGap"
   ]
  },
  {
   "cell_type": "code",
   "execution_count": null,
   "metadata": {},
   "outputs": [],
   "source": [
    "def solution(n):\n",
    "    binN = bin(n)[2:]\n",
    "    print(binN)\n",
    "    oneIdx = []\n",
    "    answer = 0\n",
    "    for idx, item in enumerate(binN):\n",
    "        if item == '1':\n",
    "            oneIdx.append(idx)\n",
    "    for i in range(1,len(oneIdx)):\n",
    "        gab = oneIdx[i] - oneIdx[i-1]-1\n",
    "        if gab != 1:\n",
    "            answer = max(gab, answer)\n",
    "    return answer"
   ]
  }
 ],
 "metadata": {
  "kernelspec": {
   "display_name": "Python 3",
   "language": "python",
   "name": "python3"
  },
  "language_info": {
   "codemirror_mode": {
    "name": "ipython",
    "version": 3
   },
   "file_extension": ".py",
   "mimetype": "text/x-python",
   "name": "python",
   "nbconvert_exporter": "python",
   "pygments_lexer": "ipython3",
   "version": "3.7.2"
  }
 },
 "nbformat": 4,
 "nbformat_minor": 2
}
